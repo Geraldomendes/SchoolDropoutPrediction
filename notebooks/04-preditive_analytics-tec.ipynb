{
 "cells": [
  {
   "cell_type": "markdown",
   "metadata": {},
   "source": [
    "### <p style=\"color:yellow;\">Descrição do problema:</p>\n",
    "\n",
    "Dados os obstáculos enfrentados pelo sistema educacional, a evasão escolar\n",
    "desempenha um papel crucial, afetando estudantes de diferentes contextos\n",
    "socioeconômicos. Com base nisso, este trabalho propõe **construir um modelo\n",
    "preditivo baseado em técnicas de Ciência de Dados para prever a taxa de evasão no\n",
    "ensino médio e técnico brasileiro**. O estudo aborda a complexidade deste fenômeno,\n",
    "destacando a sua natureza social e a necessidade de soluções proativas. A\n",
    "abordagem utiliza dados do censo escolar da educação básica e inclui a análise\n",
    "exploratória de dados e técnicas de aprendizado de máquina. O modelo proposto visa\n",
    "prever a evasão escolar, permitindo uma intervenção personalizada e prestando\n",
    "apoio específico aos alunos desfavorecidos. Além de contribuir para a compreensão\n",
    "dos fatores associados à evasão escolar, os resultados pretendem oferecer uma\n",
    "abordagem inovadora para a prevenção desse fenômeno, indo além do meio\n",
    "acadêmico de modo a proporcionar contribuições práticas ao campo educacional.\n",
    "\n",
    "### <p style=\"color:yellow;\">Algoritmos a serem utilizados:</p>\n",
    "\n",
    "- **Decision Tree**:\n",
    "\n",
    "    - Motivo: A Decision Tree é um algoritmo intuitivo e fácil de interpretar, que funciona dividindo os dados em subgrupos baseados em perguntas de sim ou não. Cada divisão é feita de forma a maximizar a separação entre as classes, o que permite capturar padrões claros e específicos no conjunto de dados. É particularmente útil para identificar regras de decisão simples que podem explicar a evasão ou a conclusão dos estudos, tornando-o eficaz para problemas de classificação.\n",
    "\n",
    "- **K-Nearest Neighbors (KNN)**:\n",
    "\n",
    "    - Motivo: O KNN é um algoritmo que apesar de simples, pode ser útil para captar grupos similares entre os alunos, onde utiliza cálculos de distância para encontrar os vizinhos mais próximos a um ponto específico, atribuindo uma nova classe.\n",
    "\n",
    "- **Logistic Regression**:\n",
    "\n",
    "    - Motivo: É um modelo de fácil interpretação e bastante robusto e eficaz quando se trata de problemas de classificação ou quando há uma relação linear entre as carcterísticas e a probabilidade de evasão."
   ]
  },
  {
   "cell_type": "markdown",
   "metadata": {},
   "source": [
    "### Importação das bibliotecas"
   ]
  },
  {
   "cell_type": "code",
   "execution_count": 1,
   "metadata": {},
   "outputs": [],
   "source": [
    "import pandas as pd\n",
    "import pickle\n",
    "import numpy as np\n",
    "import matplotlib.pyplot as plt\n",
    "\n",
    "\n",
    "#from sklearn.tree import plot_tree\n",
    "from sklearn.neighbors import KNeighborsClassifier\n",
    "#from sklearn import tree\n",
    "from sklearn.ensemble import RandomForestClassifier, GradientBoostingClassifier\n",
    "from sklearn.linear_model import LogisticRegression\n",
    "from sklearn.svm import SVC\n",
    "\n",
    "from sklearn.model_selection import train_test_split\n",
    "from sklearn.model_selection import  GridSearchCV, RandomizedSearchCV, cross_validate\n",
    "from sklearn.preprocessing import OneHotEncoder,  MinMaxScaler\n",
    "\n",
    "from sklearn.compose import ColumnTransformer\n",
    "from sklearn.pipeline import Pipeline\n",
    "\n",
    "from scipy import stats\n",
    "from sklearn import model_selection\n",
    "from sklearn import metrics\n",
    "from sklearn.metrics import accuracy_score,  precision_score, f1_score, recall_score,classification_report\n",
    "\n",
    "from sklearn.metrics import confusion_matrix\n",
    "from sklearn.metrics import ConfusionMatrixDisplay\n",
    "\n",
    "import inflection\n",
    "import warnings\n",
    "warnings.filterwarnings(\"ignore\")"
   ]
  },
  {
   "cell_type": "code",
   "execution_count": 2,
   "metadata": {},
   "outputs": [
    {
     "data": {
      "text/html": [
       "<div>\n",
       "<style scoped>\n",
       "    .dataframe tbody tr th:only-of-type {\n",
       "        vertical-align: middle;\n",
       "    }\n",
       "\n",
       "    .dataframe tbody tr th {\n",
       "        vertical-align: top;\n",
       "    }\n",
       "\n",
       "    .dataframe thead th {\n",
       "        text-align: right;\n",
       "    }\n",
       "</style>\n",
       "<table border=\"1\" class=\"dataframe\">\n",
       "  <thead>\n",
       "    <tr style=\"text-align: right;\">\n",
       "      <th></th>\n",
       "      <th>Carga Horária</th>\n",
       "      <th>Categoria da Situação</th>\n",
       "      <th>Cor/Raça</th>\n",
       "      <th>Data de Início do Ciclo</th>\n",
       "      <th>Data de Fim Previsto do Ciclo</th>\n",
       "      <th>Faixa Etária</th>\n",
       "      <th>Fator Esforço Curso</th>\n",
       "      <th>Idade</th>\n",
       "      <th>Instituição</th>\n",
       "      <th>Mês de Ocorrência da Situação</th>\n",
       "      <th>...</th>\n",
       "      <th>dia_inicio_ciclo</th>\n",
       "      <th>mes_inicio_ciclo</th>\n",
       "      <th>ano_inicio_ciclo</th>\n",
       "      <th>dia_fim_ciclo</th>\n",
       "      <th>mes_fim_ciclo</th>\n",
       "      <th>ano_fim_ciclo</th>\n",
       "      <th>dia_ocorrencia</th>\n",
       "      <th>mes_ocorrencia</th>\n",
       "      <th>ano_ocorrencia</th>\n",
       "      <th>delta_days</th>\n",
       "    </tr>\n",
       "  </thead>\n",
       "  <tbody>\n",
       "    <tr>\n",
       "      <th>0</th>\n",
       "      <td>3600</td>\n",
       "      <td>1</td>\n",
       "      <td>não declarada</td>\n",
       "      <td>2015-02-19</td>\n",
       "      <td>2019-02-19</td>\n",
       "      <td>15 a 19 anos</td>\n",
       "      <td>1.16</td>\n",
       "      <td>19.0</td>\n",
       "      <td>IFSUL</td>\n",
       "      <td>2019-07-01</td>\n",
       "      <td>...</td>\n",
       "      <td>19</td>\n",
       "      <td>2</td>\n",
       "      <td>2015</td>\n",
       "      <td>19</td>\n",
       "      <td>2</td>\n",
       "      <td>2019</td>\n",
       "      <td>1</td>\n",
       "      <td>7</td>\n",
       "      <td>2019</td>\n",
       "      <td>1593</td>\n",
       "    </tr>\n",
       "    <tr>\n",
       "      <th>1</th>\n",
       "      <td>3600</td>\n",
       "      <td>0</td>\n",
       "      <td>não declarada</td>\n",
       "      <td>2015-02-19</td>\n",
       "      <td>2019-02-19</td>\n",
       "      <td>20 a 24 anos</td>\n",
       "      <td>1.16</td>\n",
       "      <td>20.0</td>\n",
       "      <td>IFSUL</td>\n",
       "      <td>2019-08-01</td>\n",
       "      <td>...</td>\n",
       "      <td>19</td>\n",
       "      <td>2</td>\n",
       "      <td>2015</td>\n",
       "      <td>19</td>\n",
       "      <td>2</td>\n",
       "      <td>2019</td>\n",
       "      <td>1</td>\n",
       "      <td>8</td>\n",
       "      <td>2019</td>\n",
       "      <td>1624</td>\n",
       "    </tr>\n",
       "    <tr>\n",
       "      <th>2</th>\n",
       "      <td>3600</td>\n",
       "      <td>0</td>\n",
       "      <td>não declarada</td>\n",
       "      <td>2015-02-19</td>\n",
       "      <td>2019-02-19</td>\n",
       "      <td>15 a 19 anos</td>\n",
       "      <td>1.16</td>\n",
       "      <td>18.0</td>\n",
       "      <td>IFSUL</td>\n",
       "      <td>2019-04-01</td>\n",
       "      <td>...</td>\n",
       "      <td>19</td>\n",
       "      <td>2</td>\n",
       "      <td>2015</td>\n",
       "      <td>19</td>\n",
       "      <td>2</td>\n",
       "      <td>2019</td>\n",
       "      <td>1</td>\n",
       "      <td>4</td>\n",
       "      <td>2019</td>\n",
       "      <td>1502</td>\n",
       "    </tr>\n",
       "    <tr>\n",
       "      <th>3</th>\n",
       "      <td>3600</td>\n",
       "      <td>0</td>\n",
       "      <td>não declarada</td>\n",
       "      <td>2015-02-19</td>\n",
       "      <td>2019-02-19</td>\n",
       "      <td>15 a 19 anos</td>\n",
       "      <td>1.16</td>\n",
       "      <td>19.0</td>\n",
       "      <td>IFSUL</td>\n",
       "      <td>2019-04-01</td>\n",
       "      <td>...</td>\n",
       "      <td>19</td>\n",
       "      <td>2</td>\n",
       "      <td>2015</td>\n",
       "      <td>19</td>\n",
       "      <td>2</td>\n",
       "      <td>2019</td>\n",
       "      <td>1</td>\n",
       "      <td>4</td>\n",
       "      <td>2019</td>\n",
       "      <td>1502</td>\n",
       "    </tr>\n",
       "    <tr>\n",
       "      <th>4</th>\n",
       "      <td>3600</td>\n",
       "      <td>0</td>\n",
       "      <td>não declarada</td>\n",
       "      <td>2015-02-19</td>\n",
       "      <td>2019-02-19</td>\n",
       "      <td>20 a 24 anos</td>\n",
       "      <td>1.16</td>\n",
       "      <td>20.0</td>\n",
       "      <td>IFSUL</td>\n",
       "      <td>2019-03-01</td>\n",
       "      <td>...</td>\n",
       "      <td>19</td>\n",
       "      <td>2</td>\n",
       "      <td>2015</td>\n",
       "      <td>19</td>\n",
       "      <td>2</td>\n",
       "      <td>2019</td>\n",
       "      <td>1</td>\n",
       "      <td>3</td>\n",
       "      <td>2019</td>\n",
       "      <td>1471</td>\n",
       "    </tr>\n",
       "  </tbody>\n",
       "</table>\n",
       "<p>5 rows × 26 columns</p>\n",
       "</div>"
      ],
      "text/plain": [
       "   Carga Horária  Categoria da Situação       Cor/Raça  \\\n",
       "0           3600                      1  não declarada   \n",
       "1           3600                      0  não declarada   \n",
       "2           3600                      0  não declarada   \n",
       "3           3600                      0  não declarada   \n",
       "4           3600                      0  não declarada   \n",
       "\n",
       "  Data de Início do Ciclo Data de Fim Previsto do Ciclo  Faixa Etária  \\\n",
       "0              2015-02-19                    2019-02-19  15 a 19 anos   \n",
       "1              2015-02-19                    2019-02-19  20 a 24 anos   \n",
       "2              2015-02-19                    2019-02-19  15 a 19 anos   \n",
       "3              2015-02-19                    2019-02-19  15 a 19 anos   \n",
       "4              2015-02-19                    2019-02-19  20 a 24 anos   \n",
       "\n",
       "   Fator Esforço Curso  Idade Instituição Mês de Ocorrência da Situação  ...  \\\n",
       "0                 1.16   19.0       IFSUL                    2019-07-01  ...   \n",
       "1                 1.16   20.0       IFSUL                    2019-08-01  ...   \n",
       "2                 1.16   18.0       IFSUL                    2019-04-01  ...   \n",
       "3                 1.16   19.0       IFSUL                    2019-04-01  ...   \n",
       "4                 1.16   20.0       IFSUL                    2019-03-01  ...   \n",
       "\n",
       "  dia_inicio_ciclo mes_inicio_ciclo ano_inicio_ciclo dia_fim_ciclo  \\\n",
       "0               19                2             2015            19   \n",
       "1               19                2             2015            19   \n",
       "2               19                2             2015            19   \n",
       "3               19                2             2015            19   \n",
       "4               19                2             2015            19   \n",
       "\n",
       "  mes_fim_ciclo ano_fim_ciclo  dia_ocorrencia  mes_ocorrencia  ano_ocorrencia  \\\n",
       "0             2          2019               1               7            2019   \n",
       "1             2          2019               1               8            2019   \n",
       "2             2          2019               1               4            2019   \n",
       "3             2          2019               1               4            2019   \n",
       "4             2          2019               1               3            2019   \n",
       "\n",
       "   delta_days  \n",
       "0        1593  \n",
       "1        1624  \n",
       "2        1502  \n",
       "3        1502  \n",
       "4        1471  \n",
       "\n",
       "[5 rows x 26 columns]"
      ]
     },
     "execution_count": 2,
     "metadata": {},
     "output_type": "execute_result"
    }
   ],
   "source": [
    "dados_tec = pd.read_csv('../data/processed/dadosTEC.csv')\n",
    "dados_tec.head()"
   ]
  },
  {
   "cell_type": "code",
   "execution_count": 3,
   "metadata": {},
   "outputs": [
    {
     "data": {
      "text/plain": [
       "(166187, 26)"
      ]
     },
     "execution_count": 3,
     "metadata": {},
     "output_type": "execute_result"
    }
   ],
   "source": [
    "dados_tec.shape"
   ]
  },
  {
   "cell_type": "markdown",
   "metadata": {},
   "source": [
    "### Renomeando colunas"
   ]
  },
  {
   "cell_type": "code",
   "execution_count": 4,
   "metadata": {},
   "outputs": [],
   "source": [
    "dados_tec.columns = dados_tec.columns.str.replace(' ','')\n",
    "new_cols = []\n",
    "for column in dados_tec.columns:\n",
    "    new_cols.append(inflection.underscore(column))\n",
    "dados_tec.columns = new_cols"
   ]
  },
  {
   "cell_type": "code",
   "execution_count": 5,
   "metadata": {},
   "outputs": [],
   "source": [
    "dados_tec.rename(columns={'categoriada_situação':'categoria_da_situação',\n",
    "                            'datade_iníciodo_ciclo':'data_de_inicio_do_ciclo',\n",
    "                            'datade_fim_previstodo_ciclo':'data_de_fim_previsto_do_ciclo',\n",
    "                            'mêsde_ocorrênciada_situação':'mês_de_ocorrência_da_situação'},inplace=True)"
   ]
  },
  {
   "cell_type": "code",
   "execution_count": 6,
   "metadata": {},
   "outputs": [
    {
     "data": {
      "text/plain": [
       "Index(['carga_horária', 'categoria_da_situação', 'cor/raça',\n",
       "       'data_de_inicio_do_ciclo', 'data_de_fim_previsto_do_ciclo',\n",
       "       'faixa_etária', 'fator_esforço_curso', 'idade', 'instituição',\n",
       "       'mês_de_ocorrência_da_situação', 'região', 'renda_familiar', 'sexo',\n",
       "       'turno', 'uf', 'unidadede_ensino', 'dia_inicio_ciclo',\n",
       "       'mes_inicio_ciclo', 'ano_inicio_ciclo', 'dia_fim_ciclo',\n",
       "       'mes_fim_ciclo', 'ano_fim_ciclo', 'dia_ocorrencia', 'mes_ocorrencia',\n",
       "       'ano_ocorrencia', 'delta_days'],\n",
       "      dtype='object')"
      ]
     },
     "execution_count": 6,
     "metadata": {},
     "output_type": "execute_result"
    }
   ],
   "source": [
    "dados_tec.columns"
   ]
  },
  {
   "cell_type": "markdown",
   "metadata": {},
   "source": [
    "### Filtragem de variáveis\n",
    "\n",
    "Existem algumas varíaveis que foram necessárias apenas para derivar outras e que não faz mais sentido mantê-las. São:\n",
    "- data_de_inicio_do_ciclo\n",
    "- data_de_fim_previsto_do_ciclo\n",
    "- mês_de_ocorrência_da_situação"
   ]
  },
  {
   "cell_type": "code",
   "execution_count": 7,
   "metadata": {},
   "outputs": [],
   "source": [
    "dados_tec.drop(columns=['data_de_inicio_do_ciclo','data_de_fim_previsto_do_ciclo',\n",
    "                          'mês_de_ocorrência_da_situação'],inplace=True)"
   ]
  },
  {
   "cell_type": "markdown",
   "metadata": {},
   "source": [
    "### Separação de Features e Target"
   ]
  },
  {
   "cell_type": "code",
   "execution_count": 8,
   "metadata": {},
   "outputs": [
    {
     "data": {
      "text/html": [
       "<div>\n",
       "<style scoped>\n",
       "    .dataframe tbody tr th:only-of-type {\n",
       "        vertical-align: middle;\n",
       "    }\n",
       "\n",
       "    .dataframe tbody tr th {\n",
       "        vertical-align: top;\n",
       "    }\n",
       "\n",
       "    .dataframe thead th {\n",
       "        text-align: right;\n",
       "    }\n",
       "</style>\n",
       "<table border=\"1\" class=\"dataframe\">\n",
       "  <thead>\n",
       "    <tr style=\"text-align: right;\">\n",
       "      <th></th>\n",
       "      <th>carga_horária</th>\n",
       "      <th>cor/raça</th>\n",
       "      <th>faixa_etária</th>\n",
       "      <th>fator_esforço_curso</th>\n",
       "      <th>idade</th>\n",
       "      <th>instituição</th>\n",
       "      <th>região</th>\n",
       "      <th>renda_familiar</th>\n",
       "      <th>sexo</th>\n",
       "      <th>turno</th>\n",
       "      <th>...</th>\n",
       "      <th>dia_inicio_ciclo</th>\n",
       "      <th>mes_inicio_ciclo</th>\n",
       "      <th>ano_inicio_ciclo</th>\n",
       "      <th>dia_fim_ciclo</th>\n",
       "      <th>mes_fim_ciclo</th>\n",
       "      <th>ano_fim_ciclo</th>\n",
       "      <th>dia_ocorrencia</th>\n",
       "      <th>mes_ocorrencia</th>\n",
       "      <th>ano_ocorrencia</th>\n",
       "      <th>delta_days</th>\n",
       "    </tr>\n",
       "  </thead>\n",
       "  <tbody>\n",
       "    <tr>\n",
       "      <th>0</th>\n",
       "      <td>3600</td>\n",
       "      <td>não declarada</td>\n",
       "      <td>15 a 19 anos</td>\n",
       "      <td>1.16</td>\n",
       "      <td>19.0</td>\n",
       "      <td>IFSUL</td>\n",
       "      <td>Região Sul</td>\n",
       "      <td>0&lt;RFP&lt;=0,5</td>\n",
       "      <td>Feminino</td>\n",
       "      <td>Matutino</td>\n",
       "      <td>...</td>\n",
       "      <td>19</td>\n",
       "      <td>2</td>\n",
       "      <td>2015</td>\n",
       "      <td>19</td>\n",
       "      <td>2</td>\n",
       "      <td>2019</td>\n",
       "      <td>1</td>\n",
       "      <td>7</td>\n",
       "      <td>2019</td>\n",
       "      <td>1593</td>\n",
       "    </tr>\n",
       "    <tr>\n",
       "      <th>1</th>\n",
       "      <td>3600</td>\n",
       "      <td>não declarada</td>\n",
       "      <td>20 a 24 anos</td>\n",
       "      <td>1.16</td>\n",
       "      <td>20.0</td>\n",
       "      <td>IFSUL</td>\n",
       "      <td>Região Sul</td>\n",
       "      <td>Não declarada</td>\n",
       "      <td>Feminino</td>\n",
       "      <td>Matutino</td>\n",
       "      <td>...</td>\n",
       "      <td>19</td>\n",
       "      <td>2</td>\n",
       "      <td>2015</td>\n",
       "      <td>19</td>\n",
       "      <td>2</td>\n",
       "      <td>2019</td>\n",
       "      <td>1</td>\n",
       "      <td>8</td>\n",
       "      <td>2019</td>\n",
       "      <td>1624</td>\n",
       "    </tr>\n",
       "    <tr>\n",
       "      <th>2</th>\n",
       "      <td>3600</td>\n",
       "      <td>não declarada</td>\n",
       "      <td>15 a 19 anos</td>\n",
       "      <td>1.16</td>\n",
       "      <td>18.0</td>\n",
       "      <td>IFSUL</td>\n",
       "      <td>Região Sul</td>\n",
       "      <td>Não declarada</td>\n",
       "      <td>Feminino</td>\n",
       "      <td>Matutino</td>\n",
       "      <td>...</td>\n",
       "      <td>19</td>\n",
       "      <td>2</td>\n",
       "      <td>2015</td>\n",
       "      <td>19</td>\n",
       "      <td>2</td>\n",
       "      <td>2019</td>\n",
       "      <td>1</td>\n",
       "      <td>4</td>\n",
       "      <td>2019</td>\n",
       "      <td>1502</td>\n",
       "    </tr>\n",
       "  </tbody>\n",
       "</table>\n",
       "<p>3 rows × 22 columns</p>\n",
       "</div>"
      ],
      "text/plain": [
       "   carga_horária       cor/raça  faixa_etária  fator_esforço_curso  idade  \\\n",
       "0           3600  não declarada  15 a 19 anos                 1.16   19.0   \n",
       "1           3600  não declarada  20 a 24 anos                 1.16   20.0   \n",
       "2           3600  não declarada  15 a 19 anos                 1.16   18.0   \n",
       "\n",
       "  instituição      região renda_familiar      sexo     turno  ...  \\\n",
       "0       IFSUL  Região Sul     0<RFP<=0,5  Feminino  Matutino  ...   \n",
       "1       IFSUL  Região Sul  Não declarada  Feminino  Matutino  ...   \n",
       "2       IFSUL  Região Sul  Não declarada  Feminino  Matutino  ...   \n",
       "\n",
       "  dia_inicio_ciclo mes_inicio_ciclo  ano_inicio_ciclo  dia_fim_ciclo  \\\n",
       "0               19                2              2015             19   \n",
       "1               19                2              2015             19   \n",
       "2               19                2              2015             19   \n",
       "\n",
       "   mes_fim_ciclo  ano_fim_ciclo  dia_ocorrencia  mes_ocorrencia  \\\n",
       "0              2           2019               1               7   \n",
       "1              2           2019               1               8   \n",
       "2              2           2019               1               4   \n",
       "\n",
       "   ano_ocorrencia  delta_days  \n",
       "0            2019        1593  \n",
       "1            2019        1624  \n",
       "2            2019        1502  \n",
       "\n",
       "[3 rows x 22 columns]"
      ]
     },
     "execution_count": 8,
     "metadata": {},
     "output_type": "execute_result"
    }
   ],
   "source": [
    "features_tec = dados_tec.drop(columns=['categoria_da_situação'])\n",
    "features_tec.head(3)"
   ]
  },
  {
   "cell_type": "code",
   "execution_count": 9,
   "metadata": {},
   "outputs": [],
   "source": [
    "target_tec = dados_tec[['categoria_da_situação']]"
   ]
  },
  {
   "cell_type": "markdown",
   "metadata": {},
   "source": [
    "### Separação de treino e teste"
   ]
  },
  {
   "cell_type": "code",
   "execution_count": 10,
   "metadata": {},
   "outputs": [],
   "source": [
    "X_train, X_test, y_train, y_test = train_test_split(features_tec, target_tec, test_size=0.2)"
   ]
  },
  {
   "cell_type": "code",
   "execution_count": 11,
   "metadata": {},
   "outputs": [],
   "source": [
    "print(f'X_train: {X_train.shape[0]} amostras')\n",
    "print(f'X_test: {X_test.shape[0]} amostras')"
   ]
  },
  {
   "cell_type": "markdown",
   "metadata": {},
   "source": [
    "### Pré-processamento das variáveis\n",
    "\n",
    "Nesta etapa iremos definir os transformadores para codificar as variáveis categóricas, bem como escalonar as variáveis numéricas."
   ]
  },
  {
   "cell_type": "code",
   "execution_count": 12,
   "metadata": {},
   "outputs": [],
   "source": [
    "categorical_features = features_tec.select_dtypes(include=['object']).columns\n",
    "numerical_features = features_tec.select_dtypes(exclude=['object']).columns"
   ]
  },
  {
   "cell_type": "code",
   "execution_count": 13,
   "metadata": {},
   "outputs": [],
   "source": [
    "encoder = OneHotEncoder(handle_unknown='ignore',drop='first')\n",
    "minmax_scaler = MinMaxScaler()"
   ]
  },
  {
   "cell_type": "code",
   "execution_count": 14,
   "metadata": {},
   "outputs": [],
   "source": [
    "preprocessor = ColumnTransformer(\n",
    "    transformers=[\n",
    "        ('numerical', minmax_scaler, numerical_features),\n",
    "        ('categorical', encoder, categorical_features)\n",
    "])"
   ]
  },
  {
   "cell_type": "markdown",
   "metadata": {},
   "source": [
    "### Definição dos modelos"
   ]
  },
  {
   "cell_type": "markdown",
   "metadata": {},
   "source": [
    "### Cross validation e Fine tuning"
   ]
  },
  {
   "cell_type": "code",
   "execution_count": 16,
   "metadata": {},
   "outputs": [],
   "source": [
    "results = pd.DataFrame({})"
   ]
  },
  {
   "cell_type": "markdown",
   "metadata": {},
   "source": [
    "#### KNN"
   ]
  },
  {
   "cell_type": "code",
   "execution_count": 22,
   "metadata": {},
   "outputs": [],
   "source": [
    "models_results = {}\n",
    "pipeline = Pipeline(\n",
    "    steps=[\n",
    "        (\"preprocessor\", preprocessor),\n",
    "        (\"classifier\", KNeighborsClassifier(metric=\"euclidean\")),\n",
    "    ]\n",
    ")\n",
    "# Inner CV\n",
    "grid_search = GridSearchCV(\n",
    "    pipeline,\n",
    "    {\n",
    "        \"classifier__n_neighbors\": np.arange(1, 20, 2),\n",
    "        \"classifier__weights\": [\"uniform\", \"distance\"],\n",
    "    },\n",
    "    cv=5,\n",
    "    scoring=\"accuracy\",\n",
    ")\n",
    "# Outer CV\n",
    "cross_validation_results = cross_validate(\n",
    "    grid_search,\n",
    "    X=features_tec,\n",
    "    y=target_tec,\n",
    "    cv=5,\n",
    "    scoring=[\"accuracy\", \"f1\", \"precision\", \"recall\"],\n",
    ")\n",
    "\n",
    "acc_scores = f\"{cross_validation_results['test_accuracy'].mean():.3f} +- {cross_validation_results['test_accuracy'].std():.3f}\"\n",
    "f1_scores = f\"{cross_validation_results['test_f1'].mean():.3f} +- {cross_validation_results['test_f1'].std():.3f}\"\n",
    "precision_scores = f\"{cross_validation_results['test_precision'].mean():.3f} +- {cross_validation_results['test_precision'].std():.3f}\"\n",
    "recall_scores = f\"{cross_validation_results['test_recall'].mean():.3f} +- {cross_validation_results['test_recall'].std():.3f}\"\n",
    "\n",
    "models_results[\"model_name\"] = [\"KNN\"]\n",
    "models_results[\"accuracy\"] = [acc_scores]\n",
    "models_results[\"f1\"] = [f1_scores]\n",
    "models_results[\"precision\"] = [precision_scores]\n",
    "models_results[\"recall\"] = [recall_scores]\n",
    "\n",
    "df = pd.DataFrame(models_results)\n",
    "results = pd.concat([results, df])"
   ]
  },
  {
   "cell_type": "code",
   "execution_count": 23,
   "metadata": {},
   "outputs": [],
   "source": [
    "results.to_csv('knn_results.csv', index=False)"
   ]
  },
  {
   "cell_type": "markdown",
   "metadata": {},
   "source": [
    "#### Logistic Regression"
   ]
  },
  {
   "cell_type": "code",
   "execution_count": 25,
   "metadata": {},
   "outputs": [],
   "source": [
    "models_results = {}\n",
    "\n",
    "pipeline = Pipeline(\n",
    "    steps=[\n",
    "        (\"preprocessor\", preprocessor),\n",
    "        (\"classifier\", LogisticRegression(solver=\"liblinear\", max_iter=1000)),\n",
    "    ]\n",
    ")\n",
    "# Inner CV\n",
    "grid_search = GridSearchCV(\n",
    "    pipeline,\n",
    "    {\"classifier__penalty\": [\"l1\", \"l2\"], \"classifier__C\": [0.1, 1.2]},\n",
    "    cv=5,\n",
    "    scoring=\"accuracy\",\n",
    ")\n",
    "# Outer CV\n",
    "cross_validation_results = cross_validate(\n",
    "    grid_search,\n",
    "    X=features_tec,\n",
    "    y=target_tec,\n",
    "    cv=5,\n",
    "    scoring=[\"accuracy\", \"f1\", \"precision\", \"recall\"],\n",
    ")\n",
    "\n",
    "acc_scores = f\"{cross_validation_results['test_accuracy'].mean():.3f} +- {cross_validation_results['test_accuracy'].std():.3f}\"\n",
    "f1_scores = f\"{cross_validation_results['test_f1'].mean():.3f} +- {cross_validation_results['test_f1'].std():.3f}\"\n",
    "precision_scores = f\"{cross_validation_results['test_precision'].mean():.3f} +- {cross_validation_results['test_precision'].std():.3f}\"\n",
    "recall_scores = f\"{cross_validation_results['test_recall'].mean():.3f} +- {cross_validation_results['test_recall'].std():.3f}\"\n",
    "\n",
    "models_results[\"model_name\"] = [\"Logistic Regression\"]\n",
    "models_results[\"accuracy\"] = [acc_scores]\n",
    "models_results[\"f1\"] = [f1_scores]\n",
    "models_results[\"precision\"] = [precision_scores]\n",
    "models_results[\"recall\"] = [recall_scores]\n",
    "\n",
    "df = pd.DataFrame(models_results)\n",
    "results = pd.concat([results, df])"
   ]
  },
  {
   "cell_type": "code",
   "execution_count": 26,
   "metadata": {},
   "outputs": [],
   "source": [
    "results.to_csv('lr_results.csv', index=False)"
   ]
  },
  {
   "cell_type": "markdown",
   "metadata": {},
   "source": [
    "#### Arvore de decisão"
   ]
  },
  {
   "cell_type": "code",
   "execution_count": 18,
   "metadata": {},
   "outputs": [],
   "source": [
    "from sklearn.tree import DecisionTreeClassifier\n",
    "\n",
    "models_results = {}\n",
    "\n",
    "pipeline = Pipeline(steps=[\n",
    "        ('preprocessor', preprocessor),\n",
    "        ('classifier',  DecisionTreeClassifier())\n",
    "    ])\n",
    "# Inner CV\n",
    "grid_search = GridSearchCV(pipeline, {\n",
    "            \"classifier__criterion\": [\"gini\",\"entropy\"],\n",
    "            \"classifier__max_depth\": [10, 20, 30, 50],\n",
    "            \"classifier__min_samples_split\": [2, 5, 10],\n",
    "            \"classifier__min_samples_leaf\": [1, 2, 4],\n",
    "        },cv=5, scoring='accuracy')\n",
    "# Outer CV\n",
    "cross_validation_results = cross_validate(grid_search, X=features_tec, y=target_tec,\n",
    "                             cv=5, scoring=['accuracy', 'f1', 'precision', 'recall'])\n",
    "\n",
    "acc_scores = f\"{cross_validation_results['test_accuracy'].mean():.3f} +- {cross_validation_results['test_accuracy'].std():.3f}\"\n",
    "f1_scores = f\"{cross_validation_results['test_f1'].mean():.3f} +- {cross_validation_results['test_f1'].std():.3f}\"\n",
    "precision_scores = f\"{cross_validation_results['test_precision'].mean():.3f} +- {cross_validation_results['test_precision'].std():.3f}\"\n",
    "recall_scores = f\"{cross_validation_results['test_recall'].mean():.3f} +- {cross_validation_results['test_recall'].std():.3f}\"\n",
    "\n",
    "models_results['model_name'] = ['Arvore de decisão']\n",
    "models_results['accuracy'] = [acc_scores]\n",
    "models_results['f1'] = [f1_scores]\n",
    "models_results['precision'] = [precision_scores]\n",
    "models_results['recall'] = [recall_scores]\n",
    "\n",
    "df = pd.DataFrame(models_results)\n",
    "results = pd.concat([results, df])"
   ]
  },
  {
   "cell_type": "code",
   "execution_count": 19,
   "metadata": {},
   "outputs": [],
   "source": [
    "results.to_csv('dt_results.csv', index=False)"
   ]
  },
  {
   "cell_type": "code",
   "execution_count": null,
   "metadata": {},
   "outputs": [
    {
     "data": {
      "text/html": [
       "<div>\n",
       "<style scoped>\n",
       "    .dataframe tbody tr th:only-of-type {\n",
       "        vertical-align: middle;\n",
       "    }\n",
       "\n",
       "    .dataframe tbody tr th {\n",
       "        vertical-align: top;\n",
       "    }\n",
       "\n",
       "    .dataframe thead th {\n",
       "        text-align: right;\n",
       "    }\n",
       "</style>\n",
       "<table border=\"1\" class=\"dataframe\">\n",
       "  <thead>\n",
       "    <tr style=\"text-align: right;\">\n",
       "      <th></th>\n",
       "      <th>model_name</th>\n",
       "      <th>accuracy</th>\n",
       "      <th>f1</th>\n",
       "      <th>precision</th>\n",
       "      <th>recall</th>\n",
       "    </tr>\n",
       "  </thead>\n",
       "  <tbody>\n",
       "    <tr>\n",
       "      <th>0</th>\n",
       "      <td>Arvore de decisão</td>\n",
       "      <td>0.866 +- 0.037</td>\n",
       "      <td>0.760 +- 0.076</td>\n",
       "      <td>0.886 +- 0.122</td>\n",
       "      <td>0.699 +- 0.156</td>\n",
       "    </tr>\n",
       "    <tr>\n",
       "      <th>0</th>\n",
       "      <td>KNN</td>\n",
       "      <td>0.716 +- 0.067</td>\n",
       "      <td>0.485 +- 0.078</td>\n",
       "      <td>0.598 +- 0.157</td>\n",
       "      <td>0.422 +- 0.069</td>\n",
       "    </tr>\n",
       "    <tr>\n",
       "      <th>0</th>\n",
       "      <td>Logistic Regression</td>\n",
       "      <td>0.846 +- 0.029</td>\n",
       "      <td>0.702 +- 0.094</td>\n",
       "      <td>0.872 +- 0.084</td>\n",
       "      <td>0.621 +- 0.177</td>\n",
       "    </tr>\n",
       "  </tbody>\n",
       "</table>\n",
       "</div>"
      ],
      "text/plain": [
       "            model_name        accuracy              f1       precision  \\\n",
       "0    Arvore de decisão  0.866 +- 0.037  0.760 +- 0.076  0.886 +- 0.122   \n",
       "0                  KNN  0.716 +- 0.067  0.485 +- 0.078  0.598 +- 0.157   \n",
       "0  Logistic Regression  0.846 +- 0.029  0.702 +- 0.094  0.872 +- 0.084   \n",
       "\n",
       "           recall  \n",
       "0  0.699 +- 0.156  \n",
       "0  0.422 +- 0.069  \n",
       "0  0.621 +- 0.177  "
      ]
     },
     "metadata": {},
     "output_type": "display_data"
    }
   ],
   "source": [
    "results"
   ]
  },
  {
   "cell_type": "code",
   "execution_count": 21,
   "metadata": {},
   "outputs": [],
   "source": [
    "# salvando o modelo arvore de decisão\n",
    "with open('rf_model.pkl', 'wb') as f:\n",
    "    pickle.dump(grid_search, f)"
   ]
  },
  {
   "cell_type": "markdown",
   "metadata": {},
   "source": [
    "### Conclusões\n",
    "\n",
    "\n",
    "O melhor modelo foi a Arvore de decisão. Explicação:\n",
    "\n",
    "> **Recall:**\n",
    "-  No problema da evasão estudantil, o foco principal é identificar todos os alunos em risco, que significa maximizar o recall, uma vez que essa métrica nos dá a probabilidade de uma classe positiva ser corretamente classificada. O recall do modelo no conjunto de teste foi de 90%, garantindo que poucos alunos evadidos fossem deixados de fora, isto é, 90% dos evadidos foram corretamente classificados pelo modelo.\n",
    "\n",
    "> **Precisão:**\n",
    "- Essa também é uma métrica importante se quisermos priorizar alarmes falsos, que seriam os casos de falsos positivos - quando o aluno não é evadido, mas o modelo classifica como tal. O modelo apresentou uma precisão de 94%, ou seja, de todos os alunos que ele classificou como evadido, ele esteve correto em 94% das vezes. Isso garante que esforços de intervenção não sejam desperdiçados em alunos que não estejam em risco."
   ]
  }
 ],
 "metadata": {
  "kernelspec": {
   "display_name": "base",
   "language": "python",
   "name": "python3"
  },
  "language_info": {
   "codemirror_mode": {
    "name": "ipython",
    "version": 3
   },
   "file_extension": ".py",
   "mimetype": "text/x-python",
   "name": "python",
   "nbconvert_exporter": "python",
   "pygments_lexer": "ipython3",
   "version": "3.12.4"
  }
 },
 "nbformat": 4,
 "nbformat_minor": 2
}

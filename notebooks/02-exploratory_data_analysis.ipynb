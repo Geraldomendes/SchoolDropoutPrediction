{
 "cells": [
  {
   "cell_type": "markdown",
   "metadata": {},
   "source": [
    "# Análise exploratória de dados"
   ]
  },
  {
   "cell_type": "code",
   "execution_count": 46,
   "metadata": {},
   "outputs": [],
   "source": [
    "import pandas as pd\n",
    "import numpy as np\n",
    "import matplotlib.pyplot as plt\n",
    "from matplotlib.gridspec import GridSpec\n",
    "from plotly.offline import iplot, init_notebook_mode\n",
    "import plotly.express as px\n",
    "import seaborn as sns\n",
    "import warnings\n",
    "warnings.filterwarnings(\"ignore\")"
   ]
  },
  {
   "cell_type": "markdown",
   "metadata": {},
   "source": [
    "## 1. Coleta de dados"
   ]
  },
  {
   "cell_type": "code",
   "execution_count": 22,
   "metadata": {},
   "outputs": [
    {
     "data": {
      "text/html": [
       "<div>\n",
       "<style scoped>\n",
       "    .dataframe tbody tr th:only-of-type {\n",
       "        vertical-align: middle;\n",
       "    }\n",
       "\n",
       "    .dataframe tbody tr th {\n",
       "        vertical-align: top;\n",
       "    }\n",
       "\n",
       "    .dataframe thead th {\n",
       "        text-align: right;\n",
       "    }\n",
       "</style>\n",
       "<table border=\"1\" class=\"dataframe\">\n",
       "  <thead>\n",
       "    <tr style=\"text-align: right;\">\n",
       "      <th></th>\n",
       "      <th>Carga Horária</th>\n",
       "      <th>Categoria da Situação</th>\n",
       "      <th>Código da Matrícula</th>\n",
       "      <th>Cor/Raça</th>\n",
       "      <th>Data de Início do Ciclo</th>\n",
       "      <th>Data de Fim Previsto do Ciclo</th>\n",
       "      <th>Faixa Etária</th>\n",
       "      <th>Fator Esforço Curso</th>\n",
       "      <th>Idade</th>\n",
       "      <th>Instituição</th>\n",
       "      <th>Mês de Ocorrência da Situação</th>\n",
       "      <th>Região</th>\n",
       "      <th>Renda Familiar</th>\n",
       "      <th>Sexo</th>\n",
       "      <th>Turno</th>\n",
       "      <th>UF</th>\n",
       "      <th>Unidade de Ensino</th>\n",
       "    </tr>\n",
       "  </thead>\n",
       "  <tbody>\n",
       "    <tr>\n",
       "      <th>0</th>\n",
       "      <td>4560</td>\n",
       "      <td>Concluintes</td>\n",
       "      <td>72082427</td>\n",
       "      <td>branca</td>\n",
       "      <td>2017-04-07</td>\n",
       "      <td>2019-12-21</td>\n",
       "      <td>15 a 19 anos</td>\n",
       "      <td>1.000</td>\n",
       "      <td>18.0</td>\n",
       "      <td>CPII</td>\n",
       "      <td>2019-12-01</td>\n",
       "      <td>Região Sudeste</td>\n",
       "      <td>1,5&lt;RFP&lt;=2,5</td>\n",
       "      <td>Feminino</td>\n",
       "      <td>Matutino</td>\n",
       "      <td>RJ</td>\n",
       "      <td>Campus Tijuca II</td>\n",
       "    </tr>\n",
       "    <tr>\n",
       "      <th>1</th>\n",
       "      <td>4560</td>\n",
       "      <td>Concluintes</td>\n",
       "      <td>72082311</td>\n",
       "      <td>branca</td>\n",
       "      <td>2017-04-07</td>\n",
       "      <td>2019-12-21</td>\n",
       "      <td>15 a 19 anos</td>\n",
       "      <td>1.000</td>\n",
       "      <td>18.0</td>\n",
       "      <td>CPII</td>\n",
       "      <td>2019-12-01</td>\n",
       "      <td>Região Sudeste</td>\n",
       "      <td>Não declarada</td>\n",
       "      <td>Masculino</td>\n",
       "      <td>Matutino</td>\n",
       "      <td>RJ</td>\n",
       "      <td>Campus Tijuca II</td>\n",
       "    </tr>\n",
       "    <tr>\n",
       "      <th>2</th>\n",
       "      <td>4560</td>\n",
       "      <td>Concluintes</td>\n",
       "      <td>72082437</td>\n",
       "      <td>branca</td>\n",
       "      <td>2017-04-07</td>\n",
       "      <td>2019-12-21</td>\n",
       "      <td>15 a 19 anos</td>\n",
       "      <td>1.000</td>\n",
       "      <td>18.0</td>\n",
       "      <td>CPII</td>\n",
       "      <td>2019-12-01</td>\n",
       "      <td>Região Sudeste</td>\n",
       "      <td>RFP&gt;3,5</td>\n",
       "      <td>Feminino</td>\n",
       "      <td>Matutino</td>\n",
       "      <td>RJ</td>\n",
       "      <td>Campus Tijuca II</td>\n",
       "    </tr>\n",
       "    <tr>\n",
       "      <th>3</th>\n",
       "      <td>4560</td>\n",
       "      <td>Concluintes</td>\n",
       "      <td>72898296</td>\n",
       "      <td>branca</td>\n",
       "      <td>2017-04-07</td>\n",
       "      <td>2019-12-21</td>\n",
       "      <td>15 a 19 anos</td>\n",
       "      <td>1.000</td>\n",
       "      <td>18.0</td>\n",
       "      <td>CPII</td>\n",
       "      <td>2019-12-01</td>\n",
       "      <td>Região Sudeste</td>\n",
       "      <td>Não declarada</td>\n",
       "      <td>Feminino</td>\n",
       "      <td>Matutino</td>\n",
       "      <td>RJ</td>\n",
       "      <td>Campus Tijuca II</td>\n",
       "    </tr>\n",
       "    <tr>\n",
       "      <th>4</th>\n",
       "      <td>4560</td>\n",
       "      <td>Concluintes</td>\n",
       "      <td>72082281</td>\n",
       "      <td>branca</td>\n",
       "      <td>2017-04-07</td>\n",
       "      <td>2019-12-21</td>\n",
       "      <td>15 a 19 anos</td>\n",
       "      <td>1.000</td>\n",
       "      <td>18.0</td>\n",
       "      <td>CPII</td>\n",
       "      <td>2019-12-01</td>\n",
       "      <td>Região Sudeste</td>\n",
       "      <td>RFP&gt;3,5</td>\n",
       "      <td>Feminino</td>\n",
       "      <td>Matutino</td>\n",
       "      <td>RJ</td>\n",
       "      <td>Campus Tijuca II</td>\n",
       "    </tr>\n",
       "    <tr>\n",
       "      <th>...</th>\n",
       "      <td>...</td>\n",
       "      <td>...</td>\n",
       "      <td>...</td>\n",
       "      <td>...</td>\n",
       "      <td>...</td>\n",
       "      <td>...</td>\n",
       "      <td>...</td>\n",
       "      <td>...</td>\n",
       "      <td>...</td>\n",
       "      <td>...</td>\n",
       "      <td>...</td>\n",
       "      <td>...</td>\n",
       "      <td>...</td>\n",
       "      <td>...</td>\n",
       "      <td>...</td>\n",
       "      <td>...</td>\n",
       "      <td>...</td>\n",
       "    </tr>\n",
       "    <tr>\n",
       "      <th>4245</th>\n",
       "      <td>3600</td>\n",
       "      <td>Concluintes</td>\n",
       "      <td>84230653</td>\n",
       "      <td>branca</td>\n",
       "      <td>2018-02-26</td>\n",
       "      <td>2020-12-31</td>\n",
       "      <td>15 a 19 anos</td>\n",
       "      <td>1.067</td>\n",
       "      <td>19.0</td>\n",
       "      <td>UFSM - POLITÉCNICO</td>\n",
       "      <td>2021-02-01</td>\n",
       "      <td>Região Sul</td>\n",
       "      <td>Não declarada</td>\n",
       "      <td>Feminino</td>\n",
       "      <td>Matutino</td>\n",
       "      <td>RS</td>\n",
       "      <td>Colégio Politécnico da UFSM</td>\n",
       "    </tr>\n",
       "    <tr>\n",
       "      <th>4246</th>\n",
       "      <td>3600</td>\n",
       "      <td>Concluintes</td>\n",
       "      <td>84224256</td>\n",
       "      <td>branca</td>\n",
       "      <td>2018-02-26</td>\n",
       "      <td>2020-12-31</td>\n",
       "      <td>15 a 19 anos</td>\n",
       "      <td>1.067</td>\n",
       "      <td>18.0</td>\n",
       "      <td>UFSM - POLITÉCNICO</td>\n",
       "      <td>2021-02-01</td>\n",
       "      <td>Região Sul</td>\n",
       "      <td>Não declarada</td>\n",
       "      <td>Feminino</td>\n",
       "      <td>Matutino</td>\n",
       "      <td>RS</td>\n",
       "      <td>Colégio Politécnico da UFSM</td>\n",
       "    </tr>\n",
       "    <tr>\n",
       "      <th>4247</th>\n",
       "      <td>3600</td>\n",
       "      <td>Concluintes</td>\n",
       "      <td>84224068</td>\n",
       "      <td>parda</td>\n",
       "      <td>2018-02-26</td>\n",
       "      <td>2020-12-31</td>\n",
       "      <td>15 a 19 anos</td>\n",
       "      <td>1.067</td>\n",
       "      <td>19.0</td>\n",
       "      <td>UFSM - POLITÉCNICO</td>\n",
       "      <td>2021-02-01</td>\n",
       "      <td>Região Sul</td>\n",
       "      <td>Não declarada</td>\n",
       "      <td>Feminino</td>\n",
       "      <td>Matutino</td>\n",
       "      <td>RS</td>\n",
       "      <td>Colégio Politécnico da UFSM</td>\n",
       "    </tr>\n",
       "    <tr>\n",
       "      <th>4248</th>\n",
       "      <td>2460</td>\n",
       "      <td>Concluintes</td>\n",
       "      <td>84799648</td>\n",
       "      <td>branca</td>\n",
       "      <td>2018-02-06</td>\n",
       "      <td>2020-12-20</td>\n",
       "      <td>15 a 19 anos</td>\n",
       "      <td>1.067</td>\n",
       "      <td>18.0</td>\n",
       "      <td>UFRPE - CODAI</td>\n",
       "      <td>2021-06-01</td>\n",
       "      <td>Região Nordeste</td>\n",
       "      <td>0&lt;RFP&lt;=0,5</td>\n",
       "      <td>Masculino</td>\n",
       "      <td>Vespertino</td>\n",
       "      <td>PE</td>\n",
       "      <td>Colégio Agrícola Dom Agostinho Ikas da UFRPE</td>\n",
       "    </tr>\n",
       "    <tr>\n",
       "      <th>4249</th>\n",
       "      <td>2490</td>\n",
       "      <td>Concluintes</td>\n",
       "      <td>87971675</td>\n",
       "      <td>parda</td>\n",
       "      <td>2018-11-06</td>\n",
       "      <td>2020-12-24</td>\n",
       "      <td>15 a 19 anos</td>\n",
       "      <td>1.067</td>\n",
       "      <td>18.0</td>\n",
       "      <td>UFPI - CTF</td>\n",
       "      <td>2021-02-21</td>\n",
       "      <td>Região Nordeste</td>\n",
       "      <td>0&lt;RFP&lt;=0,5</td>\n",
       "      <td>Masculino</td>\n",
       "      <td>Matutino</td>\n",
       "      <td>PI</td>\n",
       "      <td>Colégio Técnico de Floriano da UFPI</td>\n",
       "    </tr>\n",
       "  </tbody>\n",
       "</table>\n",
       "<p>4250 rows × 17 columns</p>\n",
       "</div>"
      ],
      "text/plain": [
       "      Carga Horária Categoria da Situação  Código da Matrícula Cor/Raça  \\\n",
       "0              4560           Concluintes             72082427   branca   \n",
       "1              4560           Concluintes             72082311   branca   \n",
       "2              4560           Concluintes             72082437   branca   \n",
       "3              4560           Concluintes             72898296   branca   \n",
       "4              4560           Concluintes             72082281   branca   \n",
       "...             ...                   ...                  ...      ...   \n",
       "4245           3600           Concluintes             84230653   branca   \n",
       "4246           3600           Concluintes             84224256   branca   \n",
       "4247           3600           Concluintes             84224068    parda   \n",
       "4248           2460           Concluintes             84799648   branca   \n",
       "4249           2490           Concluintes             87971675    parda   \n",
       "\n",
       "     Data de Início do Ciclo Data de Fim Previsto do Ciclo  Faixa Etária  \\\n",
       "0                 2017-04-07                    2019-12-21  15 a 19 anos   \n",
       "1                 2017-04-07                    2019-12-21  15 a 19 anos   \n",
       "2                 2017-04-07                    2019-12-21  15 a 19 anos   \n",
       "3                 2017-04-07                    2019-12-21  15 a 19 anos   \n",
       "4                 2017-04-07                    2019-12-21  15 a 19 anos   \n",
       "...                      ...                           ...           ...   \n",
       "4245              2018-02-26                    2020-12-31  15 a 19 anos   \n",
       "4246              2018-02-26                    2020-12-31  15 a 19 anos   \n",
       "4247              2018-02-26                    2020-12-31  15 a 19 anos   \n",
       "4248              2018-02-06                    2020-12-20  15 a 19 anos   \n",
       "4249              2018-11-06                    2020-12-24  15 a 19 anos   \n",
       "\n",
       "      Fator Esforço Curso  Idade         Instituição  \\\n",
       "0                   1.000   18.0                CPII   \n",
       "1                   1.000   18.0                CPII   \n",
       "2                   1.000   18.0                CPII   \n",
       "3                   1.000   18.0                CPII   \n",
       "4                   1.000   18.0                CPII   \n",
       "...                   ...    ...                 ...   \n",
       "4245                1.067   19.0  UFSM - POLITÉCNICO   \n",
       "4246                1.067   18.0  UFSM - POLITÉCNICO   \n",
       "4247                1.067   19.0  UFSM - POLITÉCNICO   \n",
       "4248                1.067   18.0       UFRPE - CODAI   \n",
       "4249                1.067   18.0          UFPI - CTF   \n",
       "\n",
       "     Mês de Ocorrência da Situação           Região Renda Familiar       Sexo  \\\n",
       "0                       2019-12-01   Região Sudeste   1,5<RFP<=2,5   Feminino   \n",
       "1                       2019-12-01   Região Sudeste  Não declarada  Masculino   \n",
       "2                       2019-12-01   Região Sudeste        RFP>3,5   Feminino   \n",
       "3                       2019-12-01   Região Sudeste  Não declarada   Feminino   \n",
       "4                       2019-12-01   Região Sudeste        RFP>3,5   Feminino   \n",
       "...                            ...              ...            ...        ...   \n",
       "4245                    2021-02-01       Região Sul  Não declarada   Feminino   \n",
       "4246                    2021-02-01       Região Sul  Não declarada   Feminino   \n",
       "4247                    2021-02-01       Região Sul  Não declarada   Feminino   \n",
       "4248                    2021-06-01  Região Nordeste     0<RFP<=0,5  Masculino   \n",
       "4249                    2021-02-21  Região Nordeste     0<RFP<=0,5  Masculino   \n",
       "\n",
       "           Turno  UF                             Unidade de Ensino  \n",
       "0       Matutino  RJ                              Campus Tijuca II  \n",
       "1       Matutino  RJ                              Campus Tijuca II  \n",
       "2       Matutino  RJ                              Campus Tijuca II  \n",
       "3       Matutino  RJ                              Campus Tijuca II  \n",
       "4       Matutino  RJ                              Campus Tijuca II  \n",
       "...          ...  ..                                           ...  \n",
       "4245    Matutino  RS                   Colégio Politécnico da UFSM  \n",
       "4246    Matutino  RS                   Colégio Politécnico da UFSM  \n",
       "4247    Matutino  RS                   Colégio Politécnico da UFSM  \n",
       "4248  Vespertino  PE  Colégio Agrícola Dom Agostinho Ikas da UFRPE  \n",
       "4249    Matutino  PI           Colégio Técnico de Floriano da UFPI  \n",
       "\n",
       "[4250 rows x 17 columns]"
      ]
     },
     "execution_count": 22,
     "metadata": {},
     "output_type": "execute_result"
    }
   ],
   "source": [
    "data = pd.read_csv('../data/processed/preprocessing.csv')\n",
    "data"
   ]
  },
  {
   "cell_type": "markdown",
   "metadata": {},
   "source": [
    "## 2. Descrição dos dados\n",
    "\n",
    "\n"
   ]
  },
  {
   "cell_type": "markdown",
   "metadata": {},
   "source": [
    "\n",
    "### 2.1. Dicionário de dados"
   ]
  },
  {
   "cell_type": "code",
   "execution_count": 23,
   "metadata": {},
   "outputs": [
    {
     "data": {
      "text/html": [
       "<div>\n",
       "<style scoped>\n",
       "    .dataframe tbody tr th:only-of-type {\n",
       "        vertical-align: middle;\n",
       "    }\n",
       "\n",
       "    .dataframe tbody tr th {\n",
       "        vertical-align: top;\n",
       "    }\n",
       "\n",
       "    .dataframe thead th {\n",
       "        text-align: right;\n",
       "    }\n",
       "</style>\n",
       "<table border=\"1\" class=\"dataframe\">\n",
       "  <thead>\n",
       "    <tr style=\"text-align: right;\">\n",
       "      <th></th>\n",
       "      <th>Variável</th>\n",
       "      <th>Significado</th>\n",
       "      <th>Tipo</th>\n",
       "      <th>Subtipo</th>\n",
       "    </tr>\n",
       "  </thead>\n",
       "  <tbody>\n",
       "    <tr>\n",
       "      <th>0</th>\n",
       "      <td>Carga Horária</td>\n",
       "      <td>Carga horária do ciclo de matrícula.</td>\n",
       "      <td>Quantitativa</td>\n",
       "      <td>Discreta</td>\n",
       "    </tr>\n",
       "    <tr>\n",
       "      <th>1</th>\n",
       "      <td>Categoria da Situação</td>\n",
       "      <td>Situações de matrícula: concluintes, em curso ...</td>\n",
       "      <td>Qualitativa</td>\n",
       "      <td>Nominal</td>\n",
       "    </tr>\n",
       "    <tr>\n",
       "      <th>2</th>\n",
       "      <td>Código da Matrícula</td>\n",
       "      <td>Código da matrícula.</td>\n",
       "      <td>Quantitativa</td>\n",
       "      <td>Discreta</td>\n",
       "    </tr>\n",
       "    <tr>\n",
       "      <th>3</th>\n",
       "      <td>Cor/Raça</td>\n",
       "      <td>Cor/Raça do aluno.</td>\n",
       "      <td>Qualitativa</td>\n",
       "      <td>Nominal</td>\n",
       "    </tr>\n",
       "    <tr>\n",
       "      <th>4</th>\n",
       "      <td>Data de Início do Ciclo</td>\n",
       "      <td>Data de início do ciclo de matrícula.</td>\n",
       "      <td>Quantitativa</td>\n",
       "      <td>Discreta</td>\n",
       "    </tr>\n",
       "    <tr>\n",
       "      <th>5</th>\n",
       "      <td>Data de Fim Previsto do Ciclo</td>\n",
       "      <td>Data prevista para o final do ciclo de matrícula.</td>\n",
       "      <td>Quantitativa</td>\n",
       "      <td>Discreta</td>\n",
       "    </tr>\n",
       "    <tr>\n",
       "      <th>6</th>\n",
       "      <td>Faixa Etária</td>\n",
       "      <td>Agrupamento baseado na idade dos estudantes.</td>\n",
       "      <td>Qualitativa</td>\n",
       "      <td>Ordinal</td>\n",
       "    </tr>\n",
       "    <tr>\n",
       "      <th>7</th>\n",
       "      <td>Fator Esforço Curso</td>\n",
       "      <td>Ajusta a contagem de matrículas-equivalentes p...</td>\n",
       "      <td>Quantitativa</td>\n",
       "      <td>Continua</td>\n",
       "    </tr>\n",
       "    <tr>\n",
       "      <th>8</th>\n",
       "      <td>Idade</td>\n",
       "      <td>Idade do estudante.</td>\n",
       "      <td>Quantitativa</td>\n",
       "      <td>Discreta</td>\n",
       "    </tr>\n",
       "    <tr>\n",
       "      <th>9</th>\n",
       "      <td>Instituição</td>\n",
       "      <td>Sigla da Instituição.</td>\n",
       "      <td>Qualitativa</td>\n",
       "      <td>Nominal</td>\n",
       "    </tr>\n",
       "    <tr>\n",
       "      <th>10</th>\n",
       "      <td>Mês de Ocorrência da Situação</td>\n",
       "      <td>Mês/Ano em que a situação da matrícula efetiva...</td>\n",
       "      <td>Quantitativa</td>\n",
       "      <td>Discreta</td>\n",
       "    </tr>\n",
       "    <tr>\n",
       "      <th>11</th>\n",
       "      <td>Região</td>\n",
       "      <td>Região Geográfica do país onde está instalada ...</td>\n",
       "      <td>Qualitativa</td>\n",
       "      <td>Nominal</td>\n",
       "    </tr>\n",
       "    <tr>\n",
       "      <th>12</th>\n",
       "      <td>Renda Familiar</td>\n",
       "      <td>Faixa de renda per capita familiar do aluno.</td>\n",
       "      <td>Qualitativa</td>\n",
       "      <td>Ordinal</td>\n",
       "    </tr>\n",
       "    <tr>\n",
       "      <th>13</th>\n",
       "      <td>Sexo</td>\n",
       "      <td>Informa o sexo do estudante.</td>\n",
       "      <td>Qualitativa</td>\n",
       "      <td>Nominal</td>\n",
       "    </tr>\n",
       "    <tr>\n",
       "      <th>14</th>\n",
       "      <td>Turno</td>\n",
       "      <td>Período de tempo determinado em que o aluno cu...</td>\n",
       "      <td>Qualitativa</td>\n",
       "      <td>Nominal</td>\n",
       "    </tr>\n",
       "    <tr>\n",
       "      <th>15</th>\n",
       "      <td>UF</td>\n",
       "      <td>Unidade da Federação onde está instalada a ins...</td>\n",
       "      <td>Qualitativa</td>\n",
       "      <td>Nominal</td>\n",
       "    </tr>\n",
       "    <tr>\n",
       "      <th>16</th>\n",
       "      <td>Unidade de Ensino</td>\n",
       "      <td>Nome da unidade de ensino a qual a matrícula e...</td>\n",
       "      <td>Qualitativa</td>\n",
       "      <td>Nominal]</td>\n",
       "    </tr>\n",
       "  </tbody>\n",
       "</table>\n",
       "</div>"
      ],
      "text/plain": [
       "                         Variável  \\\n",
       "0                   Carga Horária   \n",
       "1           Categoria da Situação   \n",
       "2             Código da Matrícula   \n",
       "3                        Cor/Raça   \n",
       "4         Data de Início do Ciclo   \n",
       "5   Data de Fim Previsto do Ciclo   \n",
       "6                    Faixa Etária   \n",
       "7             Fator Esforço Curso   \n",
       "8                           Idade   \n",
       "9                     Instituição   \n",
       "10  Mês de Ocorrência da Situação   \n",
       "11                         Região   \n",
       "12                 Renda Familiar   \n",
       "13                           Sexo   \n",
       "14                          Turno   \n",
       "15                             UF   \n",
       "16              Unidade de Ensino   \n",
       "\n",
       "                                          Significado          Tipo   Subtipo  \n",
       "0                Carga horária do ciclo de matrícula.  Quantitativa  Discreta  \n",
       "1   Situações de matrícula: concluintes, em curso ...   Qualitativa   Nominal  \n",
       "2                               Código da matrícula.   Quantitativa  Discreta  \n",
       "3                                  Cor/Raça do aluno.   Qualitativa   Nominal  \n",
       "4               Data de início do ciclo de matrícula.  Quantitativa  Discreta  \n",
       "5   Data prevista para o final do ciclo de matrícula.  Quantitativa  Discreta  \n",
       "6       Agrupamento baseado na idade dos estudantes.    Qualitativa   Ordinal  \n",
       "7   Ajusta a contagem de matrículas-equivalentes p...  Quantitativa  Continua  \n",
       "8                                 Idade do estudante.  Quantitativa  Discreta  \n",
       "9                               Sigla da Instituição.   Qualitativa   Nominal  \n",
       "10  Mês/Ano em que a situação da matrícula efetiva...  Quantitativa  Discreta  \n",
       "11  Região Geográfica do país onde está instalada ...   Qualitativa   Nominal  \n",
       "12       Faixa de renda per capita familiar do aluno.   Qualitativa   Ordinal  \n",
       "13                       Informa o sexo do estudante.   Qualitativa   Nominal  \n",
       "14  Período de tempo determinado em que o aluno cu...   Qualitativa   Nominal  \n",
       "15  Unidade da Federação onde está instalada a ins...   Qualitativa   Nominal  \n",
       "16  Nome da unidade de ensino a qual a matrícula e...   Qualitativa  Nominal]  "
      ]
     },
     "execution_count": 23,
     "metadata": {},
     "output_type": "execute_result"
    }
   ],
   "source": [
    "dicionario = pd.read_csv('../data/external/dicionario.csv', sep=',')\n",
    "dicionario"
   ]
  },
  {
   "cell_type": "code",
   "execution_count": 24,
   "metadata": {},
   "outputs": [
    {
     "data": {
      "text/html": [
       "<div>\n",
       "<style scoped>\n",
       "    .dataframe tbody tr th:only-of-type {\n",
       "        vertical-align: middle;\n",
       "    }\n",
       "\n",
       "    .dataframe tbody tr th {\n",
       "        vertical-align: top;\n",
       "    }\n",
       "\n",
       "    .dataframe thead th {\n",
       "        text-align: right;\n",
       "    }\n",
       "</style>\n",
       "<table border=\"1\" class=\"dataframe\">\n",
       "  <thead>\n",
       "    <tr style=\"text-align: right;\">\n",
       "      <th></th>\n",
       "      <th>Categoria da Situação</th>\n",
       "      <th>Cor/Raça</th>\n",
       "      <th>Data de Início do Ciclo</th>\n",
       "      <th>Data de Fim Previsto do Ciclo</th>\n",
       "      <th>Faixa Etária</th>\n",
       "      <th>Instituição</th>\n",
       "      <th>Mês de Ocorrência da Situação</th>\n",
       "      <th>Região</th>\n",
       "      <th>Renda Familiar</th>\n",
       "      <th>Sexo</th>\n",
       "      <th>Turno</th>\n",
       "      <th>UF</th>\n",
       "      <th>Unidade de Ensino</th>\n",
       "    </tr>\n",
       "  </thead>\n",
       "  <tbody>\n",
       "    <tr>\n",
       "      <th>0</th>\n",
       "      <td>Concluintes</td>\n",
       "      <td>branca</td>\n",
       "      <td>2017-04-07</td>\n",
       "      <td>2019-12-21</td>\n",
       "      <td>15 a 19 anos</td>\n",
       "      <td>CPII</td>\n",
       "      <td>2019-12-01</td>\n",
       "      <td>Região Sudeste</td>\n",
       "      <td>1,5&lt;RFP&lt;=2,5</td>\n",
       "      <td>Feminino</td>\n",
       "      <td>Matutino</td>\n",
       "      <td>RJ</td>\n",
       "      <td>Campus Tijuca II</td>\n",
       "    </tr>\n",
       "    <tr>\n",
       "      <th>1</th>\n",
       "      <td>Concluintes</td>\n",
       "      <td>branca</td>\n",
       "      <td>2017-04-07</td>\n",
       "      <td>2019-12-21</td>\n",
       "      <td>15 a 19 anos</td>\n",
       "      <td>CPII</td>\n",
       "      <td>2019-12-01</td>\n",
       "      <td>Região Sudeste</td>\n",
       "      <td>Não declarada</td>\n",
       "      <td>Masculino</td>\n",
       "      <td>Matutino</td>\n",
       "      <td>RJ</td>\n",
       "      <td>Campus Tijuca II</td>\n",
       "    </tr>\n",
       "    <tr>\n",
       "      <th>2</th>\n",
       "      <td>Concluintes</td>\n",
       "      <td>branca</td>\n",
       "      <td>2017-04-07</td>\n",
       "      <td>2019-12-21</td>\n",
       "      <td>15 a 19 anos</td>\n",
       "      <td>CPII</td>\n",
       "      <td>2019-12-01</td>\n",
       "      <td>Região Sudeste</td>\n",
       "      <td>RFP&gt;3,5</td>\n",
       "      <td>Feminino</td>\n",
       "      <td>Matutino</td>\n",
       "      <td>RJ</td>\n",
       "      <td>Campus Tijuca II</td>\n",
       "    </tr>\n",
       "    <tr>\n",
       "      <th>3</th>\n",
       "      <td>Concluintes</td>\n",
       "      <td>branca</td>\n",
       "      <td>2017-04-07</td>\n",
       "      <td>2019-12-21</td>\n",
       "      <td>15 a 19 anos</td>\n",
       "      <td>CPII</td>\n",
       "      <td>2019-12-01</td>\n",
       "      <td>Região Sudeste</td>\n",
       "      <td>Não declarada</td>\n",
       "      <td>Feminino</td>\n",
       "      <td>Matutino</td>\n",
       "      <td>RJ</td>\n",
       "      <td>Campus Tijuca II</td>\n",
       "    </tr>\n",
       "    <tr>\n",
       "      <th>4</th>\n",
       "      <td>Concluintes</td>\n",
       "      <td>branca</td>\n",
       "      <td>2017-04-07</td>\n",
       "      <td>2019-12-21</td>\n",
       "      <td>15 a 19 anos</td>\n",
       "      <td>CPII</td>\n",
       "      <td>2019-12-01</td>\n",
       "      <td>Região Sudeste</td>\n",
       "      <td>RFP&gt;3,5</td>\n",
       "      <td>Feminino</td>\n",
       "      <td>Matutino</td>\n",
       "      <td>RJ</td>\n",
       "      <td>Campus Tijuca II</td>\n",
       "    </tr>\n",
       "    <tr>\n",
       "      <th>...</th>\n",
       "      <td>...</td>\n",
       "      <td>...</td>\n",
       "      <td>...</td>\n",
       "      <td>...</td>\n",
       "      <td>...</td>\n",
       "      <td>...</td>\n",
       "      <td>...</td>\n",
       "      <td>...</td>\n",
       "      <td>...</td>\n",
       "      <td>...</td>\n",
       "      <td>...</td>\n",
       "      <td>...</td>\n",
       "      <td>...</td>\n",
       "    </tr>\n",
       "    <tr>\n",
       "      <th>4245</th>\n",
       "      <td>Concluintes</td>\n",
       "      <td>branca</td>\n",
       "      <td>2018-02-26</td>\n",
       "      <td>2020-12-31</td>\n",
       "      <td>15 a 19 anos</td>\n",
       "      <td>UFSM - POLITÉCNICO</td>\n",
       "      <td>2021-02-01</td>\n",
       "      <td>Região Sul</td>\n",
       "      <td>Não declarada</td>\n",
       "      <td>Feminino</td>\n",
       "      <td>Matutino</td>\n",
       "      <td>RS</td>\n",
       "      <td>Colégio Politécnico da UFSM</td>\n",
       "    </tr>\n",
       "    <tr>\n",
       "      <th>4246</th>\n",
       "      <td>Concluintes</td>\n",
       "      <td>branca</td>\n",
       "      <td>2018-02-26</td>\n",
       "      <td>2020-12-31</td>\n",
       "      <td>15 a 19 anos</td>\n",
       "      <td>UFSM - POLITÉCNICO</td>\n",
       "      <td>2021-02-01</td>\n",
       "      <td>Região Sul</td>\n",
       "      <td>Não declarada</td>\n",
       "      <td>Feminino</td>\n",
       "      <td>Matutino</td>\n",
       "      <td>RS</td>\n",
       "      <td>Colégio Politécnico da UFSM</td>\n",
       "    </tr>\n",
       "    <tr>\n",
       "      <th>4247</th>\n",
       "      <td>Concluintes</td>\n",
       "      <td>parda</td>\n",
       "      <td>2018-02-26</td>\n",
       "      <td>2020-12-31</td>\n",
       "      <td>15 a 19 anos</td>\n",
       "      <td>UFSM - POLITÉCNICO</td>\n",
       "      <td>2021-02-01</td>\n",
       "      <td>Região Sul</td>\n",
       "      <td>Não declarada</td>\n",
       "      <td>Feminino</td>\n",
       "      <td>Matutino</td>\n",
       "      <td>RS</td>\n",
       "      <td>Colégio Politécnico da UFSM</td>\n",
       "    </tr>\n",
       "    <tr>\n",
       "      <th>4248</th>\n",
       "      <td>Concluintes</td>\n",
       "      <td>branca</td>\n",
       "      <td>2018-02-06</td>\n",
       "      <td>2020-12-20</td>\n",
       "      <td>15 a 19 anos</td>\n",
       "      <td>UFRPE - CODAI</td>\n",
       "      <td>2021-06-01</td>\n",
       "      <td>Região Nordeste</td>\n",
       "      <td>0&lt;RFP&lt;=0,5</td>\n",
       "      <td>Masculino</td>\n",
       "      <td>Vespertino</td>\n",
       "      <td>PE</td>\n",
       "      <td>Colégio Agrícola Dom Agostinho Ikas da UFRPE</td>\n",
       "    </tr>\n",
       "    <tr>\n",
       "      <th>4249</th>\n",
       "      <td>Concluintes</td>\n",
       "      <td>parda</td>\n",
       "      <td>2018-11-06</td>\n",
       "      <td>2020-12-24</td>\n",
       "      <td>15 a 19 anos</td>\n",
       "      <td>UFPI - CTF</td>\n",
       "      <td>2021-02-21</td>\n",
       "      <td>Região Nordeste</td>\n",
       "      <td>0&lt;RFP&lt;=0,5</td>\n",
       "      <td>Masculino</td>\n",
       "      <td>Matutino</td>\n",
       "      <td>PI</td>\n",
       "      <td>Colégio Técnico de Floriano da UFPI</td>\n",
       "    </tr>\n",
       "  </tbody>\n",
       "</table>\n",
       "<p>4250 rows × 13 columns</p>\n",
       "</div>"
      ],
      "text/plain": [
       "     Categoria da Situação Cor/Raça Data de Início do Ciclo  \\\n",
       "0              Concluintes   branca              2017-04-07   \n",
       "1              Concluintes   branca              2017-04-07   \n",
       "2              Concluintes   branca              2017-04-07   \n",
       "3              Concluintes   branca              2017-04-07   \n",
       "4              Concluintes   branca              2017-04-07   \n",
       "...                    ...      ...                     ...   \n",
       "4245           Concluintes   branca              2018-02-26   \n",
       "4246           Concluintes   branca              2018-02-26   \n",
       "4247           Concluintes    parda              2018-02-26   \n",
       "4248           Concluintes   branca              2018-02-06   \n",
       "4249           Concluintes    parda              2018-11-06   \n",
       "\n",
       "     Data de Fim Previsto do Ciclo  Faixa Etária         Instituição  \\\n",
       "0                       2019-12-21  15 a 19 anos                CPII   \n",
       "1                       2019-12-21  15 a 19 anos                CPII   \n",
       "2                       2019-12-21  15 a 19 anos                CPII   \n",
       "3                       2019-12-21  15 a 19 anos                CPII   \n",
       "4                       2019-12-21  15 a 19 anos                CPII   \n",
       "...                            ...           ...                 ...   \n",
       "4245                    2020-12-31  15 a 19 anos  UFSM - POLITÉCNICO   \n",
       "4246                    2020-12-31  15 a 19 anos  UFSM - POLITÉCNICO   \n",
       "4247                    2020-12-31  15 a 19 anos  UFSM - POLITÉCNICO   \n",
       "4248                    2020-12-20  15 a 19 anos       UFRPE - CODAI   \n",
       "4249                    2020-12-24  15 a 19 anos          UFPI - CTF   \n",
       "\n",
       "     Mês de Ocorrência da Situação           Região Renda Familiar       Sexo  \\\n",
       "0                       2019-12-01   Região Sudeste   1,5<RFP<=2,5   Feminino   \n",
       "1                       2019-12-01   Região Sudeste  Não declarada  Masculino   \n",
       "2                       2019-12-01   Região Sudeste        RFP>3,5   Feminino   \n",
       "3                       2019-12-01   Região Sudeste  Não declarada   Feminino   \n",
       "4                       2019-12-01   Região Sudeste        RFP>3,5   Feminino   \n",
       "...                            ...              ...            ...        ...   \n",
       "4245                    2021-02-01       Região Sul  Não declarada   Feminino   \n",
       "4246                    2021-02-01       Região Sul  Não declarada   Feminino   \n",
       "4247                    2021-02-01       Região Sul  Não declarada   Feminino   \n",
       "4248                    2021-06-01  Região Nordeste     0<RFP<=0,5  Masculino   \n",
       "4249                    2021-02-21  Região Nordeste     0<RFP<=0,5  Masculino   \n",
       "\n",
       "           Turno  UF                             Unidade de Ensino  \n",
       "0       Matutino  RJ                              Campus Tijuca II  \n",
       "1       Matutino  RJ                              Campus Tijuca II  \n",
       "2       Matutino  RJ                              Campus Tijuca II  \n",
       "3       Matutino  RJ                              Campus Tijuca II  \n",
       "4       Matutino  RJ                              Campus Tijuca II  \n",
       "...          ...  ..                                           ...  \n",
       "4245    Matutino  RS                   Colégio Politécnico da UFSM  \n",
       "4246    Matutino  RS                   Colégio Politécnico da UFSM  \n",
       "4247    Matutino  RS                   Colégio Politécnico da UFSM  \n",
       "4248  Vespertino  PE  Colégio Agrícola Dom Agostinho Ikas da UFRPE  \n",
       "4249    Matutino  PI           Colégio Técnico de Floriano da UFPI  \n",
       "\n",
       "[4250 rows x 13 columns]"
      ]
     },
     "execution_count": 24,
     "metadata": {},
     "output_type": "execute_result"
    }
   ],
   "source": [
    "data.select_dtypes(include='object')"
   ]
  },
  {
   "cell_type": "code",
   "execution_count": 25,
   "metadata": {},
   "outputs": [],
   "source": [
    "categorica = data.select_dtypes(include='object')"
   ]
  },
  {
   "cell_type": "code",
   "execution_count": 28,
   "metadata": {},
   "outputs": [
    {
     "data": {
      "text/html": [
       "<div>\n",
       "<style scoped>\n",
       "    .dataframe tbody tr th:only-of-type {\n",
       "        vertical-align: middle;\n",
       "    }\n",
       "\n",
       "    .dataframe tbody tr th {\n",
       "        vertical-align: top;\n",
       "    }\n",
       "\n",
       "    .dataframe thead th {\n",
       "        text-align: right;\n",
       "    }\n",
       "</style>\n",
       "<table border=\"1\" class=\"dataframe\">\n",
       "  <thead>\n",
       "    <tr style=\"text-align: right;\">\n",
       "      <th></th>\n",
       "      <th>Carga Horária</th>\n",
       "      <th>Código da Matrícula</th>\n",
       "      <th>Fator Esforço Curso</th>\n",
       "      <th>Idade</th>\n",
       "    </tr>\n",
       "  </thead>\n",
       "  <tbody>\n",
       "    <tr>\n",
       "      <th>0</th>\n",
       "      <td>4560</td>\n",
       "      <td>72082427</td>\n",
       "      <td>1.000</td>\n",
       "      <td>18.0</td>\n",
       "    </tr>\n",
       "    <tr>\n",
       "      <th>1</th>\n",
       "      <td>4560</td>\n",
       "      <td>72082311</td>\n",
       "      <td>1.000</td>\n",
       "      <td>18.0</td>\n",
       "    </tr>\n",
       "    <tr>\n",
       "      <th>2</th>\n",
       "      <td>4560</td>\n",
       "      <td>72082437</td>\n",
       "      <td>1.000</td>\n",
       "      <td>18.0</td>\n",
       "    </tr>\n",
       "    <tr>\n",
       "      <th>3</th>\n",
       "      <td>4560</td>\n",
       "      <td>72898296</td>\n",
       "      <td>1.000</td>\n",
       "      <td>18.0</td>\n",
       "    </tr>\n",
       "    <tr>\n",
       "      <th>4</th>\n",
       "      <td>4560</td>\n",
       "      <td>72082281</td>\n",
       "      <td>1.000</td>\n",
       "      <td>18.0</td>\n",
       "    </tr>\n",
       "    <tr>\n",
       "      <th>...</th>\n",
       "      <td>...</td>\n",
       "      <td>...</td>\n",
       "      <td>...</td>\n",
       "      <td>...</td>\n",
       "    </tr>\n",
       "    <tr>\n",
       "      <th>4245</th>\n",
       "      <td>3600</td>\n",
       "      <td>84230653</td>\n",
       "      <td>1.067</td>\n",
       "      <td>19.0</td>\n",
       "    </tr>\n",
       "    <tr>\n",
       "      <th>4246</th>\n",
       "      <td>3600</td>\n",
       "      <td>84224256</td>\n",
       "      <td>1.067</td>\n",
       "      <td>18.0</td>\n",
       "    </tr>\n",
       "    <tr>\n",
       "      <th>4247</th>\n",
       "      <td>3600</td>\n",
       "      <td>84224068</td>\n",
       "      <td>1.067</td>\n",
       "      <td>19.0</td>\n",
       "    </tr>\n",
       "    <tr>\n",
       "      <th>4248</th>\n",
       "      <td>2460</td>\n",
       "      <td>84799648</td>\n",
       "      <td>1.067</td>\n",
       "      <td>18.0</td>\n",
       "    </tr>\n",
       "    <tr>\n",
       "      <th>4249</th>\n",
       "      <td>2490</td>\n",
       "      <td>87971675</td>\n",
       "      <td>1.067</td>\n",
       "      <td>18.0</td>\n",
       "    </tr>\n",
       "  </tbody>\n",
       "</table>\n",
       "<p>4250 rows × 4 columns</p>\n",
       "</div>"
      ],
      "text/plain": [
       "      Carga Horária  Código da Matrícula  Fator Esforço Curso  Idade\n",
       "0              4560             72082427                1.000   18.0\n",
       "1              4560             72082311                1.000   18.0\n",
       "2              4560             72082437                1.000   18.0\n",
       "3              4560             72898296                1.000   18.0\n",
       "4              4560             72082281                1.000   18.0\n",
       "...             ...                  ...                  ...    ...\n",
       "4245           3600             84230653                1.067   19.0\n",
       "4246           3600             84224256                1.067   18.0\n",
       "4247           3600             84224068                1.067   19.0\n",
       "4248           2460             84799648                1.067   18.0\n",
       "4249           2490             87971675                1.067   18.0\n",
       "\n",
       "[4250 rows x 4 columns]"
      ]
     },
     "execution_count": 28,
     "metadata": {},
     "output_type": "execute_result"
    }
   ],
   "source": [
    "data.select_dtypes(exclude='object')"
   ]
  },
  {
   "cell_type": "code",
   "execution_count": 27,
   "metadata": {},
   "outputs": [],
   "source": [
    "numerica = data.select_dtypes(exclude='object')"
   ]
  },
  {
   "cell_type": "code",
   "execution_count": null,
   "metadata": {},
   "outputs": [],
   "source": []
  },
  {
   "cell_type": "markdown",
   "metadata": {},
   "source": [
    "## 3. Perguntas de partida e hipóteses"
   ]
  },
  {
   "cell_type": "markdown",
   "metadata": {},
   "source": [
    "### Qual a distribuição dos dados (variável por variável)?"
   ]
  },
  {
   "cell_type": "code",
   "execution_count": 29,
   "metadata": {},
   "outputs": [
    {
     "data": {
      "text/html": [
       "<div>\n",
       "<style scoped>\n",
       "    .dataframe tbody tr th:only-of-type {\n",
       "        vertical-align: middle;\n",
       "    }\n",
       "\n",
       "    .dataframe tbody tr th {\n",
       "        vertical-align: top;\n",
       "    }\n",
       "\n",
       "    .dataframe thead th {\n",
       "        text-align: right;\n",
       "    }\n",
       "</style>\n",
       "<table border=\"1\" class=\"dataframe\">\n",
       "  <thead>\n",
       "    <tr style=\"text-align: right;\">\n",
       "      <th></th>\n",
       "      <th>Carga Horária</th>\n",
       "      <th>Categoria da Situação</th>\n",
       "      <th>Código da Matrícula</th>\n",
       "      <th>Cor/Raça</th>\n",
       "      <th>Data de Início do Ciclo</th>\n",
       "      <th>Data de Fim Previsto do Ciclo</th>\n",
       "      <th>Faixa Etária</th>\n",
       "      <th>Fator Esforço Curso</th>\n",
       "      <th>Idade</th>\n",
       "      <th>Instituição</th>\n",
       "      <th>Mês de Ocorrência da Situação</th>\n",
       "      <th>Região</th>\n",
       "      <th>Renda Familiar</th>\n",
       "      <th>Sexo</th>\n",
       "      <th>Turno</th>\n",
       "      <th>UF</th>\n",
       "      <th>Unidade de Ensino</th>\n",
       "    </tr>\n",
       "  </thead>\n",
       "  <tbody>\n",
       "    <tr>\n",
       "      <th>count</th>\n",
       "      <td>4250.000000</td>\n",
       "      <td>4250</td>\n",
       "      <td>4.250000e+03</td>\n",
       "      <td>4250</td>\n",
       "      <td>4250</td>\n",
       "      <td>4250</td>\n",
       "      <td>4250</td>\n",
       "      <td>4250.000000</td>\n",
       "      <td>4250.000000</td>\n",
       "      <td>4250</td>\n",
       "      <td>4250</td>\n",
       "      <td>4250</td>\n",
       "      <td>4250</td>\n",
       "      <td>4250</td>\n",
       "      <td>4250</td>\n",
       "      <td>4250</td>\n",
       "      <td>4250</td>\n",
       "    </tr>\n",
       "    <tr>\n",
       "      <th>unique</th>\n",
       "      <td>NaN</td>\n",
       "      <td>2</td>\n",
       "      <td>NaN</td>\n",
       "      <td>6</td>\n",
       "      <td>44</td>\n",
       "      <td>41</td>\n",
       "      <td>8</td>\n",
       "      <td>NaN</td>\n",
       "      <td>NaN</td>\n",
       "      <td>10</td>\n",
       "      <td>84</td>\n",
       "      <td>3</td>\n",
       "      <td>7</td>\n",
       "      <td>2</td>\n",
       "      <td>4</td>\n",
       "      <td>6</td>\n",
       "      <td>18</td>\n",
       "    </tr>\n",
       "    <tr>\n",
       "      <th>top</th>\n",
       "      <td>NaN</td>\n",
       "      <td>Concluintes</td>\n",
       "      <td>NaN</td>\n",
       "      <td>branca</td>\n",
       "      <td>2017-04-07</td>\n",
       "      <td>2019-12-21</td>\n",
       "      <td>15 a 19 anos</td>\n",
       "      <td>NaN</td>\n",
       "      <td>NaN</td>\n",
       "      <td>CPII</td>\n",
       "      <td>2020-01-01</td>\n",
       "      <td>Região Sudeste</td>\n",
       "      <td>Não declarada</td>\n",
       "      <td>Feminino</td>\n",
       "      <td>Matutino</td>\n",
       "      <td>RJ</td>\n",
       "      <td>Campus São Cristóvão III</td>\n",
       "    </tr>\n",
       "    <tr>\n",
       "      <th>freq</th>\n",
       "      <td>NaN</td>\n",
       "      <td>3279</td>\n",
       "      <td>NaN</td>\n",
       "      <td>1937</td>\n",
       "      <td>1185</td>\n",
       "      <td>1219</td>\n",
       "      <td>3471</td>\n",
       "      <td>NaN</td>\n",
       "      <td>NaN</td>\n",
       "      <td>2828</td>\n",
       "      <td>1066</td>\n",
       "      <td>3233</td>\n",
       "      <td>1409</td>\n",
       "      <td>2211</td>\n",
       "      <td>2690</td>\n",
       "      <td>3008</td>\n",
       "      <td>588</td>\n",
       "    </tr>\n",
       "    <tr>\n",
       "      <th>mean</th>\n",
       "      <td>3991.135294</td>\n",
       "      <td>NaN</td>\n",
       "      <td>8.094893e+07</td>\n",
       "      <td>NaN</td>\n",
       "      <td>NaN</td>\n",
       "      <td>NaN</td>\n",
       "      <td>NaN</td>\n",
       "      <td>1.028944</td>\n",
       "      <td>18.494118</td>\n",
       "      <td>NaN</td>\n",
       "      <td>NaN</td>\n",
       "      <td>NaN</td>\n",
       "      <td>NaN</td>\n",
       "      <td>NaN</td>\n",
       "      <td>NaN</td>\n",
       "      <td>NaN</td>\n",
       "      <td>NaN</td>\n",
       "    </tr>\n",
       "    <tr>\n",
       "      <th>std</th>\n",
       "      <td>932.709563</td>\n",
       "      <td>NaN</td>\n",
       "      <td>8.801851e+06</td>\n",
       "      <td>NaN</td>\n",
       "      <td>NaN</td>\n",
       "      <td>NaN</td>\n",
       "      <td>NaN</td>\n",
       "      <td>0.033193</td>\n",
       "      <td>1.602125</td>\n",
       "      <td>NaN</td>\n",
       "      <td>NaN</td>\n",
       "      <td>NaN</td>\n",
       "      <td>NaN</td>\n",
       "      <td>NaN</td>\n",
       "      <td>NaN</td>\n",
       "      <td>NaN</td>\n",
       "      <td>NaN</td>\n",
       "    </tr>\n",
       "    <tr>\n",
       "      <th>min</th>\n",
       "      <td>2400.000000</td>\n",
       "      <td>NaN</td>\n",
       "      <td>5.834909e+07</td>\n",
       "      <td>NaN</td>\n",
       "      <td>NaN</td>\n",
       "      <td>NaN</td>\n",
       "      <td>NaN</td>\n",
       "      <td>1.000000</td>\n",
       "      <td>9.000000</td>\n",
       "      <td>NaN</td>\n",
       "      <td>NaN</td>\n",
       "      <td>NaN</td>\n",
       "      <td>NaN</td>\n",
       "      <td>NaN</td>\n",
       "      <td>NaN</td>\n",
       "      <td>NaN</td>\n",
       "      <td>NaN</td>\n",
       "    </tr>\n",
       "    <tr>\n",
       "      <th>25%</th>\n",
       "      <td>2800.000000</td>\n",
       "      <td>NaN</td>\n",
       "      <td>7.248616e+07</td>\n",
       "      <td>NaN</td>\n",
       "      <td>NaN</td>\n",
       "      <td>NaN</td>\n",
       "      <td>NaN</td>\n",
       "      <td>1.000000</td>\n",
       "      <td>18.000000</td>\n",
       "      <td>NaN</td>\n",
       "      <td>NaN</td>\n",
       "      <td>NaN</td>\n",
       "      <td>NaN</td>\n",
       "      <td>NaN</td>\n",
       "      <td>NaN</td>\n",
       "      <td>NaN</td>\n",
       "      <td>NaN</td>\n",
       "    </tr>\n",
       "    <tr>\n",
       "      <th>50%</th>\n",
       "      <td>4560.000000</td>\n",
       "      <td>NaN</td>\n",
       "      <td>8.512098e+07</td>\n",
       "      <td>NaN</td>\n",
       "      <td>NaN</td>\n",
       "      <td>NaN</td>\n",
       "      <td>NaN</td>\n",
       "      <td>1.000000</td>\n",
       "      <td>19.000000</td>\n",
       "      <td>NaN</td>\n",
       "      <td>NaN</td>\n",
       "      <td>NaN</td>\n",
       "      <td>NaN</td>\n",
       "      <td>NaN</td>\n",
       "      <td>NaN</td>\n",
       "      <td>NaN</td>\n",
       "      <td>NaN</td>\n",
       "    </tr>\n",
       "    <tr>\n",
       "      <th>75%</th>\n",
       "      <td>4560.000000</td>\n",
       "      <td>NaN</td>\n",
       "      <td>8.703046e+07</td>\n",
       "      <td>NaN</td>\n",
       "      <td>NaN</td>\n",
       "      <td>NaN</td>\n",
       "      <td>NaN</td>\n",
       "      <td>1.067000</td>\n",
       "      <td>19.000000</td>\n",
       "      <td>NaN</td>\n",
       "      <td>NaN</td>\n",
       "      <td>NaN</td>\n",
       "      <td>NaN</td>\n",
       "      <td>NaN</td>\n",
       "      <td>NaN</td>\n",
       "      <td>NaN</td>\n",
       "      <td>NaN</td>\n",
       "    </tr>\n",
       "    <tr>\n",
       "      <th>max</th>\n",
       "      <td>7740.000000</td>\n",
       "      <td>NaN</td>\n",
       "      <td>1.025469e+08</td>\n",
       "      <td>NaN</td>\n",
       "      <td>NaN</td>\n",
       "      <td>NaN</td>\n",
       "      <td>NaN</td>\n",
       "      <td>1.067000</td>\n",
       "      <td>55.000000</td>\n",
       "      <td>NaN</td>\n",
       "      <td>NaN</td>\n",
       "      <td>NaN</td>\n",
       "      <td>NaN</td>\n",
       "      <td>NaN</td>\n",
       "      <td>NaN</td>\n",
       "      <td>NaN</td>\n",
       "      <td>NaN</td>\n",
       "    </tr>\n",
       "  </tbody>\n",
       "</table>\n",
       "</div>"
      ],
      "text/plain": [
       "        Carga Horária Categoria da Situação  Código da Matrícula Cor/Raça  \\\n",
       "count     4250.000000                  4250         4.250000e+03     4250   \n",
       "unique            NaN                     2                  NaN        6   \n",
       "top               NaN           Concluintes                  NaN   branca   \n",
       "freq              NaN                  3279                  NaN     1937   \n",
       "mean      3991.135294                   NaN         8.094893e+07      NaN   \n",
       "std        932.709563                   NaN         8.801851e+06      NaN   \n",
       "min       2400.000000                   NaN         5.834909e+07      NaN   \n",
       "25%       2800.000000                   NaN         7.248616e+07      NaN   \n",
       "50%       4560.000000                   NaN         8.512098e+07      NaN   \n",
       "75%       4560.000000                   NaN         8.703046e+07      NaN   \n",
       "max       7740.000000                   NaN         1.025469e+08      NaN   \n",
       "\n",
       "       Data de Início do Ciclo Data de Fim Previsto do Ciclo  Faixa Etária  \\\n",
       "count                     4250                          4250          4250   \n",
       "unique                      44                            41             8   \n",
       "top                 2017-04-07                    2019-12-21  15 a 19 anos   \n",
       "freq                      1185                          1219          3471   \n",
       "mean                       NaN                           NaN           NaN   \n",
       "std                        NaN                           NaN           NaN   \n",
       "min                        NaN                           NaN           NaN   \n",
       "25%                        NaN                           NaN           NaN   \n",
       "50%                        NaN                           NaN           NaN   \n",
       "75%                        NaN                           NaN           NaN   \n",
       "max                        NaN                           NaN           NaN   \n",
       "\n",
       "        Fator Esforço Curso        Idade Instituição  \\\n",
       "count           4250.000000  4250.000000        4250   \n",
       "unique                  NaN          NaN          10   \n",
       "top                     NaN          NaN        CPII   \n",
       "freq                    NaN          NaN        2828   \n",
       "mean               1.028944    18.494118         NaN   \n",
       "std                0.033193     1.602125         NaN   \n",
       "min                1.000000     9.000000         NaN   \n",
       "25%                1.000000    18.000000         NaN   \n",
       "50%                1.000000    19.000000         NaN   \n",
       "75%                1.067000    19.000000         NaN   \n",
       "max                1.067000    55.000000         NaN   \n",
       "\n",
       "       Mês de Ocorrência da Situação          Região Renda Familiar      Sexo  \\\n",
       "count                           4250            4250           4250      4250   \n",
       "unique                            84               3              7         2   \n",
       "top                       2020-01-01  Região Sudeste  Não declarada  Feminino   \n",
       "freq                            1066            3233           1409      2211   \n",
       "mean                             NaN             NaN            NaN       NaN   \n",
       "std                              NaN             NaN            NaN       NaN   \n",
       "min                              NaN             NaN            NaN       NaN   \n",
       "25%                              NaN             NaN            NaN       NaN   \n",
       "50%                              NaN             NaN            NaN       NaN   \n",
       "75%                              NaN             NaN            NaN       NaN   \n",
       "max                              NaN             NaN            NaN       NaN   \n",
       "\n",
       "           Turno    UF         Unidade de Ensino  \n",
       "count       4250  4250                      4250  \n",
       "unique         4     6                        18  \n",
       "top     Matutino    RJ  Campus São Cristóvão III  \n",
       "freq        2690  3008                       588  \n",
       "mean         NaN   NaN                       NaN  \n",
       "std          NaN   NaN                       NaN  \n",
       "min          NaN   NaN                       NaN  \n",
       "25%          NaN   NaN                       NaN  \n",
       "50%          NaN   NaN                       NaN  \n",
       "75%          NaN   NaN                       NaN  \n",
       "max          NaN   NaN                       NaN  "
      ]
     },
     "execution_count": 29,
     "metadata": {},
     "output_type": "execute_result"
    }
   ],
   "source": [
    "data.describe(include='all')"
   ]
  },
  {
   "cell_type": "markdown",
   "metadata": {},
   "source": [
    "##### Distribuição das variáveis qualitativas"
   ]
  },
  {
   "cell_type": "code",
   "execution_count": 51,
   "metadata": {},
   "outputs": [],
   "source": [
    "sns.set_theme(style=\"whitegrid\")"
   ]
  },
  {
   "cell_type": "code",
   "execution_count": 53,
   "metadata": {},
   "outputs": [
    {
     "data": {
      "image/png": "[encoded data removed]",
      "text/plain": [
       "<Figure size 640x480 with 1 Axes>"
      ]
     },
     "metadata": {},
     "output_type": "display_data"
    }
   ],
   "source": [
    "ax= sns.countplot(categorica,y='Faixa Etária')\n",
    "ax.bar_label(ax.containers[0])\n",
    "plt.show()"
   ]
  },
  {
   "cell_type": "code",
   "execution_count": 61,
   "metadata": {},
   "outputs": [
    {
     "data": {
      "image/png": "[encoded data removed]",
      "text/plain": [
       "<Figure size 640x480 with 1 Axes>"
      ]
     },
     "metadata": {},
     "output_type": "display_data"
    }
   ],
   "source": [
    "ax= sns.countplot(categorica,y='Categoria da Situação')\n",
    "ax.bar_label(ax.containers[0])\n",
    "plt.title(\"Distribuição de evadidos x concluintes (Entre os anos de 2019 e 2021)\",\n",
    "          fontweight='bold')\n",
    "plt.show()"
   ]
  },
  {
   "cell_type": "code",
   "execution_count": 45,
   "metadata": {},
   "outputs": [
    {
     "data": {
      "text/html": [
       "<div>\n",
       "<style scoped>\n",
       "    .dataframe tbody tr th:only-of-type {\n",
       "        vertical-align: middle;\n",
       "    }\n",
       "\n",
       "    .dataframe tbody tr th {\n",
       "        vertical-align: top;\n",
       "    }\n",
       "\n",
       "    .dataframe thead th {\n",
       "        text-align: right;\n",
       "    }\n",
       "</style>\n",
       "<table border=\"1\" class=\"dataframe\">\n",
       "  <thead>\n",
       "    <tr style=\"text-align: right;\">\n",
       "      <th></th>\n",
       "      <th>nation</th>\n",
       "      <th>medal</th>\n",
       "      <th>count</th>\n",
       "    </tr>\n",
       "  </thead>\n",
       "  <tbody>\n",
       "    <tr>\n",
       "      <th>0</th>\n",
       "      <td>South Korea</td>\n",
       "      <td>gold</td>\n",
       "      <td>24</td>\n",
       "    </tr>\n",
       "    <tr>\n",
       "      <th>1</th>\n",
       "      <td>China</td>\n",
       "      <td>gold</td>\n",
       "      <td>10</td>\n",
       "    </tr>\n",
       "    <tr>\n",
       "      <th>2</th>\n",
       "      <td>Canada</td>\n",
       "      <td>gold</td>\n",
       "      <td>9</td>\n",
       "    </tr>\n",
       "    <tr>\n",
       "      <th>3</th>\n",
       "      <td>South Korea</td>\n",
       "      <td>silver</td>\n",
       "      <td>13</td>\n",
       "    </tr>\n",
       "    <tr>\n",
       "      <th>4</th>\n",
       "      <td>China</td>\n",
       "      <td>silver</td>\n",
       "      <td>15</td>\n",
       "    </tr>\n",
       "    <tr>\n",
       "      <th>5</th>\n",
       "      <td>Canada</td>\n",
       "      <td>silver</td>\n",
       "      <td>12</td>\n",
       "    </tr>\n",
       "    <tr>\n",
       "      <th>6</th>\n",
       "      <td>South Korea</td>\n",
       "      <td>bronze</td>\n",
       "      <td>11</td>\n",
       "    </tr>\n",
       "    <tr>\n",
       "      <th>7</th>\n",
       "      <td>China</td>\n",
       "      <td>bronze</td>\n",
       "      <td>8</td>\n",
       "    </tr>\n",
       "    <tr>\n",
       "      <th>8</th>\n",
       "      <td>Canada</td>\n",
       "      <td>bronze</td>\n",
       "      <td>12</td>\n",
       "    </tr>\n",
       "  </tbody>\n",
       "</table>\n",
       "</div>"
      ],
      "text/plain": [
       "        nation   medal  count\n",
       "0  South Korea    gold     24\n",
       "1        China    gold     10\n",
       "2       Canada    gold      9\n",
       "3  South Korea  silver     13\n",
       "4        China  silver     15\n",
       "5       Canada  silver     12\n",
       "6  South Korea  bronze     11\n",
       "7        China  bronze      8\n",
       "8       Canada  bronze     12"
      ]
     },
     "execution_count": 45,
     "metadata": {},
     "output_type": "execute_result"
    }
   ],
   "source": [
    "long_df"
   ]
  },
  {
   "cell_type": "code",
   "execution_count": 43,
   "metadata": {},
   "outputs": [
    {
     "data": {
      "application/vnd.plotly.v1+json": {
       "config": {
        "plotlyServerURL": "https://plot.ly"
       },
       "data": [
        {
         "alignmentgroup": "True",
         "hovertemplate": "medal=gold<br>nation=%{x}<br>count=%{text}<extra></extra>",
         "legendgroup": "gold",
         "marker": {
          "color": "#636efa",
          "pattern": {
           "shape": ""
          }
         },
         "name": "gold",
         "offsetgroup": "gold",
         "orientation": "v",
         "showlegend": true,
         "text": [
          24,
          10,
          9
         ],
         "textposition": "auto",
         "type": "bar",
         "x": [
          "South Korea",
          "China",
          "Canada"
         ],
         "xaxis": "x",
         "y": [
          24,
          10,
          9
         ],
         "yaxis": "y"
        },
        {
         "alignmentgroup": "True",
         "hovertemplate": "medal=silver<br>nation=%{x}<br>count=%{text}<extra></extra>",
         "legendgroup": "silver",
         "marker": {
          "color": "#EF553B",
          "pattern": {
           "shape": ""
          }
         },
         "name": "silver",
         "offsetgroup": "silver",
         "orientation": "v",
         "showlegend": true,
         "text": [
          13,
          15,
          12
         ],
         "textposition": "auto",
         "type": "bar",
         "x": [
          "South Korea",
          "China",
          "Canada"
         ],
         "xaxis": "x",
         "y": [
          13,
          15,
          12
         ],
         "yaxis": "y"
        },
        {
         "alignmentgroup": "True",
         "hovertemplate": "medal=bronze<br>nation=%{x}<br>count=%{text}<extra></extra>",
         "legendgroup": "bronze",
         "marker": {
          "color": "#00cc96",
          "pattern": {
           "shape": ""
          }
         },
         "name": "bronze",
         "offsetgroup": "bronze",
         "orientation": "v",
         "showlegend": true,
         "text": [
          11,
          8,
          12
         ],
         "textposition": "auto",
         "type": "bar",
         "x": [
          "South Korea",
          "China",
          "Canada"
         ],
         "xaxis": "x",
         "y": [
          11,
          8,
          12
         ],
         "yaxis": "y"
        }
       ],
       "layout": {
        "barmode": "relative",
        "legend": {
         "title": {
          "text": "medal"
         },
         "tracegroupgap": 0
        },
        "template": {
         "data": {
          "bar": [
           {
            "error_x": {
             "color": "#2a3f5f"
            },
            "error_y": {
             "color": "#2a3f5f"
            },
            "marker": {
             "line": {
              "color": "#E5ECF6",
              "width": 0.5
             },
             "pattern": {
              "fillmode": "overlay",
              "size": 10,
              "solidity": 0.2
             }
            },
            "type": "bar"
           }
          ],
          "barpolar": [
           {
            "marker": {
             "line": {
              "color": "#E5ECF6",
              "width": 0.5
             },
             "pattern": {
              "fillmode": "overlay",
              "size": 10,
              "solidity": 0.2
             }
            },
            "type": "barpolar"
           }
          ],
          "carpet": [
           {
            "aaxis": {
             "endlinecolor": "#2a3f5f",
             "gridcolor": "white",
             "linecolor": "white",
             "minorgridcolor": "white",
             "startlinecolor": "#2a3f5f"
            },
            "baxis": {
             "endlinecolor": "#2a3f5f",
             "gridcolor": "white",
             "linecolor": "white",
             "minorgridcolor": "white",
             "startlinecolor": "#2a3f5f"
            },
            "type": "carpet"
           }
          ],
          "choropleth": [
           {
            "colorbar": {
             "outlinewidth": 0,
             "ticks": ""
            },
            "type": "choropleth"
           }
          ],
          "contour": [
           {
            "colorbar": {
             "outlinewidth": 0,
             "ticks": ""
            },
            "colorscale": [
             [
              0,
              "#0d0887"
             ],
             [
              0.1111111111111111,
              "#46039f"
             ],
             [
              0.2222222222222222,
              "#7201a8"
             ],
             [
              0.3333333333333333,
              "#9c179e"
             ],
             [
              0.4444444444444444,
              "#bd3786"
             ],
             [
              0.5555555555555556,
              "#d8576b"
             ],
             [
              0.6666666666666666,
              "#ed7953"
             ],
             [
              0.7777777777777778,
              "#fb9f3a"
             ],
             [
              0.8888888888888888,
              "#fdca26"
             ],
             [
              1,
              "#f0f921"
             ]
            ],
            "type": "contour"
           }
          ],
          "contourcarpet": [
           {
            "colorbar": {
             "outlinewidth": 0,
             "ticks": ""
            },
            "type": "contourcarpet"
           }
          ],
          "heatmap": [
           {
            "colorbar": {
             "outlinewidth": 0,
             "ticks": ""
            },
            "colorscale": [
             [
              0,
              "#0d0887"
             ],
             [
              0.1111111111111111,
              "#46039f"
             ],
             [
              0.2222222222222222,
              "#7201a8"
             ],
             [
              0.3333333333333333,
              "#9c179e"
             ],
             [
              0.4444444444444444,
              "#bd3786"
             ],
             [
              0.5555555555555556,
              "#d8576b"
             ],
             [
              0.6666666666666666,
              "#ed7953"
             ],
             [
              0.7777777777777778,
              "#fb9f3a"
             ],
             [
              0.8888888888888888,
              "#fdca26"
             ],
             [
              1,
              "#f0f921"
             ]
            ],
            "type": "heatmap"
           }
          ],
          "heatmapgl": [
           {
            "colorbar": {
             "outlinewidth": 0,
             "ticks": ""
            },
            "colorscale": [
             [
              0,
              "#0d0887"
             ],
             [
              0.1111111111111111,
              "#46039f"
             ],
             [
              0.2222222222222222,
              "#7201a8"
             ],
             [
              0.3333333333333333,
              "#9c179e"
             ],
             [
              0.4444444444444444,
              "#bd3786"
             ],
             [
              0.5555555555555556,
              "#d8576b"
             ],
             [
              0.6666666666666666,
              "#ed7953"
             ],
             [
              0.7777777777777778,
              "#fb9f3a"
             ],
             [
              0.8888888888888888,
              "#fdca26"
             ],
             [
              1,
              "#f0f921"
             ]
            ],
            "type": "heatmapgl"
           }
          ],
          "histogram": [
           {
            "marker": {
             "pattern": {
              "fillmode": "overlay",
              "size": 10,
              "solidity": 0.2
             }
            },
            "type": "histogram"
           }
          ],
          "histogram2d": [
           {
            "colorbar": {
             "outlinewidth": 0,
             "ticks": ""
            },
            "colorscale": [
             [
              0,
              "#0d0887"
             ],
             [
              0.1111111111111111,
              "#46039f"
             ],
             [
              0.2222222222222222,
              "#7201a8"
             ],
             [
              0.3333333333333333,
              "#9c179e"
             ],
             [
              0.4444444444444444,
              "#bd3786"
             ],
             [
              0.5555555555555556,
              "#d8576b"
             ],
             [
              0.6666666666666666,
              "#ed7953"
             ],
             [
              0.7777777777777778,
              "#fb9f3a"
             ],
             [
              0.8888888888888888,
              "#fdca26"
             ],
             [
              1,
              "#f0f921"
             ]
            ],
            "type": "histogram2d"
           }
          ],
          "histogram2dcontour": [
           {
            "colorbar": {
             "outlinewidth": 0,
             "ticks": ""
            },
            "colorscale": [
             [
              0,
              "#0d0887"
             ],
             [
              0.1111111111111111,
              "#46039f"
             ],
             [
              0.2222222222222222,
              "#7201a8"
             ],
             [
              0.3333333333333333,
              "#9c179e"
             ],
             [
              0.4444444444444444,
              "#bd3786"
             ],
             [
              0.5555555555555556,
              "#d8576b"
             ],
             [
              0.6666666666666666,
              "#ed7953"
             ],
             [
              0.7777777777777778,
              "#fb9f3a"
             ],
             [
              0.8888888888888888,
              "#fdca26"
             ],
             [
              1,
              "#f0f921"
             ]
            ],
            "type": "histogram2dcontour"
           }
          ],
          "mesh3d": [
           {
            "colorbar": {
             "outlinewidth": 0,
             "ticks": ""
            },
            "type": "mesh3d"
           }
          ],
          "parcoords": [
           {
            "line": {
             "colorbar": {
              "outlinewidth": 0,
              "ticks": ""
             }
            },
            "type": "parcoords"
           }
          ],
          "pie": [
           {
            "automargin": true,
            "type": "pie"
           }
          ],
          "scatter": [
           {
            "fillpattern": {
             "fillmode": "overlay",
             "size": 10,
             "solidity": 0.2
            },
            "type": "scatter"
           }
          ],
          "scatter3d": [
           {
            "line": {
             "colorbar": {
              "outlinewidth": 0,
              "ticks": ""
             }
            },
            "marker": {
             "colorbar": {
              "outlinewidth": 0,
              "ticks": ""
             }
            },
            "type": "scatter3d"
           }
          ],
          "scattercarpet": [
           {
            "marker": {
             "colorbar": {
              "outlinewidth": 0,
              "ticks": ""
             }
            },
            "type": "scattercarpet"
           }
          ],
          "scattergeo": [
           {
            "marker": {
             "colorbar": {
              "outlinewidth": 0,
              "ticks": ""
             }
            },
            "type": "scattergeo"
           }
          ],
          "scattergl": [
           {
            "marker": {
             "colorbar": {
              "outlinewidth": 0,
              "ticks": ""
             }
            },
            "type": "scattergl"
           }
          ],
          "scattermapbox": [
           {
            "marker": {
             "colorbar": {
              "outlinewidth": 0,
              "ticks": ""
             }
            },
            "type": "scattermapbox"
           }
          ],
          "scatterpolar": [
           {
            "marker": {
             "colorbar": {
              "outlinewidth": 0,
              "ticks": ""
             }
            },
            "type": "scatterpolar"
           }
          ],
          "scatterpolargl": [
           {
            "marker": {
             "colorbar": {
              "outlinewidth": 0,
              "ticks": ""
             }
            },
            "type": "scatterpolargl"
           }
          ],
          "scatterternary": [
           {
            "marker": {
             "colorbar": {
              "outlinewidth": 0,
              "ticks": ""
             }
            },
            "type": "scatterternary"
           }
          ],
          "surface": [
           {
            "colorbar": {
             "outlinewidth": 0,
             "ticks": ""
            },
            "colorscale": [
             [
              0,
              "#0d0887"
             ],
             [
              0.1111111111111111,
              "#46039f"
             ],
             [
              0.2222222222222222,
              "#7201a8"
             ],
             [
              0.3333333333333333,
              "#9c179e"
             ],
             [
              0.4444444444444444,
              "#bd3786"
             ],
             [
              0.5555555555555556,
              "#d8576b"
             ],
             [
              0.6666666666666666,
              "#ed7953"
             ],
             [
              0.7777777777777778,
              "#fb9f3a"
             ],
             [
              0.8888888888888888,
              "#fdca26"
             ],
             [
              1,
              "#f0f921"
             ]
            ],
            "type": "surface"
           }
          ],
          "table": [
           {
            "cells": {
             "fill": {
              "color": "#EBF0F8"
             },
             "line": {
              "color": "white"
             }
            },
            "header": {
             "fill": {
              "color": "#C8D4E3"
             },
             "line": {
              "color": "white"
             }
            },
            "type": "table"
           }
          ]
         },
         "layout": {
          "annotationdefaults": {
           "arrowcolor": "#2a3f5f",
           "arrowhead": 0,
           "arrowwidth": 1
          },
          "autotypenumbers": "strict",
          "coloraxis": {
           "colorbar": {
            "outlinewidth": 0,
            "ticks": ""
           }
          },
          "colorscale": {
           "diverging": [
            [
             0,
             "#8e0152"
            ],
            [
             0.1,
             "#c51b7d"
            ],
            [
             0.2,
             "#de77ae"
            ],
            [
             0.3,
             "#f1b6da"
            ],
            [
             0.4,
             "#fde0ef"
            ],
            [
             0.5,
             "#f7f7f7"
            ],
            [
             0.6,
             "#e6f5d0"
            ],
            [
             0.7,
             "#b8e186"
            ],
            [
             0.8,
             "#7fbc41"
            ],
            [
             0.9,
             "#4d9221"
            ],
            [
             1,
             "#276419"
            ]
           ],
           "sequential": [
            [
             0,
             "#0d0887"
            ],
            [
             0.1111111111111111,
             "#46039f"
            ],
            [
             0.2222222222222222,
             "#7201a8"
            ],
            [
             0.3333333333333333,
             "#9c179e"
            ],
            [
             0.4444444444444444,
             "#bd3786"
            ],
            [
             0.5555555555555556,
             "#d8576b"
            ],
            [
             0.6666666666666666,
             "#ed7953"
            ],
            [
             0.7777777777777778,
             "#fb9f3a"
            ],
            [
             0.8888888888888888,
             "#fdca26"
            ],
            [
             1,
             "#f0f921"
            ]
           ],
           "sequentialminus": [
            [
             0,
             "#0d0887"
            ],
            [
             0.1111111111111111,
             "#46039f"
            ],
            [
             0.2222222222222222,
             "#7201a8"
            ],
            [
             0.3333333333333333,
             "#9c179e"
            ],
            [
             0.4444444444444444,
             "#bd3786"
            ],
            [
             0.5555555555555556,
             "#d8576b"
            ],
            [
             0.6666666666666666,
             "#ed7953"
            ],
            [
             0.7777777777777778,
             "#fb9f3a"
            ],
            [
             0.8888888888888888,
             "#fdca26"
            ],
            [
             1,
             "#f0f921"
            ]
           ]
          },
          "colorway": [
           "#636efa",
           "#EF553B",
           "#00cc96",
           "#ab63fa",
           "#FFA15A",
           "#19d3f3",
           "#FF6692",
           "#B6E880",
           "#FF97FF",
           "#FECB52"
          ],
          "font": {
           "color": "#2a3f5f"
          },
          "geo": {
           "bgcolor": "white",
           "lakecolor": "white",
           "landcolor": "#E5ECF6",
           "showlakes": true,
           "showland": true,
           "subunitcolor": "white"
          },
          "hoverlabel": {
           "align": "left"
          },
          "hovermode": "closest",
          "mapbox": {
           "style": "light"
          },
          "paper_bgcolor": "white",
          "plot_bgcolor": "#E5ECF6",
          "polar": {
           "angularaxis": {
            "gridcolor": "white",
            "linecolor": "white",
            "ticks": ""
           },
           "bgcolor": "#E5ECF6",
           "radialaxis": {
            "gridcolor": "white",
            "linecolor": "white",
            "ticks": ""
           }
          },
          "scene": {
           "xaxis": {
            "backgroundcolor": "#E5ECF6",
            "gridcolor": "white",
            "gridwidth": 2,
            "linecolor": "white",
            "showbackground": true,
            "ticks": "",
            "zerolinecolor": "white"
           },
           "yaxis": {
            "backgroundcolor": "#E5ECF6",
            "gridcolor": "white",
            "gridwidth": 2,
            "linecolor": "white",
            "showbackground": true,
            "ticks": "",
            "zerolinecolor": "white"
           },
           "zaxis": {
            "backgroundcolor": "#E5ECF6",
            "gridcolor": "white",
            "gridwidth": 2,
            "linecolor": "white",
            "showbackground": true,
            "ticks": "",
            "zerolinecolor": "white"
           }
          },
          "shapedefaults": {
           "line": {
            "color": "#2a3f5f"
           }
          },
          "ternary": {
           "aaxis": {
            "gridcolor": "white",
            "linecolor": "white",
            "ticks": ""
           },
           "baxis": {
            "gridcolor": "white",
            "linecolor": "white",
            "ticks": ""
           },
           "bgcolor": "#E5ECF6",
           "caxis": {
            "gridcolor": "white",
            "linecolor": "white",
            "ticks": ""
           }
          },
          "title": {
           "x": 0.05
          },
          "xaxis": {
           "automargin": true,
           "gridcolor": "white",
           "linecolor": "white",
           "ticks": "",
           "title": {
            "standoff": 15
           },
           "zerolinecolor": "white",
           "zerolinewidth": 2
          },
          "yaxis": {
           "automargin": true,
           "gridcolor": "white",
           "linecolor": "white",
           "ticks": "",
           "title": {
            "standoff": 15
           },
           "zerolinecolor": "white",
           "zerolinewidth": 2
          }
         }
        },
        "title": {
         "text": "Long-Form Input"
        },
        "xaxis": {
         "anchor": "y",
         "domain": [
          0,
          1
         ],
         "title": {
          "text": "nation"
         }
        },
        "yaxis": {
         "anchor": "x",
         "domain": [
          0,
          1
         ],
         "title": {
          "text": "count"
         }
        }
       }
      }
     },
     "metadata": {},
     "output_type": "display_data"
    }
   ],
   "source": [
    "long_df = px.data.medals_long()\n",
    "\n",
    "fig = px.bar(long_df, x=\"nation\", y=\"count\", text='count',color=\"medal\", title=\"Long-Form Input\")\n",
    "fig.show()"
   ]
  },
  {
   "cell_type": "markdown",
   "metadata": {},
   "source": [
    "## 4. Percepções"
   ]
  },
  {
   "cell_type": "code",
   "execution_count": null,
   "metadata": {},
   "outputs": [],
   "source": []
  },
  {
   "cell_type": "markdown",
   "metadata": {},
   "source": [
    "\n",
    "## 5. Observação"
   ]
  }
 ],
 "metadata": {
  "kernelspec": {
   "display_name": "Python 3.8.10 ('.venv': poetry)",
   "language": "python",
   "name": "python3"
  },
  "language_info": {
   "codemirror_mode": {
    "name": "ipython",
    "version": 3
   },
   "file_extension": ".py",
   "mimetype": "text/x-python",
   "name": "python",
   "nbconvert_exporter": "python",
   "pygments_lexer": "ipython3",
   "version": "3.11.7"
  },
  "orig_nbformat": 4,
  "vscode": {
   "interpreter": {
    "hash": "eb3c3305d8b111f0102f4f519c5f17abd113fe74db6752c355e994a9008815ef"
   }
  }
 },
 "nbformat": 4,
 "nbformat_minor": 2
}

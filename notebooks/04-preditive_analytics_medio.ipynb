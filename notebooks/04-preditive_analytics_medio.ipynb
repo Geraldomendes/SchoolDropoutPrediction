{
  "cells": [
    {
      "cell_type": "markdown",
      "metadata": {
        "id": "PvbEMYu6VYM5"
      },
      "source": [
        "### <p style=\"color:yellow;\">Descrição do problema:</p>\n",
        "\n",
        "Dados os obstáculos enfrentados pelo sistema educacional, a evasão escolar\n",
        "desempenha um papel crucial, afetando estudantes de diferentes contextos\n",
        "socioeconômicos. Com base nisso, este trabalho propõe **construir um modelo\n",
        "preditivo baseado em técnicas de Ciência de Dados para prever a taxa de evasão no\n",
        "ensino médio e técnico brasileiro**. O estudo aborda a complexidade deste fenômeno,\n",
        "destacando a sua natureza social e a necessidade de soluções proativas. A\n",
        "abordagem utiliza dados do censo escolar da educação básica e inclui a análise\n",
        "exploratória de dados e técnicas de aprendizado de máquina. O modelo proposto visa\n",
        "prever a evasão escolar, permitindo uma intervenção personalizada e prestando\n",
        "apoio específico aos alunos desfavorecidos. Além de contribuir para a compreensão\n",
        "dos fatores associados à evasão escolar, os resultados pretendem oferecer uma\n",
        "abordagem inovadora para a prevenção desse fenômeno, indo além do meio\n",
        "acadêmico de modo a proporcionar contribuições práticas ao campo educacional.\n",
        "\n",
        "### <p style=\"color:yellow;\">Algoritmos a serem utilizados:</p>\n",
        "\n",
        "- **K-Nearest Neighbors (KNN)**:\n",
        "\n",
        "    - Motivo: O KNN é um algoritmo que apesar de simples, pode ser útil para captar grupos similares entre os alunos, onde utiliza cálculos de distância para encontrar os vizinhos mais próximos a um ponto específico, atribuindo uma nova classe.\n",
        "\n",
        "- **Random Forest**:\n",
        "\n",
        "    - Motivo: Por se tratar de um algoritmo baseado em árvores de decisão, Random Forest pode ser uma solução robusta e capaz de lidar com diferentes características no conjunto de dados.\n",
        "\n",
        "- **Logistic Regression**:\n",
        "\n",
        "    - Motivo: É um modelo de fácil interpretação e bastante robusto e eficaz quando se trata de problemas de classificação ou quando há uma relação linear entre as carcterísticas e a probabilidade de evasão.\n"
      ]
    },
    {
      "cell_type": "markdown",
      "metadata": {
        "id": "br4IKhilVZeK"
      },
      "source": [
        "### Importação das bibliotecas"
      ]
    },
    {
      "cell_type": "code",
      "execution_count": 1,
      "metadata": {
        "id": "Rq8io3BGVc7f"
      },
      "outputs": [],
      "source": [
        "import pandas as pd\n",
        "import pickle\n",
        "import numpy as np\n",
        "import matplotlib.pyplot as plt\n",
        "import seaborn as sns\n",
        "\n",
        "#from sklearn.tree import plot_tree\n",
        "from sklearn.neighbors import KNeighborsClassifier\n",
        "#from sklearn import tree\n",
        "from sklearn.ensemble import RandomForestClassifier, GradientBoostingClassifier\n",
        "from sklearn.linear_model import LogisticRegression\n",
        "#from sklearn.svm import SVC\n",
        "\n",
        "from imblearn.over_sampling import SMOTE\n",
        "from imblearn.pipeline import Pipeline, make_pipeline\n",
        "\n",
        "from sklearn.metrics import make_scorer, accuracy_score, precision_score, recall_score, f1_score, classification_report\n",
        "from sklearn.metrics import confusion_matrix\n",
        "from sklearn.metrics import ConfusionMatrixDisplay\n",
        "\n",
        "from sklearn.model_selection import KFold, cross_validate, cross_val_score, GridSearchCV, RandomizedSearchCV\n",
        "from sklearn.model_selection import train_test_split\n",
        "\n",
        "from sklearn.preprocessing import OneHotEncoder,  MinMaxScaler\n",
        "\n",
        "from sklearn.compose import ColumnTransformer\n",
        "\n",
        "#from sklearn.pipeline import Pipeline\n",
        "\n",
        "#from scipy import stats\n",
        "#from sklearn import model_selection\n",
        "#from sklearn import metrics\n",
        "\n",
        "\n",
        "\n",
        "import inflection\n",
        "import warnings\n",
        "warnings.filterwarnings(\"ignore\")"
      ]
    },
    {
      "cell_type": "code",
      "execution_count": 5,
      "metadata": {
        "colab": {
          "base_uri": "https://localhost:8080/",
          "height": 412
        },
        "id": "TzCg47uVVmE1",
        "outputId": "3f3bbd5f-0e6c-4976-fd3b-1f76285283e9"
      },
      "outputs": [
        {
          "data": {
            "text/html": [
              "<div>\n",
              "<style scoped>\n",
              "    .dataframe tbody tr th:only-of-type {\n",
              "        vertical-align: middle;\n",
              "    }\n",
              "\n",
              "    .dataframe tbody tr th {\n",
              "        vertical-align: top;\n",
              "    }\n",
              "\n",
              "    .dataframe thead th {\n",
              "        text-align: right;\n",
              "    }\n",
              "</style>\n",
              "<table border=\"1\" class=\"dataframe\">\n",
              "  <thead>\n",
              "    <tr style=\"text-align: right;\">\n",
              "      <th></th>\n",
              "      <th>Carga Horária</th>\n",
              "      <th>Categoria da Situação</th>\n",
              "      <th>Cor/Raça</th>\n",
              "      <th>Data de Início do Ciclo</th>\n",
              "      <th>Data de Fim Previsto do Ciclo</th>\n",
              "      <th>Faixa Etária</th>\n",
              "      <th>Fator Esforço Curso</th>\n",
              "      <th>Idade</th>\n",
              "      <th>Instituição</th>\n",
              "      <th>Mês de Ocorrência da Situação</th>\n",
              "      <th>...</th>\n",
              "      <th>dia_inicio_ciclo</th>\n",
              "      <th>mes_inicio_ciclo</th>\n",
              "      <th>ano_inicio_ciclo</th>\n",
              "      <th>dia_fim_ciclo</th>\n",
              "      <th>mes_fim_ciclo</th>\n",
              "      <th>ano_fim_ciclo</th>\n",
              "      <th>dia_ocorrencia</th>\n",
              "      <th>mes_ocorrencia</th>\n",
              "      <th>ano_ocorrencia</th>\n",
              "      <th>delta_days</th>\n",
              "    </tr>\n",
              "  </thead>\n",
              "  <tbody>\n",
              "    <tr>\n",
              "      <th>0</th>\n",
              "      <td>4560</td>\n",
              "      <td>0</td>\n",
              "      <td>branca</td>\n",
              "      <td>2017-04-07</td>\n",
              "      <td>2019-12-21</td>\n",
              "      <td>15 a 19 anos</td>\n",
              "      <td>1.0</td>\n",
              "      <td>18.0</td>\n",
              "      <td>CPII</td>\n",
              "      <td>2019-12-01</td>\n",
              "      <td>...</td>\n",
              "      <td>7</td>\n",
              "      <td>4</td>\n",
              "      <td>2017</td>\n",
              "      <td>21</td>\n",
              "      <td>12</td>\n",
              "      <td>2019</td>\n",
              "      <td>1</td>\n",
              "      <td>12</td>\n",
              "      <td>2019</td>\n",
              "      <td>968</td>\n",
              "    </tr>\n",
              "    <tr>\n",
              "      <th>1</th>\n",
              "      <td>4560</td>\n",
              "      <td>0</td>\n",
              "      <td>branca</td>\n",
              "      <td>2017-04-07</td>\n",
              "      <td>2019-12-21</td>\n",
              "      <td>15 a 19 anos</td>\n",
              "      <td>1.0</td>\n",
              "      <td>18.0</td>\n",
              "      <td>CPII</td>\n",
              "      <td>2019-12-01</td>\n",
              "      <td>...</td>\n",
              "      <td>7</td>\n",
              "      <td>4</td>\n",
              "      <td>2017</td>\n",
              "      <td>21</td>\n",
              "      <td>12</td>\n",
              "      <td>2019</td>\n",
              "      <td>1</td>\n",
              "      <td>12</td>\n",
              "      <td>2019</td>\n",
              "      <td>968</td>\n",
              "    </tr>\n",
              "    <tr>\n",
              "      <th>2</th>\n",
              "      <td>4560</td>\n",
              "      <td>0</td>\n",
              "      <td>branca</td>\n",
              "      <td>2017-04-07</td>\n",
              "      <td>2019-12-21</td>\n",
              "      <td>15 a 19 anos</td>\n",
              "      <td>1.0</td>\n",
              "      <td>18.0</td>\n",
              "      <td>CPII</td>\n",
              "      <td>2019-12-01</td>\n",
              "      <td>...</td>\n",
              "      <td>7</td>\n",
              "      <td>4</td>\n",
              "      <td>2017</td>\n",
              "      <td>21</td>\n",
              "      <td>12</td>\n",
              "      <td>2019</td>\n",
              "      <td>1</td>\n",
              "      <td>12</td>\n",
              "      <td>2019</td>\n",
              "      <td>968</td>\n",
              "    </tr>\n",
              "    <tr>\n",
              "      <th>3</th>\n",
              "      <td>4560</td>\n",
              "      <td>0</td>\n",
              "      <td>branca</td>\n",
              "      <td>2017-04-07</td>\n",
              "      <td>2019-12-21</td>\n",
              "      <td>15 a 19 anos</td>\n",
              "      <td>1.0</td>\n",
              "      <td>18.0</td>\n",
              "      <td>CPII</td>\n",
              "      <td>2019-12-01</td>\n",
              "      <td>...</td>\n",
              "      <td>7</td>\n",
              "      <td>4</td>\n",
              "      <td>2017</td>\n",
              "      <td>21</td>\n",
              "      <td>12</td>\n",
              "      <td>2019</td>\n",
              "      <td>1</td>\n",
              "      <td>12</td>\n",
              "      <td>2019</td>\n",
              "      <td>968</td>\n",
              "    </tr>\n",
              "    <tr>\n",
              "      <th>4</th>\n",
              "      <td>4560</td>\n",
              "      <td>0</td>\n",
              "      <td>branca</td>\n",
              "      <td>2017-04-07</td>\n",
              "      <td>2019-12-21</td>\n",
              "      <td>15 a 19 anos</td>\n",
              "      <td>1.0</td>\n",
              "      <td>18.0</td>\n",
              "      <td>CPII</td>\n",
              "      <td>2019-12-01</td>\n",
              "      <td>...</td>\n",
              "      <td>7</td>\n",
              "      <td>4</td>\n",
              "      <td>2017</td>\n",
              "      <td>21</td>\n",
              "      <td>12</td>\n",
              "      <td>2019</td>\n",
              "      <td>1</td>\n",
              "      <td>12</td>\n",
              "      <td>2019</td>\n",
              "      <td>968</td>\n",
              "    </tr>\n",
              "  </tbody>\n",
              "</table>\n",
              "<p>5 rows × 26 columns</p>\n",
              "</div>"
            ],
            "text/plain": [
              "   Carga Horária  Categoria da Situação Cor/Raça Data de Início do Ciclo  \\\n",
              "0           4560                      0   branca              2017-04-07   \n",
              "1           4560                      0   branca              2017-04-07   \n",
              "2           4560                      0   branca              2017-04-07   \n",
              "3           4560                      0   branca              2017-04-07   \n",
              "4           4560                      0   branca              2017-04-07   \n",
              "\n",
              "  Data de Fim Previsto do Ciclo  Faixa Etária  Fator Esforço Curso  Idade  \\\n",
              "0                    2019-12-21  15 a 19 anos                  1.0   18.0   \n",
              "1                    2019-12-21  15 a 19 anos                  1.0   18.0   \n",
              "2                    2019-12-21  15 a 19 anos                  1.0   18.0   \n",
              "3                    2019-12-21  15 a 19 anos                  1.0   18.0   \n",
              "4                    2019-12-21  15 a 19 anos                  1.0   18.0   \n",
              "\n",
              "  Instituição Mês de Ocorrência da Situação  ... dia_inicio_ciclo  \\\n",
              "0        CPII                    2019-12-01  ...                7   \n",
              "1        CPII                    2019-12-01  ...                7   \n",
              "2        CPII                    2019-12-01  ...                7   \n",
              "3        CPII                    2019-12-01  ...                7   \n",
              "4        CPII                    2019-12-01  ...                7   \n",
              "\n",
              "  mes_inicio_ciclo ano_inicio_ciclo dia_fim_ciclo mes_fim_ciclo ano_fim_ciclo  \\\n",
              "0                4             2017            21            12          2019   \n",
              "1                4             2017            21            12          2019   \n",
              "2                4             2017            21            12          2019   \n",
              "3                4             2017            21            12          2019   \n",
              "4                4             2017            21            12          2019   \n",
              "\n",
              "   dia_ocorrencia  mes_ocorrencia  ano_ocorrencia  delta_days  \n",
              "0               1              12            2019         968  \n",
              "1               1              12            2019         968  \n",
              "2               1              12            2019         968  \n",
              "3               1              12            2019         968  \n",
              "4               1              12            2019         968  \n",
              "\n",
              "[5 rows x 26 columns]"
            ]
          },
          "execution_count": 5,
          "metadata": {},
          "output_type": "execute_result"
        }
      ],
      "source": [
        "dados_medio = pd.read_csv('../data/processed/dadosM.csv') \n",
        "dados_medio.head()"
      ]
    },
    {
      "cell_type": "markdown",
      "metadata": {
        "id": "8rmBk-MaV1nh"
      },
      "source": [
        "### Renomeando colunas"
      ]
    },
    {
      "cell_type": "code",
      "execution_count": 6,
      "metadata": {
        "id": "04gg-WF2V3OK"
      },
      "outputs": [],
      "source": [
        "dados_medio.columns = dados_medio.columns.str.replace(' ','')\n",
        "new_cols = []\n",
        "for column in dados_medio.columns:\n",
        "    new_cols.append(inflection.underscore(column))\n",
        "dados_medio.columns = new_cols"
      ]
    },
    {
      "cell_type": "code",
      "execution_count": 7,
      "metadata": {
        "id": "BLUa9M2QWAjJ"
      },
      "outputs": [],
      "source": [
        "dados_medio.rename(columns={'categoriada_situação':'categoria_da_situação',\n",
        "                            'datade_iníciodo_ciclo':'data_de_inicio_do_ciclo',\n",
        "                            'datade_fim_previstodo_ciclo':'data_de_fim_previsto_do_ciclo',\n",
        "                            'mêsde_ocorrênciada_situação':'mês_de_ocorrência_da_situação'},inplace=True)"
      ]
    },
    {
      "cell_type": "code",
      "execution_count": 8,
      "metadata": {
        "colab": {
          "base_uri": "https://localhost:8080/"
        },
        "id": "IGtLQMSnWEGc",
        "outputId": "9423b7f6-4650-4ca5-af24-804bfc51d8e2"
      },
      "outputs": [
        {
          "data": {
            "text/plain": [
              "Index(['carga_horária', 'categoria_da_situação', 'cor/raça',\n",
              "       'data_de_inicio_do_ciclo', 'data_de_fim_previsto_do_ciclo',\n",
              "       'faixa_etária', 'fator_esforço_curso', 'idade', 'instituição',\n",
              "       'mês_de_ocorrência_da_situação', 'região', 'renda_familiar', 'sexo',\n",
              "       'turno', 'uf', 'unidadede_ensino', 'dia_inicio_ciclo',\n",
              "       'mes_inicio_ciclo', 'ano_inicio_ciclo', 'dia_fim_ciclo',\n",
              "       'mes_fim_ciclo', 'ano_fim_ciclo', 'dia_ocorrencia', 'mes_ocorrencia',\n",
              "       'ano_ocorrencia', 'delta_days'],\n",
              "      dtype='object')"
            ]
          },
          "execution_count": 8,
          "metadata": {},
          "output_type": "execute_result"
        }
      ],
      "source": [
        "dados_medio.columns"
      ]
    },
    {
      "cell_type": "markdown",
      "metadata": {
        "id": "0YX7ufyCWJ2R"
      },
      "source": [
        "Existem algumas varíaveis que foram necessárias apenas para derivar outras e que não faz mais sentido mantê-las. São:\n",
        "- data_de_inicio_do_ciclo\n",
        "- data_de_fim_previsto_do_ciclo\n",
        "- mês_de_ocorrência_da_situação"
      ]
    },
    {
      "cell_type": "code",
      "execution_count": 9,
      "metadata": {
        "id": "MYi-0cRrWKfZ"
      },
      "outputs": [],
      "source": [
        "dados_medio.drop(columns=['data_de_inicio_do_ciclo','data_de_fim_previsto_do_ciclo',\n",
        "                          'mês_de_ocorrência_da_situação'],inplace=True)"
      ]
    },
    {
      "cell_type": "markdown",
      "metadata": {
        "id": "ALjV8phmWQd-"
      },
      "source": [
        "### Separação de Features e Target\n",
        "\n"
      ]
    },
    {
      "cell_type": "code",
      "execution_count": 10,
      "metadata": {
        "colab": {
          "base_uri": "https://localhost:8080/",
          "height": 245
        },
        "id": "2G4IrhLgWTMA",
        "outputId": "8987b58b-a88b-4ac7-e585-299c4bee6557"
      },
      "outputs": [
        {
          "data": {
            "text/html": [
              "<div>\n",
              "<style scoped>\n",
              "    .dataframe tbody tr th:only-of-type {\n",
              "        vertical-align: middle;\n",
              "    }\n",
              "\n",
              "    .dataframe tbody tr th {\n",
              "        vertical-align: top;\n",
              "    }\n",
              "\n",
              "    .dataframe thead th {\n",
              "        text-align: right;\n",
              "    }\n",
              "</style>\n",
              "<table border=\"1\" class=\"dataframe\">\n",
              "  <thead>\n",
              "    <tr style=\"text-align: right;\">\n",
              "      <th></th>\n",
              "      <th>carga_horária</th>\n",
              "      <th>cor/raça</th>\n",
              "      <th>faixa_etária</th>\n",
              "      <th>fator_esforço_curso</th>\n",
              "      <th>idade</th>\n",
              "      <th>instituição</th>\n",
              "      <th>região</th>\n",
              "      <th>renda_familiar</th>\n",
              "      <th>sexo</th>\n",
              "      <th>turno</th>\n",
              "      <th>...</th>\n",
              "      <th>dia_inicio_ciclo</th>\n",
              "      <th>mes_inicio_ciclo</th>\n",
              "      <th>ano_inicio_ciclo</th>\n",
              "      <th>dia_fim_ciclo</th>\n",
              "      <th>mes_fim_ciclo</th>\n",
              "      <th>ano_fim_ciclo</th>\n",
              "      <th>dia_ocorrencia</th>\n",
              "      <th>mes_ocorrencia</th>\n",
              "      <th>ano_ocorrencia</th>\n",
              "      <th>delta_days</th>\n",
              "    </tr>\n",
              "  </thead>\n",
              "  <tbody>\n",
              "    <tr>\n",
              "      <th>0</th>\n",
              "      <td>4560</td>\n",
              "      <td>branca</td>\n",
              "      <td>15 a 19 anos</td>\n",
              "      <td>1.0</td>\n",
              "      <td>18.0</td>\n",
              "      <td>CPII</td>\n",
              "      <td>Região Sudeste</td>\n",
              "      <td>1,5&lt;RFP&lt;=2,5</td>\n",
              "      <td>Feminino</td>\n",
              "      <td>Matutino</td>\n",
              "      <td>...</td>\n",
              "      <td>7</td>\n",
              "      <td>4</td>\n",
              "      <td>2017</td>\n",
              "      <td>21</td>\n",
              "      <td>12</td>\n",
              "      <td>2019</td>\n",
              "      <td>1</td>\n",
              "      <td>12</td>\n",
              "      <td>2019</td>\n",
              "      <td>968</td>\n",
              "    </tr>\n",
              "    <tr>\n",
              "      <th>1</th>\n",
              "      <td>4560</td>\n",
              "      <td>branca</td>\n",
              "      <td>15 a 19 anos</td>\n",
              "      <td>1.0</td>\n",
              "      <td>18.0</td>\n",
              "      <td>CPII</td>\n",
              "      <td>Região Sudeste</td>\n",
              "      <td>Não declarada</td>\n",
              "      <td>Masculino</td>\n",
              "      <td>Matutino</td>\n",
              "      <td>...</td>\n",
              "      <td>7</td>\n",
              "      <td>4</td>\n",
              "      <td>2017</td>\n",
              "      <td>21</td>\n",
              "      <td>12</td>\n",
              "      <td>2019</td>\n",
              "      <td>1</td>\n",
              "      <td>12</td>\n",
              "      <td>2019</td>\n",
              "      <td>968</td>\n",
              "    </tr>\n",
              "    <tr>\n",
              "      <th>2</th>\n",
              "      <td>4560</td>\n",
              "      <td>branca</td>\n",
              "      <td>15 a 19 anos</td>\n",
              "      <td>1.0</td>\n",
              "      <td>18.0</td>\n",
              "      <td>CPII</td>\n",
              "      <td>Região Sudeste</td>\n",
              "      <td>RFP&gt;3,5</td>\n",
              "      <td>Feminino</td>\n",
              "      <td>Matutino</td>\n",
              "      <td>...</td>\n",
              "      <td>7</td>\n",
              "      <td>4</td>\n",
              "      <td>2017</td>\n",
              "      <td>21</td>\n",
              "      <td>12</td>\n",
              "      <td>2019</td>\n",
              "      <td>1</td>\n",
              "      <td>12</td>\n",
              "      <td>2019</td>\n",
              "      <td>968</td>\n",
              "    </tr>\n",
              "  </tbody>\n",
              "</table>\n",
              "<p>3 rows × 22 columns</p>\n",
              "</div>"
            ],
            "text/plain": [
              "   carga_horária cor/raça  faixa_etária  fator_esforço_curso  idade  \\\n",
              "0           4560   branca  15 a 19 anos                  1.0   18.0   \n",
              "1           4560   branca  15 a 19 anos                  1.0   18.0   \n",
              "2           4560   branca  15 a 19 anos                  1.0   18.0   \n",
              "\n",
              "  instituição          região renda_familiar       sexo     turno  ...  \\\n",
              "0        CPII  Região Sudeste   1,5<RFP<=2,5   Feminino  Matutino  ...   \n",
              "1        CPII  Região Sudeste  Não declarada  Masculino  Matutino  ...   \n",
              "2        CPII  Região Sudeste        RFP>3,5   Feminino  Matutino  ...   \n",
              "\n",
              "  dia_inicio_ciclo mes_inicio_ciclo  ano_inicio_ciclo  dia_fim_ciclo  \\\n",
              "0                7                4              2017             21   \n",
              "1                7                4              2017             21   \n",
              "2                7                4              2017             21   \n",
              "\n",
              "   mes_fim_ciclo  ano_fim_ciclo  dia_ocorrencia  mes_ocorrencia  \\\n",
              "0             12           2019               1              12   \n",
              "1             12           2019               1              12   \n",
              "2             12           2019               1              12   \n",
              "\n",
              "   ano_ocorrencia  delta_days  \n",
              "0            2019         968  \n",
              "1            2019         968  \n",
              "2            2019         968  \n",
              "\n",
              "[3 rows x 22 columns]"
            ]
          },
          "execution_count": 10,
          "metadata": {},
          "output_type": "execute_result"
        }
      ],
      "source": [
        "features_medio = dados_medio.drop(columns=['categoria_da_situação'])\n",
        "features_medio.head(3)"
      ]
    },
    {
      "cell_type": "code",
      "execution_count": 11,
      "metadata": {
        "colab": {
          "base_uri": "https://localhost:8080/",
          "height": 143
        },
        "id": "F2FhKSMZWgnz",
        "outputId": "14cb7d0d-f50c-429a-bd4e-c6c8ff37da28"
      },
      "outputs": [
        {
          "data": {
            "text/html": [
              "<div>\n",
              "<style scoped>\n",
              "    .dataframe tbody tr th:only-of-type {\n",
              "        vertical-align: middle;\n",
              "    }\n",
              "\n",
              "    .dataframe tbody tr th {\n",
              "        vertical-align: top;\n",
              "    }\n",
              "\n",
              "    .dataframe thead th {\n",
              "        text-align: right;\n",
              "    }\n",
              "</style>\n",
              "<table border=\"1\" class=\"dataframe\">\n",
              "  <thead>\n",
              "    <tr style=\"text-align: right;\">\n",
              "      <th></th>\n",
              "      <th>categoria_da_situação</th>\n",
              "    </tr>\n",
              "  </thead>\n",
              "  <tbody>\n",
              "    <tr>\n",
              "      <th>0</th>\n",
              "      <td>0</td>\n",
              "    </tr>\n",
              "    <tr>\n",
              "      <th>1</th>\n",
              "      <td>0</td>\n",
              "    </tr>\n",
              "    <tr>\n",
              "      <th>2</th>\n",
              "      <td>0</td>\n",
              "    </tr>\n",
              "  </tbody>\n",
              "</table>\n",
              "</div>"
            ],
            "text/plain": [
              "   categoria_da_situação\n",
              "0                      0\n",
              "1                      0\n",
              "2                      0"
            ]
          },
          "execution_count": 11,
          "metadata": {},
          "output_type": "execute_result"
        }
      ],
      "source": [
        "target_medio = dados_medio[['categoria_da_situação']]\n",
        "target_medio.head(3)"
      ]
    },
    {
      "cell_type": "code",
      "execution_count": 12,
      "metadata": {
        "colab": {
          "base_uri": "https://localhost:8080/"
        },
        "id": "OtS8Eg3QXvya",
        "outputId": "d0673d44-3bd0-4838-d160-19b19a0e4f51"
      },
      "outputs": [
        {
          "data": {
            "text/plain": [
              "(4250, 22)"
            ]
          },
          "execution_count": 12,
          "metadata": {},
          "output_type": "execute_result"
        }
      ],
      "source": [
        "features_medio.shape"
      ]
    },
    {
      "cell_type": "markdown",
      "metadata": {
        "id": "a9hJVWqsBWOq"
      },
      "source": [
        "Devido o desbalanceamento entre as classes 0 e 1 (Concluinte e Evadido),faz-se necessário aplicarmos uma técnica de oversampling para aumentar o número da classe minoritária (1), alunos evadidos."
      ]
    },
    {
      "cell_type": "code",
      "execution_count": 13,
      "metadata": {
        "colab": {
          "base_uri": "https://localhost:8080/",
          "height": 450
        },
        "id": "4hD5uGcgWpAh",
        "outputId": "bcb240d4-b64a-4d02-c8d4-9c21cba71d1c"
      },
      "outputs": [
        {
          "data": {
            "image/png": "[encoded data removed]",
            "text/plain": [
              "<Figure size 640x480 with 1 Axes>"
            ]
          },
          "metadata": {},
          "output_type": "display_data"
        }
      ],
      "source": [
        "ax = sns.countplot(x='categoria_da_situação',data=target_medio,palette='plasma')\n",
        "for p in ax.patches:\n",
        "    ax.annotate(f'{p.get_height()}', (p.get_x() + p.get_width() / 2., p.get_height()))"
      ]
    },
    {
      "cell_type": "markdown",
      "metadata": {
        "id": "KqI5yCfzgo0P"
      },
      "source": [
        "### Pré-processamento das variáveis\n",
        "\n",
        "Nesta etapa iremos definir os transformadores para codificar as variáveis categóricas, bem como escalonar as variáveis numéricas."
      ]
    },
    {
      "cell_type": "code",
      "execution_count": 14,
      "metadata": {
        "id": "XsMtAVNfgpcn"
      },
      "outputs": [],
      "source": [
        "categorical_features = features_medio.select_dtypes(include=['object']).columns\n",
        "numerical_features = features_medio.select_dtypes(exclude=['object']).columns"
      ]
    },
    {
      "cell_type": "code",
      "execution_count": 15,
      "metadata": {
        "id": "Id5gflaegwfF"
      },
      "outputs": [],
      "source": [
        "encoder = OneHotEncoder(handle_unknown='ignore',drop='first')\n",
        "minmax_scaler = MinMaxScaler()"
      ]
    },
    {
      "cell_type": "code",
      "execution_count": 16,
      "metadata": {
        "id": "bqWKxFWfgx2G"
      },
      "outputs": [],
      "source": [
        "preprocessor = ColumnTransformer(\n",
        "    transformers=[\n",
        "        ('numerical', minmax_scaler, numerical_features),\n",
        "        ('categorical', encoder, categorical_features)\n",
        "])"
      ]
    },
    {
      "cell_type": "markdown",
      "metadata": {
        "id": "w_Wt9CoQCKDQ"
      },
      "source": [
        "### Divisão entre Treino e Teste"
      ]
    },
    {
      "cell_type": "code",
      "execution_count": 17,
      "metadata": {
        "id": "EJHBi7-iZvBA"
      },
      "outputs": [],
      "source": [
        "X_train, X_test, y_train, y_test = train_test_split(features_medio, target_medio, test_size=0.2, random_state=42)"
      ]
    },
    {
      "cell_type": "code",
      "execution_count": 18,
      "metadata": {},
      "outputs": [
        {
          "data": {
            "image/png": "[encoded data removed]",
            "text/plain": [
              "<Figure size 640x480 with 1 Axes>"
            ]
          },
          "metadata": {},
          "output_type": "display_data"
        }
      ],
      "source": [
        "sns.set_style(style='whitegrid')\n",
        "prep = ColumnTransformer(\n",
        "    transformers=[\n",
        "        ('numerical', minmax_scaler, numerical_features),\n",
        "        ('categorical', encoder, categorical_features)\n",
        "])\n",
        "\n",
        "x_train = prep.fit_transform(X_train).toarray()\n",
        "\n",
        "x_train = pd.DataFrame(x_train, columns=prep.get_feature_names_out())\n",
        "\n",
        "smote = SMOTE(random_state=42)\n",
        "\n",
        "x_train_resample_, y_train_resampled  = smote.fit_resample(x_train, y_train)\n",
        "\n",
        "ax = sns.countplot(x='categoria_da_situação',data=y_train_resampled,palette='plasma')\n",
        "for p in ax.patches:\n",
        "    ax.annotate(f'{p.get_height()}', (p.get_x() + p.get_width() / 2., p.get_height()))\n",
        "ax.set_title('Dados após balanceamento')\n",
        "plt.tight_layout()"
      ]
    },
    {
      "cell_type": "markdown",
      "metadata": {
        "id": "5exBrBw-CmPV"
      },
      "source": [
        "### KNN"
      ]
    },
    {
      "cell_type": "code",
      "execution_count": null,
      "metadata": {
        "id": "vQMIxax8hUGi"
      },
      "outputs": [],
      "source": [
        "pipeline = Pipeline(steps=[\n",
        "    ('preprocessor', preprocessor),\n",
        "    ('smote', SMOTE(random_state=42)),\n",
        "    ('classifier', KNeighborsClassifier(metric=\"euclidean\"))\n",
        "])"
      ]
    },
    {
      "cell_type": "code",
      "execution_count": null,
      "metadata": {
        "id": "IXsS2JxDC-6_"
      },
      "outputs": [],
      "source": [
        "knn_params = {\n",
        "           \"classifier__n_neighbors\": np.arange(1, 20, 2),\n",
        "           \"classifier__weights\": [\"uniform\", \"distance\"],\n",
        "}"
      ]
    },
    {
      "cell_type": "markdown",
      "metadata": {
        "id": "GfeEfEzXHOkq"
      },
      "source": [
        "> A função `make_scorer` retorna um objeto **scorer** que pode ser utilizado como um argumento para os métodos de validação cruzada e seleção de modelo do scikit-learn. O objeto scorer chama a função de avaliação com os argumentos `y_true` e `y_pred` e retorna a pontuação calculada (desempenho do modelo).\n",
        "\n",
        "\n",
        "\n",
        "\n"
      ]
    },
    {
      "cell_type": "code",
      "execution_count": 17,
      "metadata": {
        "id": "0n_iQoj_DIqZ"
      },
      "outputs": [],
      "source": [
        "# métricas de avaliação\n",
        "scoring = {\n",
        "    'accuracy': make_scorer(accuracy_score),\n",
        "    'precision': make_scorer(precision_score, average='binary'),\n",
        "    'recall': make_scorer(recall_score, average='binary'),\n",
        "    'f1': make_scorer(f1_score, average='binary')\n",
        "}"
      ]
    },
    {
      "cell_type": "code",
      "execution_count": null,
      "metadata": {
        "id": "VtUwSlaGH9J5"
      },
      "outputs": [],
      "source": [
        "# GridSearchCV com validação cruzada\n",
        "grid_search = GridSearchCV(pipeline, knn_params, cv=10, scoring=scoring, refit='accuracy', return_train_score=True)"
      ]
    },
    {
      "cell_type": "code",
      "execution_count": null,
      "metadata": {
        "colab": {
          "base_uri": "https://localhost:8080/",
          "height": 253
        },
        "id": "pzf7WHD1IJVa",
        "outputId": "f53e1c92-f884-4516-852d-4e5191060d71"
      },
      "outputs": [
        {
          "data": {
            "text/html": [
              "<style>#sk-container-id-1 {color: black;background-color: white;}#sk-container-id-1 pre{padding: 0;}#sk-container-id-1 div.sk-toggleable {background-color: white;}#sk-container-id-1 label.sk-toggleable__label {cursor: pointer;display: block;width: 100%;margin-bottom: 0;padding: 0.3em;box-sizing: border-box;text-align: center;}#sk-container-id-1 label.sk-toggleable__label-arrow:before {content: \"▸\";float: left;margin-right: 0.25em;color: #696969;}#sk-container-id-1 label.sk-toggleable__label-arrow:hover:before {color: black;}#sk-container-id-1 div.sk-estimator:hover label.sk-toggleable__label-arrow:before {color: black;}#sk-container-id-1 div.sk-toggleable__content {max-height: 0;max-width: 0;overflow: hidden;text-align: left;background-color: #f0f8ff;}#sk-container-id-1 div.sk-toggleable__content pre {margin: 0.2em;color: black;border-radius: 0.25em;background-color: #f0f8ff;}#sk-container-id-1 input.sk-toggleable__control:checked~div.sk-toggleable__content {max-height: 200px;max-width: 100%;overflow: auto;}#sk-container-id-1 input.sk-toggleable__control:checked~label.sk-toggleable__label-arrow:before {content: \"▾\";}#sk-container-id-1 div.sk-estimator input.sk-toggleable__control:checked~label.sk-toggleable__label {background-color: #d4ebff;}#sk-container-id-1 div.sk-label input.sk-toggleable__control:checked~label.sk-toggleable__label {background-color: #d4ebff;}#sk-container-id-1 input.sk-hidden--visually {border: 0;clip: rect(1px 1px 1px 1px);clip: rect(1px, 1px, 1px, 1px);height: 1px;margin: -1px;overflow: hidden;padding: 0;position: absolute;width: 1px;}#sk-container-id-1 div.sk-estimator {font-family: monospace;background-color: #f0f8ff;border: 1px dotted black;border-radius: 0.25em;box-sizing: border-box;margin-bottom: 0.5em;}#sk-container-id-1 div.sk-estimator:hover {background-color: #d4ebff;}#sk-container-id-1 div.sk-parallel-item::after {content: \"\";width: 100%;border-bottom: 1px solid gray;flex-grow: 1;}#sk-container-id-1 div.sk-label:hover label.sk-toggleable__label {background-color: #d4ebff;}#sk-container-id-1 div.sk-serial::before {content: \"\";position: absolute;border-left: 1px solid gray;box-sizing: border-box;top: 0;bottom: 0;left: 50%;z-index: 0;}#sk-container-id-1 div.sk-serial {display: flex;flex-direction: column;align-items: center;background-color: white;padding-right: 0.2em;padding-left: 0.2em;position: relative;}#sk-container-id-1 div.sk-item {position: relative;z-index: 1;}#sk-container-id-1 div.sk-parallel {display: flex;align-items: stretch;justify-content: center;background-color: white;position: relative;}#sk-container-id-1 div.sk-item::before, #sk-container-id-1 div.sk-parallel-item::before {content: \"\";position: absolute;border-left: 1px solid gray;box-sizing: border-box;top: 0;bottom: 0;left: 50%;z-index: -1;}#sk-container-id-1 div.sk-parallel-item {display: flex;flex-direction: column;z-index: 1;position: relative;background-color: white;}#sk-container-id-1 div.sk-parallel-item:first-child::after {align-self: flex-end;width: 50%;}#sk-container-id-1 div.sk-parallel-item:last-child::after {align-self: flex-start;width: 50%;}#sk-container-id-1 div.sk-parallel-item:only-child::after {width: 0;}#sk-container-id-1 div.sk-dashed-wrapped {border: 1px dashed gray;margin: 0 0.4em 0.5em 0.4em;box-sizing: border-box;padding-bottom: 0.4em;background-color: white;}#sk-container-id-1 div.sk-label label {font-family: monospace;font-weight: bold;display: inline-block;line-height: 1.2em;}#sk-container-id-1 div.sk-label-container {text-align: center;}#sk-container-id-1 div.sk-container {/* jupyter's `normalize.less` sets `[hidden] { display: none; }` but bootstrap.min.css set `[hidden] { display: none !important; }` so we also need the `!important` here to be able to override the default hidden behavior on the sphinx rendered scikit-learn.org. See: https://github.com/scikit-learn/scikit-learn/issues/21755 */display: inline-block !important;position: relative;}#sk-container-id-1 div.sk-text-repr-fallback {display: none;}</style><div id=\"sk-container-id-1\" class=\"sk-top-container\"><div class=\"sk-text-repr-fallback\"><pre>GridSearchCV(cv=10,\n",
              "             estimator=Pipeline(steps=[(&#x27;preprocessor&#x27;,\n",
              "                                        ColumnTransformer(transformers=[(&#x27;numerical&#x27;,\n",
              "                                                                         MinMaxScaler(),\n",
              "                                                                         Index([&#x27;carga_horária&#x27;, &#x27;fator_esforço_curso&#x27;, &#x27;idade&#x27;, &#x27;dia_inicio_ciclo&#x27;,\n",
              "       &#x27;mes_inicio_ciclo&#x27;, &#x27;ano_inicio_ciclo&#x27;, &#x27;dia_fim_ciclo&#x27;,\n",
              "       &#x27;mes_fim_ciclo&#x27;, &#x27;ano_fim_ciclo&#x27;, &#x27;dia_ocorrencia&#x27;, &#x27;mes_ocorrencia&#x27;,\n",
              "       &#x27;ano_ocorrencia&#x27;, &#x27;delta_days&#x27;],\n",
              "      dtype=...\n",
              "             param_grid={&#x27;classifier__n_neighbors&#x27;: array([ 1,  3,  5,  7,  9, 11, 13, 15, 17, 19]),\n",
              "                         &#x27;classifier__weights&#x27;: [&#x27;uniform&#x27;, &#x27;distance&#x27;]},\n",
              "             refit=&#x27;accuracy&#x27;, return_train_score=True,\n",
              "             scoring={&#x27;accuracy&#x27;: make_scorer(accuracy_score),\n",
              "                      &#x27;f1&#x27;: make_scorer(f1_score, average=binary),\n",
              "                      &#x27;precision&#x27;: make_scorer(precision_score, average=binary),\n",
              "                      &#x27;recall&#x27;: make_scorer(recall_score, average=binary)})</pre><b>In a Jupyter environment, please rerun this cell to show the HTML representation or trust the notebook. <br />On GitHub, the HTML representation is unable to render, please try loading this page with nbviewer.org.</b></div><div class=\"sk-container\" hidden><div class=\"sk-item sk-dashed-wrapped\"><div class=\"sk-label-container\"><div class=\"sk-label sk-toggleable\"><input class=\"sk-toggleable__control sk-hidden--visually\" id=\"sk-estimator-id-1\" type=\"checkbox\" ><label for=\"sk-estimator-id-1\" class=\"sk-toggleable__label sk-toggleable__label-arrow\">GridSearchCV</label><div class=\"sk-toggleable__content\"><pre>GridSearchCV(cv=10,\n",
              "             estimator=Pipeline(steps=[(&#x27;preprocessor&#x27;,\n",
              "                                        ColumnTransformer(transformers=[(&#x27;numerical&#x27;,\n",
              "                                                                         MinMaxScaler(),\n",
              "                                                                         Index([&#x27;carga_horária&#x27;, &#x27;fator_esforço_curso&#x27;, &#x27;idade&#x27;, &#x27;dia_inicio_ciclo&#x27;,\n",
              "       &#x27;mes_inicio_ciclo&#x27;, &#x27;ano_inicio_ciclo&#x27;, &#x27;dia_fim_ciclo&#x27;,\n",
              "       &#x27;mes_fim_ciclo&#x27;, &#x27;ano_fim_ciclo&#x27;, &#x27;dia_ocorrencia&#x27;, &#x27;mes_ocorrencia&#x27;,\n",
              "       &#x27;ano_ocorrencia&#x27;, &#x27;delta_days&#x27;],\n",
              "      dtype=...\n",
              "             param_grid={&#x27;classifier__n_neighbors&#x27;: array([ 1,  3,  5,  7,  9, 11, 13, 15, 17, 19]),\n",
              "                         &#x27;classifier__weights&#x27;: [&#x27;uniform&#x27;, &#x27;distance&#x27;]},\n",
              "             refit=&#x27;accuracy&#x27;, return_train_score=True,\n",
              "             scoring={&#x27;accuracy&#x27;: make_scorer(accuracy_score),\n",
              "                      &#x27;f1&#x27;: make_scorer(f1_score, average=binary),\n",
              "                      &#x27;precision&#x27;: make_scorer(precision_score, average=binary),\n",
              "                      &#x27;recall&#x27;: make_scorer(recall_score, average=binary)})</pre></div></div></div><div class=\"sk-parallel\"><div class=\"sk-parallel-item\"><div class=\"sk-item\"><div class=\"sk-label-container\"><div class=\"sk-label sk-toggleable\"><input class=\"sk-toggleable__control sk-hidden--visually\" id=\"sk-estimator-id-2\" type=\"checkbox\" ><label for=\"sk-estimator-id-2\" class=\"sk-toggleable__label sk-toggleable__label-arrow\">estimator: Pipeline</label><div class=\"sk-toggleable__content\"><pre>Pipeline(steps=[(&#x27;preprocessor&#x27;,\n",
              "                 ColumnTransformer(transformers=[(&#x27;numerical&#x27;, MinMaxScaler(),\n",
              "                                                  Index([&#x27;carga_horária&#x27;, &#x27;fator_esforço_curso&#x27;, &#x27;idade&#x27;, &#x27;dia_inicio_ciclo&#x27;,\n",
              "       &#x27;mes_inicio_ciclo&#x27;, &#x27;ano_inicio_ciclo&#x27;, &#x27;dia_fim_ciclo&#x27;,\n",
              "       &#x27;mes_fim_ciclo&#x27;, &#x27;ano_fim_ciclo&#x27;, &#x27;dia_ocorrencia&#x27;, &#x27;mes_ocorrencia&#x27;,\n",
              "       &#x27;ano_ocorrencia&#x27;, &#x27;delta_days&#x27;],\n",
              "      dtype=&#x27;object&#x27;)),\n",
              "                                                 (&#x27;categorical&#x27;,\n",
              "                                                  OneHotEncoder(drop=&#x27;first&#x27;,\n",
              "                                                                handle_unknown=&#x27;ignore&#x27;),\n",
              "                                                  Index([&#x27;cor/raça&#x27;, &#x27;faixa_etária&#x27;, &#x27;instituição&#x27;, &#x27;região&#x27;, &#x27;renda_familiar&#x27;,\n",
              "       &#x27;sexo&#x27;, &#x27;turno&#x27;, &#x27;uf&#x27;, &#x27;unidadede_ensino&#x27;],\n",
              "      dtype=&#x27;object&#x27;))])),\n",
              "                (&#x27;smote&#x27;, SMOTE(random_state=42)),\n",
              "                (&#x27;classifier&#x27;, KNeighborsClassifier(metric=&#x27;euclidean&#x27;))])</pre></div></div></div><div class=\"sk-serial\"><div class=\"sk-item\"><div class=\"sk-serial\"><div class=\"sk-item sk-dashed-wrapped\"><div class=\"sk-label-container\"><div class=\"sk-label sk-toggleable\"><input class=\"sk-toggleable__control sk-hidden--visually\" id=\"sk-estimator-id-3\" type=\"checkbox\" ><label for=\"sk-estimator-id-3\" class=\"sk-toggleable__label sk-toggleable__label-arrow\">preprocessor: ColumnTransformer</label><div class=\"sk-toggleable__content\"><pre>ColumnTransformer(transformers=[(&#x27;numerical&#x27;, MinMaxScaler(),\n",
              "                                 Index([&#x27;carga_horária&#x27;, &#x27;fator_esforço_curso&#x27;, &#x27;idade&#x27;, &#x27;dia_inicio_ciclo&#x27;,\n",
              "       &#x27;mes_inicio_ciclo&#x27;, &#x27;ano_inicio_ciclo&#x27;, &#x27;dia_fim_ciclo&#x27;,\n",
              "       &#x27;mes_fim_ciclo&#x27;, &#x27;ano_fim_ciclo&#x27;, &#x27;dia_ocorrencia&#x27;, &#x27;mes_ocorrencia&#x27;,\n",
              "       &#x27;ano_ocorrencia&#x27;, &#x27;delta_days&#x27;],\n",
              "      dtype=&#x27;object&#x27;)),\n",
              "                                (&#x27;categorical&#x27;,\n",
              "                                 OneHotEncoder(drop=&#x27;first&#x27;,\n",
              "                                               handle_unknown=&#x27;ignore&#x27;),\n",
              "                                 Index([&#x27;cor/raça&#x27;, &#x27;faixa_etária&#x27;, &#x27;instituição&#x27;, &#x27;região&#x27;, &#x27;renda_familiar&#x27;,\n",
              "       &#x27;sexo&#x27;, &#x27;turno&#x27;, &#x27;uf&#x27;, &#x27;unidadede_ensino&#x27;],\n",
              "      dtype=&#x27;object&#x27;))])</pre></div></div></div><div class=\"sk-parallel\"><div class=\"sk-parallel-item\"><div class=\"sk-item\"><div class=\"sk-label-container\"><div class=\"sk-label sk-toggleable\"><input class=\"sk-toggleable__control sk-hidden--visually\" id=\"sk-estimator-id-4\" type=\"checkbox\" ><label for=\"sk-estimator-id-4\" class=\"sk-toggleable__label sk-toggleable__label-arrow\">numerical</label><div class=\"sk-toggleable__content\"><pre>Index([&#x27;carga_horária&#x27;, &#x27;fator_esforço_curso&#x27;, &#x27;idade&#x27;, &#x27;dia_inicio_ciclo&#x27;,\n",
              "       &#x27;mes_inicio_ciclo&#x27;, &#x27;ano_inicio_ciclo&#x27;, &#x27;dia_fim_ciclo&#x27;,\n",
              "       &#x27;mes_fim_ciclo&#x27;, &#x27;ano_fim_ciclo&#x27;, &#x27;dia_ocorrencia&#x27;, &#x27;mes_ocorrencia&#x27;,\n",
              "       &#x27;ano_ocorrencia&#x27;, &#x27;delta_days&#x27;],\n",
              "      dtype=&#x27;object&#x27;)</pre></div></div></div><div class=\"sk-serial\"><div class=\"sk-item\"><div class=\"sk-estimator sk-toggleable\"><input class=\"sk-toggleable__control sk-hidden--visually\" id=\"sk-estimator-id-5\" type=\"checkbox\" ><label for=\"sk-estimator-id-5\" class=\"sk-toggleable__label sk-toggleable__label-arrow\">MinMaxScaler</label><div class=\"sk-toggleable__content\"><pre>MinMaxScaler()</pre></div></div></div></div></div></div><div class=\"sk-parallel-item\"><div class=\"sk-item\"><div class=\"sk-label-container\"><div class=\"sk-label sk-toggleable\"><input class=\"sk-toggleable__control sk-hidden--visually\" id=\"sk-estimator-id-6\" type=\"checkbox\" ><label for=\"sk-estimator-id-6\" class=\"sk-toggleable__label sk-toggleable__label-arrow\">categorical</label><div class=\"sk-toggleable__content\"><pre>Index([&#x27;cor/raça&#x27;, &#x27;faixa_etária&#x27;, &#x27;instituição&#x27;, &#x27;região&#x27;, &#x27;renda_familiar&#x27;,\n",
              "       &#x27;sexo&#x27;, &#x27;turno&#x27;, &#x27;uf&#x27;, &#x27;unidadede_ensino&#x27;],\n",
              "      dtype=&#x27;object&#x27;)</pre></div></div></div><div class=\"sk-serial\"><div class=\"sk-item\"><div class=\"sk-estimator sk-toggleable\"><input class=\"sk-toggleable__control sk-hidden--visually\" id=\"sk-estimator-id-7\" type=\"checkbox\" ><label for=\"sk-estimator-id-7\" class=\"sk-toggleable__label sk-toggleable__label-arrow\">OneHotEncoder</label><div class=\"sk-toggleable__content\"><pre>OneHotEncoder(drop=&#x27;first&#x27;, handle_unknown=&#x27;ignore&#x27;)</pre></div></div></div></div></div></div></div></div><div class=\"sk-item\"><div class=\"sk-estimator sk-toggleable\"><input class=\"sk-toggleable__control sk-hidden--visually\" id=\"sk-estimator-id-8\" type=\"checkbox\" ><label for=\"sk-estimator-id-8\" class=\"sk-toggleable__label sk-toggleable__label-arrow\">SMOTE</label><div class=\"sk-toggleable__content\"><pre>SMOTE(random_state=42)</pre></div></div></div><div class=\"sk-item\"><div class=\"sk-estimator sk-toggleable\"><input class=\"sk-toggleable__control sk-hidden--visually\" id=\"sk-estimator-id-9\" type=\"checkbox\" ><label for=\"sk-estimator-id-9\" class=\"sk-toggleable__label sk-toggleable__label-arrow\">KNeighborsClassifier</label><div class=\"sk-toggleable__content\"><pre>KNeighborsClassifier(metric=&#x27;euclidean&#x27;)</pre></div></div></div></div></div></div></div></div></div></div></div></div>"
            ],
            "text/plain": [
              "GridSearchCV(cv=10,\n",
              "             estimator=Pipeline(steps=[('preprocessor',\n",
              "                                        ColumnTransformer(transformers=[('numerical',\n",
              "                                                                         MinMaxScaler(),\n",
              "                                                                         Index(['carga_horária', 'fator_esforço_curso', 'idade', 'dia_inicio_ciclo',\n",
              "       'mes_inicio_ciclo', 'ano_inicio_ciclo', 'dia_fim_ciclo',\n",
              "       'mes_fim_ciclo', 'ano_fim_ciclo', 'dia_ocorrencia', 'mes_ocorrencia',\n",
              "       'ano_ocorrencia', 'delta_days'],\n",
              "      dtype=...\n",
              "             param_grid={'classifier__n_neighbors': array([ 1,  3,  5,  7,  9, 11, 13, 15, 17, 19]),\n",
              "                         'classifier__weights': ['uniform', 'distance']},\n",
              "             refit='accuracy', return_train_score=True,\n",
              "             scoring={'accuracy': make_scorer(accuracy_score),\n",
              "                      'f1': make_scorer(f1_score, average=binary),\n",
              "                      'precision': make_scorer(precision_score, average=binary),\n",
              "                      'recall': make_scorer(recall_score, average=binary)})"
            ]
          },
          "execution_count": 18,
          "metadata": {},
          "output_type": "execute_result"
        }
      ],
      "source": [
        "grid_search.fit(X_train, y_train)"
      ]
    },
    {
      "cell_type": "code",
      "execution_count": null,
      "metadata": {
        "id": "zJmjJfTYOdyM"
      },
      "outputs": [],
      "source": [
        "results = grid_search.cv_results_"
      ]
    },
    {
      "cell_type": "code",
      "execution_count": 24,
      "metadata": {
        "id": "RzzVj70mZ74e"
      },
      "outputs": [],
      "source": [
        "pd.set_option('max_colwidth', 400)"
      ]
    },
    {
      "cell_type": "code",
      "execution_count": null,
      "metadata": {
        "colab": {
          "base_uri": "https://localhost:8080/",
          "height": 89
        },
        "id": "1opEC0hshVAC",
        "outputId": "1a57071b-e4d2-4a75-8153-0c319e687ccb"
      },
      "outputs": [
        {
          "data": {
            "application/vnd.google.colaboratory.intrinsic+json": {
              "summary": "{\n  \"name\": \"df_results\",\n  \"rows\": 1,\n  \"fields\": [\n    {\n      \"column\": \"model\",\n      \"properties\": {\n        \"dtype\": \"string\",\n        \"num_unique_values\": 1,\n        \"samples\": [\n          \"KNN\"\n        ],\n        \"semantic_type\": \"\",\n        \"description\": \"\"\n      }\n    },\n    {\n      \"column\": \"mean_test_accuracy\",\n      \"properties\": {\n        \"dtype\": \"string\",\n        \"num_unique_values\": 1,\n        \"samples\": [\n          \"0.87 \\u00b1 0.02\"\n        ],\n        \"semantic_type\": \"\",\n        \"description\": \"\"\n      }\n    },\n    {\n      \"column\": \"mean_test_precision\",\n      \"properties\": {\n        \"dtype\": \"string\",\n        \"num_unique_values\": 1,\n        \"samples\": [\n          \"0.71 \\u00b1 0.06\"\n        ],\n        \"semantic_type\": \"\",\n        \"description\": \"\"\n      }\n    },\n    {\n      \"column\": \"mean_test_recall\",\n      \"properties\": {\n        \"dtype\": \"string\",\n        \"num_unique_values\": 1,\n        \"samples\": [\n          \"0.74 \\u00b1 0.02\"\n        ],\n        \"semantic_type\": \"\",\n        \"description\": \"\"\n      }\n    },\n    {\n      \"column\": \"mean_test_f1\",\n      \"properties\": {\n        \"dtype\": \"string\",\n        \"num_unique_values\": 1,\n        \"samples\": [\n          \"0.72 \\u00b1 0.03\"\n        ],\n        \"semantic_type\": \"\",\n        \"description\": \"\"\n      }\n    }\n  ]\n}",
              "type": "dataframe",
              "variable_name": "df_results"
            },
            "text/html": [
              "\n",
              "  <div id=\"df-c36e636e-5077-4844-a53c-7614d3ab7a3d\" class=\"colab-df-container\">\n",
              "    <div>\n",
              "<style scoped>\n",
              "    .dataframe tbody tr th:only-of-type {\n",
              "        vertical-align: middle;\n",
              "    }\n",
              "\n",
              "    .dataframe tbody tr th {\n",
              "        vertical-align: top;\n",
              "    }\n",
              "\n",
              "    .dataframe thead th {\n",
              "        text-align: right;\n",
              "    }\n",
              "</style>\n",
              "<table border=\"1\" class=\"dataframe\">\n",
              "  <thead>\n",
              "    <tr style=\"text-align: right;\">\n",
              "      <th></th>\n",
              "      <th>model</th>\n",
              "      <th>mean_test_accuracy</th>\n",
              "      <th>mean_test_precision</th>\n",
              "      <th>mean_test_recall</th>\n",
              "      <th>mean_test_f1</th>\n",
              "    </tr>\n",
              "  </thead>\n",
              "  <tbody>\n",
              "    <tr>\n",
              "      <th>0</th>\n",
              "      <td>KNN</td>\n",
              "      <td>0.87 ± 0.02</td>\n",
              "      <td>0.71 ± 0.06</td>\n",
              "      <td>0.74 ± 0.02</td>\n",
              "      <td>0.72 ± 0.03</td>\n",
              "    </tr>\n",
              "  </tbody>\n",
              "</table>\n",
              "</div>\n",
              "    <div class=\"colab-df-buttons\">\n",
              "\n",
              "  <div class=\"colab-df-container\">\n",
              "    <button class=\"colab-df-convert\" onclick=\"convertToInteractive('df-c36e636e-5077-4844-a53c-7614d3ab7a3d')\"\n",
              "            title=\"Convert this dataframe to an interactive table.\"\n",
              "            style=\"display:none;\">\n",
              "\n",
              "  <svg xmlns=\"http://www.w3.org/2000/svg\" height=\"24px\" viewBox=\"0 -960 960 960\">\n",
              "    <path d=\"M120-120v-720h720v720H120Zm60-500h600v-160H180v160Zm220 220h160v-160H400v160Zm0 220h160v-160H400v160ZM180-400h160v-160H180v160Zm440 0h160v-160H620v160ZM180-180h160v-160H180v160Zm440 0h160v-160H620v160Z\"/>\n",
              "  </svg>\n",
              "    </button>\n",
              "\n",
              "  <style>\n",
              "    .colab-df-container {\n",
              "      display:flex;\n",
              "      gap: 12px;\n",
              "    }\n",
              "\n",
              "    .colab-df-convert {\n",
              "      background-color: #E8F0FE;\n",
              "      border: none;\n",
              "      border-radius: 50%;\n",
              "      cursor: pointer;\n",
              "      display: none;\n",
              "      fill: #1967D2;\n",
              "      height: 32px;\n",
              "      padding: 0 0 0 0;\n",
              "      width: 32px;\n",
              "    }\n",
              "\n",
              "    .colab-df-convert:hover {\n",
              "      background-color: #E2EBFA;\n",
              "      box-shadow: 0px 1px 2px rgba(60, 64, 67, 0.3), 0px 1px 3px 1px rgba(60, 64, 67, 0.15);\n",
              "      fill: #174EA6;\n",
              "    }\n",
              "\n",
              "    .colab-df-buttons div {\n",
              "      margin-bottom: 4px;\n",
              "    }\n",
              "\n",
              "    [theme=dark] .colab-df-convert {\n",
              "      background-color: #3B4455;\n",
              "      fill: #D2E3FC;\n",
              "    }\n",
              "\n",
              "    [theme=dark] .colab-df-convert:hover {\n",
              "      background-color: #434B5C;\n",
              "      box-shadow: 0px 1px 3px 1px rgba(0, 0, 0, 0.15);\n",
              "      filter: drop-shadow(0px 1px 2px rgba(0, 0, 0, 0.3));\n",
              "      fill: #FFFFFF;\n",
              "    }\n",
              "  </style>\n",
              "\n",
              "    <script>\n",
              "      const buttonEl =\n",
              "        document.querySelector('#df-c36e636e-5077-4844-a53c-7614d3ab7a3d button.colab-df-convert');\n",
              "      buttonEl.style.display =\n",
              "        google.colab.kernel.accessAllowed ? 'block' : 'none';\n",
              "\n",
              "      async function convertToInteractive(key) {\n",
              "        const element = document.querySelector('#df-c36e636e-5077-4844-a53c-7614d3ab7a3d');\n",
              "        const dataTable =\n",
              "          await google.colab.kernel.invokeFunction('convertToInteractive',\n",
              "                                                    [key], {});\n",
              "        if (!dataTable) return;\n",
              "\n",
              "        const docLinkHtml = 'Like what you see? Visit the ' +\n",
              "          '<a target=\"_blank\" href=https://colab.research.google.com/notebooks/data_table.ipynb>data table notebook</a>'\n",
              "          + ' to learn more about interactive tables.';\n",
              "        element.innerHTML = '';\n",
              "        dataTable['output_type'] = 'display_data';\n",
              "        await google.colab.output.renderOutput(dataTable, element);\n",
              "        const docLink = document.createElement('div');\n",
              "        docLink.innerHTML = docLinkHtml;\n",
              "        element.appendChild(docLink);\n",
              "      }\n",
              "    </script>\n",
              "  </div>\n",
              "\n",
              "\n",
              "  <div id=\"id_af6a0152-bac0-450d-9d97-7097b836c6a3\">\n",
              "    <style>\n",
              "      .colab-df-generate {\n",
              "        background-color: #E8F0FE;\n",
              "        border: none;\n",
              "        border-radius: 50%;\n",
              "        cursor: pointer;\n",
              "        display: none;\n",
              "        fill: #1967D2;\n",
              "        height: 32px;\n",
              "        padding: 0 0 0 0;\n",
              "        width: 32px;\n",
              "      }\n",
              "\n",
              "      .colab-df-generate:hover {\n",
              "        background-color: #E2EBFA;\n",
              "        box-shadow: 0px 1px 2px rgba(60, 64, 67, 0.3), 0px 1px 3px 1px rgba(60, 64, 67, 0.15);\n",
              "        fill: #174EA6;\n",
              "      }\n",
              "\n",
              "      [theme=dark] .colab-df-generate {\n",
              "        background-color: #3B4455;\n",
              "        fill: #D2E3FC;\n",
              "      }\n",
              "\n",
              "      [theme=dark] .colab-df-generate:hover {\n",
              "        background-color: #434B5C;\n",
              "        box-shadow: 0px 1px 3px 1px rgba(0, 0, 0, 0.15);\n",
              "        filter: drop-shadow(0px 1px 2px rgba(0, 0, 0, 0.3));\n",
              "        fill: #FFFFFF;\n",
              "      }\n",
              "    </style>\n",
              "    <button class=\"colab-df-generate\" onclick=\"generateWithVariable('df_results')\"\n",
              "            title=\"Generate code using this dataframe.\"\n",
              "            style=\"display:none;\">\n",
              "\n",
              "  <svg xmlns=\"http://www.w3.org/2000/svg\" height=\"24px\"viewBox=\"0 0 24 24\"\n",
              "       width=\"24px\">\n",
              "    <path d=\"M7,19H8.4L18.45,9,17,7.55,7,17.6ZM5,21V16.75L18.45,3.32a2,2,0,0,1,2.83,0l1.4,1.43a1.91,1.91,0,0,1,.58,1.4,1.91,1.91,0,0,1-.58,1.4L9.25,21ZM18.45,9,17,7.55Zm-12,3A5.31,5.31,0,0,0,4.9,8.1,5.31,5.31,0,0,0,1,6.5,5.31,5.31,0,0,0,4.9,4.9,5.31,5.31,0,0,0,6.5,1,5.31,5.31,0,0,0,8.1,4.9,5.31,5.31,0,0,0,12,6.5,5.46,5.46,0,0,0,6.5,12Z\"/>\n",
              "  </svg>\n",
              "    </button>\n",
              "    <script>\n",
              "      (() => {\n",
              "      const buttonEl =\n",
              "        document.querySelector('#id_af6a0152-bac0-450d-9d97-7097b836c6a3 button.colab-df-generate');\n",
              "      buttonEl.style.display =\n",
              "        google.colab.kernel.accessAllowed ? 'block' : 'none';\n",
              "\n",
              "      buttonEl.onclick = () => {\n",
              "        google.colab.notebook.generateWithVariable('df_results');\n",
              "      }\n",
              "      })();\n",
              "    </script>\n",
              "  </div>\n",
              "\n",
              "    </div>\n",
              "  </div>\n"
            ],
            "text/plain": [
              "  model mean_test_accuracy mean_test_precision mean_test_recall mean_test_f1\n",
              "0   KNN        0.87 ± 0.02         0.71 ± 0.06      0.74 ± 0.02  0.72 ± 0.03"
            ]
          },
          "execution_count": 21,
          "metadata": {},
          "output_type": "execute_result"
        }
      ],
      "source": [
        "metrics = ['mean_test_accuracy', 'mean_test_precision', 'mean_test_recall', 'mean_test_f1']\n",
        "df_results = {'model':'KNN'}\n",
        "for metric in metrics:\n",
        "    df_results[metric] = f\"{results[metric].mean():.2f} ± {results[metric].std():.2f}\"\n",
        "   # print(f\"{metric}: {results[metric].mean():.2f} ± {results[metric].std():.2f}\")\n",
        "df_results = pd.DataFrame(df_results, index=[0])\n",
        "df_results"
      ]
    },
    {
      "cell_type": "code",
      "execution_count": null,
      "metadata": {
        "colab": {
          "base_uri": "https://localhost:8080/"
        },
        "id": "cWP_wnNhQ0ef",
        "outputId": "00d4e4ef-a448-42b8-d995-f99d68c6b9ae"
      },
      "outputs": [
        {
          "name": "stdout",
          "output_type": "stream",
          "text": [
            "\n",
            "Métricas no conjunto de teste:\n",
            "Acurácia: 0.88\n",
            "Precisão: 0.75\n",
            "Recall: 0.74\n",
            "F1-Score: 0.75\n",
            "\n",
            "Melhores parâmetros encontrados: {'classifier__n_neighbors': 19, 'classifier__weights': 'distance'}\n"
          ]
        }
      ],
      "source": [
        "# melhor modelo nos dados de teste\n",
        "best_model = grid_search.best_estimator_\n",
        "\n",
        "# previsões no conjunto de teste\n",
        "y_pred = best_model.predict(X_test)\n",
        "\n",
        "# métricas no conjunto de teste\n",
        "accuracy = accuracy_score(y_test, y_pred)\n",
        "precision = precision_score(y_test, y_pred, average='binary')\n",
        "recall = recall_score(y_test, y_pred, average='binary')\n",
        "f1 = f1_score(y_test, y_pred, average='binary')\n",
        "print(f'\\nMétricas no conjunto de teste:')\n",
        "print(f'Acurácia: {accuracy:.2f}')\n",
        "print(f'Precisão: {precision:.2f}')\n",
        "print(f'Recall: {recall:.2f}')\n",
        "print(f'F1-Score: {f1:.2f}')\n",
        "\n",
        "print(f'\\nMelhores parâmetros encontrados: {grid_search.best_params_}')"
      ]
    },
    {
      "cell_type": "code",
      "execution_count": null,
      "metadata": {
        "colab": {
          "base_uri": "https://localhost:8080/",
          "height": 467
        },
        "id": "H5n4RdRfik3R",
        "outputId": "e71350e3-b713-4552-9e05-24f9a7855a6b"
      },
      "outputs": [
        {
          "data": {
            "text/plain": [
              "<sklearn.metrics._plot.confusion_matrix.ConfusionMatrixDisplay at 0x7969a7b33370>"
            ]
          },
          "execution_count": 24,
          "metadata": {},
          "output_type": "execute_result"
        },
        {
          "data": {
            "image/png": "[encoded data removed]",
            "text/plain": [
              "<Figure size 640x480 with 2 Axes>"
            ]
          },
          "metadata": {},
          "output_type": "display_data"
        }
      ],
      "source": [
        "ConfusionMatrixDisplay.from_predictions(y_test, y_pred)"
      ]
    },
    {
      "cell_type": "markdown",
      "metadata": {
        "id": "tU4JSKlEjG17"
      },
      "source": [
        "### Random Forest"
      ]
    },
    {
      "cell_type": "code",
      "execution_count": 14,
      "metadata": {
        "id": "P2gK5HF7jJPN"
      },
      "outputs": [],
      "source": [
        "pipeline = Pipeline(steps=[\n",
        "    ('preprocessor', preprocessor),\n",
        "    ('smote', SMOTE(random_state=42)),\n",
        "    ('classifier', RandomForestClassifier(random_state=42))\n",
        "])"
      ]
    },
    {
      "cell_type": "code",
      "execution_count": 15,
      "metadata": {
        "id": "fWS4VhgyPKWG"
      },
      "outputs": [],
      "source": [
        "rf_params = {\n",
        "    \"classifier__criterion\": [\"gini\", \"entropy\"],\n",
        "    \"classifier__n_estimators\": [100, 200, 300],\n",
        "    \"classifier__max_depth\": [None, 10, 20, 30],\n",
        "    \"classifier__min_samples_split\": [2, 5, 10],\n",
        "    \"classifier__min_samples_leaf\": [1, 2, 4],\n",
        "}"
      ]
    },
    {
      "cell_type": "code",
      "execution_count": 18,
      "metadata": {
        "id": "LwOBjxOAjN2x"
      },
      "outputs": [],
      "source": [
        "# GridSearchCV com validação cruzada\n",
        "grid_search = GridSearchCV(pipeline, rf_params, cv=10, scoring=scoring, refit='accuracy', return_train_score=True)"
      ]
    },
    {
      "cell_type": "code",
      "execution_count": 19,
      "metadata": {
        "colab": {
          "base_uri": "https://localhost:8080/",
          "height": 253
        },
        "id": "jcoBzsIYj03I",
        "outputId": "1252b99c-8efa-4532-940c-3b473d2d50da"
      },
      "outputs": [
        {
          "data": {
            "text/html": [
              "<style>#sk-container-id-1 {color: black;background-color: white;}#sk-container-id-1 pre{padding: 0;}#sk-container-id-1 div.sk-toggleable {background-color: white;}#sk-container-id-1 label.sk-toggleable__label {cursor: pointer;display: block;width: 100%;margin-bottom: 0;padding: 0.3em;box-sizing: border-box;text-align: center;}#sk-container-id-1 label.sk-toggleable__label-arrow:before {content: \"▸\";float: left;margin-right: 0.25em;color: #696969;}#sk-container-id-1 label.sk-toggleable__label-arrow:hover:before {color: black;}#sk-container-id-1 div.sk-estimator:hover label.sk-toggleable__label-arrow:before {color: black;}#sk-container-id-1 div.sk-toggleable__content {max-height: 0;max-width: 0;overflow: hidden;text-align: left;background-color: #f0f8ff;}#sk-container-id-1 div.sk-toggleable__content pre {margin: 0.2em;color: black;border-radius: 0.25em;background-color: #f0f8ff;}#sk-container-id-1 input.sk-toggleable__control:checked~div.sk-toggleable__content {max-height: 200px;max-width: 100%;overflow: auto;}#sk-container-id-1 input.sk-toggleable__control:checked~label.sk-toggleable__label-arrow:before {content: \"▾\";}#sk-container-id-1 div.sk-estimator input.sk-toggleable__control:checked~label.sk-toggleable__label {background-color: #d4ebff;}#sk-container-id-1 div.sk-label input.sk-toggleable__control:checked~label.sk-toggleable__label {background-color: #d4ebff;}#sk-container-id-1 input.sk-hidden--visually {border: 0;clip: rect(1px 1px 1px 1px);clip: rect(1px, 1px, 1px, 1px);height: 1px;margin: -1px;overflow: hidden;padding: 0;position: absolute;width: 1px;}#sk-container-id-1 div.sk-estimator {font-family: monospace;background-color: #f0f8ff;border: 1px dotted black;border-radius: 0.25em;box-sizing: border-box;margin-bottom: 0.5em;}#sk-container-id-1 div.sk-estimator:hover {background-color: #d4ebff;}#sk-container-id-1 div.sk-parallel-item::after {content: \"\";width: 100%;border-bottom: 1px solid gray;flex-grow: 1;}#sk-container-id-1 div.sk-label:hover label.sk-toggleable__label {background-color: #d4ebff;}#sk-container-id-1 div.sk-serial::before {content: \"\";position: absolute;border-left: 1px solid gray;box-sizing: border-box;top: 0;bottom: 0;left: 50%;z-index: 0;}#sk-container-id-1 div.sk-serial {display: flex;flex-direction: column;align-items: center;background-color: white;padding-right: 0.2em;padding-left: 0.2em;position: relative;}#sk-container-id-1 div.sk-item {position: relative;z-index: 1;}#sk-container-id-1 div.sk-parallel {display: flex;align-items: stretch;justify-content: center;background-color: white;position: relative;}#sk-container-id-1 div.sk-item::before, #sk-container-id-1 div.sk-parallel-item::before {content: \"\";position: absolute;border-left: 1px solid gray;box-sizing: border-box;top: 0;bottom: 0;left: 50%;z-index: -1;}#sk-container-id-1 div.sk-parallel-item {display: flex;flex-direction: column;z-index: 1;position: relative;background-color: white;}#sk-container-id-1 div.sk-parallel-item:first-child::after {align-self: flex-end;width: 50%;}#sk-container-id-1 div.sk-parallel-item:last-child::after {align-self: flex-start;width: 50%;}#sk-container-id-1 div.sk-parallel-item:only-child::after {width: 0;}#sk-container-id-1 div.sk-dashed-wrapped {border: 1px dashed gray;margin: 0 0.4em 0.5em 0.4em;box-sizing: border-box;padding-bottom: 0.4em;background-color: white;}#sk-container-id-1 div.sk-label label {font-family: monospace;font-weight: bold;display: inline-block;line-height: 1.2em;}#sk-container-id-1 div.sk-label-container {text-align: center;}#sk-container-id-1 div.sk-container {/* jupyter's `normalize.less` sets `[hidden] { display: none; }` but bootstrap.min.css set `[hidden] { display: none !important; }` so we also need the `!important` here to be able to override the default hidden behavior on the sphinx rendered scikit-learn.org. See: https://github.com/scikit-learn/scikit-learn/issues/21755 */display: inline-block !important;position: relative;}#sk-container-id-1 div.sk-text-repr-fallback {display: none;}</style><div id=\"sk-container-id-1\" class=\"sk-top-container\"><div class=\"sk-text-repr-fallback\"><pre>GridSearchCV(cv=10,\n",
              "             estimator=Pipeline(steps=[(&#x27;preprocessor&#x27;,\n",
              "                                        ColumnTransformer(transformers=[(&#x27;numerical&#x27;,\n",
              "                                                                         MinMaxScaler(),\n",
              "                                                                         Index([&#x27;carga_horária&#x27;, &#x27;fator_esforço_curso&#x27;, &#x27;idade&#x27;, &#x27;dia_inicio_ciclo&#x27;,\n",
              "       &#x27;mes_inicio_ciclo&#x27;, &#x27;ano_inicio_ciclo&#x27;, &#x27;dia_fim_ciclo&#x27;,\n",
              "       &#x27;mes_fim_ciclo&#x27;, &#x27;ano_fim_ciclo&#x27;, &#x27;dia_ocorrencia&#x27;, &#x27;mes_ocorrencia&#x27;,\n",
              "       &#x27;ano_ocorrencia&#x27;, &#x27;delta_days&#x27;],\n",
              "      dtype=...\n",
              "                         &#x27;classifier__min_samples_leaf&#x27;: [1, 2, 4],\n",
              "                         &#x27;classifier__min_samples_split&#x27;: [2, 5, 10],\n",
              "                         &#x27;classifier__n_estimators&#x27;: [100, 200, 300]},\n",
              "             refit=&#x27;accuracy&#x27;, return_train_score=True,\n",
              "             scoring={&#x27;accuracy&#x27;: make_scorer(accuracy_score),\n",
              "                      &#x27;f1&#x27;: make_scorer(f1_score, average=binary),\n",
              "                      &#x27;precision&#x27;: make_scorer(precision_score, average=binary),\n",
              "                      &#x27;recall&#x27;: make_scorer(recall_score, average=binary)})</pre><b>In a Jupyter environment, please rerun this cell to show the HTML representation or trust the notebook. <br />On GitHub, the HTML representation is unable to render, please try loading this page with nbviewer.org.</b></div><div class=\"sk-container\" hidden><div class=\"sk-item sk-dashed-wrapped\"><div class=\"sk-label-container\"><div class=\"sk-label sk-toggleable\"><input class=\"sk-toggleable__control sk-hidden--visually\" id=\"sk-estimator-id-1\" type=\"checkbox\" ><label for=\"sk-estimator-id-1\" class=\"sk-toggleable__label sk-toggleable__label-arrow\">GridSearchCV</label><div class=\"sk-toggleable__content\"><pre>GridSearchCV(cv=10,\n",
              "             estimator=Pipeline(steps=[(&#x27;preprocessor&#x27;,\n",
              "                                        ColumnTransformer(transformers=[(&#x27;numerical&#x27;,\n",
              "                                                                         MinMaxScaler(),\n",
              "                                                                         Index([&#x27;carga_horária&#x27;, &#x27;fator_esforço_curso&#x27;, &#x27;idade&#x27;, &#x27;dia_inicio_ciclo&#x27;,\n",
              "       &#x27;mes_inicio_ciclo&#x27;, &#x27;ano_inicio_ciclo&#x27;, &#x27;dia_fim_ciclo&#x27;,\n",
              "       &#x27;mes_fim_ciclo&#x27;, &#x27;ano_fim_ciclo&#x27;, &#x27;dia_ocorrencia&#x27;, &#x27;mes_ocorrencia&#x27;,\n",
              "       &#x27;ano_ocorrencia&#x27;, &#x27;delta_days&#x27;],\n",
              "      dtype=...\n",
              "                         &#x27;classifier__min_samples_leaf&#x27;: [1, 2, 4],\n",
              "                         &#x27;classifier__min_samples_split&#x27;: [2, 5, 10],\n",
              "                         &#x27;classifier__n_estimators&#x27;: [100, 200, 300]},\n",
              "             refit=&#x27;accuracy&#x27;, return_train_score=True,\n",
              "             scoring={&#x27;accuracy&#x27;: make_scorer(accuracy_score),\n",
              "                      &#x27;f1&#x27;: make_scorer(f1_score, average=binary),\n",
              "                      &#x27;precision&#x27;: make_scorer(precision_score, average=binary),\n",
              "                      &#x27;recall&#x27;: make_scorer(recall_score, average=binary)})</pre></div></div></div><div class=\"sk-parallel\"><div class=\"sk-parallel-item\"><div class=\"sk-item\"><div class=\"sk-label-container\"><div class=\"sk-label sk-toggleable\"><input class=\"sk-toggleable__control sk-hidden--visually\" id=\"sk-estimator-id-2\" type=\"checkbox\" ><label for=\"sk-estimator-id-2\" class=\"sk-toggleable__label sk-toggleable__label-arrow\">estimator: Pipeline</label><div class=\"sk-toggleable__content\"><pre>Pipeline(steps=[(&#x27;preprocessor&#x27;,\n",
              "                 ColumnTransformer(transformers=[(&#x27;numerical&#x27;, MinMaxScaler(),\n",
              "                                                  Index([&#x27;carga_horária&#x27;, &#x27;fator_esforço_curso&#x27;, &#x27;idade&#x27;, &#x27;dia_inicio_ciclo&#x27;,\n",
              "       &#x27;mes_inicio_ciclo&#x27;, &#x27;ano_inicio_ciclo&#x27;, &#x27;dia_fim_ciclo&#x27;,\n",
              "       &#x27;mes_fim_ciclo&#x27;, &#x27;ano_fim_ciclo&#x27;, &#x27;dia_ocorrencia&#x27;, &#x27;mes_ocorrencia&#x27;,\n",
              "       &#x27;ano_ocorrencia&#x27;, &#x27;delta_days&#x27;],\n",
              "      dtype=&#x27;object&#x27;)),\n",
              "                                                 (&#x27;categorical&#x27;,\n",
              "                                                  OneHotEncoder(drop=&#x27;first&#x27;,\n",
              "                                                                handle_unknown=&#x27;ignore&#x27;),\n",
              "                                                  Index([&#x27;cor/raça&#x27;, &#x27;faixa_etária&#x27;, &#x27;instituição&#x27;, &#x27;região&#x27;, &#x27;renda_familiar&#x27;,\n",
              "       &#x27;sexo&#x27;, &#x27;turno&#x27;, &#x27;uf&#x27;, &#x27;unidadede_ensino&#x27;],\n",
              "      dtype=&#x27;object&#x27;))])),\n",
              "                (&#x27;smote&#x27;, SMOTE(random_state=42)),\n",
              "                (&#x27;classifier&#x27;, RandomForestClassifier(random_state=42))])</pre></div></div></div><div class=\"sk-serial\"><div class=\"sk-item\"><div class=\"sk-serial\"><div class=\"sk-item sk-dashed-wrapped\"><div class=\"sk-label-container\"><div class=\"sk-label sk-toggleable\"><input class=\"sk-toggleable__control sk-hidden--visually\" id=\"sk-estimator-id-3\" type=\"checkbox\" ><label for=\"sk-estimator-id-3\" class=\"sk-toggleable__label sk-toggleable__label-arrow\">preprocessor: ColumnTransformer</label><div class=\"sk-toggleable__content\"><pre>ColumnTransformer(transformers=[(&#x27;numerical&#x27;, MinMaxScaler(),\n",
              "                                 Index([&#x27;carga_horária&#x27;, &#x27;fator_esforço_curso&#x27;, &#x27;idade&#x27;, &#x27;dia_inicio_ciclo&#x27;,\n",
              "       &#x27;mes_inicio_ciclo&#x27;, &#x27;ano_inicio_ciclo&#x27;, &#x27;dia_fim_ciclo&#x27;,\n",
              "       &#x27;mes_fim_ciclo&#x27;, &#x27;ano_fim_ciclo&#x27;, &#x27;dia_ocorrencia&#x27;, &#x27;mes_ocorrencia&#x27;,\n",
              "       &#x27;ano_ocorrencia&#x27;, &#x27;delta_days&#x27;],\n",
              "      dtype=&#x27;object&#x27;)),\n",
              "                                (&#x27;categorical&#x27;,\n",
              "                                 OneHotEncoder(drop=&#x27;first&#x27;,\n",
              "                                               handle_unknown=&#x27;ignore&#x27;),\n",
              "                                 Index([&#x27;cor/raça&#x27;, &#x27;faixa_etária&#x27;, &#x27;instituição&#x27;, &#x27;região&#x27;, &#x27;renda_familiar&#x27;,\n",
              "       &#x27;sexo&#x27;, &#x27;turno&#x27;, &#x27;uf&#x27;, &#x27;unidadede_ensino&#x27;],\n",
              "      dtype=&#x27;object&#x27;))])</pre></div></div></div><div class=\"sk-parallel\"><div class=\"sk-parallel-item\"><div class=\"sk-item\"><div class=\"sk-label-container\"><div class=\"sk-label sk-toggleable\"><input class=\"sk-toggleable__control sk-hidden--visually\" id=\"sk-estimator-id-4\" type=\"checkbox\" ><label for=\"sk-estimator-id-4\" class=\"sk-toggleable__label sk-toggleable__label-arrow\">numerical</label><div class=\"sk-toggleable__content\"><pre>Index([&#x27;carga_horária&#x27;, &#x27;fator_esforço_curso&#x27;, &#x27;idade&#x27;, &#x27;dia_inicio_ciclo&#x27;,\n",
              "       &#x27;mes_inicio_ciclo&#x27;, &#x27;ano_inicio_ciclo&#x27;, &#x27;dia_fim_ciclo&#x27;,\n",
              "       &#x27;mes_fim_ciclo&#x27;, &#x27;ano_fim_ciclo&#x27;, &#x27;dia_ocorrencia&#x27;, &#x27;mes_ocorrencia&#x27;,\n",
              "       &#x27;ano_ocorrencia&#x27;, &#x27;delta_days&#x27;],\n",
              "      dtype=&#x27;object&#x27;)</pre></div></div></div><div class=\"sk-serial\"><div class=\"sk-item\"><div class=\"sk-estimator sk-toggleable\"><input class=\"sk-toggleable__control sk-hidden--visually\" id=\"sk-estimator-id-5\" type=\"checkbox\" ><label for=\"sk-estimator-id-5\" class=\"sk-toggleable__label sk-toggleable__label-arrow\">MinMaxScaler</label><div class=\"sk-toggleable__content\"><pre>MinMaxScaler()</pre></div></div></div></div></div></div><div class=\"sk-parallel-item\"><div class=\"sk-item\"><div class=\"sk-label-container\"><div class=\"sk-label sk-toggleable\"><input class=\"sk-toggleable__control sk-hidden--visually\" id=\"sk-estimator-id-6\" type=\"checkbox\" ><label for=\"sk-estimator-id-6\" class=\"sk-toggleable__label sk-toggleable__label-arrow\">categorical</label><div class=\"sk-toggleable__content\"><pre>Index([&#x27;cor/raça&#x27;, &#x27;faixa_etária&#x27;, &#x27;instituição&#x27;, &#x27;região&#x27;, &#x27;renda_familiar&#x27;,\n",
              "       &#x27;sexo&#x27;, &#x27;turno&#x27;, &#x27;uf&#x27;, &#x27;unidadede_ensino&#x27;],\n",
              "      dtype=&#x27;object&#x27;)</pre></div></div></div><div class=\"sk-serial\"><div class=\"sk-item\"><div class=\"sk-estimator sk-toggleable\"><input class=\"sk-toggleable__control sk-hidden--visually\" id=\"sk-estimator-id-7\" type=\"checkbox\" ><label for=\"sk-estimator-id-7\" class=\"sk-toggleable__label sk-toggleable__label-arrow\">OneHotEncoder</label><div class=\"sk-toggleable__content\"><pre>OneHotEncoder(drop=&#x27;first&#x27;, handle_unknown=&#x27;ignore&#x27;)</pre></div></div></div></div></div></div></div></div><div class=\"sk-item\"><div class=\"sk-estimator sk-toggleable\"><input class=\"sk-toggleable__control sk-hidden--visually\" id=\"sk-estimator-id-8\" type=\"checkbox\" ><label for=\"sk-estimator-id-8\" class=\"sk-toggleable__label sk-toggleable__label-arrow\">SMOTE</label><div class=\"sk-toggleable__content\"><pre>SMOTE(random_state=42)</pre></div></div></div><div class=\"sk-item\"><div class=\"sk-estimator sk-toggleable\"><input class=\"sk-toggleable__control sk-hidden--visually\" id=\"sk-estimator-id-9\" type=\"checkbox\" ><label for=\"sk-estimator-id-9\" class=\"sk-toggleable__label sk-toggleable__label-arrow\">RandomForestClassifier</label><div class=\"sk-toggleable__content\"><pre>RandomForestClassifier(random_state=42)</pre></div></div></div></div></div></div></div></div></div></div></div></div>"
            ],
            "text/plain": [
              "GridSearchCV(cv=10,\n",
              "             estimator=Pipeline(steps=[('preprocessor',\n",
              "                                        ColumnTransformer(transformers=[('numerical',\n",
              "                                                                         MinMaxScaler(),\n",
              "                                                                         Index(['carga_horária', 'fator_esforço_curso', 'idade', 'dia_inicio_ciclo',\n",
              "       'mes_inicio_ciclo', 'ano_inicio_ciclo', 'dia_fim_ciclo',\n",
              "       'mes_fim_ciclo', 'ano_fim_ciclo', 'dia_ocorrencia', 'mes_ocorrencia',\n",
              "       'ano_ocorrencia', 'delta_days'],\n",
              "      dtype=...\n",
              "                         'classifier__min_samples_leaf': [1, 2, 4],\n",
              "                         'classifier__min_samples_split': [2, 5, 10],\n",
              "                         'classifier__n_estimators': [100, 200, 300]},\n",
              "             refit='accuracy', return_train_score=True,\n",
              "             scoring={'accuracy': make_scorer(accuracy_score),\n",
              "                      'f1': make_scorer(f1_score, average=binary),\n",
              "                      'precision': make_scorer(precision_score, average=binary),\n",
              "                      'recall': make_scorer(recall_score, average=binary)})"
            ]
          },
          "execution_count": 19,
          "metadata": {},
          "output_type": "execute_result"
        }
      ],
      "source": [
        "grid_search.fit(X_train, y_train)"
      ]
    },
    {
      "cell_type": "code",
      "execution_count": 20,
      "metadata": {
        "id": "JsllXeYSkaln"
      },
      "outputs": [],
      "source": [
        "results = grid_search.cv_results_"
      ]
    },
    {
      "cell_type": "code",
      "execution_count": 21,
      "metadata": {
        "colab": {
          "base_uri": "https://localhost:8080/",
          "height": 89
        },
        "id": "XYUJEQ5JkbI_",
        "outputId": "7b5bede5-8e47-46b8-b9b9-2d1a2223f11f"
      },
      "outputs": [
        {
          "data": {
            "application/vnd.google.colaboratory.intrinsic+json": {
              "summary": "{\n  \"name\": \"df_results\",\n  \"rows\": 1,\n  \"fields\": [\n    {\n      \"column\": \"model\",\n      \"properties\": {\n        \"dtype\": \"string\",\n        \"num_unique_values\": 1,\n        \"samples\": [\n          \"Random Forest\"\n        ],\n        \"semantic_type\": \"\",\n        \"description\": \"\"\n      }\n    },\n    {\n      \"column\": \"mean_test_accuracy\",\n      \"properties\": {\n        \"dtype\": \"string\",\n        \"num_unique_values\": 1,\n        \"samples\": [\n          \"0.96 \\u00b1 0.00\"\n        ],\n        \"semantic_type\": \"\",\n        \"description\": \"\"\n      }\n    },\n    {\n      \"column\": \"mean_test_precision\",\n      \"properties\": {\n        \"dtype\": \"string\",\n        \"num_unique_values\": 1,\n        \"samples\": [\n          \"0.95 \\u00b1 0.00\"\n        ],\n        \"semantic_type\": \"\",\n        \"description\": \"\"\n      }\n    },\n    {\n      \"column\": \"mean_test_recall\",\n      \"properties\": {\n        \"dtype\": \"string\",\n        \"num_unique_values\": 1,\n        \"samples\": [\n          \"0.89 \\u00b1 0.01\"\n        ],\n        \"semantic_type\": \"\",\n        \"description\": \"\"\n      }\n    },\n    {\n      \"column\": \"mean_test_f1\",\n      \"properties\": {\n        \"dtype\": \"string\",\n        \"num_unique_values\": 1,\n        \"samples\": [\n          \"0.92 \\u00b1 0.00\"\n        ],\n        \"semantic_type\": \"\",\n        \"description\": \"\"\n      }\n    }\n  ]\n}",
              "type": "dataframe",
              "variable_name": "df_results"
            },
            "text/html": [
              "\n",
              "  <div id=\"df-3b83deae-3113-4475-8b5e-fd172791a05b\" class=\"colab-df-container\">\n",
              "    <div>\n",
              "<style scoped>\n",
              "    .dataframe tbody tr th:only-of-type {\n",
              "        vertical-align: middle;\n",
              "    }\n",
              "\n",
              "    .dataframe tbody tr th {\n",
              "        vertical-align: top;\n",
              "    }\n",
              "\n",
              "    .dataframe thead th {\n",
              "        text-align: right;\n",
              "    }\n",
              "</style>\n",
              "<table border=\"1\" class=\"dataframe\">\n",
              "  <thead>\n",
              "    <tr style=\"text-align: right;\">\n",
              "      <th></th>\n",
              "      <th>model</th>\n",
              "      <th>mean_test_accuracy</th>\n",
              "      <th>mean_test_precision</th>\n",
              "      <th>mean_test_recall</th>\n",
              "      <th>mean_test_f1</th>\n",
              "    </tr>\n",
              "  </thead>\n",
              "  <tbody>\n",
              "    <tr>\n",
              "      <th>0</th>\n",
              "      <td>Random Forest</td>\n",
              "      <td>0.96 ± 0.00</td>\n",
              "      <td>0.95 ± 0.00</td>\n",
              "      <td>0.89 ± 0.01</td>\n",
              "      <td>0.92 ± 0.00</td>\n",
              "    </tr>\n",
              "  </tbody>\n",
              "</table>\n",
              "</div>\n",
              "    <div class=\"colab-df-buttons\">\n",
              "\n",
              "  <div class=\"colab-df-container\">\n",
              "    <button class=\"colab-df-convert\" onclick=\"convertToInteractive('df-3b83deae-3113-4475-8b5e-fd172791a05b')\"\n",
              "            title=\"Convert this dataframe to an interactive table.\"\n",
              "            style=\"display:none;\">\n",
              "\n",
              "  <svg xmlns=\"http://www.w3.org/2000/svg\" height=\"24px\" viewBox=\"0 -960 960 960\">\n",
              "    <path d=\"M120-120v-720h720v720H120Zm60-500h600v-160H180v160Zm220 220h160v-160H400v160Zm0 220h160v-160H400v160ZM180-400h160v-160H180v160Zm440 0h160v-160H620v160ZM180-180h160v-160H180v160Zm440 0h160v-160H620v160Z\"/>\n",
              "  </svg>\n",
              "    </button>\n",
              "\n",
              "  <style>\n",
              "    .colab-df-container {\n",
              "      display:flex;\n",
              "      gap: 12px;\n",
              "    }\n",
              "\n",
              "    .colab-df-convert {\n",
              "      background-color: #E8F0FE;\n",
              "      border: none;\n",
              "      border-radius: 50%;\n",
              "      cursor: pointer;\n",
              "      display: none;\n",
              "      fill: #1967D2;\n",
              "      height: 32px;\n",
              "      padding: 0 0 0 0;\n",
              "      width: 32px;\n",
              "    }\n",
              "\n",
              "    .colab-df-convert:hover {\n",
              "      background-color: #E2EBFA;\n",
              "      box-shadow: 0px 1px 2px rgba(60, 64, 67, 0.3), 0px 1px 3px 1px rgba(60, 64, 67, 0.15);\n",
              "      fill: #174EA6;\n",
              "    }\n",
              "\n",
              "    .colab-df-buttons div {\n",
              "      margin-bottom: 4px;\n",
              "    }\n",
              "\n",
              "    [theme=dark] .colab-df-convert {\n",
              "      background-color: #3B4455;\n",
              "      fill: #D2E3FC;\n",
              "    }\n",
              "\n",
              "    [theme=dark] .colab-df-convert:hover {\n",
              "      background-color: #434B5C;\n",
              "      box-shadow: 0px 1px 3px 1px rgba(0, 0, 0, 0.15);\n",
              "      filter: drop-shadow(0px 1px 2px rgba(0, 0, 0, 0.3));\n",
              "      fill: #FFFFFF;\n",
              "    }\n",
              "  </style>\n",
              "\n",
              "    <script>\n",
              "      const buttonEl =\n",
              "        document.querySelector('#df-3b83deae-3113-4475-8b5e-fd172791a05b button.colab-df-convert');\n",
              "      buttonEl.style.display =\n",
              "        google.colab.kernel.accessAllowed ? 'block' : 'none';\n",
              "\n",
              "      async function convertToInteractive(key) {\n",
              "        const element = document.querySelector('#df-3b83deae-3113-4475-8b5e-fd172791a05b');\n",
              "        const dataTable =\n",
              "          await google.colab.kernel.invokeFunction('convertToInteractive',\n",
              "                                                    [key], {});\n",
              "        if (!dataTable) return;\n",
              "\n",
              "        const docLinkHtml = 'Like what you see? Visit the ' +\n",
              "          '<a target=\"_blank\" href=https://colab.research.google.com/notebooks/data_table.ipynb>data table notebook</a>'\n",
              "          + ' to learn more about interactive tables.';\n",
              "        element.innerHTML = '';\n",
              "        dataTable['output_type'] = 'display_data';\n",
              "        await google.colab.output.renderOutput(dataTable, element);\n",
              "        const docLink = document.createElement('div');\n",
              "        docLink.innerHTML = docLinkHtml;\n",
              "        element.appendChild(docLink);\n",
              "      }\n",
              "    </script>\n",
              "  </div>\n",
              "\n",
              "\n",
              "  <div id=\"id_a9d82462-f41e-492b-9777-8dc8831b61bc\">\n",
              "    <style>\n",
              "      .colab-df-generate {\n",
              "        background-color: #E8F0FE;\n",
              "        border: none;\n",
              "        border-radius: 50%;\n",
              "        cursor: pointer;\n",
              "        display: none;\n",
              "        fill: #1967D2;\n",
              "        height: 32px;\n",
              "        padding: 0 0 0 0;\n",
              "        width: 32px;\n",
              "      }\n",
              "\n",
              "      .colab-df-generate:hover {\n",
              "        background-color: #E2EBFA;\n",
              "        box-shadow: 0px 1px 2px rgba(60, 64, 67, 0.3), 0px 1px 3px 1px rgba(60, 64, 67, 0.15);\n",
              "        fill: #174EA6;\n",
              "      }\n",
              "\n",
              "      [theme=dark] .colab-df-generate {\n",
              "        background-color: #3B4455;\n",
              "        fill: #D2E3FC;\n",
              "      }\n",
              "\n",
              "      [theme=dark] .colab-df-generate:hover {\n",
              "        background-color: #434B5C;\n",
              "        box-shadow: 0px 1px 3px 1px rgba(0, 0, 0, 0.15);\n",
              "        filter: drop-shadow(0px 1px 2px rgba(0, 0, 0, 0.3));\n",
              "        fill: #FFFFFF;\n",
              "      }\n",
              "    </style>\n",
              "    <button class=\"colab-df-generate\" onclick=\"generateWithVariable('df_results')\"\n",
              "            title=\"Generate code using this dataframe.\"\n",
              "            style=\"display:none;\">\n",
              "\n",
              "  <svg xmlns=\"http://www.w3.org/2000/svg\" height=\"24px\"viewBox=\"0 0 24 24\"\n",
              "       width=\"24px\">\n",
              "    <path d=\"M7,19H8.4L18.45,9,17,7.55,7,17.6ZM5,21V16.75L18.45,3.32a2,2,0,0,1,2.83,0l1.4,1.43a1.91,1.91,0,0,1,.58,1.4,1.91,1.91,0,0,1-.58,1.4L9.25,21ZM18.45,9,17,7.55Zm-12,3A5.31,5.31,0,0,0,4.9,8.1,5.31,5.31,0,0,0,1,6.5,5.31,5.31,0,0,0,4.9,4.9,5.31,5.31,0,0,0,6.5,1,5.31,5.31,0,0,0,8.1,4.9,5.31,5.31,0,0,0,12,6.5,5.46,5.46,0,0,0,6.5,12Z\"/>\n",
              "  </svg>\n",
              "    </button>\n",
              "    <script>\n",
              "      (() => {\n",
              "      const buttonEl =\n",
              "        document.querySelector('#id_a9d82462-f41e-492b-9777-8dc8831b61bc button.colab-df-generate');\n",
              "      buttonEl.style.display =\n",
              "        google.colab.kernel.accessAllowed ? 'block' : 'none';\n",
              "\n",
              "      buttonEl.onclick = () => {\n",
              "        google.colab.notebook.generateWithVariable('df_results');\n",
              "      }\n",
              "      })();\n",
              "    </script>\n",
              "  </div>\n",
              "\n",
              "    </div>\n",
              "  </div>\n"
            ],
            "text/plain": [
              "           model mean_test_accuracy mean_test_precision mean_test_recall  \\\n",
              "0  Random Forest        0.96 ± 0.00         0.95 ± 0.00      0.89 ± 0.01   \n",
              "\n",
              "  mean_test_f1  \n",
              "0  0.92 ± 0.00  "
            ]
          },
          "execution_count": 21,
          "metadata": {},
          "output_type": "execute_result"
        }
      ],
      "source": [
        "metrics = ['mean_test_accuracy', 'mean_test_precision', 'mean_test_recall', 'mean_test_f1']\n",
        "df_results = {'model':'Random Forest'}\n",
        "for metric in metrics:\n",
        "    df_results[metric] = f\"{results[metric].mean():.2f} ± {results[metric].std():.2f}\"\n",
        "   # print(f\"{metric}: {results[metric].mean():.2f} ± {results[metric].std():.2f}\")\n",
        "df_results = pd.DataFrame(df_results, index=[0])\n",
        "df_results"
      ]
    },
    {
      "cell_type": "code",
      "execution_count": 23,
      "metadata": {
        "colab": {
          "base_uri": "https://localhost:8080/"
        },
        "id": "2-KNjV3akrsU",
        "outputId": "02b520a5-fb78-4c55-fe05-2b7a5dc9b4fc"
      },
      "outputs": [
        {
          "name": "stdout",
          "output_type": "stream",
          "text": [
            "\n",
            "Métricas no conjunto de teste:\n",
            "Acurácia: 0.96\n",
            "Precisão: 0.94\n",
            "Recall: 0.90\n",
            "F1-Score: 0.92\n",
            "\n",
            "Melhores parâmetros encontrados: {'classifier__criterion': 'gini', 'classifier__max_depth': None, 'classifier__min_samples_leaf': 1, 'classifier__min_samples_split': 5, 'classifier__n_estimators': 100}\n"
          ]
        }
      ],
      "source": [
        "# melhor modelo nos dados de teste\n",
        "best_model = grid_search.best_estimator_\n",
        "\n",
        "# previsões no conjunto de teste\n",
        "y_pred = best_model.predict(X_test)\n",
        "\n",
        "# métricas no conjunto de teste\n",
        "accuracy = accuracy_score(y_test, y_pred)\n",
        "precision = precision_score(y_test, y_pred, average='binary')\n",
        "recall = recall_score(y_test, y_pred, average='binary')\n",
        "f1 = f1_score(y_test, y_pred, average='binary')\n",
        "print(f'\\nMétricas no conjunto de teste:')\n",
        "print(f'Acurácia: {accuracy:.2f}')\n",
        "print(f'Precisão: {precision:.2f}')\n",
        "print(f'Recall: {recall:.2f}')\n",
        "print(f'F1-Score: {f1:.2f}')\n",
        "\n",
        "print(f'\\nMelhores parâmetros encontrados: {grid_search.best_params_}')"
      ]
    },
    {
      "cell_type": "code",
      "execution_count": 26,
      "metadata": {
        "colab": {
          "base_uri": "https://localhost:8080/",
          "height": 466
        },
        "id": "a5VQRtFDk0Fr",
        "outputId": "cd7283fd-48a6-4e2b-e44f-75ef0549b046"
      },
      "outputs": [
        {
          "data": {
            "text/plain": [
              "<sklearn.metrics._plot.confusion_matrix.ConfusionMatrixDisplay at 0x7eadfb09ba60>"
            ]
          },
          "execution_count": 26,
          "metadata": {},
          "output_type": "execute_result"
        },
        {
          "data": {
            "image/png": "[encoded data removed]",
            "text/plain": [
              "<Figure size 640x480 with 2 Axes>"
            ]
          },
          "metadata": {},
          "output_type": "display_data"
        }
      ],
      "source": [
        "ConfusionMatrixDisplay.from_predictions(y_test, y_pred)"
      ]
    },
    {
      "cell_type": "code",
      "execution_count": 29,
      "metadata": {
        "id": "9VgKUG16jrXh"
      },
      "outputs": [],
      "source": [
        "# salvando o modelo Random Forest\n",
        "with open('rf_model.pkl', 'wb') as f:\n",
        "    pickle.dump(grid_search, f)"
      ]
    },
    {
      "cell_type": "markdown",
      "metadata": {
        "id": "KCfuAjpJO1Hd"
      },
      "source": [
        "### Logistic Regression"
      ]
    },
    {
      "cell_type": "code",
      "execution_count": 41,
      "metadata": {
        "id": "fkYFNO2EO3AS"
      },
      "outputs": [],
      "source": [
        "pipeline = Pipeline(steps=[\n",
        "    ('preprocessor', preprocessor),\n",
        "    ('smote', SMOTE(random_state=42)),\n",
        "    ('classifier', LogisticRegression(solver=\"liblinear\", max_iter=1000, random_state=42))\n",
        "])"
      ]
    },
    {
      "cell_type": "code",
      "execution_count": 42,
      "metadata": {
        "id": "C-O2oS5WO6Dm"
      },
      "outputs": [],
      "source": [
        "lr_params = {\"classifier__penalty\": [\"l1\", \"l2\"], \"classifier__C\": [0.1,1.2],\"classifier__class_weight\":['balanced',None]}"
      ]
    },
    {
      "cell_type": "code",
      "execution_count": 43,
      "metadata": {
        "id": "U9BqrKDClA9m"
      },
      "outputs": [],
      "source": [
        "# GridSearchCV com validação cruzada\n",
        "grid_search = GridSearchCV(pipeline, lr_params, cv=10, scoring=scoring, refit='accuracy', return_train_score=True)"
      ]
    },
    {
      "cell_type": "code",
      "execution_count": 44,
      "metadata": {
        "colab": {
          "base_uri": "https://localhost:8080/",
          "height": 253
        },
        "id": "KEWEncwClF8q",
        "outputId": "2ae573f5-6951-45fe-a53c-eb88a51a0f44"
      },
      "outputs": [
        {
          "data": {
            "text/html": [
              "<style>#sk-container-id-2 {color: black;background-color: white;}#sk-container-id-2 pre{padding: 0;}#sk-container-id-2 div.sk-toggleable {background-color: white;}#sk-container-id-2 label.sk-toggleable__label {cursor: pointer;display: block;width: 100%;margin-bottom: 0;padding: 0.3em;box-sizing: border-box;text-align: center;}#sk-container-id-2 label.sk-toggleable__label-arrow:before {content: \"▸\";float: left;margin-right: 0.25em;color: #696969;}#sk-container-id-2 label.sk-toggleable__label-arrow:hover:before {color: black;}#sk-container-id-2 div.sk-estimator:hover label.sk-toggleable__label-arrow:before {color: black;}#sk-container-id-2 div.sk-toggleable__content {max-height: 0;max-width: 0;overflow: hidden;text-align: left;background-color: #f0f8ff;}#sk-container-id-2 div.sk-toggleable__content pre {margin: 0.2em;color: black;border-radius: 0.25em;background-color: #f0f8ff;}#sk-container-id-2 input.sk-toggleable__control:checked~div.sk-toggleable__content {max-height: 200px;max-width: 100%;overflow: auto;}#sk-container-id-2 input.sk-toggleable__control:checked~label.sk-toggleable__label-arrow:before {content: \"▾\";}#sk-container-id-2 div.sk-estimator input.sk-toggleable__control:checked~label.sk-toggleable__label {background-color: #d4ebff;}#sk-container-id-2 div.sk-label input.sk-toggleable__control:checked~label.sk-toggleable__label {background-color: #d4ebff;}#sk-container-id-2 input.sk-hidden--visually {border: 0;clip: rect(1px 1px 1px 1px);clip: rect(1px, 1px, 1px, 1px);height: 1px;margin: -1px;overflow: hidden;padding: 0;position: absolute;width: 1px;}#sk-container-id-2 div.sk-estimator {font-family: monospace;background-color: #f0f8ff;border: 1px dotted black;border-radius: 0.25em;box-sizing: border-box;margin-bottom: 0.5em;}#sk-container-id-2 div.sk-estimator:hover {background-color: #d4ebff;}#sk-container-id-2 div.sk-parallel-item::after {content: \"\";width: 100%;border-bottom: 1px solid gray;flex-grow: 1;}#sk-container-id-2 div.sk-label:hover label.sk-toggleable__label {background-color: #d4ebff;}#sk-container-id-2 div.sk-serial::before {content: \"\";position: absolute;border-left: 1px solid gray;box-sizing: border-box;top: 0;bottom: 0;left: 50%;z-index: 0;}#sk-container-id-2 div.sk-serial {display: flex;flex-direction: column;align-items: center;background-color: white;padding-right: 0.2em;padding-left: 0.2em;position: relative;}#sk-container-id-2 div.sk-item {position: relative;z-index: 1;}#sk-container-id-2 div.sk-parallel {display: flex;align-items: stretch;justify-content: center;background-color: white;position: relative;}#sk-container-id-2 div.sk-item::before, #sk-container-id-2 div.sk-parallel-item::before {content: \"\";position: absolute;border-left: 1px solid gray;box-sizing: border-box;top: 0;bottom: 0;left: 50%;z-index: -1;}#sk-container-id-2 div.sk-parallel-item {display: flex;flex-direction: column;z-index: 1;position: relative;background-color: white;}#sk-container-id-2 div.sk-parallel-item:first-child::after {align-self: flex-end;width: 50%;}#sk-container-id-2 div.sk-parallel-item:last-child::after {align-self: flex-start;width: 50%;}#sk-container-id-2 div.sk-parallel-item:only-child::after {width: 0;}#sk-container-id-2 div.sk-dashed-wrapped {border: 1px dashed gray;margin: 0 0.4em 0.5em 0.4em;box-sizing: border-box;padding-bottom: 0.4em;background-color: white;}#sk-container-id-2 div.sk-label label {font-family: monospace;font-weight: bold;display: inline-block;line-height: 1.2em;}#sk-container-id-2 div.sk-label-container {text-align: center;}#sk-container-id-2 div.sk-container {/* jupyter's `normalize.less` sets `[hidden] { display: none; }` but bootstrap.min.css set `[hidden] { display: none !important; }` so we also need the `!important` here to be able to override the default hidden behavior on the sphinx rendered scikit-learn.org. See: https://github.com/scikit-learn/scikit-learn/issues/21755 */display: inline-block !important;position: relative;}#sk-container-id-2 div.sk-text-repr-fallback {display: none;}</style><div id=\"sk-container-id-2\" class=\"sk-top-container\"><div class=\"sk-text-repr-fallback\"><pre>GridSearchCV(cv=10,\n",
              "             estimator=Pipeline(steps=[(&#x27;preprocessor&#x27;,\n",
              "                                        ColumnTransformer(transformers=[(&#x27;numerical&#x27;,\n",
              "                                                                         MinMaxScaler(),\n",
              "                                                                         Index([&#x27;carga_horária&#x27;, &#x27;fator_esforço_curso&#x27;, &#x27;idade&#x27;, &#x27;dia_inicio_ciclo&#x27;,\n",
              "       &#x27;mes_inicio_ciclo&#x27;, &#x27;ano_inicio_ciclo&#x27;, &#x27;dia_fim_ciclo&#x27;,\n",
              "       &#x27;mes_fim_ciclo&#x27;, &#x27;ano_fim_ciclo&#x27;, &#x27;dia_ocorrencia&#x27;, &#x27;mes_ocorrencia&#x27;,\n",
              "       &#x27;ano_ocorrencia&#x27;, &#x27;delta_days&#x27;],\n",
              "      dtype=...\n",
              "             param_grid={&#x27;classifier__C&#x27;: [0.1, 1.2],\n",
              "                         &#x27;classifier__class_weight&#x27;: [&#x27;balanced&#x27;, None],\n",
              "                         &#x27;classifier__penalty&#x27;: [&#x27;l1&#x27;, &#x27;l2&#x27;]},\n",
              "             refit=&#x27;accuracy&#x27;, return_train_score=True,\n",
              "             scoring={&#x27;accuracy&#x27;: make_scorer(accuracy_score),\n",
              "                      &#x27;f1&#x27;: make_scorer(f1_score, average=binary),\n",
              "                      &#x27;precision&#x27;: make_scorer(precision_score, average=binary),\n",
              "                      &#x27;recall&#x27;: make_scorer(recall_score, average=binary)})</pre><b>In a Jupyter environment, please rerun this cell to show the HTML representation or trust the notebook. <br />On GitHub, the HTML representation is unable to render, please try loading this page with nbviewer.org.</b></div><div class=\"sk-container\" hidden><div class=\"sk-item sk-dashed-wrapped\"><div class=\"sk-label-container\"><div class=\"sk-label sk-toggleable\"><input class=\"sk-toggleable__control sk-hidden--visually\" id=\"sk-estimator-id-10\" type=\"checkbox\" ><label for=\"sk-estimator-id-10\" class=\"sk-toggleable__label sk-toggleable__label-arrow\">GridSearchCV</label><div class=\"sk-toggleable__content\"><pre>GridSearchCV(cv=10,\n",
              "             estimator=Pipeline(steps=[(&#x27;preprocessor&#x27;,\n",
              "                                        ColumnTransformer(transformers=[(&#x27;numerical&#x27;,\n",
              "                                                                         MinMaxScaler(),\n",
              "                                                                         Index([&#x27;carga_horária&#x27;, &#x27;fator_esforço_curso&#x27;, &#x27;idade&#x27;, &#x27;dia_inicio_ciclo&#x27;,\n",
              "       &#x27;mes_inicio_ciclo&#x27;, &#x27;ano_inicio_ciclo&#x27;, &#x27;dia_fim_ciclo&#x27;,\n",
              "       &#x27;mes_fim_ciclo&#x27;, &#x27;ano_fim_ciclo&#x27;, &#x27;dia_ocorrencia&#x27;, &#x27;mes_ocorrencia&#x27;,\n",
              "       &#x27;ano_ocorrencia&#x27;, &#x27;delta_days&#x27;],\n",
              "      dtype=...\n",
              "             param_grid={&#x27;classifier__C&#x27;: [0.1, 1.2],\n",
              "                         &#x27;classifier__class_weight&#x27;: [&#x27;balanced&#x27;, None],\n",
              "                         &#x27;classifier__penalty&#x27;: [&#x27;l1&#x27;, &#x27;l2&#x27;]},\n",
              "             refit=&#x27;accuracy&#x27;, return_train_score=True,\n",
              "             scoring={&#x27;accuracy&#x27;: make_scorer(accuracy_score),\n",
              "                      &#x27;f1&#x27;: make_scorer(f1_score, average=binary),\n",
              "                      &#x27;precision&#x27;: make_scorer(precision_score, average=binary),\n",
              "                      &#x27;recall&#x27;: make_scorer(recall_score, average=binary)})</pre></div></div></div><div class=\"sk-parallel\"><div class=\"sk-parallel-item\"><div class=\"sk-item\"><div class=\"sk-label-container\"><div class=\"sk-label sk-toggleable\"><input class=\"sk-toggleable__control sk-hidden--visually\" id=\"sk-estimator-id-11\" type=\"checkbox\" ><label for=\"sk-estimator-id-11\" class=\"sk-toggleable__label sk-toggleable__label-arrow\">estimator: Pipeline</label><div class=\"sk-toggleable__content\"><pre>Pipeline(steps=[(&#x27;preprocessor&#x27;,\n",
              "                 ColumnTransformer(transformers=[(&#x27;numerical&#x27;, MinMaxScaler(),\n",
              "                                                  Index([&#x27;carga_horária&#x27;, &#x27;fator_esforço_curso&#x27;, &#x27;idade&#x27;, &#x27;dia_inicio_ciclo&#x27;,\n",
              "       &#x27;mes_inicio_ciclo&#x27;, &#x27;ano_inicio_ciclo&#x27;, &#x27;dia_fim_ciclo&#x27;,\n",
              "       &#x27;mes_fim_ciclo&#x27;, &#x27;ano_fim_ciclo&#x27;, &#x27;dia_ocorrencia&#x27;, &#x27;mes_ocorrencia&#x27;,\n",
              "       &#x27;ano_ocorrencia&#x27;, &#x27;delta_days&#x27;],\n",
              "      dtype=&#x27;object&#x27;)),\n",
              "                                                 (&#x27;categorical&#x27;,\n",
              "                                                  OneHotEncoder(drop=&#x27;first&#x27;,\n",
              "                                                                handle_unknown=&#x27;ignore&#x27;),\n",
              "                                                  Index([&#x27;cor/raça&#x27;, &#x27;faixa_etária&#x27;, &#x27;instituição&#x27;, &#x27;região&#x27;, &#x27;renda_familiar&#x27;,\n",
              "       &#x27;sexo&#x27;, &#x27;turno&#x27;, &#x27;uf&#x27;, &#x27;unidadede_ensino&#x27;],\n",
              "      dtype=&#x27;object&#x27;))])),\n",
              "                (&#x27;smote&#x27;, SMOTE(random_state=42)),\n",
              "                (&#x27;classifier&#x27;,\n",
              "                 LogisticRegression(max_iter=1000, random_state=42,\n",
              "                                    solver=&#x27;liblinear&#x27;))])</pre></div></div></div><div class=\"sk-serial\"><div class=\"sk-item\"><div class=\"sk-serial\"><div class=\"sk-item sk-dashed-wrapped\"><div class=\"sk-label-container\"><div class=\"sk-label sk-toggleable\"><input class=\"sk-toggleable__control sk-hidden--visually\" id=\"sk-estimator-id-12\" type=\"checkbox\" ><label for=\"sk-estimator-id-12\" class=\"sk-toggleable__label sk-toggleable__label-arrow\">preprocessor: ColumnTransformer</label><div class=\"sk-toggleable__content\"><pre>ColumnTransformer(transformers=[(&#x27;numerical&#x27;, MinMaxScaler(),\n",
              "                                 Index([&#x27;carga_horária&#x27;, &#x27;fator_esforço_curso&#x27;, &#x27;idade&#x27;, &#x27;dia_inicio_ciclo&#x27;,\n",
              "       &#x27;mes_inicio_ciclo&#x27;, &#x27;ano_inicio_ciclo&#x27;, &#x27;dia_fim_ciclo&#x27;,\n",
              "       &#x27;mes_fim_ciclo&#x27;, &#x27;ano_fim_ciclo&#x27;, &#x27;dia_ocorrencia&#x27;, &#x27;mes_ocorrencia&#x27;,\n",
              "       &#x27;ano_ocorrencia&#x27;, &#x27;delta_days&#x27;],\n",
              "      dtype=&#x27;object&#x27;)),\n",
              "                                (&#x27;categorical&#x27;,\n",
              "                                 OneHotEncoder(drop=&#x27;first&#x27;,\n",
              "                                               handle_unknown=&#x27;ignore&#x27;),\n",
              "                                 Index([&#x27;cor/raça&#x27;, &#x27;faixa_etária&#x27;, &#x27;instituição&#x27;, &#x27;região&#x27;, &#x27;renda_familiar&#x27;,\n",
              "       &#x27;sexo&#x27;, &#x27;turno&#x27;, &#x27;uf&#x27;, &#x27;unidadede_ensino&#x27;],\n",
              "      dtype=&#x27;object&#x27;))])</pre></div></div></div><div class=\"sk-parallel\"><div class=\"sk-parallel-item\"><div class=\"sk-item\"><div class=\"sk-label-container\"><div class=\"sk-label sk-toggleable\"><input class=\"sk-toggleable__control sk-hidden--visually\" id=\"sk-estimator-id-13\" type=\"checkbox\" ><label for=\"sk-estimator-id-13\" class=\"sk-toggleable__label sk-toggleable__label-arrow\">numerical</label><div class=\"sk-toggleable__content\"><pre>Index([&#x27;carga_horária&#x27;, &#x27;fator_esforço_curso&#x27;, &#x27;idade&#x27;, &#x27;dia_inicio_ciclo&#x27;,\n",
              "       &#x27;mes_inicio_ciclo&#x27;, &#x27;ano_inicio_ciclo&#x27;, &#x27;dia_fim_ciclo&#x27;,\n",
              "       &#x27;mes_fim_ciclo&#x27;, &#x27;ano_fim_ciclo&#x27;, &#x27;dia_ocorrencia&#x27;, &#x27;mes_ocorrencia&#x27;,\n",
              "       &#x27;ano_ocorrencia&#x27;, &#x27;delta_days&#x27;],\n",
              "      dtype=&#x27;object&#x27;)</pre></div></div></div><div class=\"sk-serial\"><div class=\"sk-item\"><div class=\"sk-estimator sk-toggleable\"><input class=\"sk-toggleable__control sk-hidden--visually\" id=\"sk-estimator-id-14\" type=\"checkbox\" ><label for=\"sk-estimator-id-14\" class=\"sk-toggleable__label sk-toggleable__label-arrow\">MinMaxScaler</label><div class=\"sk-toggleable__content\"><pre>MinMaxScaler()</pre></div></div></div></div></div></div><div class=\"sk-parallel-item\"><div class=\"sk-item\"><div class=\"sk-label-container\"><div class=\"sk-label sk-toggleable\"><input class=\"sk-toggleable__control sk-hidden--visually\" id=\"sk-estimator-id-15\" type=\"checkbox\" ><label for=\"sk-estimator-id-15\" class=\"sk-toggleable__label sk-toggleable__label-arrow\">categorical</label><div class=\"sk-toggleable__content\"><pre>Index([&#x27;cor/raça&#x27;, &#x27;faixa_etária&#x27;, &#x27;instituição&#x27;, &#x27;região&#x27;, &#x27;renda_familiar&#x27;,\n",
              "       &#x27;sexo&#x27;, &#x27;turno&#x27;, &#x27;uf&#x27;, &#x27;unidadede_ensino&#x27;],\n",
              "      dtype=&#x27;object&#x27;)</pre></div></div></div><div class=\"sk-serial\"><div class=\"sk-item\"><div class=\"sk-estimator sk-toggleable\"><input class=\"sk-toggleable__control sk-hidden--visually\" id=\"sk-estimator-id-16\" type=\"checkbox\" ><label for=\"sk-estimator-id-16\" class=\"sk-toggleable__label sk-toggleable__label-arrow\">OneHotEncoder</label><div class=\"sk-toggleable__content\"><pre>OneHotEncoder(drop=&#x27;first&#x27;, handle_unknown=&#x27;ignore&#x27;)</pre></div></div></div></div></div></div></div></div><div class=\"sk-item\"><div class=\"sk-estimator sk-toggleable\"><input class=\"sk-toggleable__control sk-hidden--visually\" id=\"sk-estimator-id-17\" type=\"checkbox\" ><label for=\"sk-estimator-id-17\" class=\"sk-toggleable__label sk-toggleable__label-arrow\">SMOTE</label><div class=\"sk-toggleable__content\"><pre>SMOTE(random_state=42)</pre></div></div></div><div class=\"sk-item\"><div class=\"sk-estimator sk-toggleable\"><input class=\"sk-toggleable__control sk-hidden--visually\" id=\"sk-estimator-id-18\" type=\"checkbox\" ><label for=\"sk-estimator-id-18\" class=\"sk-toggleable__label sk-toggleable__label-arrow\">LogisticRegression</label><div class=\"sk-toggleable__content\"><pre>LogisticRegression(max_iter=1000, random_state=42, solver=&#x27;liblinear&#x27;)</pre></div></div></div></div></div></div></div></div></div></div></div></div>"
            ],
            "text/plain": [
              "GridSearchCV(cv=10,\n",
              "             estimator=Pipeline(steps=[('preprocessor',\n",
              "                                        ColumnTransformer(transformers=[('numerical',\n",
              "                                                                         MinMaxScaler(),\n",
              "                                                                         Index(['carga_horária', 'fator_esforço_curso', 'idade', 'dia_inicio_ciclo',\n",
              "       'mes_inicio_ciclo', 'ano_inicio_ciclo', 'dia_fim_ciclo',\n",
              "       'mes_fim_ciclo', 'ano_fim_ciclo', 'dia_ocorrencia', 'mes_ocorrencia',\n",
              "       'ano_ocorrencia', 'delta_days'],\n",
              "      dtype=...\n",
              "             param_grid={'classifier__C': [0.1, 1.2],\n",
              "                         'classifier__class_weight': ['balanced', None],\n",
              "                         'classifier__penalty': ['l1', 'l2']},\n",
              "             refit='accuracy', return_train_score=True,\n",
              "             scoring={'accuracy': make_scorer(accuracy_score),\n",
              "                      'f1': make_scorer(f1_score, average=binary),\n",
              "                      'precision': make_scorer(precision_score, average=binary),\n",
              "                      'recall': make_scorer(recall_score, average=binary)})"
            ]
          },
          "execution_count": 44,
          "metadata": {},
          "output_type": "execute_result"
        }
      ],
      "source": [
        "grid_search.fit(X_train, y_train)"
      ]
    },
    {
      "cell_type": "code",
      "execution_count": 45,
      "metadata": {
        "id": "Z33dy68Nl5x2"
      },
      "outputs": [],
      "source": [
        "results = grid_search.cv_results_"
      ]
    },
    {
      "cell_type": "code",
      "execution_count": 47,
      "metadata": {
        "colab": {
          "base_uri": "https://localhost:8080/",
          "height": 89
        },
        "id": "VwuLbSxpl7bd",
        "outputId": "9e7ba56e-0be9-4ca4-8819-026a8da115ca"
      },
      "outputs": [
        {
          "data": {
            "application/vnd.google.colaboratory.intrinsic+json": {
              "summary": "{\n  \"name\": \"df_results\",\n  \"rows\": 1,\n  \"fields\": [\n    {\n      \"column\": \"model\",\n      \"properties\": {\n        \"dtype\": \"string\",\n        \"num_unique_values\": 1,\n        \"samples\": [\n          \"Logistic Regression\"\n        ],\n        \"semantic_type\": \"\",\n        \"description\": \"\"\n      }\n    },\n    {\n      \"column\": \"mean_test_accuracy\",\n      \"properties\": {\n        \"dtype\": \"string\",\n        \"num_unique_values\": 1,\n        \"samples\": [\n          \"0.87 \\u00b1 0.02\"\n        ],\n        \"semantic_type\": \"\",\n        \"description\": \"\"\n      }\n    },\n    {\n      \"column\": \"mean_test_precision\",\n      \"properties\": {\n        \"dtype\": \"string\",\n        \"num_unique_values\": 1,\n        \"samples\": [\n          \"0.68 \\u00b1 0.03\"\n        ],\n        \"semantic_type\": \"\",\n        \"description\": \"\"\n      }\n    },\n    {\n      \"column\": \"mean_test_recall\",\n      \"properties\": {\n        \"dtype\": \"string\",\n        \"num_unique_values\": 1,\n        \"samples\": [\n          \"0.80 \\u00b1 0.02\"\n        ],\n        \"semantic_type\": \"\",\n        \"description\": \"\"\n      }\n    },\n    {\n      \"column\": \"mean_test_f1\",\n      \"properties\": {\n        \"dtype\": \"string\",\n        \"num_unique_values\": 1,\n        \"samples\": [\n          \"0.73 \\u00b1 0.03\"\n        ],\n        \"semantic_type\": \"\",\n        \"description\": \"\"\n      }\n    }\n  ]\n}",
              "type": "dataframe",
              "variable_name": "df_results"
            },
            "text/html": [
              "\n",
              "  <div id=\"df-05ca19af-edc8-4fa4-9057-f90ef0402434\" class=\"colab-df-container\">\n",
              "    <div>\n",
              "<style scoped>\n",
              "    .dataframe tbody tr th:only-of-type {\n",
              "        vertical-align: middle;\n",
              "    }\n",
              "\n",
              "    .dataframe tbody tr th {\n",
              "        vertical-align: top;\n",
              "    }\n",
              "\n",
              "    .dataframe thead th {\n",
              "        text-align: right;\n",
              "    }\n",
              "</style>\n",
              "<table border=\"1\" class=\"dataframe\">\n",
              "  <thead>\n",
              "    <tr style=\"text-align: right;\">\n",
              "      <th></th>\n",
              "      <th>model</th>\n",
              "      <th>mean_test_accuracy</th>\n",
              "      <th>mean_test_precision</th>\n",
              "      <th>mean_test_recall</th>\n",
              "      <th>mean_test_f1</th>\n",
              "    </tr>\n",
              "  </thead>\n",
              "  <tbody>\n",
              "    <tr>\n",
              "      <th>0</th>\n",
              "      <td>Logistic Regression</td>\n",
              "      <td>0.87 ± 0.02</td>\n",
              "      <td>0.68 ± 0.03</td>\n",
              "      <td>0.80 ± 0.02</td>\n",
              "      <td>0.73 ± 0.03</td>\n",
              "    </tr>\n",
              "  </tbody>\n",
              "</table>\n",
              "</div>\n",
              "    <div class=\"colab-df-buttons\">\n",
              "\n",
              "  <div class=\"colab-df-container\">\n",
              "    <button class=\"colab-df-convert\" onclick=\"convertToInteractive('df-05ca19af-edc8-4fa4-9057-f90ef0402434')\"\n",
              "            title=\"Convert this dataframe to an interactive table.\"\n",
              "            style=\"display:none;\">\n",
              "\n",
              "  <svg xmlns=\"http://www.w3.org/2000/svg\" height=\"24px\" viewBox=\"0 -960 960 960\">\n",
              "    <path d=\"M120-120v-720h720v720H120Zm60-500h600v-160H180v160Zm220 220h160v-160H400v160Zm0 220h160v-160H400v160ZM180-400h160v-160H180v160Zm440 0h160v-160H620v160ZM180-180h160v-160H180v160Zm440 0h160v-160H620v160Z\"/>\n",
              "  </svg>\n",
              "    </button>\n",
              "\n",
              "  <style>\n",
              "    .colab-df-container {\n",
              "      display:flex;\n",
              "      gap: 12px;\n",
              "    }\n",
              "\n",
              "    .colab-df-convert {\n",
              "      background-color: #E8F0FE;\n",
              "      border: none;\n",
              "      border-radius: 50%;\n",
              "      cursor: pointer;\n",
              "      display: none;\n",
              "      fill: #1967D2;\n",
              "      height: 32px;\n",
              "      padding: 0 0 0 0;\n",
              "      width: 32px;\n",
              "    }\n",
              "\n",
              "    .colab-df-convert:hover {\n",
              "      background-color: #E2EBFA;\n",
              "      box-shadow: 0px 1px 2px rgba(60, 64, 67, 0.3), 0px 1px 3px 1px rgba(60, 64, 67, 0.15);\n",
              "      fill: #174EA6;\n",
              "    }\n",
              "\n",
              "    .colab-df-buttons div {\n",
              "      margin-bottom: 4px;\n",
              "    }\n",
              "\n",
              "    [theme=dark] .colab-df-convert {\n",
              "      background-color: #3B4455;\n",
              "      fill: #D2E3FC;\n",
              "    }\n",
              "\n",
              "    [theme=dark] .colab-df-convert:hover {\n",
              "      background-color: #434B5C;\n",
              "      box-shadow: 0px 1px 3px 1px rgba(0, 0, 0, 0.15);\n",
              "      filter: drop-shadow(0px 1px 2px rgba(0, 0, 0, 0.3));\n",
              "      fill: #FFFFFF;\n",
              "    }\n",
              "  </style>\n",
              "\n",
              "    <script>\n",
              "      const buttonEl =\n",
              "        document.querySelector('#df-05ca19af-edc8-4fa4-9057-f90ef0402434 button.colab-df-convert');\n",
              "      buttonEl.style.display =\n",
              "        google.colab.kernel.accessAllowed ? 'block' : 'none';\n",
              "\n",
              "      async function convertToInteractive(key) {\n",
              "        const element = document.querySelector('#df-05ca19af-edc8-4fa4-9057-f90ef0402434');\n",
              "        const dataTable =\n",
              "          await google.colab.kernel.invokeFunction('convertToInteractive',\n",
              "                                                    [key], {});\n",
              "        if (!dataTable) return;\n",
              "\n",
              "        const docLinkHtml = 'Like what you see? Visit the ' +\n",
              "          '<a target=\"_blank\" href=https://colab.research.google.com/notebooks/data_table.ipynb>data table notebook</a>'\n",
              "          + ' to learn more about interactive tables.';\n",
              "        element.innerHTML = '';\n",
              "        dataTable['output_type'] = 'display_data';\n",
              "        await google.colab.output.renderOutput(dataTable, element);\n",
              "        const docLink = document.createElement('div');\n",
              "        docLink.innerHTML = docLinkHtml;\n",
              "        element.appendChild(docLink);\n",
              "      }\n",
              "    </script>\n",
              "  </div>\n",
              "\n",
              "\n",
              "  <div id=\"id_5b62a1ad-5861-4eaf-8ee4-c44eedf39844\">\n",
              "    <style>\n",
              "      .colab-df-generate {\n",
              "        background-color: #E8F0FE;\n",
              "        border: none;\n",
              "        border-radius: 50%;\n",
              "        cursor: pointer;\n",
              "        display: none;\n",
              "        fill: #1967D2;\n",
              "        height: 32px;\n",
              "        padding: 0 0 0 0;\n",
              "        width: 32px;\n",
              "      }\n",
              "\n",
              "      .colab-df-generate:hover {\n",
              "        background-color: #E2EBFA;\n",
              "        box-shadow: 0px 1px 2px rgba(60, 64, 67, 0.3), 0px 1px 3px 1px rgba(60, 64, 67, 0.15);\n",
              "        fill: #174EA6;\n",
              "      }\n",
              "\n",
              "      [theme=dark] .colab-df-generate {\n",
              "        background-color: #3B4455;\n",
              "        fill: #D2E3FC;\n",
              "      }\n",
              "\n",
              "      [theme=dark] .colab-df-generate:hover {\n",
              "        background-color: #434B5C;\n",
              "        box-shadow: 0px 1px 3px 1px rgba(0, 0, 0, 0.15);\n",
              "        filter: drop-shadow(0px 1px 2px rgba(0, 0, 0, 0.3));\n",
              "        fill: #FFFFFF;\n",
              "      }\n",
              "    </style>\n",
              "    <button class=\"colab-df-generate\" onclick=\"generateWithVariable('df_results')\"\n",
              "            title=\"Generate code using this dataframe.\"\n",
              "            style=\"display:none;\">\n",
              "\n",
              "  <svg xmlns=\"http://www.w3.org/2000/svg\" height=\"24px\"viewBox=\"0 0 24 24\"\n",
              "       width=\"24px\">\n",
              "    <path d=\"M7,19H8.4L18.45,9,17,7.55,7,17.6ZM5,21V16.75L18.45,3.32a2,2,0,0,1,2.83,0l1.4,1.43a1.91,1.91,0,0,1,.58,1.4,1.91,1.91,0,0,1-.58,1.4L9.25,21ZM18.45,9,17,7.55Zm-12,3A5.31,5.31,0,0,0,4.9,8.1,5.31,5.31,0,0,0,1,6.5,5.31,5.31,0,0,0,4.9,4.9,5.31,5.31,0,0,0,6.5,1,5.31,5.31,0,0,0,8.1,4.9,5.31,5.31,0,0,0,12,6.5,5.46,5.46,0,0,0,6.5,12Z\"/>\n",
              "  </svg>\n",
              "    </button>\n",
              "    <script>\n",
              "      (() => {\n",
              "      const buttonEl =\n",
              "        document.querySelector('#id_5b62a1ad-5861-4eaf-8ee4-c44eedf39844 button.colab-df-generate');\n",
              "      buttonEl.style.display =\n",
              "        google.colab.kernel.accessAllowed ? 'block' : 'none';\n",
              "\n",
              "      buttonEl.onclick = () => {\n",
              "        google.colab.notebook.generateWithVariable('df_results');\n",
              "      }\n",
              "      })();\n",
              "    </script>\n",
              "  </div>\n",
              "\n",
              "    </div>\n",
              "  </div>\n"
            ],
            "text/plain": [
              "                 model mean_test_accuracy mean_test_precision  \\\n",
              "0  Logistic Regression        0.87 ± 0.02         0.68 ± 0.03   \n",
              "\n",
              "  mean_test_recall mean_test_f1  \n",
              "0      0.80 ± 0.02  0.73 ± 0.03  "
            ]
          },
          "execution_count": 47,
          "metadata": {},
          "output_type": "execute_result"
        }
      ],
      "source": [
        "metrics = ['mean_test_accuracy', 'mean_test_precision', 'mean_test_recall', 'mean_test_f1']\n",
        "df_results = {'model':'Logistic Regression'}\n",
        "for metric in metrics:\n",
        "    df_results[metric] = f\"{results[metric].mean():.2f} ± {results[metric].std():.2f}\"\n",
        "   # print(f\"{metric}: {results[metric].mean():.2f} ± {results[metric].std():.2f}\")\n",
        "df_results = pd.DataFrame(df_results, index=[0])\n",
        "df_results"
      ]
    },
    {
      "cell_type": "code",
      "execution_count": 48,
      "metadata": {
        "colab": {
          "base_uri": "https://localhost:8080/"
        },
        "id": "qVL-03RWmH9A",
        "outputId": "e8216115-e434-42ce-cffe-8b77eeaed20e"
      },
      "outputs": [
        {
          "name": "stdout",
          "output_type": "stream",
          "text": [
            "\n",
            "Métricas no conjunto de teste:\n",
            "Acurácia: 0.87\n",
            "Precisão: 0.68\n",
            "Recall: 0.84\n",
            "F1-Score: 0.75\n",
            "\n",
            "Melhores parâmetros encontrados: {'classifier__C': 1.2, 'classifier__class_weight': 'balanced', 'classifier__penalty': 'l1'}\n"
          ]
        }
      ],
      "source": [
        "# melhor modelo nos dados de teste\n",
        "best_model = grid_search.best_estimator_\n",
        "\n",
        "# previsões no conjunto de teste\n",
        "y_pred = best_model.predict(X_test)\n",
        "\n",
        "# métricas no conjunto de teste\n",
        "accuracy = accuracy_score(y_test, y_pred)\n",
        "precision = precision_score(y_test, y_pred, average='binary')\n",
        "recall = recall_score(y_test, y_pred, average='binary')\n",
        "f1 = f1_score(y_test, y_pred, average='binary')\n",
        "print(f'\\nMétricas no conjunto de teste:')\n",
        "print(f'Acurácia: {accuracy:.2f}')\n",
        "print(f'Precisão: {precision:.2f}')\n",
        "print(f'Recall: {recall:.2f}')\n",
        "print(f'F1-Score: {f1:.2f}')\n",
        "\n",
        "print(f'\\nMelhores parâmetros encontrados: {grid_search.best_params_}')"
      ]
    },
    {
      "cell_type": "code",
      "execution_count": 49,
      "metadata": {
        "colab": {
          "base_uri": "https://localhost:8080/",
          "height": 466
        },
        "id": "iNiTFYVRmKvp",
        "outputId": "a0bd6182-ba64-4738-c9ff-fd78d13a355d"
      },
      "outputs": [
        {
          "data": {
            "text/plain": [
              "<sklearn.metrics._plot.confusion_matrix.ConfusionMatrixDisplay at 0x7eadf66ee350>"
            ]
          },
          "execution_count": 49,
          "metadata": {},
          "output_type": "execute_result"
        },
        {
          "data": {
            "image/png": "[encoded data removed]",
            "text/plain": [
              "<Figure size 640x480 with 2 Axes>"
            ]
          },
          "metadata": {},
          "output_type": "display_data"
        }
      ],
      "source": [
        "ConfusionMatrixDisplay.from_predictions(y_test, y_pred)"
      ]
    },
    {
      "cell_type": "markdown",
      "metadata": {
        "id": "zhLdSR6cmxHx"
      },
      "source": [
        "### Conclusões\n",
        "\n",
        "\n",
        "O melhor modelo (Random Forest) foi escolhido com base nas métricas de Precision e Recall, uma vez que:\n",
        "\n",
        "> **Recall:**\n",
        "-  No problema da evasão estudantil, o foco principal é identificar todos os alunos em risco, que significa maximizar o recall, uma vez que essa métrica nos dá a probabilidade de uma classe positiva ser corretamente classificada. O recall do modelo no conjunto de teste foi de 89%, garantindo que poucos alunos evadidos fossem deixados de fora, isto é,89% dos evadidos foram corretamente classificados pelo modelo.\n",
        "\n",
        "> **Precisão:**\n",
        "- Essa também é uma métrica importante se quisermos priorizar alarmes falsos, que seriam os casos de falsos positivos - quando o aluno não é evadido, mas o modelo classifica como tal. O modelo apresentou uma precisão de 95%, ou seja, de todos os alunos que ele classificou como evadido, ele esteve correto em 95% das vezes. Isso garante que esforços de intervenção não sejam desperdiçados em alunos que não estejam em risco."
      ]
    }
  ],
  "metadata": {
    "colab": {
      "provenance": []
    },
    "kernelspec": {
      "display_name": "Python 3",
      "name": "python3"
    },
    "language_info": {
      "codemirror_mode": {
        "name": "ipython",
        "version": 3
      },
      "file_extension": ".py",
      "mimetype": "text/x-python",
      "name": "python",
      "nbconvert_exporter": "python",
      "pygments_lexer": "ipython3",
      "version": "3.12.4"
    }
  },
  "nbformat": 4,
  "nbformat_minor": 0
}

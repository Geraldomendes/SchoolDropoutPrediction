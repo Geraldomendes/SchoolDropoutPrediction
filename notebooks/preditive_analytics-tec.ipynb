{
 "cells": [
  {
   "cell_type": "markdown",
   "metadata": {},
   "source": [
    "### <p style=\"color:yellow;\">Descrição do problema:</p>\n",
    "\n",
    "Dados os obstáculos enfrentados pelo sistema educacional, a evasão escolar\n",
    "desempenha um papel crucial, afetando estudantes de diferentes contextos\n",
    "socioeconômicos. Com base nisso, este trabalho propõe **construir um modelo\n",
    "preditivo baseado em técnicas de Ciência de Dados para prever a taxa de evasão no\n",
    "ensino médio e técnico brasileiro**. O estudo aborda a complexidade deste fenômeno,\n",
    "destacando a sua natureza social e a necessidade de soluções proativas. A\n",
    "abordagem utiliza dados do censo escolar da educação básica e inclui a análise\n",
    "exploratória de dados e técnicas de aprendizado de máquina. O modelo proposto visa\n",
    "prever a evasão escolar, permitindo uma intervenção personalizada e prestando\n",
    "apoio específico aos alunos desfavorecidos. Além de contribuir para a compreensão\n",
    "dos fatores associados à evasão escolar, os resultados pretendem oferecer uma\n",
    "abordagem inovadora para a prevenção desse fenômeno, indo além do meio\n",
    "acadêmico de modo a proporcionar contribuições práticas ao campo educacional.\n",
    "\n",
    "### <p style=\"color:yellow;\">Algoritmos a serem utilizados:</p>\n",
    "\n",
    "- **Random Forest**:\n",
    "\n",
    "    - Motivo: Por se tratar de um algoritmo baseado em árvores de decisão, Random Forest pode ser uma solução robusta\n",
    "    e capaz de lidar com diferentes características no conjunto de dados.\n",
    "\n",
    "- **Gradient Boosting Machines (GBM)**:\n",
    "\n",
    "    - Motivo: Assim como o Random Forest, o GBM é um algoritmo baseado em árvores, porém constrói modelos de maneira\n",
    "    sequencial, onde cada novo modelo subsequente tende a corrigir as previsões dos modelos anteriores. É uma solução\n",
    "    eficaz para capturar padrões complexos.\n",
    "\n",
    "- **Support Vector Machine (SVM)**:\n",
    "\n",
    "    - Motivo: O SVM é útil em situações onde a separação entre classes não é linear, onde este algoritmo irá projetar \n",
    "    os dados em um espaço dimensional maior onde a separação é viável. Utilizar o SVM pode ser uma ótima solução para\n",
    "    encontrar uma fronteira de decisão ótima entre alunos que evadem e alunos que não evadem.\n",
    "\n",
    "- **Logistic Regression**:\n",
    "\n",
    "    - Motivo: É um modelo de fácil interpretação e bastante robusto e eficaz quando se trata de problemas de classificação ou quando há uma relação linear entre as carcterísticas e a probabilidade de evasão.\n",
    "\n",
    "- **K-Nearest Neighbors (KNN)**:\n",
    "\n",
    "    - Motivo: O KNN é um algoritmo que apesar de simples, pode ser útil para captar grupos similares\n",
    "    entre os alunos, onde utiliza cálculos de distância para encontrar os vizinhos mais próximos a um\n",
    "    ponto específico, atribuindo uma nova classe.\n"
   ]
  },
  {
   "cell_type": "markdown",
   "metadata": {},
   "source": [
    "### Importação das bibliotecas"
   ]
  },
  {
   "cell_type": "code",
   "execution_count": 1,
   "metadata": {},
   "outputs": [],
   "source": [
    "import pandas as pd\n",
    "\n",
    "import numpy as np\n",
    "import matplotlib.pyplot as plt\n",
    "\n",
    "\n",
    "#from sklearn.tree import plot_tree\n",
    "from sklearn.neighbors import KNeighborsClassifier\n",
    "#from sklearn import tree\n",
    "from sklearn.ensemble import RandomForestClassifier, GradientBoostingClassifier\n",
    "from sklearn.linear_model import LogisticRegression\n",
    "from sklearn.svm import SVC\n",
    "\n",
    "from sklearn.model_selection import train_test_split\n",
    "from sklearn.model_selection import  GridSearchCV, RandomizedSearchCV, cross_validate\n",
    "from sklearn.preprocessing import OneHotEncoder,  MinMaxScaler\n",
    "\n",
    "from sklearn.compose import ColumnTransformer\n",
    "from sklearn.pipeline import Pipeline\n",
    "\n",
    "from scipy import stats\n",
    "from sklearn import model_selection\n",
    "from sklearn import metrics\n",
    "from sklearn.metrics import accuracy_score,  precision_score, f1_score, recall_score,classification_report\n",
    "\n",
    "from sklearn.metrics import confusion_matrix\n",
    "from sklearn.metrics import ConfusionMatrixDisplay\n",
    "\n",
    "import inflection\n",
    "import warnings\n",
    "warnings.filterwarnings(\"ignore\")"
   ]
  },
  {
   "cell_type": "code",
   "execution_count": 2,
   "metadata": {},
   "outputs": [
    {
     "data": {
      "text/html": [
       "<div>\n",
       "<style scoped>\n",
       "    .dataframe tbody tr th:only-of-type {\n",
       "        vertical-align: middle;\n",
       "    }\n",
       "\n",
       "    .dataframe tbody tr th {\n",
       "        vertical-align: top;\n",
       "    }\n",
       "\n",
       "    .dataframe thead th {\n",
       "        text-align: right;\n",
       "    }\n",
       "</style>\n",
       "<table border=\"1\" class=\"dataframe\">\n",
       "  <thead>\n",
       "    <tr style=\"text-align: right;\">\n",
       "      <th></th>\n",
       "      <th>Carga Horária</th>\n",
       "      <th>Categoria da Situação</th>\n",
       "      <th>Código da Matrícula</th>\n",
       "      <th>Cor/Raça</th>\n",
       "      <th>Data de Início do Ciclo</th>\n",
       "      <th>Data de Fim Previsto do Ciclo</th>\n",
       "      <th>Faixa Etária</th>\n",
       "      <th>Fator Esforço Curso</th>\n",
       "      <th>Idade</th>\n",
       "      <th>Instituição</th>\n",
       "      <th>Mês de Ocorrência da Situação</th>\n",
       "      <th>Região</th>\n",
       "      <th>Renda Familiar</th>\n",
       "      <th>Sexo</th>\n",
       "      <th>Turno</th>\n",
       "      <th>UF</th>\n",
       "      <th>Unidade de Ensino</th>\n",
       "    </tr>\n",
       "  </thead>\n",
       "  <tbody>\n",
       "    <tr>\n",
       "      <th>0</th>\n",
       "      <td>4560</td>\n",
       "      <td>Concluintes</td>\n",
       "      <td>72082427</td>\n",
       "      <td>branca</td>\n",
       "      <td>2017-04-07</td>\n",
       "      <td>2019-12-21</td>\n",
       "      <td>15 a 19 anos</td>\n",
       "      <td>1.0</td>\n",
       "      <td>18.0</td>\n",
       "      <td>CPII</td>\n",
       "      <td>2019-12-01</td>\n",
       "      <td>Região Sudeste</td>\n",
       "      <td>1,5&lt;RFP&lt;=2,5</td>\n",
       "      <td>Feminino</td>\n",
       "      <td>Matutino</td>\n",
       "      <td>RJ</td>\n",
       "      <td>Campus Tijuca II</td>\n",
       "    </tr>\n",
       "    <tr>\n",
       "      <th>1</th>\n",
       "      <td>4560</td>\n",
       "      <td>Concluintes</td>\n",
       "      <td>72082311</td>\n",
       "      <td>branca</td>\n",
       "      <td>2017-04-07</td>\n",
       "      <td>2019-12-21</td>\n",
       "      <td>15 a 19 anos</td>\n",
       "      <td>1.0</td>\n",
       "      <td>18.0</td>\n",
       "      <td>CPII</td>\n",
       "      <td>2019-12-01</td>\n",
       "      <td>Região Sudeste</td>\n",
       "      <td>Não declarada</td>\n",
       "      <td>Masculino</td>\n",
       "      <td>Matutino</td>\n",
       "      <td>RJ</td>\n",
       "      <td>Campus Tijuca II</td>\n",
       "    </tr>\n",
       "    <tr>\n",
       "      <th>2</th>\n",
       "      <td>4560</td>\n",
       "      <td>Concluintes</td>\n",
       "      <td>72082437</td>\n",
       "      <td>branca</td>\n",
       "      <td>2017-04-07</td>\n",
       "      <td>2019-12-21</td>\n",
       "      <td>15 a 19 anos</td>\n",
       "      <td>1.0</td>\n",
       "      <td>18.0</td>\n",
       "      <td>CPII</td>\n",
       "      <td>2019-12-01</td>\n",
       "      <td>Região Sudeste</td>\n",
       "      <td>RFP&gt;3,5</td>\n",
       "      <td>Feminino</td>\n",
       "      <td>Matutino</td>\n",
       "      <td>RJ</td>\n",
       "      <td>Campus Tijuca II</td>\n",
       "    </tr>\n",
       "    <tr>\n",
       "      <th>3</th>\n",
       "      <td>4560</td>\n",
       "      <td>Concluintes</td>\n",
       "      <td>72898296</td>\n",
       "      <td>branca</td>\n",
       "      <td>2017-04-07</td>\n",
       "      <td>2019-12-21</td>\n",
       "      <td>15 a 19 anos</td>\n",
       "      <td>1.0</td>\n",
       "      <td>18.0</td>\n",
       "      <td>CPII</td>\n",
       "      <td>2019-12-01</td>\n",
       "      <td>Região Sudeste</td>\n",
       "      <td>Não declarada</td>\n",
       "      <td>Feminino</td>\n",
       "      <td>Matutino</td>\n",
       "      <td>RJ</td>\n",
       "      <td>Campus Tijuca II</td>\n",
       "    </tr>\n",
       "    <tr>\n",
       "      <th>4</th>\n",
       "      <td>4560</td>\n",
       "      <td>Concluintes</td>\n",
       "      <td>72082281</td>\n",
       "      <td>branca</td>\n",
       "      <td>2017-04-07</td>\n",
       "      <td>2019-12-21</td>\n",
       "      <td>15 a 19 anos</td>\n",
       "      <td>1.0</td>\n",
       "      <td>18.0</td>\n",
       "      <td>CPII</td>\n",
       "      <td>2019-12-01</td>\n",
       "      <td>Região Sudeste</td>\n",
       "      <td>RFP&gt;3,5</td>\n",
       "      <td>Feminino</td>\n",
       "      <td>Matutino</td>\n",
       "      <td>RJ</td>\n",
       "      <td>Campus Tijuca II</td>\n",
       "    </tr>\n",
       "  </tbody>\n",
       "</table>\n",
       "</div>"
      ],
      "text/plain": [
       "   Carga Horária Categoria da Situação  Código da Matrícula Cor/Raça  \\\n",
       "0           4560           Concluintes             72082427   branca   \n",
       "1           4560           Concluintes             72082311   branca   \n",
       "2           4560           Concluintes             72082437   branca   \n",
       "3           4560           Concluintes             72898296   branca   \n",
       "4           4560           Concluintes             72082281   branca   \n",
       "\n",
       "  Data de Início do Ciclo Data de Fim Previsto do Ciclo  Faixa Etária  \\\n",
       "0              2017-04-07                    2019-12-21  15 a 19 anos   \n",
       "1              2017-04-07                    2019-12-21  15 a 19 anos   \n",
       "2              2017-04-07                    2019-12-21  15 a 19 anos   \n",
       "3              2017-04-07                    2019-12-21  15 a 19 anos   \n",
       "4              2017-04-07                    2019-12-21  15 a 19 anos   \n",
       "\n",
       "   Fator Esforço Curso  Idade Instituição Mês de Ocorrência da Situação  \\\n",
       "0                  1.0   18.0        CPII                    2019-12-01   \n",
       "1                  1.0   18.0        CPII                    2019-12-01   \n",
       "2                  1.0   18.0        CPII                    2019-12-01   \n",
       "3                  1.0   18.0        CPII                    2019-12-01   \n",
       "4                  1.0   18.0        CPII                    2019-12-01   \n",
       "\n",
       "           Região Renda Familiar       Sexo     Turno  UF Unidade de Ensino  \n",
       "0  Região Sudeste   1,5<RFP<=2,5   Feminino  Matutino  RJ  Campus Tijuca II  \n",
       "1  Região Sudeste  Não declarada  Masculino  Matutino  RJ  Campus Tijuca II  \n",
       "2  Região Sudeste        RFP>3,5   Feminino  Matutino  RJ  Campus Tijuca II  \n",
       "3  Região Sudeste  Não declarada   Feminino  Matutino  RJ  Campus Tijuca II  \n",
       "4  Região Sudeste        RFP>3,5   Feminino  Matutino  RJ  Campus Tijuca II  "
      ]
     },
     "execution_count": 2,
     "metadata": {},
     "output_type": "execute_result"
    }
   ],
   "source": [
    "dados_tec = pd.read_csv('../data/processed/preprocessing.csv')\n",
    "dados_tec.head()"
   ]
  },
  {
   "cell_type": "code",
   "execution_count": 3,
   "metadata": {},
   "outputs": [
    {
     "data": {
      "text/plain": [
       "(4250, 17)"
      ]
     },
     "execution_count": 3,
     "metadata": {},
     "output_type": "execute_result"
    }
   ],
   "source": [
    "dados_tec.shape"
   ]
  },
  {
   "cell_type": "markdown",
   "metadata": {},
   "source": [
    "### Renomeando colunas"
   ]
  },
  {
   "cell_type": "code",
   "execution_count": 4,
   "metadata": {},
   "outputs": [],
   "source": [
    "dados_tec.columns = dados_tec.columns.str.replace(' ','')\n",
    "new_cols = []\n",
    "for column in dados_tec.columns:\n",
    "    new_cols.append(inflection.underscore(column))\n",
    "dados_tec.columns = new_cols"
   ]
  },
  {
   "cell_type": "code",
   "execution_count": 5,
   "metadata": {},
   "outputs": [],
   "source": [
    "dados_tec.rename(columns={'categoriada_situação':'categoria_da_situação',\n",
    "                            'datade_iníciodo_ciclo':'data_de_inicio_do_ciclo',\n",
    "                            'datade_fim_previstodo_ciclo':'data_de_fim_previsto_do_ciclo',\n",
    "                            'mêsde_ocorrênciada_situação':'mês_de_ocorrência_da_situação'},inplace=True)"
   ]
  },
  {
   "cell_type": "code",
   "execution_count": 6,
   "metadata": {},
   "outputs": [
    {
     "data": {
      "text/plain": [
       "Index(['carga_horária', 'categoria_da_situação', 'códigoda_matrícula',\n",
       "       'cor/raça', 'data_de_inicio_do_ciclo', 'data_de_fim_previsto_do_ciclo',\n",
       "       'faixa_etária', 'fator_esforço_curso', 'idade', 'instituição',\n",
       "       'mês_de_ocorrência_da_situação', 'região', 'renda_familiar', 'sexo',\n",
       "       'turno', 'uf', 'unidadede_ensino'],\n",
       "      dtype='object')"
      ]
     },
     "execution_count": 6,
     "metadata": {},
     "output_type": "execute_result"
    }
   ],
   "source": [
    "dados_tec.columns"
   ]
  },
  {
   "cell_type": "markdown",
   "metadata": {},
   "source": [
    "### Filtragem de variáveis\n",
    "\n",
    "Existem algumas varíaveis que foram necessárias apenas para derivar outras e que não faz mais sentido mantê-las. São:\n",
    "- data_de_inicio_do_ciclo\n",
    "- data_de_fim_previsto_do_ciclo\n",
    "- mês_de_ocorrência_da_situação"
   ]
  },
  {
   "cell_type": "code",
   "execution_count": 7,
   "metadata": {},
   "outputs": [],
   "source": [
    "dados_tec.drop(columns=['data_de_inicio_do_ciclo','data_de_fim_previsto_do_ciclo',\n",
    "                          'mês_de_ocorrência_da_situação'],inplace=True)"
   ]
  },
  {
   "cell_type": "markdown",
   "metadata": {},
   "source": [
    "### Separação de Features e Target"
   ]
  },
  {
   "cell_type": "code",
   "execution_count": 8,
   "metadata": {},
   "outputs": [
    {
     "data": {
      "text/html": [
       "<div>\n",
       "<style scoped>\n",
       "    .dataframe tbody tr th:only-of-type {\n",
       "        vertical-align: middle;\n",
       "    }\n",
       "\n",
       "    .dataframe tbody tr th {\n",
       "        vertical-align: top;\n",
       "    }\n",
       "\n",
       "    .dataframe thead th {\n",
       "        text-align: right;\n",
       "    }\n",
       "</style>\n",
       "<table border=\"1\" class=\"dataframe\">\n",
       "  <thead>\n",
       "    <tr style=\"text-align: right;\">\n",
       "      <th></th>\n",
       "      <th>carga_horária</th>\n",
       "      <th>códigoda_matrícula</th>\n",
       "      <th>cor/raça</th>\n",
       "      <th>faixa_etária</th>\n",
       "      <th>fator_esforço_curso</th>\n",
       "      <th>idade</th>\n",
       "      <th>instituição</th>\n",
       "      <th>região</th>\n",
       "      <th>renda_familiar</th>\n",
       "      <th>sexo</th>\n",
       "      <th>turno</th>\n",
       "      <th>uf</th>\n",
       "      <th>unidadede_ensino</th>\n",
       "    </tr>\n",
       "  </thead>\n",
       "  <tbody>\n",
       "    <tr>\n",
       "      <th>0</th>\n",
       "      <td>4560</td>\n",
       "      <td>72082427</td>\n",
       "      <td>branca</td>\n",
       "      <td>15 a 19 anos</td>\n",
       "      <td>1.0</td>\n",
       "      <td>18.0</td>\n",
       "      <td>CPII</td>\n",
       "      <td>Região Sudeste</td>\n",
       "      <td>1,5&lt;RFP&lt;=2,5</td>\n",
       "      <td>Feminino</td>\n",
       "      <td>Matutino</td>\n",
       "      <td>RJ</td>\n",
       "      <td>Campus Tijuca II</td>\n",
       "    </tr>\n",
       "    <tr>\n",
       "      <th>1</th>\n",
       "      <td>4560</td>\n",
       "      <td>72082311</td>\n",
       "      <td>branca</td>\n",
       "      <td>15 a 19 anos</td>\n",
       "      <td>1.0</td>\n",
       "      <td>18.0</td>\n",
       "      <td>CPII</td>\n",
       "      <td>Região Sudeste</td>\n",
       "      <td>Não declarada</td>\n",
       "      <td>Masculino</td>\n",
       "      <td>Matutino</td>\n",
       "      <td>RJ</td>\n",
       "      <td>Campus Tijuca II</td>\n",
       "    </tr>\n",
       "    <tr>\n",
       "      <th>2</th>\n",
       "      <td>4560</td>\n",
       "      <td>72082437</td>\n",
       "      <td>branca</td>\n",
       "      <td>15 a 19 anos</td>\n",
       "      <td>1.0</td>\n",
       "      <td>18.0</td>\n",
       "      <td>CPII</td>\n",
       "      <td>Região Sudeste</td>\n",
       "      <td>RFP&gt;3,5</td>\n",
       "      <td>Feminino</td>\n",
       "      <td>Matutino</td>\n",
       "      <td>RJ</td>\n",
       "      <td>Campus Tijuca II</td>\n",
       "    </tr>\n",
       "  </tbody>\n",
       "</table>\n",
       "</div>"
      ],
      "text/plain": [
       "   carga_horária  códigoda_matrícula cor/raça  faixa_etária  \\\n",
       "0           4560            72082427   branca  15 a 19 anos   \n",
       "1           4560            72082311   branca  15 a 19 anos   \n",
       "2           4560            72082437   branca  15 a 19 anos   \n",
       "\n",
       "   fator_esforço_curso  idade instituição          região renda_familiar  \\\n",
       "0                  1.0   18.0        CPII  Região Sudeste   1,5<RFP<=2,5   \n",
       "1                  1.0   18.0        CPII  Região Sudeste  Não declarada   \n",
       "2                  1.0   18.0        CPII  Região Sudeste        RFP>3,5   \n",
       "\n",
       "        sexo     turno  uf  unidadede_ensino  \n",
       "0   Feminino  Matutino  RJ  Campus Tijuca II  \n",
       "1  Masculino  Matutino  RJ  Campus Tijuca II  \n",
       "2   Feminino  Matutino  RJ  Campus Tijuca II  "
      ]
     },
     "execution_count": 8,
     "metadata": {},
     "output_type": "execute_result"
    }
   ],
   "source": [
    "features_tec = dados_tec.drop(columns=['categoria_da_situação'])\n",
    "features_tec.head(3)"
   ]
  },
  {
   "cell_type": "code",
   "execution_count": 9,
   "metadata": {},
   "outputs": [],
   "source": [
    "target_tec = dados_tec[['categoria_da_situação']]"
   ]
  },
  {
   "cell_type": "markdown",
   "metadata": {},
   "source": [
    "### Separação de treino e teste"
   ]
  },
  {
   "cell_type": "code",
   "execution_count": 10,
   "metadata": {},
   "outputs": [],
   "source": [
    "X_train, X_test, y_train, y_test = train_test_split(features_tec, target_tec, test_size=0.2)"
   ]
  },
  {
   "cell_type": "code",
   "execution_count": 11,
   "metadata": {},
   "outputs": [
    {
     "name": "stdout",
     "output_type": "stream",
     "text": [
      "X_train: 3400 amostras\n",
      "X_test: 850 amostras\n"
     ]
    }
   ],
   "source": [
    "print(f'X_train: {X_train.shape[0]} amostras')\n",
    "print(f'X_test: {X_test.shape[0]} amostras')"
   ]
  },
  {
   "cell_type": "markdown",
   "metadata": {},
   "source": [
    "### Pré-processamento das variáveis\n",
    "\n",
    "Nesta etapa iremos definir os transformadores para codificar as variáveis categóricas, bem como escalonar as variáveis numéricas."
   ]
  },
  {
   "cell_type": "code",
   "execution_count": 12,
   "metadata": {},
   "outputs": [],
   "source": [
    "categorical_features = X_train.select_dtypes(include=['object']).columns\n",
    "numerical_features = X_train.select_dtypes(exclude=['object']).columns"
   ]
  },
  {
   "cell_type": "code",
   "execution_count": 13,
   "metadata": {},
   "outputs": [],
   "source": [
    "encoder = OneHotEncoder(handle_unknown='ignore',drop='first')\n",
    "minmax_scaler = MinMaxScaler()"
   ]
  },
  {
   "cell_type": "code",
   "execution_count": 14,
   "metadata": {},
   "outputs": [],
   "source": [
    "preprocessor = ColumnTransformer(\n",
    "    transformers=[\n",
    "        ('numerical', minmax_scaler, numerical_features),\n",
    "        ('categorical', encoder, categorical_features)\n",
    "])"
   ]
  },
  {
   "cell_type": "markdown",
   "metadata": {},
   "source": [
    "### Definição dos modelos"
   ]
  },
  {
   "cell_type": "code",
   "execution_count": 15,
   "metadata": {},
   "outputs": [],
   "source": [
    "models = [\n",
    "    {\n",
    "        \"model_name\": \"Logistic Regression\",\n",
    "        \"model\": LogisticRegression(solver=\"liblinear\", max_iter=1000),\n",
    "        \"model_params\": {\"classifier__penalty\": [\"l1\", \"l2\"], \"classifier__C\": [0.1,1.2]},\n",
    "    },\n",
    "    {\n",
    "        \"model_name\": \"KNN\",\n",
    "        \"model\": KNeighborsClassifier(metric=\"euclidean\"),\n",
    "        \"model_params\": {\n",
    "            \"classifier__n_neighbors\": np.arange(1, 20, 2),\n",
    "            \"classifier__weights\": [\"uniform\", \"distance\"],\n",
    "        },\n",
    "    },\n",
    "    {\n",
    "        \"model_name\": \"Random Forest\",\n",
    "        \"model\": RandomForestClassifier(),\n",
    "        \"model_params\": {\n",
    "            \"classifier__criterion\": [\"gini\", \"entropy\"],\n",
    "            \"classifier__n_estimators\": [100, 200, 300],\n",
    "            \"classifier__max_depth\": [None, 10, 20, 30],\n",
    "            \"classifier__min_samples_split\": [2, 5, 10],\n",
    "            \"classifier__min_samples_leaf\": [1, 2, 4],\n",
    "        },\n",
    "    },\n",
    "    {\n",
    "        \"model_name\": \"GBM\",\n",
    "        \"model\": GradientBoostingClassifier(),\n",
    "        \"model_params\": {\n",
    "            \"classifier__criterion\": [\"friedman_mse\", \"squared_error\"],\n",
    "            \"classifier__n_estimators\": [100, 200, 300],\n",
    "            \"classifier__learning_rate\": [0.01, 0.1, 0.2],\n",
    "            \"classifier__max_depth\": [3, 5, 7],\n",
    "            \"classifier__subsample\": [0.8, 0.9, 1.0],\n",
    "            \"classifier__min_samples_split\": [2, 5, 10],\n",
    "        },\n",
    "    },\n",
    "    {\n",
    "        \"model_name\": \"SVM\",\n",
    "        \"model\": SVC(),\n",
    "        \"model_params\": {\n",
    "            \"classifier__C\": [0.1, 1, 10, 100],\n",
    "            \"classifier__gamma\": [1, 0.1, 0.01, 0.001],\n",
    "            \"classifier__kernel\": [\"rbf\", \"linear\", \"poly\"],\n",
    "        },\n",
    "    },\n",
    "]"
   ]
  },
  {
   "cell_type": "markdown",
   "metadata": {},
   "source": [
    "### Cross validation e Fine tuning"
   ]
  },
  {
   "cell_type": "code",
   "execution_count": 16,
   "metadata": {},
   "outputs": [],
   "source": [
    "results = pd.DataFrame({})"
   ]
  },
  {
   "cell_type": "code",
   "execution_count": 17,
   "metadata": {},
   "outputs": [],
   "source": [
    "for model in models:\n",
    "\n",
    "    models_results = {}\n",
    "\n",
    "    pipeline = Pipeline(steps=[\n",
    "        ('preprocessor', preprocessor),\n",
    "        ('classifier', model['model'])\n",
    "    ])\n",
    "    # Inner CV\n",
    "    grid_search = GridSearchCV(pipeline, model['model_params'],cv=5, scoring='accuracy')\n",
    "    # Outer CV\n",
    "    cross_validation_results = cross_validate(grid_search, X=X_train, y=y_train,\n",
    "                             cv=5, scoring=['accuracy', 'f1', 'precision', 'recall'])\n",
    "\n",
    "    acc_scores = f\"{cross_validation_results['test_accuracy'].mean():.3f} +- {cross_validation_results['test_accuracy'].std():.3f}\"\n",
    "    f1_scores = f\"{cross_validation_results['test_f1'].mean():.3f} +- {cross_validation_results['test_f1'].std():.3f}\"\n",
    "    precision_scores = f\"{cross_validation_results['test_precision'].mean():.3f} +- {cross_validation_results['test_precision'].std():.3f}\"\n",
    "    recall_scores = f\"{cross_validation_results['test_recall'].mean():.3f} +- {cross_validation_results['test_recall'].std():.3f}\"\n",
    "\n",
    "    models_results['model_name'] = [model['model_name']]\n",
    "    models_results['accuracy'] = [acc_scores]\n",
    "    models_results['f1'] = [f1_scores]\n",
    "    models_results['precision'] = [precision_scores]\n",
    "    models_results['recall'] = [recall_scores]\n",
    "\n",
    "    df = pd.DataFrame(models_results)\n",
    "    results = pd.concat([results, df])"
   ]
  },
  {
   "cell_type": "code",
   "execution_count": null,
   "metadata": {},
   "outputs": [],
   "source": [
    "# for model in models:\n",
    "#     print(model['model'])\n",
    "    \n",
    "#     pipeline = Pipeline(steps=[\n",
    "#         ('preprocessor', preprocessor),\n",
    "#         ('classifier model', model['model'])\n",
    "#     ])\n",
    "#     # Inner CV\n",
    "#     grid_search = GridSearchCV(pipeline, model['model_params']cv=5, n_jobs=-1, \n",
    "#                                scoring='accuracy')\n",
    "#     # Outer CV\n",
    "#     results = cross_validate(grid_search, X=X_train, y=y_train,\n",
    "#                              cv=5, scoring=['accuracy', 'f1', 'precision', 'recall'])\n",
    "    "
   ]
  }
 ],
 "metadata": {
  "kernelspec": {
   "display_name": "base",
   "language": "python",
   "name": "python3"
  },
  "language_info": {
   "codemirror_mode": {
    "name": "ipython",
    "version": 3
   },
   "file_extension": ".py",
   "mimetype": "text/x-python",
   "name": "python",
   "nbconvert_exporter": "python",
   "pygments_lexer": "ipython3",
   "version": "3.11.7"
  }
 },
 "nbformat": 4,
 "nbformat_minor": 2
}

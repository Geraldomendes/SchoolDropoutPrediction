{
 "cells": [
  {
   "cell_type": "markdown",
   "metadata": {
    "id": "_DdwH3DG6mNX"
   },
   "source": [
    "<a id=\"contents_tabel\"></a>    \n",
    "<div style=\"border-radius:10px; padding: 15px; background-color: #454a46; font-size:130%; text-align:left;\n",
    "width:900px;\">\n",
    "\n",
    "<h2 align=\"left\"><font color=white>Sumário:</font></h2>\n",
    "\n",
    "\n",
    "* [1 | Compreensão dos dados educacionais](#compreensao)\n",
    "    - [1.1 | Importação das bibliotecas](#libraries)\n",
    "    - [1.2 | Leitura da base de dados](#loadingdata)\n",
    "    - [1.3 | Limpeza inicial dos dados](#initialcleaning)\n",
    "    - [1.4 | Análise exploratória dos dados](#initialdataanalysis)\n",
    "        - [1.4.1 | Data overview](#overview)\n",
    "        - [1.4.2 | Levantamento e análise das hipósteses](#summary)\n"
   ]
  },
  {
   "cell_type": "markdown",
   "metadata": {
    "id": "0dEoj7RE0IPX"
   },
   "source": [
    "<a id=\"compreensao\"></a>\n",
    "# <p style=\"background-color: #454a46; font-family:calibri; color:white;font-size:120%; font-family:Verdana; text-align:center; border-radius:25px 15px; width:100%\">1 | Compreensão dos dados educacionais</p>\n",
    "⬆️ [Sumário](#contents_tabel)\n",
    "\n",
    "Nesta etapa será realizada a análise e compreensão dos dados gerados pelo censo escolar da educação básica.\n",
    "\n",
    "Começaremos com uma limpeza inicial dos dados para remover eventuais erros e valores anormais. Após isso, será feita uma análise univariada, observando-se estatísticas sobre a distribuição das variáveis, valores mínimos e máximos, média, desvio padrão, etc.\n",
    "\n",
    "\n",
    "Essa etapa se encaixa na seção \"Exploração de dados\" descrito no <a href=\"https://github.com/Geraldomendes/SchoolDropoutPrediction/issues/2\">projeto do github</a>. Onde tem-se a seguinte descrição:\n",
    "\n",
    "\n",
    "<div style=\"border:1px solid black;background-color:white;color:black\">\n",
    "\n",
    "Você deve criar um notebook de análise exploratória **notebooks/01-exploratory_data_analysis.ipynb**, contendo as seguintes seções de texto:\n",
    "\n",
    " - Descrição dos dados: informações sobre a quantidade de instâncias, variáveis e seus tipos, quantidade de valores faltantes. - - Utilize o dicionário de dados nessa seção.\n",
    " - Perguntas de partida e hipóteses: que tipo de informações podem ser obtidas a partir dos dados e quais hipóteses podem ser   levantadas?\n",
    " - Percepções: respostas às perguntas feitas na seção anterior e quais informações interessantes podem ser levantadas através dos dados?\n",
    "\n"
   ]
  },
  {
   "cell_type": "markdown",
   "metadata": {},
   "source": [
    "<div style=\"border-radius:10px; padding: 15px; background-color: white; font-size:120%; text-align:left;\n",
    "width:900px;color:black\">\n",
    "\n",
    "<h2 align=\"left\"><font color=black>Exemplo de dicionário de dados:</font></h2>\n",
    "\n",
    "| __Variável__   | __Descrição__ |\n",
    "|     :---       |       :---      |      \n",
    "| __Var1__  | Lorem ipsum dolor sit amet, consectetur adipiscing elit, sed do eiusmod tempor incididunt ut labore et dolore magna aliqua. |\n",
    "| __Var2__  | Lorem ipsum dolor sit amet, consectetur adipiscing elit, sed do eiusmod tempor incididunt ut labore et dolore magna aliqua. |\n",
    "| __Var3__| Lorem ipsum dolor sit amet, consectetur adipiscing elit. |\n"
   ]
  },
  {
   "cell_type": "markdown",
   "metadata": {},
   "source": [
    "<a id=\"libraries\"></a>\n",
    "# <b><span style='color:white;font-size:90%'>1.1 |</span><span style='color:#6e7570;font-size:90%'>Importação das bibliotecas</span></b>\n",
    "⬆️ [Sumário](#contents_tabel)"
   ]
  },
  {
   "cell_type": "code",
   "execution_count": 1,
   "metadata": {},
   "outputs": [
    {
     "name": "stderr",
     "output_type": "stream",
     "text": [
      "/home/matheusv/anaconda3/lib/python3.10/site-packages/pandas/core/arrays/masked.py:60: UserWarning: Pandas requires version '1.3.6' or newer of 'bottleneck' (version '1.3.5' currently installed).\n",
      "  from pandas.core import (\n"
     ]
    }
   ],
   "source": [
    "import pandas as pd\n",
    "import numpy as np\n",
    "import matplotlib.pyplot as plt \n",
    "from matplotlib.gridspec import GridSpec\n",
    "#from plotly.offline import iplot, init_notebook_mode\n",
    "#import plotly.express as px\n",
    "import seaborn as sns\n",
    "import warnings\n",
    "warnings.filterwarnings(\"ignore\")"
   ]
  },
  {
   "cell_type": "markdown",
   "metadata": {},
   "source": [
    "<a id=\"loadingdata\"></a>\n",
    "# <b><span style='color:white;font-size:90%'>1.2 |</span><span style='color:#6e7570;font-size:90%'>Leitura da base de dados</span></b>\n",
    "⬆️ [Sumário](#contents_tabel)"
   ]
  },
  {
   "cell_type": "code",
   "execution_count": 2,
   "metadata": {},
   "outputs": [
    {
     "data": {
      "text/html": [
       "<div>\n",
       "<style scoped>\n",
       "    .dataframe tbody tr th:only-of-type {\n",
       "        vertical-align: middle;\n",
       "    }\n",
       "\n",
       "    .dataframe tbody tr th {\n",
       "        vertical-align: top;\n",
       "    }\n",
       "\n",
       "    .dataframe thead th {\n",
       "        text-align: right;\n",
       "    }\n",
       "</style>\n",
       "<table border=\"1\" class=\"dataframe\">\n",
       "  <thead>\n",
       "    <tr style=\"text-align: right;\">\n",
       "      <th></th>\n",
       "      <th>Carga Horaria</th>\n",
       "      <th>Carga Horaria Mínima</th>\n",
       "      <th>Categoria da Situação</th>\n",
       "      <th>Co Inst</th>\n",
       "      <th>Cod Unidade</th>\n",
       "      <th>Cor / Raça</th>\n",
       "      <th>Código da Matricula</th>\n",
       "      <th>Código da Unidade de Ensino - SISTEC</th>\n",
       "      <th>Código do Ciclo Matricula</th>\n",
       "      <th>Código do Município com DV</th>\n",
       "      <th>...</th>\n",
       "      <th>Vagas Ofertadas</th>\n",
       "      <th>Vagas Regulares AC</th>\n",
       "      <th>Vagas Regulares l1</th>\n",
       "      <th>Vagas Regulares l10</th>\n",
       "      <th>Vagas Regulares l13</th>\n",
       "      <th>Vagas Regulares l14</th>\n",
       "      <th>Vagas Regulares l2</th>\n",
       "      <th>Vagas Regulares l5</th>\n",
       "      <th>Vagas Regulares l6</th>\n",
       "      <th>Vagas Regulares l9</th>\n",
       "    </tr>\n",
       "  </thead>\n",
       "  <tbody>\n",
       "    <tr>\n",
       "      <th>0</th>\n",
       "      <td>200</td>\n",
       "      <td>200.0</td>\n",
       "      <td>Evadidos</td>\n",
       "      <td>262432</td>\n",
       "      <td>557</td>\n",
       "      <td>Amarela</td>\n",
       "      <td>96176470</td>\n",
       "      <td>3479.0</td>\n",
       "      <td>2716099</td>\n",
       "      <td>2407104</td>\n",
       "      <td>...</td>\n",
       "      <td>850.0</td>\n",
       "      <td>850.0</td>\n",
       "      <td>0.0</td>\n",
       "      <td>0.0</td>\n",
       "      <td>0.0</td>\n",
       "      <td>0.0</td>\n",
       "      <td>0.0</td>\n",
       "      <td>0.0</td>\n",
       "      <td>0.0</td>\n",
       "      <td>0.0</td>\n",
       "    </tr>\n",
       "    <tr>\n",
       "      <th>1</th>\n",
       "      <td>160</td>\n",
       "      <td>160.0</td>\n",
       "      <td>Em curso</td>\n",
       "      <td>26436</td>\n",
       "      <td>6002</td>\n",
       "      <td>Amarela</td>\n",
       "      <td>102483972</td>\n",
       "      <td>45430.0</td>\n",
       "      <td>2830452</td>\n",
       "      <td>4314407</td>\n",
       "      <td>...</td>\n",
       "      <td>2834.0</td>\n",
       "      <td>2834.0</td>\n",
       "      <td>0.0</td>\n",
       "      <td>0.0</td>\n",
       "      <td>0.0</td>\n",
       "      <td>0.0</td>\n",
       "      <td>0.0</td>\n",
       "      <td>0.0</td>\n",
       "      <td>0.0</td>\n",
       "      <td>0.0</td>\n",
       "    </tr>\n",
       "    <tr>\n",
       "      <th>2</th>\n",
       "      <td>160</td>\n",
       "      <td>160.0</td>\n",
       "      <td>Em curso</td>\n",
       "      <td>26436</td>\n",
       "      <td>6002</td>\n",
       "      <td>Amarela</td>\n",
       "      <td>102459282</td>\n",
       "      <td>45430.0</td>\n",
       "      <td>2830437</td>\n",
       "      <td>4314407</td>\n",
       "      <td>...</td>\n",
       "      <td>1234.0</td>\n",
       "      <td>1234.0</td>\n",
       "      <td>0.0</td>\n",
       "      <td>0.0</td>\n",
       "      <td>0.0</td>\n",
       "      <td>0.0</td>\n",
       "      <td>0.0</td>\n",
       "      <td>0.0</td>\n",
       "      <td>0.0</td>\n",
       "      <td>0.0</td>\n",
       "    </tr>\n",
       "    <tr>\n",
       "      <th>3</th>\n",
       "      <td>40</td>\n",
       "      <td>160.0</td>\n",
       "      <td>Em curso</td>\n",
       "      <td>26419</td>\n",
       "      <td>116</td>\n",
       "      <td>Amarela</td>\n",
       "      <td>97887414</td>\n",
       "      <td>2936.0</td>\n",
       "      <td>2745532</td>\n",
       "      <td>4302105</td>\n",
       "      <td>...</td>\n",
       "      <td>265.0</td>\n",
       "      <td>265.0</td>\n",
       "      <td>0.0</td>\n",
       "      <td>0.0</td>\n",
       "      <td>0.0</td>\n",
       "      <td>0.0</td>\n",
       "      <td>0.0</td>\n",
       "      <td>0.0</td>\n",
       "      <td>0.0</td>\n",
       "      <td>0.0</td>\n",
       "    </tr>\n",
       "    <tr>\n",
       "      <th>4</th>\n",
       "      <td>1380</td>\n",
       "      <td>1200.0</td>\n",
       "      <td>Em curso</td>\n",
       "      <td>26404</td>\n",
       "      <td>436</td>\n",
       "      <td>Amarela</td>\n",
       "      <td>91646798</td>\n",
       "      <td>2947.0</td>\n",
       "      <td>2632269</td>\n",
       "      <td>2927903</td>\n",
       "      <td>...</td>\n",
       "      <td>40.0</td>\n",
       "      <td>40.0</td>\n",
       "      <td>0.0</td>\n",
       "      <td>0.0</td>\n",
       "      <td>0.0</td>\n",
       "      <td>0.0</td>\n",
       "      <td>0.0</td>\n",
       "      <td>0.0</td>\n",
       "      <td>0.0</td>\n",
       "      <td>0.0</td>\n",
       "    </tr>\n",
       "  </tbody>\n",
       "</table>\n",
       "<p>5 rows × 56 columns</p>\n",
       "</div>"
      ],
      "text/plain": [
       "   Carga Horaria  Carga Horaria Mínima Categoria da Situação  Co Inst  \\\n",
       "0            200                 200.0              Evadidos   262432   \n",
       "1            160                 160.0              Em curso    26436   \n",
       "2            160                 160.0              Em curso    26436   \n",
       "3             40                 160.0              Em curso    26419   \n",
       "4           1380                1200.0              Em curso    26404   \n",
       "\n",
       "   Cod Unidade Cor / Raça  Código da Matricula  \\\n",
       "0          557    Amarela             96176470   \n",
       "1         6002    Amarela            102483972   \n",
       "2         6002    Amarela            102459282   \n",
       "3          116    Amarela             97887414   \n",
       "4          436    Amarela             91646798   \n",
       "\n",
       "   Código da Unidade de Ensino - SISTEC  Código do Ciclo Matricula  \\\n",
       "0                                3479.0                    2716099   \n",
       "1                               45430.0                    2830452   \n",
       "2                               45430.0                    2830437   \n",
       "3                                2936.0                    2745532   \n",
       "4                                2947.0                    2632269   \n",
       "\n",
       "   Código do Município com DV  ... Vagas Ofertadas Vagas Regulares AC  \\\n",
       "0                     2407104  ...           850.0              850.0   \n",
       "1                     4314407  ...          2834.0             2834.0   \n",
       "2                     4314407  ...          1234.0             1234.0   \n",
       "3                     4302105  ...           265.0              265.0   \n",
       "4                     2927903  ...            40.0               40.0   \n",
       "\n",
       "  Vagas Regulares l1 Vagas Regulares l10 Vagas Regulares l13  \\\n",
       "0                0.0                 0.0                 0.0   \n",
       "1                0.0                 0.0                 0.0   \n",
       "2                0.0                 0.0                 0.0   \n",
       "3                0.0                 0.0                 0.0   \n",
       "4                0.0                 0.0                 0.0   \n",
       "\n",
       "  Vagas Regulares l14 Vagas Regulares l2  Vagas Regulares l5  \\\n",
       "0                 0.0                0.0                 0.0   \n",
       "1                 0.0                0.0                 0.0   \n",
       "2                 0.0                0.0                 0.0   \n",
       "3                 0.0                0.0                 0.0   \n",
       "4                 0.0                0.0                 0.0   \n",
       "\n",
       "  Vagas Regulares l6 Vagas Regulares l9  \n",
       "0                0.0                0.0  \n",
       "1                0.0                0.0  \n",
       "2                0.0                0.0  \n",
       "3                0.0                0.0  \n",
       "4                0.0                0.0  \n",
       "\n",
       "[5 rows x 56 columns]"
      ]
     },
     "execution_count": 2,
     "metadata": {},
     "output_type": "execute_result"
    }
   ],
   "source": [
    "data = pd.read_csv('./2021 - Matrículas.csv',sep=';')\n",
    "data.head()"
   ]
  },
  {
   "cell_type": "code",
   "execution_count": 4,
   "metadata": {},
   "outputs": [
    {
     "data": {
      "text/plain": [
       "(5710, 56)"
      ]
     },
     "execution_count": 4,
     "metadata": {},
     "output_type": "execute_result"
    }
   ],
   "source": [
    "data = data[data['Tipo de Curso']=='Ensino Médio']\n",
    "data.shape"
   ]
  },
  {
   "cell_type": "markdown",
   "metadata": {},
   "source": [
    "<a id=\"initialcleaning\"></a>\n",
    "# <b><span style='color:white;font-size:90%'>1.3 |</span><span style='color:#6e7570;font-size:90%'>Limpeza inicial dos dados</span></b>\n",
    "⬆️ [Sumário](#contents_tabel)"
   ]
  },
  {
   "cell_type": "code",
   "execution_count": 5,
   "metadata": {},
   "outputs": [
    {
     "data": {
      "text/plain": [
       "Index(['Carga Horaria', 'Carga Horaria Mínima', 'Categoria da Situação',\n",
       "       'Co Inst', 'Cod Unidade', 'Cor / Raça', 'Código da Matricula',\n",
       "       'Código da Unidade de Ensino - SISTEC', 'Código do Ciclo Matricula',\n",
       "       'Código do Município com DV', 'Data de Fim Previsto do Ciclo',\n",
       "       'Data de Inicio do Ciclo', 'Data de Ocorrencia da Matricula',\n",
       "       'Eixo Tecnológico', 'Faixa Etária', 'Fator Esforço Curso',\n",
       "       'Fonte de Financiamento', 'Idade', 'Instituição', 'Matrículas Atendida',\n",
       "       'Matrículas Equivalentes', 'Modalidade de Ensino', 'Município',\n",
       "       'Mês De Ocorrência da Situação', 'Nome de Curso', 'Número de registros',\n",
       "       'Região', 'Renda Familiar', 'Sexo', 'Situação de Matrícula',\n",
       "       'Subeixo Tecnológico', 'Tipo de Curso', 'Tipo de Oferta',\n",
       "       'Total de Inscritos', 'Turno', 'UF', 'Unidade de Ensino',\n",
       "       'Vagas Extraordinárias AC', 'Vagas Extraordinárias l1',\n",
       "       'Vagas Extraordinárias l10', 'Vagas Extraordinárias l13',\n",
       "       'Vagas Extraordinárias l14', 'Vagas Extraordinárias l2',\n",
       "       'Vagas Extraordinárias l5', 'Vagas Extraordinárias l6',\n",
       "       'Vagas Extraordinárias l9', 'Vagas Ofertadas', 'Vagas Regulares AC',\n",
       "       'Vagas Regulares l1', 'Vagas Regulares l10', 'Vagas Regulares l13',\n",
       "       'Vagas Regulares l14', 'Vagas Regulares l2', 'Vagas Regulares l5',\n",
       "       'Vagas Regulares l6', 'Vagas Regulares l9'],\n",
       "      dtype='object')"
      ]
     },
     "execution_count": 5,
     "metadata": {},
     "output_type": "execute_result"
    }
   ],
   "source": [
    "data.columns"
   ]
  },
  {
   "cell_type": "code",
   "execution_count": 6,
   "metadata": {},
   "outputs": [],
   "source": [
    "data.drop(columns=['Vagas Extraordinárias AC', 'Vagas Extraordinárias l1',\n",
    "       'Vagas Extraordinárias l10', 'Vagas Extraordinárias l13',\n",
    "       'Vagas Extraordinárias l14', 'Vagas Extraordinárias l2',\n",
    "       'Vagas Extraordinárias l5', 'Vagas Extraordinárias l6',\n",
    "       'Vagas Extraordinárias l9', 'Vagas Ofertadas', 'Vagas Regulares AC',\n",
    "       'Vagas Regulares l1', 'Vagas Regulares l10', 'Vagas Regulares l13',\n",
    "       'Vagas Regulares l14', 'Vagas Regulares l2', 'Vagas Regulares l5',\n",
    "       'Vagas Regulares l6', 'Vagas Regulares l9'],axis=1, inplace=True)"
   ]
  },
  {
   "cell_type": "code",
   "execution_count": 7,
   "metadata": {},
   "outputs": [],
   "source": [
    "sns.set_style(\"whitegrid\")"
   ]
  },
  {
   "cell_type": "code",
   "execution_count": 8,
   "metadata": {},
   "outputs": [],
   "source": [
    "null_data = data.isnull().sum()\n",
    "null_data = null_data[null_data>0]"
   ]
  },
  {
   "cell_type": "code",
   "execution_count": 9,
   "metadata": {},
   "outputs": [],
   "source": [
    "null_percentage = (null_data/data.shape[0]) * 100"
   ]
  },
  {
   "cell_type": "code",
   "execution_count": 10,
   "metadata": {},
   "outputs": [
    {
     "data": {
      "image/png": "[encoded data removed]",
      "text/plain": [
       "<Figure size 640x480 with 1 Axes>"
      ]
     },
     "metadata": {},
     "output_type": "display_data"
    }
   ],
   "source": [
    "ax = sns.barplot(y=null_percentage.index,x=null_percentage, orient='h')\n",
    "ax.bar_label(ax.containers[0],fmt=lambda x: str(x.round(2))+'%')\n",
    "plt.title(\"Percentual de valores faltantes\", fontweight='bold', fontsize=15)\n",
    "plt.xlabel('Percentual (%)', fontsize=11)\n",
    "plt.show()"
   ]
  },
  {
   "cell_type": "code",
   "execution_count": 11,
   "metadata": {},
   "outputs": [],
   "source": [
    "data.dropna(inplace=True)"
   ]
  },
  {
   "cell_type": "code",
   "execution_count": 12,
   "metadata": {},
   "outputs": [
    {
     "data": {
      "text/plain": [
       "Carga Horaria                           0\n",
       "Carga Horaria Mínima                    0\n",
       "Categoria da Situação                   0\n",
       "Co Inst                                 0\n",
       "Cod Unidade                             0\n",
       "Cor / Raça                              0\n",
       "Código da Matricula                     0\n",
       "Código da Unidade de Ensino - SISTEC    0\n",
       "Código do Ciclo Matricula               0\n",
       "Código do Município com DV              0\n",
       "Data de Fim Previsto do Ciclo           0\n",
       "Data de Inicio do Ciclo                 0\n",
       "Data de Ocorrencia da Matricula         0\n",
       "Eixo Tecnológico                        0\n",
       "Faixa Etária                            0\n",
       "Fator Esforço Curso                     0\n",
       "Fonte de Financiamento                  0\n",
       "Idade                                   0\n",
       "Instituição                             0\n",
       "Matrículas Atendida                     0\n",
       "Matrículas Equivalentes                 0\n",
       "Modalidade de Ensino                    0\n",
       "Município                               0\n",
       "Mês De Ocorrência da Situação           0\n",
       "Nome de Curso                           0\n",
       "Número de registros                     0\n",
       "Região                                  0\n",
       "Renda Familiar                          0\n",
       "Sexo                                    0\n",
       "Situação de Matrícula                   0\n",
       "Subeixo Tecnológico                     0\n",
       "Tipo de Curso                           0\n",
       "Tipo de Oferta                          0\n",
       "Total de Inscritos                      0\n",
       "Turno                                   0\n",
       "UF                                      0\n",
       "Unidade de Ensino                       0\n",
       "dtype: int64"
      ]
     },
     "execution_count": 12,
     "metadata": {},
     "output_type": "execute_result"
    }
   ],
   "source": [
    "data.isna().sum()"
   ]
  },
  {
   "cell_type": "code",
   "execution_count": 13,
   "metadata": {},
   "outputs": [
    {
     "data": {
      "text/html": [
       "<div>\n",
       "<style scoped>\n",
       "    .dataframe tbody tr th:only-of-type {\n",
       "        vertical-align: middle;\n",
       "    }\n",
       "\n",
       "    .dataframe tbody tr th {\n",
       "        vertical-align: top;\n",
       "    }\n",
       "\n",
       "    .dataframe thead th {\n",
       "        text-align: right;\n",
       "    }\n",
       "</style>\n",
       "<table border=\"1\" class=\"dataframe\">\n",
       "  <thead>\n",
       "    <tr style=\"text-align: right;\">\n",
       "      <th></th>\n",
       "      <th>Carga Horaria</th>\n",
       "      <th>Carga Horaria Mínima</th>\n",
       "      <th>Categoria da Situação</th>\n",
       "      <th>Co Inst</th>\n",
       "      <th>Cod Unidade</th>\n",
       "      <th>Cor / Raça</th>\n",
       "      <th>Código da Matricula</th>\n",
       "      <th>Código da Unidade de Ensino - SISTEC</th>\n",
       "      <th>Código do Ciclo Matricula</th>\n",
       "      <th>Código do Município com DV</th>\n",
       "      <th>...</th>\n",
       "      <th>Renda Familiar</th>\n",
       "      <th>Sexo</th>\n",
       "      <th>Situação de Matrícula</th>\n",
       "      <th>Subeixo Tecnológico</th>\n",
       "      <th>Tipo de Curso</th>\n",
       "      <th>Tipo de Oferta</th>\n",
       "      <th>Total de Inscritos</th>\n",
       "      <th>Turno</th>\n",
       "      <th>UF</th>\n",
       "      <th>Unidade de Ensino</th>\n",
       "    </tr>\n",
       "  </thead>\n",
       "  <tbody>\n",
       "  </tbody>\n",
       "</table>\n",
       "<p>0 rows × 37 columns</p>\n",
       "</div>"
      ],
      "text/plain": [
       "Empty DataFrame\n",
       "Columns: [Carga Horaria, Carga Horaria Mínima, Categoria da Situação, Co Inst, Cod Unidade, Cor / Raça, Código da Matricula, Código da Unidade de Ensino - SISTEC, Código do Ciclo Matricula, Código do Município com DV, Data de Fim Previsto do Ciclo, Data de Inicio do Ciclo, Data de Ocorrencia da Matricula, Eixo Tecnológico, Faixa Etária, Fator Esforço Curso, Fonte de Financiamento, Idade, Instituição, Matrículas Atendida, Matrículas Equivalentes, Modalidade de Ensino, Município, Mês De Ocorrência da Situação, Nome de Curso, Número de registros, Região, Renda Familiar, Sexo, Situação de Matrícula, Subeixo Tecnológico, Tipo de Curso, Tipo de Oferta, Total de Inscritos, Turno, UF, Unidade de Ensino]\n",
       "Index: []\n",
       "\n",
       "[0 rows x 37 columns]"
      ]
     },
     "execution_count": 13,
     "metadata": {},
     "output_type": "execute_result"
    }
   ],
   "source": [
    "data[data.duplicated(keep=False)]"
   ]
  },
  {
   "cell_type": "code",
   "execution_count": 14,
   "metadata": {},
   "outputs": [
    {
     "name": "stdout",
     "output_type": "stream",
     "text": [
      "<class 'pandas.core.frame.DataFrame'>\n",
      "Index: 1424 entries, 25197 to 1041212\n",
      "Data columns (total 26 columns):\n",
      " #   Column                           Non-Null Count  Dtype \n",
      "---  ------                           --------------  ----- \n",
      " 0   Categoria da Situação            1424 non-null   object\n",
      " 1   Cor / Raça                       1424 non-null   object\n",
      " 2   Data de Fim Previsto do Ciclo    1424 non-null   object\n",
      " 3   Data de Inicio do Ciclo          1424 non-null   object\n",
      " 4   Data de Ocorrencia da Matricula  1424 non-null   object\n",
      " 5   Eixo Tecnológico                 1424 non-null   object\n",
      " 6   Faixa Etária                     1424 non-null   object\n",
      " 7   Fator Esforço Curso              1424 non-null   object\n",
      " 8   Fonte de Financiamento           1424 non-null   object\n",
      " 9   Instituição                      1424 non-null   object\n",
      " 10  Matrículas Atendida              1424 non-null   object\n",
      " 11  Matrículas Equivalentes          1424 non-null   object\n",
      " 12  Modalidade de Ensino             1424 non-null   object\n",
      " 13  Município                        1424 non-null   object\n",
      " 14  Mês De Ocorrência da Situação    1424 non-null   object\n",
      " 15  Nome de Curso                    1424 non-null   object\n",
      " 16  Região                           1424 non-null   object\n",
      " 17  Renda Familiar                   1424 non-null   object\n",
      " 18  Sexo                             1424 non-null   object\n",
      " 19  Situação de Matrícula            1424 non-null   object\n",
      " 20  Subeixo Tecnológico              1424 non-null   object\n",
      " 21  Tipo de Curso                    1424 non-null   object\n",
      " 22  Tipo de Oferta                   1424 non-null   object\n",
      " 23  Turno                            1424 non-null   object\n",
      " 24  UF                               1424 non-null   object\n",
      " 25  Unidade de Ensino                1424 non-null   object\n",
      "dtypes: object(26)\n",
      "memory usage: 300.4+ KB\n"
     ]
    }
   ],
   "source": [
    "data.select_dtypes(include='object').info()"
   ]
  },
  {
   "cell_type": "code",
   "execution_count": 15,
   "metadata": {},
   "outputs": [
    {
     "name": "stdout",
     "output_type": "stream",
     "text": [
      "<class 'pandas.core.frame.DataFrame'>\n",
      "Index: 1424 entries, 25197 to 1041212\n",
      "Data columns (total 11 columns):\n",
      " #   Column                                Non-Null Count  Dtype  \n",
      "---  ------                                --------------  -----  \n",
      " 0   Carga Horaria                         1424 non-null   int64  \n",
      " 1   Carga Horaria Mínima                  1424 non-null   float64\n",
      " 2   Co Inst                               1424 non-null   int64  \n",
      " 3   Cod Unidade                           1424 non-null   int64  \n",
      " 4   Código da Matricula                   1424 non-null   int64  \n",
      " 5   Código da Unidade de Ensino - SISTEC  1424 non-null   float64\n",
      " 6   Código do Ciclo Matricula             1424 non-null   int64  \n",
      " 7   Código do Município com DV            1424 non-null   int64  \n",
      " 8   Idade                                 1424 non-null   float64\n",
      " 9   Número de registros                   1424 non-null   int64  \n",
      " 10  Total de Inscritos                    1424 non-null   float64\n",
      "dtypes: float64(4), int64(7)\n",
      "memory usage: 133.5 KB\n"
     ]
    }
   ],
   "source": [
    "data.select_dtypes(exclude='object').info()"
   ]
  },
  {
   "cell_type": "code",
   "execution_count": 16,
   "metadata": {},
   "outputs": [],
   "source": [
    "data['Idade'] = data['Idade'].astype(int)\n",
    "\n",
    "data['Carga Horaria Mínima'] = data['Carga Horaria Mínima'].astype(int)\n",
    "data['Código da Unidade de Ensino - SISTEC'] = data['Código da Unidade de Ensino - SISTEC'].astype(int)\n",
    "data['Total de Inscritos'] = data['Total de Inscritos'].astype(int)"
   ]
  },
  {
   "cell_type": "code",
   "execution_count": 17,
   "metadata": {},
   "outputs": [],
   "source": [
    "data['Fator Esforço Curso'] = data['Fator Esforço Curso'].str.replace(',','.').astype(float)"
   ]
  },
  {
   "cell_type": "code",
   "execution_count": 18,
   "metadata": {},
   "outputs": [],
   "source": [
    "def check_cat_vars(var_columns):\n",
    "    for var in var_columns:\n",
    "       display( data[var].value_counts())"
   ]
  },
  {
   "cell_type": "code",
   "execution_count": 19,
   "metadata": {},
   "outputs": [],
   "source": [
    "cat_cols = data.select_dtypes(include='object').columns.tolist()"
   ]
  },
  {
   "cell_type": "code",
   "execution_count": 20,
   "metadata": {},
   "outputs": [
    {
     "data": {
      "text/plain": [
       "Categoria da Situação\n",
       "Em curso    1358\n",
       "Evadidos      66\n",
       "Name: count, dtype: int64"
      ]
     },
     "metadata": {},
     "output_type": "display_data"
    },
    {
     "data": {
      "text/plain": [
       "Cor / Raça\n",
       "Branca           698\n",
       "Parda            436\n",
       "Não declarada    163\n",
       "Preta            126\n",
       "Amarela            1\n",
       "Name: count, dtype: int64"
      ]
     },
     "metadata": {},
     "output_type": "display_data"
    },
    {
     "data": {
      "text/plain": [
       "Data de Fim Previsto do Ciclo\n",
       "15/12/2023    966\n",
       "24/12/2023    108\n",
       "29/12/2023    106\n",
       "30/12/2023     83\n",
       "20/12/2022     66\n",
       "20/12/2023     44\n",
       "23/12/2023     30\n",
       "31/12/2023     21\n",
       "Name: count, dtype: int64"
      ]
     },
     "metadata": {},
     "output_type": "display_data"
    },
    {
     "data": {
      "text/plain": [
       "Data de Inicio do Ciclo\n",
       "06/08/2021    1032\n",
       "15/03/2021     161\n",
       "01/04/2021      60\n",
       "24/05/2021      59\n",
       "22/04/2021      47\n",
       "16/04/2021      44\n",
       "05/04/2021      21\n",
       "Name: count, dtype: int64"
      ]
     },
     "metadata": {},
     "output_type": "display_data"
    },
    {
     "data": {
      "text/plain": [
       "Data de Ocorrencia da Matricula\n",
       "01/08/2021    570\n",
       "01/09/2021    410\n",
       "01/04/2021    170\n",
       "01/03/2021    102\n",
       "01/05/2021    101\n",
       "01/10/2021     49\n",
       "01/06/2021     18\n",
       "01/12/2021      2\n",
       "01/07/2021      1\n",
       "01/11/2021      1\n",
       "Name: count, dtype: int64"
      ]
     },
     "metadata": {},
     "output_type": "display_data"
    },
    {
     "data": {
      "text/plain": [
       "Eixo Tecnológico\n",
       "Propedêutico    1424\n",
       "Name: count, dtype: int64"
      ]
     },
     "metadata": {},
     "output_type": "display_data"
    },
    {
     "data": {
      "text/plain": [
       "Faixa Etária\n",
       "15 a 19 anos        1404\n",
       "20 a 24 anos          12\n",
       "Menor de 14 anos       6\n",
       "Maior de 60 anos       1\n",
       "30 a 34 anos           1\n",
       "Name: count, dtype: int64"
      ]
     },
     "metadata": {},
     "output_type": "display_data"
    },
    {
     "data": {
      "text/plain": [
       "Fonte de Financiamento\n",
       "Sem Programa Associado    1424\n",
       "Name: count, dtype: int64"
      ]
     },
     "metadata": {},
     "output_type": "display_data"
    },
    {
     "data": {
      "text/plain": [
       "Instituição\n",
       "CPII                  1032\n",
       "UFPI - CAT              83\n",
       "UFPI - CABJ             78\n",
       "UFPI - CTF              60\n",
       "UFRRJ - CTUR            59\n",
       "UFRPE - CODAI           47\n",
       "UFCG - ETSC             44\n",
       "UFSM - POLITÉCNICO      21\n",
       "Name: count, dtype: int64"
      ]
     },
     "metadata": {},
     "output_type": "display_data"
    },
    {
     "data": {
      "text/plain": [
       "Matrículas Atendida\n",
       "Sim    1424\n",
       "Name: count, dtype: int64"
      ]
     },
     "metadata": {},
     "output_type": "display_data"
    },
    {
     "data": {
      "text/plain": [
       "Matrículas Equivalentes\n",
       "1,067    1424\n",
       "Name: count, dtype: int64"
      ]
     },
     "metadata": {},
     "output_type": "display_data"
    },
    {
     "data": {
      "text/plain": [
       "Modalidade de Ensino\n",
       "Educação Presencial    1424\n",
       "Name: count, dtype: int64"
      ]
     },
     "metadata": {},
     "output_type": "display_data"
    },
    {
     "data": {
      "text/plain": [
       "Município\n",
       "Rio de Janeiro          839\n",
       "Niterói                 107\n",
       "Duque de Caxias          86\n",
       "Teresina                 83\n",
       "Bom Jesus                78\n",
       "Floriano                 60\n",
       "Seropédica               59\n",
       "São Lourenço da Mata     47\n",
       "Cajazeiras               44\n",
       "Santa Maria              21\n",
       "Name: count, dtype: int64"
      ]
     },
     "metadata": {},
     "output_type": "display_data"
    },
    {
     "data": {
      "text/plain": [
       "Mês De Ocorrência da Situação\n",
       "01/08/2021    565\n",
       "01/09/2021    414\n",
       "01/04/2021    164\n",
       "01/03/2021     83\n",
       "07/03/2022     66\n",
       "01/05/2021     60\n",
       "01/10/2021     48\n",
       "23/12/2021     10\n",
       "01/12/2021      5\n",
       "01/11/2021      2\n",
       "01/06/2021      1\n",
       "01/07/2021      1\n",
       "10/11/2021      1\n",
       "12/11/2021      1\n",
       "24/11/2021      1\n",
       "19/11/2021      1\n",
       "05/08/2021      1\n",
       "Name: count, dtype: int64"
      ]
     },
     "metadata": {},
     "output_type": "display_data"
    },
    {
     "data": {
      "text/plain": [
       "Nome de Curso\n",
       "Ensino Médio    1424\n",
       "Name: count, dtype: int64"
      ]
     },
     "metadata": {},
     "output_type": "display_data"
    },
    {
     "data": {
      "text/plain": [
       "Região\n",
       "Região Sudeste     1091\n",
       "Região Nordeste     312\n",
       "Região Sul           21\n",
       "Name: count, dtype: int64"
      ]
     },
     "metadata": {},
     "output_type": "display_data"
    },
    {
     "data": {
      "text/plain": [
       "Renda Familiar\n",
       "Não declarada    505\n",
       "1,0<RFP<=1,5     272\n",
       "2,5<RFP<=3,5     153\n",
       "RFP>3,5          151\n",
       "1,5<RFP<=2,5     150\n",
       "0,5<RFP<=1,0     129\n",
       "0<RFP<=0,5        64\n",
       "Name: count, dtype: int64"
      ]
     },
     "metadata": {},
     "output_type": "display_data"
    },
    {
     "data": {
      "text/plain": [
       "Sexo\n",
       "Feminino     900\n",
       "Masculino    524\n",
       "Name: count, dtype: int64"
      ]
     },
     "metadata": {},
     "output_type": "display_data"
    },
    {
     "data": {
      "text/plain": [
       "Situação de Matrícula\n",
       "Em curso           1358\n",
       "Reprovado            28\n",
       "Desligada            16\n",
       "Abandono             14\n",
       "Transf. externa       5\n",
       "Cancelada             3\n",
       "Name: count, dtype: int64"
      ]
     },
     "metadata": {},
     "output_type": "display_data"
    },
    {
     "data": {
      "text/plain": [
       "Subeixo Tecnológico\n",
       "Propedêutico    1424\n",
       "Name: count, dtype: int64"
      ]
     },
     "metadata": {},
     "output_type": "display_data"
    },
    {
     "data": {
      "text/plain": [
       "Tipo de Curso\n",
       "Ensino Médio    1424\n",
       "Name: count, dtype: int64"
      ]
     },
     "metadata": {},
     "output_type": "display_data"
    },
    {
     "data": {
      "text/plain": [
       "Tipo de Oferta\n",
       "Não se aplica    1424\n",
       "Name: count, dtype: int64"
      ]
     },
     "metadata": {},
     "output_type": "display_data"
    },
    {
     "data": {
      "text/plain": [
       "Turno\n",
       "Matutino      881\n",
       "Vespertino    517\n",
       "Noturno        26\n",
       "Name: count, dtype: int64"
      ]
     },
     "metadata": {},
     "output_type": "display_data"
    },
    {
     "data": {
      "text/plain": [
       "UF\n",
       "RJ    1091\n",
       "PI     221\n",
       "PE      47\n",
       "PB      44\n",
       "RS      21\n",
       "Name: count, dtype: int64"
      ]
     },
     "metadata": {},
     "output_type": "display_data"
    },
    {
     "data": {
      "text/plain": [
       "Unidade de Ensino\n",
       "Campus São Cristóvão III                                   209\n",
       "Campus Realengo II                                         183\n",
       "Campus Humaitá II                                          147\n",
       "Campus Tijuca II                                           112\n",
       "Campus Niterói                                             107\n",
       "Campus Engenho Novo II                                      99\n",
       "Campus Centro                                               89\n",
       "Campus Duque de Caxias                                      86\n",
       "Colégio Técnico de Teresina da UFPI                         83\n",
       "Colégio Técnico de Bom Jesus da UFPI                        78\n",
       "Colégio Técnico de Floriano da UFPI                         60\n",
       "Colégio Técnico da UFRRJ                                    59\n",
       "Colégio Agrícola Dom Agostinho Ikas da UFRPE                47\n",
       "Escola Técnica de Saúde de Cajazeiras da UFCG               44\n",
       "Colégio Politécnico da Universidade Federal Santa Maria     21\n",
       "Name: count, dtype: int64"
      ]
     },
     "metadata": {},
     "output_type": "display_data"
    }
   ],
   "source": [
    "check_cat_vars(cat_cols)"
   ]
  },
  {
   "cell_type": "code",
   "execution_count": 23,
   "metadata": {},
   "outputs": [],
   "source": [
    "for col in ['Data de Inicio do Ciclo','Data de Ocorrencia da Matricula','Data de Fim Previsto do Ciclo']:\n",
    "    data[col] = pd.to_datetime(data[col],format=\"%d/%m/%Y\")"
   ]
  },
  {
   "cell_type": "code",
   "execution_count": 24,
   "metadata": {},
   "outputs": [
    {
     "data": {
      "text/html": [
       "<div>\n",
       "<style scoped>\n",
       "    .dataframe tbody tr th:only-of-type {\n",
       "        vertical-align: middle;\n",
       "    }\n",
       "\n",
       "    .dataframe tbody tr th {\n",
       "        vertical-align: top;\n",
       "    }\n",
       "\n",
       "    .dataframe thead th {\n",
       "        text-align: right;\n",
       "    }\n",
       "</style>\n",
       "<table border=\"1\" class=\"dataframe\">\n",
       "  <thead>\n",
       "    <tr style=\"text-align: right;\">\n",
       "      <th></th>\n",
       "      <th>Data de Inicio do Ciclo</th>\n",
       "      <th>Data de Ocorrencia da Matricula</th>\n",
       "      <th>Data de Fim Previsto do Ciclo</th>\n",
       "    </tr>\n",
       "  </thead>\n",
       "  <tbody>\n",
       "    <tr>\n",
       "      <th>25197</th>\n",
       "      <td>2021-03-15</td>\n",
       "      <td>2021-05-01</td>\n",
       "      <td>2023-12-24</td>\n",
       "    </tr>\n",
       "    <tr>\n",
       "      <th>25198</th>\n",
       "      <td>2021-03-15</td>\n",
       "      <td>2021-05-01</td>\n",
       "      <td>2023-12-24</td>\n",
       "    </tr>\n",
       "    <tr>\n",
       "      <th>25199</th>\n",
       "      <td>2021-03-15</td>\n",
       "      <td>2021-05-01</td>\n",
       "      <td>2023-12-24</td>\n",
       "    </tr>\n",
       "    <tr>\n",
       "      <th>25223</th>\n",
       "      <td>2021-03-15</td>\n",
       "      <td>2021-05-01</td>\n",
       "      <td>2023-12-24</td>\n",
       "    </tr>\n",
       "    <tr>\n",
       "      <th>25712</th>\n",
       "      <td>2021-04-22</td>\n",
       "      <td>2021-04-01</td>\n",
       "      <td>2023-12-29</td>\n",
       "    </tr>\n",
       "  </tbody>\n",
       "</table>\n",
       "</div>"
      ],
      "text/plain": [
       "      Data de Inicio do Ciclo Data de Ocorrencia da Matricula  \\\n",
       "25197              2021-03-15                      2021-05-01   \n",
       "25198              2021-03-15                      2021-05-01   \n",
       "25199              2021-03-15                      2021-05-01   \n",
       "25223              2021-03-15                      2021-05-01   \n",
       "25712              2021-04-22                      2021-04-01   \n",
       "\n",
       "      Data de Fim Previsto do Ciclo  \n",
       "25197                    2023-12-24  \n",
       "25198                    2023-12-24  \n",
       "25199                    2023-12-24  \n",
       "25223                    2023-12-24  \n",
       "25712                    2023-12-29  "
      ]
     },
     "execution_count": 24,
     "metadata": {},
     "output_type": "execute_result"
    }
   ],
   "source": [
    "data[['Data de Inicio do Ciclo','Data de Ocorrencia da Matricula','Data de Fim Previsto do Ciclo']].head()"
   ]
  },
  {
   "cell_type": "code",
   "execution_count": 141,
   "metadata": {},
   "outputs": [],
   "source": [
    "#pd.to_datetime(data['Data de Inicio do Ciclo'],format=\"%d/%m/%Y\").dt.strftime(\"%d-%m-%Y\")"
   ]
  },
  {
   "cell_type": "code",
   "execution_count": 135,
   "metadata": {},
   "outputs": [],
   "source": [
    "# n = 0\n",
    "# while n<21530:\n",
    "#     try:\n",
    "#         pd.to_datetime(data['Data de Inicio do Ciclo'],format=\"%d/%m/%Y\")\n",
    "#         break\n",
    "#     except ValueError as e1:\n",
    "#         print(e1)\n",
    "#     n = n+1"
   ]
  },
  {
   "cell_type": "code",
   "execution_count": 25,
   "metadata": {},
   "outputs": [],
   "source": [
    "num_var = data.select_dtypes(include=['int64','float64']).columns.tolist()"
   ]
  },
  {
   "cell_type": "code",
   "execution_count": 26,
   "metadata": {},
   "outputs": [],
   "source": [
    "def check_num_var(num_var):\n",
    "    df = pd.DataFrame({})\n",
    "    for col in num_var:\n",
    "        describe = pd.DataFrame(data[col].describe()).T\n",
    "        df = pd.concat([df,describe])\n",
    "    return df"
   ]
  },
  {
   "cell_type": "code",
   "execution_count": 27,
   "metadata": {},
   "outputs": [
    {
     "data": {
      "text/html": [
       "<div>\n",
       "<style scoped>\n",
       "    .dataframe tbody tr th:only-of-type {\n",
       "        vertical-align: middle;\n",
       "    }\n",
       "\n",
       "    .dataframe tbody tr th {\n",
       "        vertical-align: top;\n",
       "    }\n",
       "\n",
       "    .dataframe thead th {\n",
       "        text-align: right;\n",
       "    }\n",
       "</style>\n",
       "<table border=\"1\" class=\"dataframe\">\n",
       "  <thead>\n",
       "    <tr style=\"text-align: right;\">\n",
       "      <th></th>\n",
       "      <th>count</th>\n",
       "      <th>mean</th>\n",
       "      <th>std</th>\n",
       "      <th>min</th>\n",
       "      <th>25%</th>\n",
       "      <th>50%</th>\n",
       "      <th>75%</th>\n",
       "      <th>max</th>\n",
       "    </tr>\n",
       "  </thead>\n",
       "  <tbody>\n",
       "    <tr>\n",
       "      <th>Carga Horaria</th>\n",
       "      <td>1424.0</td>\n",
       "      <td>3042.0</td>\n",
       "      <td>275.0</td>\n",
       "      <td>2490.0</td>\n",
       "      <td>3051.0</td>\n",
       "      <td>3051.0</td>\n",
       "      <td>3051.0</td>\n",
       "      <td>4200.0</td>\n",
       "    </tr>\n",
       "    <tr>\n",
       "      <th>Carga Horaria Mínima</th>\n",
       "      <td>1424.0</td>\n",
       "      <td>2400.0</td>\n",
       "      <td>0.0</td>\n",
       "      <td>2400.0</td>\n",
       "      <td>2400.0</td>\n",
       "      <td>2400.0</td>\n",
       "      <td>2400.0</td>\n",
       "      <td>2400.0</td>\n",
       "    </tr>\n",
       "    <tr>\n",
       "      <th>Co Inst</th>\n",
       "      <td>1424.0</td>\n",
       "      <td>66409.0</td>\n",
       "      <td>88878.0</td>\n",
       "      <td>26201.0</td>\n",
       "      <td>26201.0</td>\n",
       "      <td>26201.0</td>\n",
       "      <td>26248.0</td>\n",
       "      <td>262793.0</td>\n",
       "    </tr>\n",
       "    <tr>\n",
       "      <th>Cod Unidade</th>\n",
       "      <td>1424.0</td>\n",
       "      <td>402.0</td>\n",
       "      <td>135.0</td>\n",
       "      <td>171.0</td>\n",
       "      <td>248.0</td>\n",
       "      <td>457.0</td>\n",
       "      <td>547.0</td>\n",
       "      <td>564.0</td>\n",
       "    </tr>\n",
       "    <tr>\n",
       "      <th>Código da Matricula</th>\n",
       "      <td>1424.0</td>\n",
       "      <td>100585922.0</td>\n",
       "      <td>898721.0</td>\n",
       "      <td>98560205.0</td>\n",
       "      <td>99664634.0</td>\n",
       "      <td>100972815.0</td>\n",
       "      <td>101100084.0</td>\n",
       "      <td>102551994.0</td>\n",
       "    </tr>\n",
       "    <tr>\n",
       "      <th>Código da Unidade de Ensino - SISTEC</th>\n",
       "      <td>1424.0</td>\n",
       "      <td>11335.0</td>\n",
       "      <td>13256.0</td>\n",
       "      <td>534.0</td>\n",
       "      <td>1702.0</td>\n",
       "      <td>1705.0</td>\n",
       "      <td>12980.0</td>\n",
       "      <td>43414.0</td>\n",
       "    </tr>\n",
       "    <tr>\n",
       "      <th>Código do Ciclo Matricula</th>\n",
       "      <td>1424.0</td>\n",
       "      <td>2791469.0</td>\n",
       "      <td>16038.0</td>\n",
       "      <td>2758636.0</td>\n",
       "      <td>2776323.0</td>\n",
       "      <td>2799798.0</td>\n",
       "      <td>2801554.0</td>\n",
       "      <td>2805044.0</td>\n",
       "    </tr>\n",
       "    <tr>\n",
       "      <th>Código do Município com DV</th>\n",
       "      <td>1424.0</td>\n",
       "      <td>3101200.0</td>\n",
       "      <td>443636.0</td>\n",
       "      <td>2201903.0</td>\n",
       "      <td>3301702.0</td>\n",
       "      <td>3304557.0</td>\n",
       "      <td>3304557.0</td>\n",
       "      <td>4316907.0</td>\n",
       "    </tr>\n",
       "    <tr>\n",
       "      <th>Fator Esforço Curso</th>\n",
       "      <td>1424.0</td>\n",
       "      <td>1.0</td>\n",
       "      <td>0.0</td>\n",
       "      <td>1.0</td>\n",
       "      <td>1.0</td>\n",
       "      <td>1.0</td>\n",
       "      <td>1.0</td>\n",
       "      <td>1.0</td>\n",
       "    </tr>\n",
       "    <tr>\n",
       "      <th>Idade</th>\n",
       "      <td>1424.0</td>\n",
       "      <td>16.0</td>\n",
       "      <td>2.0</td>\n",
       "      <td>13.0</td>\n",
       "      <td>15.0</td>\n",
       "      <td>16.0</td>\n",
       "      <td>16.0</td>\n",
       "      <td>60.0</td>\n",
       "    </tr>\n",
       "    <tr>\n",
       "      <th>Número de registros</th>\n",
       "      <td>1424.0</td>\n",
       "      <td>1.0</td>\n",
       "      <td>0.0</td>\n",
       "      <td>1.0</td>\n",
       "      <td>1.0</td>\n",
       "      <td>1.0</td>\n",
       "      <td>1.0</td>\n",
       "      <td>1.0</td>\n",
       "    </tr>\n",
       "    <tr>\n",
       "      <th>Total de Inscritos</th>\n",
       "      <td>1424.0</td>\n",
       "      <td>410.0</td>\n",
       "      <td>278.0</td>\n",
       "      <td>40.0</td>\n",
       "      <td>119.0</td>\n",
       "      <td>361.0</td>\n",
       "      <td>558.0</td>\n",
       "      <td>928.0</td>\n",
       "    </tr>\n",
       "  </tbody>\n",
       "</table>\n",
       "</div>"
      ],
      "text/plain": [
       "                                       count         mean       std  \\\n",
       "Carga Horaria                         1424.0       3042.0     275.0   \n",
       "Carga Horaria Mínima                  1424.0       2400.0       0.0   \n",
       "Co Inst                               1424.0      66409.0   88878.0   \n",
       "Cod Unidade                           1424.0        402.0     135.0   \n",
       "Código da Matricula                   1424.0  100585922.0  898721.0   \n",
       "Código da Unidade de Ensino - SISTEC  1424.0      11335.0   13256.0   \n",
       "Código do Ciclo Matricula             1424.0    2791469.0   16038.0   \n",
       "Código do Município com DV            1424.0    3101200.0  443636.0   \n",
       "Fator Esforço Curso                   1424.0          1.0       0.0   \n",
       "Idade                                 1424.0         16.0       2.0   \n",
       "Número de registros                   1424.0          1.0       0.0   \n",
       "Total de Inscritos                    1424.0        410.0     278.0   \n",
       "\n",
       "                                             min         25%          50%  \\\n",
       "Carga Horaria                             2490.0      3051.0       3051.0   \n",
       "Carga Horaria Mínima                      2400.0      2400.0       2400.0   \n",
       "Co Inst                                  26201.0     26201.0      26201.0   \n",
       "Cod Unidade                                171.0       248.0        457.0   \n",
       "Código da Matricula                   98560205.0  99664634.0  100972815.0   \n",
       "Código da Unidade de Ensino - SISTEC       534.0      1702.0       1705.0   \n",
       "Código do Ciclo Matricula              2758636.0   2776323.0    2799798.0   \n",
       "Código do Município com DV             2201903.0   3301702.0    3304557.0   \n",
       "Fator Esforço Curso                          1.0         1.0          1.0   \n",
       "Idade                                       13.0        15.0         16.0   \n",
       "Número de registros                          1.0         1.0          1.0   \n",
       "Total de Inscritos                          40.0       119.0        361.0   \n",
       "\n",
       "                                              75%          max  \n",
       "Carga Horaria                              3051.0       4200.0  \n",
       "Carga Horaria Mínima                       2400.0       2400.0  \n",
       "Co Inst                                   26248.0     262793.0  \n",
       "Cod Unidade                                 547.0        564.0  \n",
       "Código da Matricula                   101100084.0  102551994.0  \n",
       "Código da Unidade de Ensino - SISTEC      12980.0      43414.0  \n",
       "Código do Ciclo Matricula               2801554.0    2805044.0  \n",
       "Código do Município com DV              3304557.0    4316907.0  \n",
       "Fator Esforço Curso                           1.0          1.0  \n",
       "Idade                                        16.0         60.0  \n",
       "Número de registros                           1.0          1.0  \n",
       "Total de Inscritos                          558.0        928.0  "
      ]
     },
     "execution_count": 27,
     "metadata": {},
     "output_type": "execute_result"
    }
   ],
   "source": [
    "result = check_num_var(num_var)\n",
    "result.round()"
   ]
  },
  {
   "cell_type": "markdown",
   "metadata": {},
   "source": [
    "<a id=\"initialdataanalysis\"></a>\n",
    "# <b><span style='color:white;font-size:90%'>1.4 |</span><span style='color:#6e7570;font-size:90%'>Análise exploratória dos dados</span></b>\n",
    "⬆️ [Sumário](#contents_tabel)"
   ]
  },
  {
   "cell_type": "markdown",
   "metadata": {},
   "source": [
    "<a id=\"initialdataanalysis\"></a>\n",
    "# <b><span style='color:white;font-size:80%'>1.4.1 |</span><span style='color:#6e7570;font-size:80%'>Data Overview</span></b>\n",
    "⬆️ [Sumário](#contents_tabel)\n",
    "\n",
    "\n",
    "- Ver a distribuição das variáveis categóricas (boxplot e/ou gráfico de barras)\n",
    "- Ver a distribuição das variáveis numéricas (histograma, displot, kdeplot)"
   ]
  },
  {
   "cell_type": "markdown",
   "metadata": {},
   "source": [
    "<a id=\"summary\"></a>\n",
    "# <b><span style='color:white;font-size:80%'>1.4.2 |</span><span style='color:#6e7570;font-size:80%'>Levantamento e análise das hipóteses</span></b>\n",
    "⬆️ [Sumário](#contents_tabel)"
   ]
  },
  {
   "cell_type": "markdown",
   "metadata": {},
   "source": [
    "### Perguntas de partida de hipóteses: Aqui é algo relacionado ao fenômeno que se está tentando modelar, como previsão de vendas, reconhecimento facial, clusterização, previsão da evasão estudantil, etc.\n",
    "\n",
    "Então devem ser levantadas hipóteses sobre o problema em questão. Para este problema, podemos ter algumas hipóteses como:\n",
    "\n",
    "- Alunos acima de 30 anos deveriam evadir mais\n",
    "- Alunos com renda <=1,5 salários mínimo deveriam evadir mais\n",
    "- Alunos de cor/raça negra deveriam evadir mais\n",
    "- Alunos do sexo masculino deveriam evadir mais\n",
    "\n",
    "- Cursos do turno matutino deveriam ter mais evasões\n",
    "- Cursos com uma carga horária maior deveriam ter mais evasões\n",
    "- Cursos com um fator de esforço maior deveriam ter mais evasões\n",
    "\n",
    "- Instituições da região Nordeste deveriam ter mais evasões\n",
    "- Instituições do Rio de Janeiro e São Paulo deveriam ter mais evasões\n",
    "- Instituições com menor quantidade de alunos deveriam ter menor taxa de evasão\n",
    "\n",
    "- No inicio do ciclo (3 primeiros meses) deveria ter uma taxa maior de evasões\n",
    "- No segundo semestre do ano deveria haver menos evasões"
   ]
  }
 ],
 "metadata": {
  "colab": {
   "provenance": []
  },
  "kernelspec": {
   "display_name": "Python 3 (ipykernel)",
   "language": "python",
   "name": "python3"
  },
  "language_info": {
   "codemirror_mode": {
    "name": "ipython",
    "version": 3
   },
   "file_extension": ".py",
   "mimetype": "text/x-python",
   "name": "python",
   "nbconvert_exporter": "python",
   "pygments_lexer": "ipython3",
   "version": "3.10.9"
  }
 },
 "nbformat": 4,
 "nbformat_minor": 1
}

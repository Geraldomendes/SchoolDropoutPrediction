{
 "cells": [
  {
   "cell_type": "code",
   "execution_count": 55,
   "metadata": {},
   "outputs": [],
   "source": [
    "import pandas as pd\n",
    "import numpy as np\n",
    "import matplotlib.pyplot as plt\n",
    "from matplotlib.gridspec import GridSpec\n",
    "from plotly.offline import iplot, init_notebook_mode\n",
    "import plotly.express as px\n",
    "import seaborn as sns\n",
    "import warnings\n",
    "warnings.filterwarnings(\"ignore\")"
   ]
  },
  {
   "cell_type": "code",
   "execution_count": 56,
   "metadata": {},
   "outputs": [
    {
     "data": {
      "text/html": [
       "<div>\n",
       "<style scoped>\n",
       "    .dataframe tbody tr th:only-of-type {\n",
       "        vertical-align: middle;\n",
       "    }\n",
       "\n",
       "    .dataframe tbody tr th {\n",
       "        vertical-align: top;\n",
       "    }\n",
       "\n",
       "    .dataframe thead th {\n",
       "        text-align: right;\n",
       "    }\n",
       "</style>\n",
       "<table border=\"1\" class=\"dataframe\">\n",
       "  <thead>\n",
       "    <tr style=\"text-align: right;\">\n",
       "      <th></th>\n",
       "      <th>Carga Horária</th>\n",
       "      <th>Categoria da Situação</th>\n",
       "      <th>Código da Matrícula</th>\n",
       "      <th>Cor/Raça</th>\n",
       "      <th>Data de Início do Ciclo</th>\n",
       "      <th>Data de Fim Previsto do Ciclo</th>\n",
       "      <th>Faixa Etária</th>\n",
       "      <th>Fator Esforço Curso</th>\n",
       "      <th>Idade</th>\n",
       "      <th>Instituição</th>\n",
       "      <th>Mês de Ocorrência da Situação</th>\n",
       "      <th>Região</th>\n",
       "      <th>Renda Familiar</th>\n",
       "      <th>Sexo</th>\n",
       "      <th>Turno</th>\n",
       "      <th>UF</th>\n",
       "      <th>Unidade de Ensino</th>\n",
       "    </tr>\n",
       "  </thead>\n",
       "  <tbody>\n",
       "    <tr>\n",
       "      <th>0</th>\n",
       "      <td>4560</td>\n",
       "      <td>Concluintes</td>\n",
       "      <td>72082427</td>\n",
       "      <td>branca</td>\n",
       "      <td>2017-04-07</td>\n",
       "      <td>2019-12-21</td>\n",
       "      <td>15 a 19 anos</td>\n",
       "      <td>1.0</td>\n",
       "      <td>18.0</td>\n",
       "      <td>CPII</td>\n",
       "      <td>2019-12-01</td>\n",
       "      <td>Região Sudeste</td>\n",
       "      <td>1,5&lt;RFP&lt;=2,5</td>\n",
       "      <td>Feminino</td>\n",
       "      <td>Matutino</td>\n",
       "      <td>RJ</td>\n",
       "      <td>Campus Tijuca II</td>\n",
       "    </tr>\n",
       "    <tr>\n",
       "      <th>1</th>\n",
       "      <td>4560</td>\n",
       "      <td>Concluintes</td>\n",
       "      <td>72082311</td>\n",
       "      <td>branca</td>\n",
       "      <td>2017-04-07</td>\n",
       "      <td>2019-12-21</td>\n",
       "      <td>15 a 19 anos</td>\n",
       "      <td>1.0</td>\n",
       "      <td>18.0</td>\n",
       "      <td>CPII</td>\n",
       "      <td>2019-12-01</td>\n",
       "      <td>Região Sudeste</td>\n",
       "      <td>Não declarada</td>\n",
       "      <td>Masculino</td>\n",
       "      <td>Matutino</td>\n",
       "      <td>RJ</td>\n",
       "      <td>Campus Tijuca II</td>\n",
       "    </tr>\n",
       "    <tr>\n",
       "      <th>2</th>\n",
       "      <td>4560</td>\n",
       "      <td>Concluintes</td>\n",
       "      <td>72082437</td>\n",
       "      <td>branca</td>\n",
       "      <td>2017-04-07</td>\n",
       "      <td>2019-12-21</td>\n",
       "      <td>15 a 19 anos</td>\n",
       "      <td>1.0</td>\n",
       "      <td>18.0</td>\n",
       "      <td>CPII</td>\n",
       "      <td>2019-12-01</td>\n",
       "      <td>Região Sudeste</td>\n",
       "      <td>RFP&gt;3,5</td>\n",
       "      <td>Feminino</td>\n",
       "      <td>Matutino</td>\n",
       "      <td>RJ</td>\n",
       "      <td>Campus Tijuca II</td>\n",
       "    </tr>\n",
       "    <tr>\n",
       "      <th>3</th>\n",
       "      <td>4560</td>\n",
       "      <td>Concluintes</td>\n",
       "      <td>72898296</td>\n",
       "      <td>branca</td>\n",
       "      <td>2017-04-07</td>\n",
       "      <td>2019-12-21</td>\n",
       "      <td>15 a 19 anos</td>\n",
       "      <td>1.0</td>\n",
       "      <td>18.0</td>\n",
       "      <td>CPII</td>\n",
       "      <td>2019-12-01</td>\n",
       "      <td>Região Sudeste</td>\n",
       "      <td>Não declarada</td>\n",
       "      <td>Feminino</td>\n",
       "      <td>Matutino</td>\n",
       "      <td>RJ</td>\n",
       "      <td>Campus Tijuca II</td>\n",
       "    </tr>\n",
       "    <tr>\n",
       "      <th>4</th>\n",
       "      <td>4560</td>\n",
       "      <td>Concluintes</td>\n",
       "      <td>72082281</td>\n",
       "      <td>branca</td>\n",
       "      <td>2017-04-07</td>\n",
       "      <td>2019-12-21</td>\n",
       "      <td>15 a 19 anos</td>\n",
       "      <td>1.0</td>\n",
       "      <td>18.0</td>\n",
       "      <td>CPII</td>\n",
       "      <td>2019-12-01</td>\n",
       "      <td>Região Sudeste</td>\n",
       "      <td>RFP&gt;3,5</td>\n",
       "      <td>Feminino</td>\n",
       "      <td>Matutino</td>\n",
       "      <td>RJ</td>\n",
       "      <td>Campus Tijuca II</td>\n",
       "    </tr>\n",
       "  </tbody>\n",
       "</table>\n",
       "</div>"
      ],
      "text/plain": [
       "   Carga Horária Categoria da Situação  Código da Matrícula Cor/Raça  \\\n",
       "0           4560           Concluintes             72082427   branca   \n",
       "1           4560           Concluintes             72082311   branca   \n",
       "2           4560           Concluintes             72082437   branca   \n",
       "3           4560           Concluintes             72898296   branca   \n",
       "4           4560           Concluintes             72082281   branca   \n",
       "\n",
       "  Data de Início do Ciclo Data de Fim Previsto do Ciclo  Faixa Etária  \\\n",
       "0              2017-04-07                    2019-12-21  15 a 19 anos   \n",
       "1              2017-04-07                    2019-12-21  15 a 19 anos   \n",
       "2              2017-04-07                    2019-12-21  15 a 19 anos   \n",
       "3              2017-04-07                    2019-12-21  15 a 19 anos   \n",
       "4              2017-04-07                    2019-12-21  15 a 19 anos   \n",
       "\n",
       "   Fator Esforço Curso  Idade Instituição Mês de Ocorrência da Situação  \\\n",
       "0                  1.0   18.0        CPII                    2019-12-01   \n",
       "1                  1.0   18.0        CPII                    2019-12-01   \n",
       "2                  1.0   18.0        CPII                    2019-12-01   \n",
       "3                  1.0   18.0        CPII                    2019-12-01   \n",
       "4                  1.0   18.0        CPII                    2019-12-01   \n",
       "\n",
       "           Região Renda Familiar       Sexo     Turno  UF Unidade de Ensino  \n",
       "0  Região Sudeste   1,5<RFP<=2,5   Feminino  Matutino  RJ  Campus Tijuca II  \n",
       "1  Região Sudeste  Não declarada  Masculino  Matutino  RJ  Campus Tijuca II  \n",
       "2  Região Sudeste        RFP>3,5   Feminino  Matutino  RJ  Campus Tijuca II  \n",
       "3  Região Sudeste  Não declarada   Feminino  Matutino  RJ  Campus Tijuca II  \n",
       "4  Região Sudeste        RFP>3,5   Feminino  Matutino  RJ  Campus Tijuca II  "
      ]
     },
     "execution_count": 56,
     "metadata": {},
     "output_type": "execute_result"
    }
   ],
   "source": [
    "data1 = pd.read_csv('../data/processed/preprocessing.csv')\n",
    "data1.head()"
   ]
  },
  {
   "cell_type": "code",
   "execution_count": 57,
   "metadata": {},
   "outputs": [
    {
     "data": {
      "text/html": [
       "<div>\n",
       "<style scoped>\n",
       "    .dataframe tbody tr th:only-of-type {\n",
       "        vertical-align: middle;\n",
       "    }\n",
       "\n",
       "    .dataframe tbody tr th {\n",
       "        vertical-align: top;\n",
       "    }\n",
       "\n",
       "    .dataframe thead th {\n",
       "        text-align: right;\n",
       "    }\n",
       "</style>\n",
       "<table border=\"1\" class=\"dataframe\">\n",
       "  <thead>\n",
       "    <tr style=\"text-align: right;\">\n",
       "      <th></th>\n",
       "      <th>Carga Horária</th>\n",
       "      <th>Categoria da Situação</th>\n",
       "      <th>Código da Matrícula</th>\n",
       "      <th>Cor/Raça</th>\n",
       "      <th>Data de Início do Ciclo</th>\n",
       "      <th>Data de Fim Previsto do Ciclo</th>\n",
       "      <th>Faixa Etária</th>\n",
       "      <th>Fator Esforço Curso</th>\n",
       "      <th>Idade</th>\n",
       "      <th>Instituição</th>\n",
       "      <th>Mês de Ocorrência da Situação</th>\n",
       "      <th>Região</th>\n",
       "      <th>Renda Familiar</th>\n",
       "      <th>Sexo</th>\n",
       "      <th>Turno</th>\n",
       "      <th>UF</th>\n",
       "      <th>Unidade de Ensino</th>\n",
       "    </tr>\n",
       "  </thead>\n",
       "  <tbody>\n",
       "    <tr>\n",
       "      <th>0</th>\n",
       "      <td>3600</td>\n",
       "      <td>Evadidos</td>\n",
       "      <td>64095768</td>\n",
       "      <td>não declarada</td>\n",
       "      <td>2015-02-19</td>\n",
       "      <td>2019-02-19</td>\n",
       "      <td>15 a 19 anos</td>\n",
       "      <td>1.16</td>\n",
       "      <td>19.0</td>\n",
       "      <td>IFSUL</td>\n",
       "      <td>2019-07-01</td>\n",
       "      <td>Região Sul</td>\n",
       "      <td>0&lt;RFP&lt;=0,5</td>\n",
       "      <td>Feminino</td>\n",
       "      <td>Matutino</td>\n",
       "      <td>RS</td>\n",
       "      <td>Campus Camaquã</td>\n",
       "    </tr>\n",
       "    <tr>\n",
       "      <th>1</th>\n",
       "      <td>3600</td>\n",
       "      <td>Concluintes</td>\n",
       "      <td>64094201</td>\n",
       "      <td>não declarada</td>\n",
       "      <td>2015-02-19</td>\n",
       "      <td>2019-02-19</td>\n",
       "      <td>20 a 24 anos</td>\n",
       "      <td>1.16</td>\n",
       "      <td>20.0</td>\n",
       "      <td>IFSUL</td>\n",
       "      <td>2019-08-01</td>\n",
       "      <td>Região Sul</td>\n",
       "      <td>Não declarada</td>\n",
       "      <td>Feminino</td>\n",
       "      <td>Matutino</td>\n",
       "      <td>RS</td>\n",
       "      <td>Campus Camaquã</td>\n",
       "    </tr>\n",
       "    <tr>\n",
       "      <th>2</th>\n",
       "      <td>3600</td>\n",
       "      <td>Concluintes</td>\n",
       "      <td>64094245</td>\n",
       "      <td>não declarada</td>\n",
       "      <td>2015-02-19</td>\n",
       "      <td>2019-02-19</td>\n",
       "      <td>15 a 19 anos</td>\n",
       "      <td>1.16</td>\n",
       "      <td>18.0</td>\n",
       "      <td>IFSUL</td>\n",
       "      <td>2019-04-01</td>\n",
       "      <td>Região Sul</td>\n",
       "      <td>Não declarada</td>\n",
       "      <td>Feminino</td>\n",
       "      <td>Matutino</td>\n",
       "      <td>RS</td>\n",
       "      <td>Campus Camaquã</td>\n",
       "    </tr>\n",
       "    <tr>\n",
       "      <th>3</th>\n",
       "      <td>3600</td>\n",
       "      <td>Concluintes</td>\n",
       "      <td>64096104</td>\n",
       "      <td>não declarada</td>\n",
       "      <td>2015-02-19</td>\n",
       "      <td>2019-02-19</td>\n",
       "      <td>15 a 19 anos</td>\n",
       "      <td>1.16</td>\n",
       "      <td>19.0</td>\n",
       "      <td>IFSUL</td>\n",
       "      <td>2019-04-01</td>\n",
       "      <td>Região Sul</td>\n",
       "      <td>Não declarada</td>\n",
       "      <td>Feminino</td>\n",
       "      <td>Matutino</td>\n",
       "      <td>RS</td>\n",
       "      <td>Campus Camaquã</td>\n",
       "    </tr>\n",
       "    <tr>\n",
       "      <th>4</th>\n",
       "      <td>3600</td>\n",
       "      <td>Concluintes</td>\n",
       "      <td>64095758</td>\n",
       "      <td>não declarada</td>\n",
       "      <td>2015-02-19</td>\n",
       "      <td>2019-02-19</td>\n",
       "      <td>20 a 24 anos</td>\n",
       "      <td>1.16</td>\n",
       "      <td>20.0</td>\n",
       "      <td>IFSUL</td>\n",
       "      <td>2019-03-01</td>\n",
       "      <td>Região Sul</td>\n",
       "      <td>0,5&lt;RFP&lt;=1,0</td>\n",
       "      <td>Feminino</td>\n",
       "      <td>Matutino</td>\n",
       "      <td>RS</td>\n",
       "      <td>Campus Camaquã</td>\n",
       "    </tr>\n",
       "  </tbody>\n",
       "</table>\n",
       "</div>"
      ],
      "text/plain": [
       "   Carga Horária Categoria da Situação  Código da Matrícula       Cor/Raça  \\\n",
       "0           3600              Evadidos             64095768  não declarada   \n",
       "1           3600           Concluintes             64094201  não declarada   \n",
       "2           3600           Concluintes             64094245  não declarada   \n",
       "3           3600           Concluintes             64096104  não declarada   \n",
       "4           3600           Concluintes             64095758  não declarada   \n",
       "\n",
       "  Data de Início do Ciclo Data de Fim Previsto do Ciclo  Faixa Etária  \\\n",
       "0              2015-02-19                    2019-02-19  15 a 19 anos   \n",
       "1              2015-02-19                    2019-02-19  20 a 24 anos   \n",
       "2              2015-02-19                    2019-02-19  15 a 19 anos   \n",
       "3              2015-02-19                    2019-02-19  15 a 19 anos   \n",
       "4              2015-02-19                    2019-02-19  20 a 24 anos   \n",
       "\n",
       "   Fator Esforço Curso  Idade Instituição Mês de Ocorrência da Situação  \\\n",
       "0                 1.16   19.0       IFSUL                    2019-07-01   \n",
       "1                 1.16   20.0       IFSUL                    2019-08-01   \n",
       "2                 1.16   18.0       IFSUL                    2019-04-01   \n",
       "3                 1.16   19.0       IFSUL                    2019-04-01   \n",
       "4                 1.16   20.0       IFSUL                    2019-03-01   \n",
       "\n",
       "       Região Renda Familiar      Sexo     Turno  UF Unidade de Ensino  \n",
       "0  Região Sul     0<RFP<=0,5  Feminino  Matutino  RS    Campus Camaquã  \n",
       "1  Região Sul  Não declarada  Feminino  Matutino  RS    Campus Camaquã  \n",
       "2  Região Sul  Não declarada  Feminino  Matutino  RS    Campus Camaquã  \n",
       "3  Região Sul  Não declarada  Feminino  Matutino  RS    Campus Camaquã  \n",
       "4  Região Sul   0,5<RFP<=1,0  Feminino  Matutino  RS    Campus Camaquã  "
      ]
     },
     "execution_count": 57,
     "metadata": {},
     "output_type": "execute_result"
    }
   ],
   "source": [
    "data2 = pd.read_csv('../data/processed/preprocessingTEC.csv')\n",
    "data2.head()"
   ]
  },
  {
   "cell_type": "code",
   "execution_count": 58,
   "metadata": {},
   "outputs": [],
   "source": [
    "data1['Data de Início do Ciclo'] = pd.to_datetime(data1['Data de Início do Ciclo'])\n",
    "data1['Data de Fim Previsto do Ciclo'] = pd.to_datetime(data1['Data de Fim Previsto do Ciclo'])\n",
    "data1['Mês de Ocorrência da Situação'] = pd.to_datetime(data1['Mês de Ocorrência da Situação'])"
   ]
  },
  {
   "cell_type": "code",
   "execution_count": 59,
   "metadata": {},
   "outputs": [],
   "source": [
    "data2['Data de Início do Ciclo'] = pd.to_datetime(data2['Data de Início do Ciclo'])\n",
    "data2['Data de Fim Previsto do Ciclo'] = pd.to_datetime(data2['Data de Fim Previsto do Ciclo'])\n",
    "data2['Mês de Ocorrência da Situação'] = pd.to_datetime(data2['Mês de Ocorrência da Situação'])"
   ]
  },
  {
   "cell_type": "code",
   "execution_count": 60,
   "metadata": {},
   "outputs": [],
   "source": [
    "data1['dia_inicio_ciclo'] = data1['Data de Início do Ciclo'].dt.day\n",
    "data1['mes_inicio_ciclo'] = data1['Data de Início do Ciclo'].dt.month\n",
    "data1['ano_inicio_ciclo'] = data1['Data de Início do Ciclo'].dt.year\n",
    "\n",
    "data1['dia_fim_ciclo'] = data1['Data de Fim Previsto do Ciclo'].dt.day\n",
    "data1['mes_fim_ciclo'] = data1['Data de Fim Previsto do Ciclo'].dt.month\n",
    "data1['ano_fim_ciclo'] = data1['Data de Fim Previsto do Ciclo'].dt.year\n",
    "\n",
    "data1['dia_ocorrencia'] = data1['Mês de Ocorrência da Situação'].dt.day\n",
    "data1['mes_ocorrencia'] = data1['Mês de Ocorrência da Situação'].dt.month\n",
    "data1['ano_ocorrencia'] = data1['Mês de Ocorrência da Situação'].dt.year"
   ]
  },
  {
   "cell_type": "code",
   "execution_count": 61,
   "metadata": {},
   "outputs": [],
   "source": [
    "data2['dia_inicio_ciclo'] = data2['Data de Início do Ciclo'].dt.day\n",
    "data2['mes_inicio_ciclo'] = data2['Data de Início do Ciclo'].dt.month\n",
    "data2['ano_inicio_ciclo'] = data2['Data de Início do Ciclo'].dt.year\n",
    "\n",
    "data2['dia_fim_ciclo'] = data2['Data de Fim Previsto do Ciclo'].dt.day\n",
    "data2['mes_fim_ciclo'] = data2['Data de Fim Previsto do Ciclo'].dt.month\n",
    "data2['ano_fim_ciclo'] = data2['Data de Fim Previsto do Ciclo'].dt.year\n",
    "\n",
    "data2['dia_ocorrencia'] = data2['Mês de Ocorrência da Situação'].dt.day\n",
    "data2['mes_ocorrencia'] = data2['Mês de Ocorrência da Situação'].dt.month\n",
    "data2['ano_ocorrencia'] = data2['Mês de Ocorrência da Situação'].dt.year"
   ]
  },
  {
   "cell_type": "code",
   "execution_count": 62,
   "metadata": {},
   "outputs": [],
   "source": [
    "data1['delta_days']=(data1['Mês de Ocorrência da Situação'] - data1['Data de Início do Ciclo']).dt.days\n",
    "\n",
    "data2['delta_days']=(data2['Mês de Ocorrência da Situação'] - data2['Data de Início do Ciclo']).dt.days"
   ]
  },
  {
   "cell_type": "code",
   "execution_count": 63,
   "metadata": {},
   "outputs": [],
   "source": [
    "data1['Categoria da Situação']=(data1['Categoria da Situação'].apply(lambda x:1 if x == 'Evadidos' else 0))"
   ]
  },
  {
   "cell_type": "code",
   "execution_count": 64,
   "metadata": {},
   "outputs": [],
   "source": [
    "data2['Categoria da Situação']=(data2['Categoria da Situação'].apply(lambda x:1 if x == 'Evadidos' else 0))"
   ]
  },
  {
   "cell_type": "code",
   "execution_count": 65,
   "metadata": {},
   "outputs": [
    {
     "data": {
      "application/vnd.plotly.v1+json": {
       "config": {
        "plotlyServerURL": "https://plot.ly"
       },
       "data": [
        {
         "coloraxis": "coloraxis",
         "hovertemplate": "x: %{x}<br>y: %{y}<br>color: %{z}<extra></extra>",
         "name": "0",
         "texttemplate": "%{z}",
         "type": "heatmap",
         "x": [
          "Carga Horária",
          "Categoria da Situação",
          "Código da Matrícula",
          "Fator Esforço Curso",
          "Idade",
          "dia_inicio_ciclo",
          "mes_inicio_ciclo",
          "ano_inicio_ciclo",
          "dia_fim_ciclo",
          "mes_fim_ciclo",
          "ano_fim_ciclo",
          "dia_ocorrencia",
          "mes_ocorrencia",
          "ano_ocorrencia",
          "delta_days"
         ],
         "xaxis": "x",
         "y": [
          "Carga Horária",
          "Categoria da Situação",
          "Código da Matrícula",
          "Fator Esforço Curso",
          "Idade",
          "dia_inicio_ciclo",
          "mes_inicio_ciclo",
          "ano_inicio_ciclo",
          "dia_fim_ciclo",
          "mes_fim_ciclo",
          "ano_fim_ciclo",
          "dia_ocorrencia",
          "mes_ocorrencia",
          "ano_ocorrencia",
          "delta_days"
         ],
         "yaxis": "y",
         "z": [
          [
           1,
           -0.2679215420358285,
           -0.35022818439862285,
           0.03728075283992175,
           0.3521578321127521,
           -0.22790009839363784,
           0.39911142935068183,
           -0.4129650744879984,
           -0.3724918893330613,
           -0.35095521002725893,
           -0.2177382079116317,
           -0.0649290023832249,
           -0.36212174549110804,
           0.15772536219819316,
           0.43463923282427364
          ],
          [
           -0.2679215420358285,
           1,
           0.2492276669129527,
           -0.23359567632517247,
           -0.23991886507539262,
           0.3276540105567803,
           -0.1843152220770384,
           0.3348757887494423,
           0.176855020507171,
           0.16788787308783074,
           0.2313663845792708,
           0.03102204990704491,
           0.18250779841161102,
           -0.33014315670654704,
           -0.5815348634796796
          ],
          [
           -0.35022818439862285,
           0.2492276669129527,
           1,
           0.5452121697821448,
           -0.35283275273771875,
           0.14190765252588808,
           -0.10481959631526072,
           0.9037865628657158,
           -0.31162250239192585,
           -0.3306167384757671,
           0.8562896668076204,
           -0.003675292736047887,
           0.4090242413314258,
           0.4394491054664619,
           -0.4889448628806369
          ],
          [
           0.03728075283992175,
           -0.23359567632517247,
           0.5452121697821448,
           1,
           0.0743664845410011,
           -0.06117665426609098,
           0.16254802714725322,
           0.45550899556028107,
           -0.4359028809671569,
           -0.5575411494455466,
           0.6218558013365526,
           0.15231606061363198,
           0.20117637627794385,
           0.8840983170501293,
           0.30173007803727014
          ],
          [
           0.3521578321127521,
           -0.23991886507539262,
           -0.35283275273771875,
           0.0743664845410011,
           1,
           -0.16982183225263078,
           0.2184843381242554,
           -0.4313899121177659,
           -0.08509246713086868,
           -0.14227840994901128,
           -0.3038485629534291,
           0.05218751743042856,
           -0.30390752489494577,
           0.15923460311908444,
           0.49548601579147533
          ],
          [
           -0.22790009839363784,
           0.3276540105567803,
           0.14190765252588808,
           -0.06117665426609098,
           -0.16982183225263078,
           1,
           -0.4003221743150486,
           0.2304631068402856,
           0.25943053990205667,
           0.25202098298729897,
           0.10361804798508824,
           0.028637346783231772,
           0.12330911531024588,
           -0.08001794912905102,
           -0.2615259378327327
          ],
          [
           0.39911142935068183,
           -0.1843152220770384,
           -0.10481959631526072,
           0.16254802714725322,
           0.2184843381242554,
           -0.4003221743150486,
           1,
           -0.13535945804629065,
           -0.331757070282746,
           -0.3355676476257027,
           0.02897740670824045,
           0.24183634588215955,
           -0.31989906228812703,
           0.2658156885952497,
           0.17665959125784095
          ],
          [
           -0.4129650744879984,
           0.3348757887494423,
           0.9037865628657158,
           0.45550899556028107,
           -0.4313899121177659,
           0.2304631068402856,
           -0.13535945804629065,
           1,
           -0.17672988918223412,
           -0.1620070102085955,
           0.8785067093785376,
           0.012890431350646426,
           0.4092667966675771,
           0.38128374139110155,
           -0.6456046117098906
          ],
          [
           -0.3724918893330613,
           0.176855020507171,
           -0.31162250239192585,
           -0.4359028809671569,
           -0.08509246713086868,
           0.25943053990205667,
           -0.331757070282746,
           -0.17672988918223412,
           1,
           0.9009295221799519,
           -0.44461932985221236,
           0.11054649156539127,
           -0.07904842557994432,
           -0.40858502908270444,
           -0.14926451658861875
          ],
          [
           -0.35095521002725893,
           0.16788787308783074,
           -0.3306167384757671,
           -0.5575411494455466,
           -0.14227840994901128,
           0.25202098298729897,
           -0.3355676476257027,
           -0.1620070102085955,
           0.9009295221799519,
           1,
           -0.49414713715306446,
           0.10230250057107061,
           -0.04510354936453803,
           -0.48689250248192256,
           -0.22039052914747584
          ],
          [
           -0.2177382079116317,
           0.2313663845792708,
           0.8562896668076204,
           0.6218558013365526,
           -0.3038485629534291,
           0.10361804798508824,
           0.02897740670824045,
           0.8785067093785376,
           -0.44461932985221236,
           -0.49414713715306446,
           1,
           -0.029757003936974554,
           0.33833009762423166,
           0.5511201131200246,
           -0.40291824520572167
          ],
          [
           -0.0649290023832249,
           0.03102204990704491,
           -0.003675292736047887,
           0.15231606061363198,
           0.05218751743042856,
           0.028637346783231772,
           0.24183634588215955,
           0.012890431350646426,
           0.11054649156539127,
           0.10230250057107061,
           -0.029757003936974554,
           1,
           0.08207880698528604,
           0.15050831155495686,
           0.13131475756202413
          ],
          [
           -0.36212174549110804,
           0.18250779841161102,
           0.4090242413314258,
           0.20117637627794385,
           -0.30390752489494577,
           0.12330911531024588,
           -0.31989906228812703,
           0.4092667966675771,
           -0.07904842557994432,
           -0.04510354936453803,
           0.33833009762423166,
           0.08207880698528604,
           1,
           -0.06023071819277063,
           -0.12000230447637084
          ],
          [
           0.15772536219819316,
           -0.33014315670654704,
           0.4394491054664619,
           0.8840983170501293,
           0.15923460311908444,
           -0.08001794912905102,
           0.2658156885952497,
           0.38128374139110155,
           -0.40858502908270444,
           -0.48689250248192256,
           0.5511201131200246,
           0.15050831155495686,
           -0.06023071819277063,
           1,
           0.380056957242266
          ],
          [
           0.43463923282427364,
           -0.5815348634796796,
           -0.4889448628806369,
           0.30173007803727014,
           0.49548601579147533,
           -0.2615259378327327,
           0.17665959125784095,
           -0.6456046117098906,
           -0.14926451658861875,
           -0.22039052914747584,
           -0.40291824520572167,
           0.13131475756202413,
           -0.12000230447637084,
           0.380056957242266,
           1
          ]
         ]
        }
       ],
       "layout": {
        "coloraxis": {
         "colorscale": [
          [
           0,
           "#0d0887"
          ],
          [
           0.1111111111111111,
           "#46039f"
          ],
          [
           0.2222222222222222,
           "#7201a8"
          ],
          [
           0.3333333333333333,
           "#9c179e"
          ],
          [
           0.4444444444444444,
           "#bd3786"
          ],
          [
           0.5555555555555556,
           "#d8576b"
          ],
          [
           0.6666666666666666,
           "#ed7953"
          ],
          [
           0.7777777777777778,
           "#fb9f3a"
          ],
          [
           0.8888888888888888,
           "#fdca26"
          ],
          [
           1,
           "#f0f921"
          ]
         ]
        },
        "margin": {
         "t": 60
        },
        "template": {
         "data": {
          "bar": [
           {
            "error_x": {
             "color": "#2a3f5f"
            },
            "error_y": {
             "color": "#2a3f5f"
            },
            "marker": {
             "line": {
              "color": "#E5ECF6",
              "width": 0.5
             },
             "pattern": {
              "fillmode": "overlay",
              "size": 10,
              "solidity": 0.2
             }
            },
            "type": "bar"
           }
          ],
          "barpolar": [
           {
            "marker": {
             "line": {
              "color": "#E5ECF6",
              "width": 0.5
             },
             "pattern": {
              "fillmode": "overlay",
              "size": 10,
              "solidity": 0.2
             }
            },
            "type": "barpolar"
           }
          ],
          "carpet": [
           {
            "aaxis": {
             "endlinecolor": "#2a3f5f",
             "gridcolor": "white",
             "linecolor": "white",
             "minorgridcolor": "white",
             "startlinecolor": "#2a3f5f"
            },
            "baxis": {
             "endlinecolor": "#2a3f5f",
             "gridcolor": "white",
             "linecolor": "white",
             "minorgridcolor": "white",
             "startlinecolor": "#2a3f5f"
            },
            "type": "carpet"
           }
          ],
          "choropleth": [
           {
            "colorbar": {
             "outlinewidth": 0,
             "ticks": ""
            },
            "type": "choropleth"
           }
          ],
          "contour": [
           {
            "colorbar": {
             "outlinewidth": 0,
             "ticks": ""
            },
            "colorscale": [
             [
              0,
              "#0d0887"
             ],
             [
              0.1111111111111111,
              "#46039f"
             ],
             [
              0.2222222222222222,
              "#7201a8"
             ],
             [
              0.3333333333333333,
              "#9c179e"
             ],
             [
              0.4444444444444444,
              "#bd3786"
             ],
             [
              0.5555555555555556,
              "#d8576b"
             ],
             [
              0.6666666666666666,
              "#ed7953"
             ],
             [
              0.7777777777777778,
              "#fb9f3a"
             ],
             [
              0.8888888888888888,
              "#fdca26"
             ],
             [
              1,
              "#f0f921"
             ]
            ],
            "type": "contour"
           }
          ],
          "contourcarpet": [
           {
            "colorbar": {
             "outlinewidth": 0,
             "ticks": ""
            },
            "type": "contourcarpet"
           }
          ],
          "heatmap": [
           {
            "colorbar": {
             "outlinewidth": 0,
             "ticks": ""
            },
            "colorscale": [
             [
              0,
              "#0d0887"
             ],
             [
              0.1111111111111111,
              "#46039f"
             ],
             [
              0.2222222222222222,
              "#7201a8"
             ],
             [
              0.3333333333333333,
              "#9c179e"
             ],
             [
              0.4444444444444444,
              "#bd3786"
             ],
             [
              0.5555555555555556,
              "#d8576b"
             ],
             [
              0.6666666666666666,
              "#ed7953"
             ],
             [
              0.7777777777777778,
              "#fb9f3a"
             ],
             [
              0.8888888888888888,
              "#fdca26"
             ],
             [
              1,
              "#f0f921"
             ]
            ],
            "type": "heatmap"
           }
          ],
          "heatmapgl": [
           {
            "colorbar": {
             "outlinewidth": 0,
             "ticks": ""
            },
            "colorscale": [
             [
              0,
              "#0d0887"
             ],
             [
              0.1111111111111111,
              "#46039f"
             ],
             [
              0.2222222222222222,
              "#7201a8"
             ],
             [
              0.3333333333333333,
              "#9c179e"
             ],
             [
              0.4444444444444444,
              "#bd3786"
             ],
             [
              0.5555555555555556,
              "#d8576b"
             ],
             [
              0.6666666666666666,
              "#ed7953"
             ],
             [
              0.7777777777777778,
              "#fb9f3a"
             ],
             [
              0.8888888888888888,
              "#fdca26"
             ],
             [
              1,
              "#f0f921"
             ]
            ],
            "type": "heatmapgl"
           }
          ],
          "histogram": [
           {
            "marker": {
             "pattern": {
              "fillmode": "overlay",
              "size": 10,
              "solidity": 0.2
             }
            },
            "type": "histogram"
           }
          ],
          "histogram2d": [
           {
            "colorbar": {
             "outlinewidth": 0,
             "ticks": ""
            },
            "colorscale": [
             [
              0,
              "#0d0887"
             ],
             [
              0.1111111111111111,
              "#46039f"
             ],
             [
              0.2222222222222222,
              "#7201a8"
             ],
             [
              0.3333333333333333,
              "#9c179e"
             ],
             [
              0.4444444444444444,
              "#bd3786"
             ],
             [
              0.5555555555555556,
              "#d8576b"
             ],
             [
              0.6666666666666666,
              "#ed7953"
             ],
             [
              0.7777777777777778,
              "#fb9f3a"
             ],
             [
              0.8888888888888888,
              "#fdca26"
             ],
             [
              1,
              "#f0f921"
             ]
            ],
            "type": "histogram2d"
           }
          ],
          "histogram2dcontour": [
           {
            "colorbar": {
             "outlinewidth": 0,
             "ticks": ""
            },
            "colorscale": [
             [
              0,
              "#0d0887"
             ],
             [
              0.1111111111111111,
              "#46039f"
             ],
             [
              0.2222222222222222,
              "#7201a8"
             ],
             [
              0.3333333333333333,
              "#9c179e"
             ],
             [
              0.4444444444444444,
              "#bd3786"
             ],
             [
              0.5555555555555556,
              "#d8576b"
             ],
             [
              0.6666666666666666,
              "#ed7953"
             ],
             [
              0.7777777777777778,
              "#fb9f3a"
             ],
             [
              0.8888888888888888,
              "#fdca26"
             ],
             [
              1,
              "#f0f921"
             ]
            ],
            "type": "histogram2dcontour"
           }
          ],
          "mesh3d": [
           {
            "colorbar": {
             "outlinewidth": 0,
             "ticks": ""
            },
            "type": "mesh3d"
           }
          ],
          "parcoords": [
           {
            "line": {
             "colorbar": {
              "outlinewidth": 0,
              "ticks": ""
             }
            },
            "type": "parcoords"
           }
          ],
          "pie": [
           {
            "automargin": true,
            "type": "pie"
           }
          ],
          "scatter": [
           {
            "fillpattern": {
             "fillmode": "overlay",
             "size": 10,
             "solidity": 0.2
            },
            "type": "scatter"
           }
          ],
          "scatter3d": [
           {
            "line": {
             "colorbar": {
              "outlinewidth": 0,
              "ticks": ""
             }
            },
            "marker": {
             "colorbar": {
              "outlinewidth": 0,
              "ticks": ""
             }
            },
            "type": "scatter3d"
           }
          ],
          "scattercarpet": [
           {
            "marker": {
             "colorbar": {
              "outlinewidth": 0,
              "ticks": ""
             }
            },
            "type": "scattercarpet"
           }
          ],
          "scattergeo": [
           {
            "marker": {
             "colorbar": {
              "outlinewidth": 0,
              "ticks": ""
             }
            },
            "type": "scattergeo"
           }
          ],
          "scattergl": [
           {
            "marker": {
             "colorbar": {
              "outlinewidth": 0,
              "ticks": ""
             }
            },
            "type": "scattergl"
           }
          ],
          "scattermapbox": [
           {
            "marker": {
             "colorbar": {
              "outlinewidth": 0,
              "ticks": ""
             }
            },
            "type": "scattermapbox"
           }
          ],
          "scatterpolar": [
           {
            "marker": {
             "colorbar": {
              "outlinewidth": 0,
              "ticks": ""
             }
            },
            "type": "scatterpolar"
           }
          ],
          "scatterpolargl": [
           {
            "marker": {
             "colorbar": {
              "outlinewidth": 0,
              "ticks": ""
             }
            },
            "type": "scatterpolargl"
           }
          ],
          "scatterternary": [
           {
            "marker": {
             "colorbar": {
              "outlinewidth": 0,
              "ticks": ""
             }
            },
            "type": "scatterternary"
           }
          ],
          "surface": [
           {
            "colorbar": {
             "outlinewidth": 0,
             "ticks": ""
            },
            "colorscale": [
             [
              0,
              "#0d0887"
             ],
             [
              0.1111111111111111,
              "#46039f"
             ],
             [
              0.2222222222222222,
              "#7201a8"
             ],
             [
              0.3333333333333333,
              "#9c179e"
             ],
             [
              0.4444444444444444,
              "#bd3786"
             ],
             [
              0.5555555555555556,
              "#d8576b"
             ],
             [
              0.6666666666666666,
              "#ed7953"
             ],
             [
              0.7777777777777778,
              "#fb9f3a"
             ],
             [
              0.8888888888888888,
              "#fdca26"
             ],
             [
              1,
              "#f0f921"
             ]
            ],
            "type": "surface"
           }
          ],
          "table": [
           {
            "cells": {
             "fill": {
              "color": "#EBF0F8"
             },
             "line": {
              "color": "white"
             }
            },
            "header": {
             "fill": {
              "color": "#C8D4E3"
             },
             "line": {
              "color": "white"
             }
            },
            "type": "table"
           }
          ]
         },
         "layout": {
          "annotationdefaults": {
           "arrowcolor": "#2a3f5f",
           "arrowhead": 0,
           "arrowwidth": 1
          },
          "autotypenumbers": "strict",
          "coloraxis": {
           "colorbar": {
            "outlinewidth": 0,
            "ticks": ""
           }
          },
          "colorscale": {
           "diverging": [
            [
             0,
             "#8e0152"
            ],
            [
             0.1,
             "#c51b7d"
            ],
            [
             0.2,
             "#de77ae"
            ],
            [
             0.3,
             "#f1b6da"
            ],
            [
             0.4,
             "#fde0ef"
            ],
            [
             0.5,
             "#f7f7f7"
            ],
            [
             0.6,
             "#e6f5d0"
            ],
            [
             0.7,
             "#b8e186"
            ],
            [
             0.8,
             "#7fbc41"
            ],
            [
             0.9,
             "#4d9221"
            ],
            [
             1,
             "#276419"
            ]
           ],
           "sequential": [
            [
             0,
             "#0d0887"
            ],
            [
             0.1111111111111111,
             "#46039f"
            ],
            [
             0.2222222222222222,
             "#7201a8"
            ],
            [
             0.3333333333333333,
             "#9c179e"
            ],
            [
             0.4444444444444444,
             "#bd3786"
            ],
            [
             0.5555555555555556,
             "#d8576b"
            ],
            [
             0.6666666666666666,
             "#ed7953"
            ],
            [
             0.7777777777777778,
             "#fb9f3a"
            ],
            [
             0.8888888888888888,
             "#fdca26"
            ],
            [
             1,
             "#f0f921"
            ]
           ],
           "sequentialminus": [
            [
             0,
             "#0d0887"
            ],
            [
             0.1111111111111111,
             "#46039f"
            ],
            [
             0.2222222222222222,
             "#7201a8"
            ],
            [
             0.3333333333333333,
             "#9c179e"
            ],
            [
             0.4444444444444444,
             "#bd3786"
            ],
            [
             0.5555555555555556,
             "#d8576b"
            ],
            [
             0.6666666666666666,
             "#ed7953"
            ],
            [
             0.7777777777777778,
             "#fb9f3a"
            ],
            [
             0.8888888888888888,
             "#fdca26"
            ],
            [
             1,
             "#f0f921"
            ]
           ]
          },
          "colorway": [
           "#636efa",
           "#EF553B",
           "#00cc96",
           "#ab63fa",
           "#FFA15A",
           "#19d3f3",
           "#FF6692",
           "#B6E880",
           "#FF97FF",
           "#FECB52"
          ],
          "font": {
           "color": "#2a3f5f"
          },
          "geo": {
           "bgcolor": "white",
           "lakecolor": "white",
           "landcolor": "#E5ECF6",
           "showlakes": true,
           "showland": true,
           "subunitcolor": "white"
          },
          "hoverlabel": {
           "align": "left"
          },
          "hovermode": "closest",
          "mapbox": {
           "style": "light"
          },
          "paper_bgcolor": "white",
          "plot_bgcolor": "#E5ECF6",
          "polar": {
           "angularaxis": {
            "gridcolor": "white",
            "linecolor": "white",
            "ticks": ""
           },
           "bgcolor": "#E5ECF6",
           "radialaxis": {
            "gridcolor": "white",
            "linecolor": "white",
            "ticks": ""
           }
          },
          "scene": {
           "xaxis": {
            "backgroundcolor": "#E5ECF6",
            "gridcolor": "white",
            "gridwidth": 2,
            "linecolor": "white",
            "showbackground": true,
            "ticks": "",
            "zerolinecolor": "white"
           },
           "yaxis": {
            "backgroundcolor": "#E5ECF6",
            "gridcolor": "white",
            "gridwidth": 2,
            "linecolor": "white",
            "showbackground": true,
            "ticks": "",
            "zerolinecolor": "white"
           },
           "zaxis": {
            "backgroundcolor": "#E5ECF6",
            "gridcolor": "white",
            "gridwidth": 2,
            "linecolor": "white",
            "showbackground": true,
            "ticks": "",
            "zerolinecolor": "white"
           }
          },
          "shapedefaults": {
           "line": {
            "color": "#2a3f5f"
           }
          },
          "ternary": {
           "aaxis": {
            "gridcolor": "white",
            "linecolor": "white",
            "ticks": ""
           },
           "baxis": {
            "gridcolor": "white",
            "linecolor": "white",
            "ticks": ""
           },
           "bgcolor": "#E5ECF6",
           "caxis": {
            "gridcolor": "white",
            "linecolor": "white",
            "ticks": ""
           }
          },
          "title": {
           "x": 0.05
          },
          "xaxis": {
           "automargin": true,
           "gridcolor": "white",
           "linecolor": "white",
           "ticks": "",
           "title": {
            "standoff": 15
           },
           "zerolinecolor": "white",
           "zerolinewidth": 2
          },
          "yaxis": {
           "automargin": true,
           "gridcolor": "white",
           "linecolor": "white",
           "ticks": "",
           "title": {
            "standoff": 15
           },
           "zerolinecolor": "white",
           "zerolinewidth": 2
          }
         }
        },
        "xaxis": {
         "anchor": "y",
         "constrain": "domain",
         "domain": [
          0,
          1
         ],
         "scaleanchor": "y"
        },
        "yaxis": {
         "anchor": "x",
         "autorange": "reversed",
         "constrain": "domain",
         "domain": [
          0,
          1
         ]
        }
       }
      }
     },
     "metadata": {},
     "output_type": "display_data"
    }
   ],
   "source": [
    "px.imshow(data1.corr(numeric_only=True), text_auto=True)"
   ]
  },
  {
   "cell_type": "code",
   "execution_count": 69,
   "metadata": {},
   "outputs": [
    {
     "data": {
      "application/vnd.plotly.v1+json": {
       "config": {
        "plotlyServerURL": "https://plot.ly"
       },
       "data": [
        {
         "coloraxis": "coloraxis",
         "hovertemplate": "x: %{x}<br>y: %{y}<br>color: %{z}<extra></extra>",
         "name": "0",
         "texttemplate": "%{z}",
         "type": "heatmap",
         "x": [
          "Carga Horária",
          "Categoria da Situação",
          "Fator Esforço Curso",
          "Idade",
          "dia_inicio_ciclo",
          "mes_inicio_ciclo",
          "ano_inicio_ciclo",
          "dia_fim_ciclo",
          "mes_fim_ciclo",
          "ano_fim_ciclo",
          "dia_ocorrencia",
          "mes_ocorrencia",
          "ano_ocorrencia",
          "delta_days"
         ],
         "xaxis": "x",
         "y": [
          "Carga Horária",
          "Categoria da Situação",
          "Fator Esforço Curso",
          "Idade",
          "dia_inicio_ciclo",
          "mes_inicio_ciclo",
          "ano_inicio_ciclo",
          "dia_fim_ciclo",
          "mes_fim_ciclo",
          "ano_fim_ciclo",
          "dia_ocorrencia",
          "mes_ocorrencia",
          "ano_ocorrencia",
          "delta_days"
         ],
         "yaxis": "y",
         "z": [
          [
           1,
           -0.02830899975825198,
           0.10308990829973184,
           0.055735583714095274,
           -0.010051020556408552,
           0.049107432649148776,
           -0.1621867232318129,
           -0.059484151126677265,
           -0.11545462301657555,
           -0.08754935542250661,
           -0.0005335757953533604,
           -0.03926497871747458,
           -0.06418079371760434,
           0.13128294584747144
          ],
          [
           -0.02830899975825198,
           1,
           0.0898461269455978,
           -0.13937828012658846,
           -0.006151673067702075,
           0.01317230845771794,
           0.30822298697698614,
           -0.010122828199558852,
           -0.04478279752899167,
           0.3545834634856801,
           0.03714359896691094,
           -0.11113508357302103,
           -0.09022012945813312,
           -0.4409597674753789
          ],
          [
           0.10308990829973184,
           0.0898461269455978,
           1,
           0.004834448176174756,
           0.026450215529472163,
           0.10687384151187419,
           -0.3635947851336203,
           -0.01785159569460667,
           -0.05527301365312532,
           -0.3062019432406136,
           -0.03283917823958436,
           0.018027701365375716,
           -0.6439016417564012,
           0.0000916979711604958
          ],
          [
           0.055735583714095274,
           -0.13937828012658846,
           0.004834448176174756,
           1,
           0.07419076560395597,
           0.17142549734194484,
           -0.5031315693545025,
           -0.0015465243343651162,
           -0.08381992615393805,
           -0.4248674796145044,
           0.026142726953072386,
           -0.13052803927708007,
           0.06407300646955595,
           0.5695536040491824
          ],
          [
           -0.010051020556408552,
           -0.006151673067702075,
           0.026450215529472163,
           0.07419076560395597,
           1,
           0.14168329740283755,
           -0.09974152466632064,
           0.13410680298317945,
           -0.1500652095099828,
           -0.015257756694838307,
           0.017612488861952155,
           -0.02951677358451464,
           -0.02512789159757093,
           0.06081035845590694
          ],
          [
           0.049107432649148776,
           0.01317230845771794,
           0.10687384151187419,
           0.17142549734194484,
           0.14168329740283755,
           1,
           -0.25947961985519186,
           -0.07081316141139186,
           -0.3050642848126779,
           -0.04505467129024827,
           0.021217345775289692,
           -0.04234269575940736,
           -0.08124994997646452,
           0.13462746333837233
          ],
          [
           -0.1621867232318129,
           0.30822298697698614,
           -0.3635947851336203,
           -0.5031315693545025,
           -0.09974152466632064,
           -0.25947961985519186,
           1,
           0.013603449678760534,
           0.11175904715487894,
           0.8925774921511012,
           0.022503100648643613,
           0.10229429267464057,
           0.4479130488255366,
           -0.8115981998681878
          ],
          [
           -0.059484151126677265,
           -0.010122828199558852,
           -0.01785159569460667,
           -0.0015465243343651162,
           0.13410680298317945,
           -0.07081316141139186,
           0.013603449678760534,
           1,
           0.3395907295355739,
           -0.09484722586967204,
           0.040146475607727224,
           0.009864091107861512,
           0.024635516851048006,
           0.007578432357207207
          ],
          [
           -0.11545462301657555,
           -0.04478279752899167,
           -0.05527301365312532,
           -0.08381992615393805,
           -0.1500652095099828,
           -0.3050642848126779,
           0.11175904715487894,
           0.3395907295355739,
           1,
           -0.19434662677026915,
           0.02522351590897895,
           0.06411625092295793,
           0.049506497213206054,
           -0.048333124121172015
          ],
          [
           -0.08754935542250661,
           0.3545834634856801,
           -0.3062019432406136,
           -0.4248674796145044,
           -0.015257756694838307,
           -0.04505467129024827,
           0.8925774921511012,
           -0.09484722586967204,
           -0.19434662677026915,
           1,
           0.014079985517916806,
           0.08246441225957873,
           0.4333669244304524,
           -0.7248916669780161
          ],
          [
           -0.0005335757953533604,
           0.03714359896691094,
           -0.03283917823958436,
           0.026142726953072386,
           0.017612488861952155,
           0.021217345775289692,
           0.022503100648643613,
           0.040146475607727224,
           0.02522351590897895,
           0.014079985517916806,
           1,
           -0.001775403734171986,
           0.08980522362163605,
           0.03461888276120982
          ],
          [
           -0.03926497871747458,
           -0.11113508357302103,
           0.018027701365375716,
           -0.13052803927708007,
           -0.02951677358451464,
           -0.04234269575940736,
           0.10229429267464057,
           0.009864091107861512,
           0.06411625092295793,
           0.08246441225957873,
           -0.001775403734171986,
           1,
           -0.12099560128013294,
           0.05771816956895445
          ],
          [
           -0.06418079371760434,
           -0.09022012945813312,
           -0.6439016417564012,
           0.06407300646955595,
           -0.02512789159757093,
           -0.08124994997646452,
           0.4479130488255366,
           0.024635516851048006,
           0.049506497213206054,
           0.4333669244304524,
           0.08980522362163605,
           -0.12099560128013294,
           1,
           0.10285337921209815
          ],
          [
           0.13128294584747144,
           -0.4409597674753789,
           0.0000916979711604958,
           0.5695536040491824,
           0.06081035845590694,
           0.13462746333837233,
           -0.8115981998681878,
           0.007578432357207207,
           -0.048333124121172015,
           -0.7248916669780161,
           0.03461888276120982,
           0.05771816956895445,
           0.10285337921209815,
           1
          ]
         ]
        }
       ],
       "layout": {
        "coloraxis": {
         "colorscale": [
          [
           0,
           "#0d0887"
          ],
          [
           0.1111111111111111,
           "#46039f"
          ],
          [
           0.2222222222222222,
           "#7201a8"
          ],
          [
           0.3333333333333333,
           "#9c179e"
          ],
          [
           0.4444444444444444,
           "#bd3786"
          ],
          [
           0.5555555555555556,
           "#d8576b"
          ],
          [
           0.6666666666666666,
           "#ed7953"
          ],
          [
           0.7777777777777778,
           "#fb9f3a"
          ],
          [
           0.8888888888888888,
           "#fdca26"
          ],
          [
           1,
           "#f0f921"
          ]
         ]
        },
        "margin": {
         "t": 60
        },
        "template": {
         "data": {
          "bar": [
           {
            "error_x": {
             "color": "#2a3f5f"
            },
            "error_y": {
             "color": "#2a3f5f"
            },
            "marker": {
             "line": {
              "color": "#E5ECF6",
              "width": 0.5
             },
             "pattern": {
              "fillmode": "overlay",
              "size": 10,
              "solidity": 0.2
             }
            },
            "type": "bar"
           }
          ],
          "barpolar": [
           {
            "marker": {
             "line": {
              "color": "#E5ECF6",
              "width": 0.5
             },
             "pattern": {
              "fillmode": "overlay",
              "size": 10,
              "solidity": 0.2
             }
            },
            "type": "barpolar"
           }
          ],
          "carpet": [
           {
            "aaxis": {
             "endlinecolor": "#2a3f5f",
             "gridcolor": "white",
             "linecolor": "white",
             "minorgridcolor": "white",
             "startlinecolor": "#2a3f5f"
            },
            "baxis": {
             "endlinecolor": "#2a3f5f",
             "gridcolor": "white",
             "linecolor": "white",
             "minorgridcolor": "white",
             "startlinecolor": "#2a3f5f"
            },
            "type": "carpet"
           }
          ],
          "choropleth": [
           {
            "colorbar": {
             "outlinewidth": 0,
             "ticks": ""
            },
            "type": "choropleth"
           }
          ],
          "contour": [
           {
            "colorbar": {
             "outlinewidth": 0,
             "ticks": ""
            },
            "colorscale": [
             [
              0,
              "#0d0887"
             ],
             [
              0.1111111111111111,
              "#46039f"
             ],
             [
              0.2222222222222222,
              "#7201a8"
             ],
             [
              0.3333333333333333,
              "#9c179e"
             ],
             [
              0.4444444444444444,
              "#bd3786"
             ],
             [
              0.5555555555555556,
              "#d8576b"
             ],
             [
              0.6666666666666666,
              "#ed7953"
             ],
             [
              0.7777777777777778,
              "#fb9f3a"
             ],
             [
              0.8888888888888888,
              "#fdca26"
             ],
             [
              1,
              "#f0f921"
             ]
            ],
            "type": "contour"
           }
          ],
          "contourcarpet": [
           {
            "colorbar": {
             "outlinewidth": 0,
             "ticks": ""
            },
            "type": "contourcarpet"
           }
          ],
          "heatmap": [
           {
            "colorbar": {
             "outlinewidth": 0,
             "ticks": ""
            },
            "colorscale": [
             [
              0,
              "#0d0887"
             ],
             [
              0.1111111111111111,
              "#46039f"
             ],
             [
              0.2222222222222222,
              "#7201a8"
             ],
             [
              0.3333333333333333,
              "#9c179e"
             ],
             [
              0.4444444444444444,
              "#bd3786"
             ],
             [
              0.5555555555555556,
              "#d8576b"
             ],
             [
              0.6666666666666666,
              "#ed7953"
             ],
             [
              0.7777777777777778,
              "#fb9f3a"
             ],
             [
              0.8888888888888888,
              "#fdca26"
             ],
             [
              1,
              "#f0f921"
             ]
            ],
            "type": "heatmap"
           }
          ],
          "heatmapgl": [
           {
            "colorbar": {
             "outlinewidth": 0,
             "ticks": ""
            },
            "colorscale": [
             [
              0,
              "#0d0887"
             ],
             [
              0.1111111111111111,
              "#46039f"
             ],
             [
              0.2222222222222222,
              "#7201a8"
             ],
             [
              0.3333333333333333,
              "#9c179e"
             ],
             [
              0.4444444444444444,
              "#bd3786"
             ],
             [
              0.5555555555555556,
              "#d8576b"
             ],
             [
              0.6666666666666666,
              "#ed7953"
             ],
             [
              0.7777777777777778,
              "#fb9f3a"
             ],
             [
              0.8888888888888888,
              "#fdca26"
             ],
             [
              1,
              "#f0f921"
             ]
            ],
            "type": "heatmapgl"
           }
          ],
          "histogram": [
           {
            "marker": {
             "pattern": {
              "fillmode": "overlay",
              "size": 10,
              "solidity": 0.2
             }
            },
            "type": "histogram"
           }
          ],
          "histogram2d": [
           {
            "colorbar": {
             "outlinewidth": 0,
             "ticks": ""
            },
            "colorscale": [
             [
              0,
              "#0d0887"
             ],
             [
              0.1111111111111111,
              "#46039f"
             ],
             [
              0.2222222222222222,
              "#7201a8"
             ],
             [
              0.3333333333333333,
              "#9c179e"
             ],
             [
              0.4444444444444444,
              "#bd3786"
             ],
             [
              0.5555555555555556,
              "#d8576b"
             ],
             [
              0.6666666666666666,
              "#ed7953"
             ],
             [
              0.7777777777777778,
              "#fb9f3a"
             ],
             [
              0.8888888888888888,
              "#fdca26"
             ],
             [
              1,
              "#f0f921"
             ]
            ],
            "type": "histogram2d"
           }
          ],
          "histogram2dcontour": [
           {
            "colorbar": {
             "outlinewidth": 0,
             "ticks": ""
            },
            "colorscale": [
             [
              0,
              "#0d0887"
             ],
             [
              0.1111111111111111,
              "#46039f"
             ],
             [
              0.2222222222222222,
              "#7201a8"
             ],
             [
              0.3333333333333333,
              "#9c179e"
             ],
             [
              0.4444444444444444,
              "#bd3786"
             ],
             [
              0.5555555555555556,
              "#d8576b"
             ],
             [
              0.6666666666666666,
              "#ed7953"
             ],
             [
              0.7777777777777778,
              "#fb9f3a"
             ],
             [
              0.8888888888888888,
              "#fdca26"
             ],
             [
              1,
              "#f0f921"
             ]
            ],
            "type": "histogram2dcontour"
           }
          ],
          "mesh3d": [
           {
            "colorbar": {
             "outlinewidth": 0,
             "ticks": ""
            },
            "type": "mesh3d"
           }
          ],
          "parcoords": [
           {
            "line": {
             "colorbar": {
              "outlinewidth": 0,
              "ticks": ""
             }
            },
            "type": "parcoords"
           }
          ],
          "pie": [
           {
            "automargin": true,
            "type": "pie"
           }
          ],
          "scatter": [
           {
            "fillpattern": {
             "fillmode": "overlay",
             "size": 10,
             "solidity": 0.2
            },
            "type": "scatter"
           }
          ],
          "scatter3d": [
           {
            "line": {
             "colorbar": {
              "outlinewidth": 0,
              "ticks": ""
             }
            },
            "marker": {
             "colorbar": {
              "outlinewidth": 0,
              "ticks": ""
             }
            },
            "type": "scatter3d"
           }
          ],
          "scattercarpet": [
           {
            "marker": {
             "colorbar": {
              "outlinewidth": 0,
              "ticks": ""
             }
            },
            "type": "scattercarpet"
           }
          ],
          "scattergeo": [
           {
            "marker": {
             "colorbar": {
              "outlinewidth": 0,
              "ticks": ""
             }
            },
            "type": "scattergeo"
           }
          ],
          "scattergl": [
           {
            "marker": {
             "colorbar": {
              "outlinewidth": 0,
              "ticks": ""
             }
            },
            "type": "scattergl"
           }
          ],
          "scattermapbox": [
           {
            "marker": {
             "colorbar": {
              "outlinewidth": 0,
              "ticks": ""
             }
            },
            "type": "scattermapbox"
           }
          ],
          "scatterpolar": [
           {
            "marker": {
             "colorbar": {
              "outlinewidth": 0,
              "ticks": ""
             }
            },
            "type": "scatterpolar"
           }
          ],
          "scatterpolargl": [
           {
            "marker": {
             "colorbar": {
              "outlinewidth": 0,
              "ticks": ""
             }
            },
            "type": "scatterpolargl"
           }
          ],
          "scatterternary": [
           {
            "marker": {
             "colorbar": {
              "outlinewidth": 0,
              "ticks": ""
             }
            },
            "type": "scatterternary"
           }
          ],
          "surface": [
           {
            "colorbar": {
             "outlinewidth": 0,
             "ticks": ""
            },
            "colorscale": [
             [
              0,
              "#0d0887"
             ],
             [
              0.1111111111111111,
              "#46039f"
             ],
             [
              0.2222222222222222,
              "#7201a8"
             ],
             [
              0.3333333333333333,
              "#9c179e"
             ],
             [
              0.4444444444444444,
              "#bd3786"
             ],
             [
              0.5555555555555556,
              "#d8576b"
             ],
             [
              0.6666666666666666,
              "#ed7953"
             ],
             [
              0.7777777777777778,
              "#fb9f3a"
             ],
             [
              0.8888888888888888,
              "#fdca26"
             ],
             [
              1,
              "#f0f921"
             ]
            ],
            "type": "surface"
           }
          ],
          "table": [
           {
            "cells": {
             "fill": {
              "color": "#EBF0F8"
             },
             "line": {
              "color": "white"
             }
            },
            "header": {
             "fill": {
              "color": "#C8D4E3"
             },
             "line": {
              "color": "white"
             }
            },
            "type": "table"
           }
          ]
         },
         "layout": {
          "annotationdefaults": {
           "arrowcolor": "#2a3f5f",
           "arrowhead": 0,
           "arrowwidth": 1
          },
          "autotypenumbers": "strict",
          "coloraxis": {
           "colorbar": {
            "outlinewidth": 0,
            "ticks": ""
           }
          },
          "colorscale": {
           "diverging": [
            [
             0,
             "#8e0152"
            ],
            [
             0.1,
             "#c51b7d"
            ],
            [
             0.2,
             "#de77ae"
            ],
            [
             0.3,
             "#f1b6da"
            ],
            [
             0.4,
             "#fde0ef"
            ],
            [
             0.5,
             "#f7f7f7"
            ],
            [
             0.6,
             "#e6f5d0"
            ],
            [
             0.7,
             "#b8e186"
            ],
            [
             0.8,
             "#7fbc41"
            ],
            [
             0.9,
             "#4d9221"
            ],
            [
             1,
             "#276419"
            ]
           ],
           "sequential": [
            [
             0,
             "#0d0887"
            ],
            [
             0.1111111111111111,
             "#46039f"
            ],
            [
             0.2222222222222222,
             "#7201a8"
            ],
            [
             0.3333333333333333,
             "#9c179e"
            ],
            [
             0.4444444444444444,
             "#bd3786"
            ],
            [
             0.5555555555555556,
             "#d8576b"
            ],
            [
             0.6666666666666666,
             "#ed7953"
            ],
            [
             0.7777777777777778,
             "#fb9f3a"
            ],
            [
             0.8888888888888888,
             "#fdca26"
            ],
            [
             1,
             "#f0f921"
            ]
           ],
           "sequentialminus": [
            [
             0,
             "#0d0887"
            ],
            [
             0.1111111111111111,
             "#46039f"
            ],
            [
             0.2222222222222222,
             "#7201a8"
            ],
            [
             0.3333333333333333,
             "#9c179e"
            ],
            [
             0.4444444444444444,
             "#bd3786"
            ],
            [
             0.5555555555555556,
             "#d8576b"
            ],
            [
             0.6666666666666666,
             "#ed7953"
            ],
            [
             0.7777777777777778,
             "#fb9f3a"
            ],
            [
             0.8888888888888888,
             "#fdca26"
            ],
            [
             1,
             "#f0f921"
            ]
           ]
          },
          "colorway": [
           "#636efa",
           "#EF553B",
           "#00cc96",
           "#ab63fa",
           "#FFA15A",
           "#19d3f3",
           "#FF6692",
           "#B6E880",
           "#FF97FF",
           "#FECB52"
          ],
          "font": {
           "color": "#2a3f5f"
          },
          "geo": {
           "bgcolor": "white",
           "lakecolor": "white",
           "landcolor": "#E5ECF6",
           "showlakes": true,
           "showland": true,
           "subunitcolor": "white"
          },
          "hoverlabel": {
           "align": "left"
          },
          "hovermode": "closest",
          "mapbox": {
           "style": "light"
          },
          "paper_bgcolor": "white",
          "plot_bgcolor": "#E5ECF6",
          "polar": {
           "angularaxis": {
            "gridcolor": "white",
            "linecolor": "white",
            "ticks": ""
           },
           "bgcolor": "#E5ECF6",
           "radialaxis": {
            "gridcolor": "white",
            "linecolor": "white",
            "ticks": ""
           }
          },
          "scene": {
           "xaxis": {
            "backgroundcolor": "#E5ECF6",
            "gridcolor": "white",
            "gridwidth": 2,
            "linecolor": "white",
            "showbackground": true,
            "ticks": "",
            "zerolinecolor": "white"
           },
           "yaxis": {
            "backgroundcolor": "#E5ECF6",
            "gridcolor": "white",
            "gridwidth": 2,
            "linecolor": "white",
            "showbackground": true,
            "ticks": "",
            "zerolinecolor": "white"
           },
           "zaxis": {
            "backgroundcolor": "#E5ECF6",
            "gridcolor": "white",
            "gridwidth": 2,
            "linecolor": "white",
            "showbackground": true,
            "ticks": "",
            "zerolinecolor": "white"
           }
          },
          "shapedefaults": {
           "line": {
            "color": "#2a3f5f"
           }
          },
          "ternary": {
           "aaxis": {
            "gridcolor": "white",
            "linecolor": "white",
            "ticks": ""
           },
           "baxis": {
            "gridcolor": "white",
            "linecolor": "white",
            "ticks": ""
           },
           "bgcolor": "#E5ECF6",
           "caxis": {
            "gridcolor": "white",
            "linecolor": "white",
            "ticks": ""
           }
          },
          "title": {
           "x": 0.05
          },
          "xaxis": {
           "automargin": true,
           "gridcolor": "white",
           "linecolor": "white",
           "ticks": "",
           "title": {
            "standoff": 15
           },
           "zerolinecolor": "white",
           "zerolinewidth": 2
          },
          "yaxis": {
           "automargin": true,
           "gridcolor": "white",
           "linecolor": "white",
           "ticks": "",
           "title": {
            "standoff": 15
           },
           "zerolinecolor": "white",
           "zerolinewidth": 2
          }
         }
        },
        "xaxis": {
         "anchor": "y",
         "constrain": "domain",
         "domain": [
          0,
          1
         ],
         "scaleanchor": "y"
        },
        "yaxis": {
         "anchor": "x",
         "autorange": "reversed",
         "constrain": "domain",
         "domain": [
          0,
          1
         ]
        }
       }
      }
     },
     "metadata": {},
     "output_type": "display_data"
    }
   ],
   "source": [
    "px.imshow(data2.corr(numeric_only=True), text_auto=True)"
   ]
  },
  {
   "cell_type": "code",
   "execution_count": 66,
   "metadata": {},
   "outputs": [],
   "source": [
    "data1.drop(columns=['Código da Matrícula'],axis=1, inplace=True)"
   ]
  },
  {
   "cell_type": "code",
   "execution_count": 67,
   "metadata": {},
   "outputs": [],
   "source": [
    "data2.drop(columns=['Código da Matrícula'],axis=1, inplace=True)"
   ]
  },
  {
   "cell_type": "code",
   "execution_count": 71,
   "metadata": {},
   "outputs": [],
   "source": [
    "data2.to_csv(index=False, path_or_buf='dadostec.csv')"
   ]
  }
 ],
 "metadata": {
  "kernelspec": {
   "display_name": "base",
   "language": "python",
   "name": "python3"
  },
  "language_info": {
   "codemirror_mode": {
    "name": "ipython",
    "version": 3
   },
   "file_extension": ".py",
   "mimetype": "text/x-python",
   "name": "python",
   "nbconvert_exporter": "python",
   "pygments_lexer": "ipython3",
   "version": "3.12.4"
  }
 },
 "nbformat": 4,
 "nbformat_minor": 2
}
